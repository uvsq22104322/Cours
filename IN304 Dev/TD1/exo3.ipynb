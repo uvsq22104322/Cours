{
 "cells": [
  {
   "cell_type": "code",
   "execution_count": null,
   "metadata": {},
   "outputs": [],
   "source": [
    "n = int(input(\"Nombre de valeurs :  \"))\n",
    "nombres = []\n",
    "total = 0\n",
    "for i in range(1,n+1):\n",
    "    nombres.append(int(input(\"Valeur \")))\n",
    "    total += nombres[-1]\n",
    "print(\"Max :\",max(nombres),\"Min :\",min(nombres),\"Moyenne :\",round(total/n,2))"
   ]
  },
  {
   "cell_type": "code",
   "execution_count": null,
   "metadata": {},
   "outputs": [],
   "source": [
    "n = int(input(\"Factoriel de : \"))\n",
    "total = 1\n",
    "for i in range(1,n+1):\n",
    "    total *= i\n",
    "total, i = 1, 1  #remet les variables à 0 pour essayer la boucle while:\n",
    "while i <= n:\n",
    "    total *=i\n",
    "    i += 1\n",
    "print(\"Factoriel is\",total)"
   ]
  },
  {
   "cell_type": "code",
   "execution_count": null,
   "metadata": {},
   "outputs": [],
   "source": [
    "etoiles = \"\"\n",
    "n = int(input(\"Taille du triangle:\"))\n",
    "for i in range (n):\n",
    "    etoiles += \"*\"\n",
    "    print(etoiles)"
   ]
  },
  {
   "cell_type": "code",
   "execution_count": null,
   "metadata": {},
   "outputs": [],
   "source": [
    "import random\n",
    "nombres, paires = [], []\n",
    "for i in range (100):\n",
    "    nombres.append(random.randint(100,200))\n",
    "    if not nombres[-1]%2 and len(paires) < 10:\n",
    "        paires.append(nombres[-1])\n",
    "print(paires)   "
   ]
  }
 ],
 "metadata": {
  "kernelspec": {
   "display_name": "Python 3.10.7 64-bit (microsoft store)",
   "language": "python",
   "name": "python3"
  },
  "language_info": {
   "name": "python",
   "version": "3.10.7"
  },
  "orig_nbformat": 4,
  "vscode": {
   "interpreter": {
    "hash": "4c2e59c9858e480365d7bbe6ec18083a8db6f1aebf751422637bf9ae599e61da"
   }
  }
 },
 "nbformat": 4,
 "nbformat_minor": 2
}
