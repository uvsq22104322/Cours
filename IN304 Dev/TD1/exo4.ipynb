{
 "cells": [
  {
   "cell_type": "code",
   "execution_count": null,
   "metadata": {},
   "outputs": [],
   "source": [
    "mot = input(\"Un mot : \")\n",
    "mot_r = mot[::-1]\n",
    "print(mot, mot_r)\n",
    "if mot == mot_r:\n",
    "    print(\"Palindrome\")"
   ]
  },
  {
   "cell_type": "code",
   "execution_count": null,
   "metadata": {},
   "outputs": [],
   "source": [
    "nb = int(input(\"Nombre : \"))\n",
    "nb_i = 0\n",
    "while nb != nb_i:\n",
    "    total = nb + nb_i\n",
    "    nb, nb_i = total, int(str(total)[::-1])\n",
    "print(nb, \"est le palindrome résultant\")"
   ]
  }
 ],
 "metadata": {
  "kernelspec": {
   "display_name": "Python 3.10.7 64-bit (microsoft store)",
   "language": "python",
   "name": "python3"
  },
  "language_info": {
   "name": "python",
   "version": "3.10.7"
  },
  "orig_nbformat": 4,
  "vscode": {
   "interpreter": {
    "hash": "4c2e59c9858e480365d7bbe6ec18083a8db6f1aebf751422637bf9ae599e61da"
   }
  }
 },
 "nbformat": 4,
 "nbformat_minor": 2
}
