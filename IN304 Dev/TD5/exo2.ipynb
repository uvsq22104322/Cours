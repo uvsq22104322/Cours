{
 "cells": [
  {
   "cell_type": "code",
   "execution_count": null,
   "metadata": {},
   "outputs": [],
   "source": [
    "def filtrer(source,destination):\n",
    "    fs = open(source,'r')\n",
    "    fd = open(destination,'w')\n",
    "    while 1:\n",
    "        print('avant')\n",
    "        txt = fs.readline()\n",
    "        print(txt)\n",
    "        if txt == '':\n",
    "            break\n",
    "        if txt[0] != '#':\n",
    "            fd.write(txt)\n",
    "    fs.close()\n",
    "    fd.close\n",
    "    return\n",
    "    \n",
    "\n",
    "#problème de lecture de fichiers (onedrive???) obligé de prendre comme source un fichier sur le bureau"
   ]
  },
  {
   "cell_type": "code",
   "execution_count": null,
   "metadata": {},
   "outputs": [],
   "source": [
    "\n",
    "filtrer(\"C:/Users/cyria/OneDrive/Bureau/notes.txt\", \"destination.txt\")"
   ]
  }
 ],
 "metadata": {
  "kernelspec": {
   "display_name": "Python 3.10.8 64-bit (microsoft store)",
   "language": "python",
   "name": "python3"
  },
  "language_info": {
   "codemirror_mode": {
    "name": "ipython",
    "version": 3
   },
   "file_extension": ".py",
   "mimetype": "text/x-python",
   "name": "python",
   "nbconvert_exporter": "python",
   "pygments_lexer": "ipython3",
   "version": "3.10.8"
  },
  "orig_nbformat": 4,
  "vscode": {
   "interpreter": {
    "hash": "4c2e59c9858e480365d7bbe6ec18083a8db6f1aebf751422637bf9ae599e61da"
   }
  }
 },
 "nbformat": 4,
 "nbformat_minor": 2
}
