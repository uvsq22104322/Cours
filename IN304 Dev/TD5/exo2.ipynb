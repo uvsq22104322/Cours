{
 "cells": [
  {
   "cell_type": "code",
   "execution_count": 2,
   "metadata": {},
   "outputs": [],
   "source": [
    "def filtrer(source,destination):\n",
    "    fs = open(source,'r')\n",
    "    fd = open(destination,'w')\n",
    "    while 1:\n",
    "        print('avant')\n",
    "        txt = fs.readline()\n",
    "        print(txt)\n",
    "        if txt == '':\n",
    "            break\n",
    "        if txt[0] != '#':\n",
    "            fd.write(txt)\n",
    "    fs.close()\n",
    "    fd.close\n",
    "    return\n",
    "    \n",
    "\n"
   ]
  },
  {
   "cell_type": "code",
   "execution_count": 5,
   "metadata": {},
   "outputs": [
    {
     "name": "stdout",
     "output_type": "stream",
     "text": [
      "avant\n",
      "ceci \n",
      "\n",
      "avant\n",
      "est\n",
      "\n",
      "avant\n",
      "#un\n",
      "\n",
      "avant\n",
      "test\n",
      "\n",
      "avant\n",
      "pour\n",
      "\n",
      "avant\n",
      "#l'exo\n",
      "\n",
      "avant\n",
      "5\n",
      "\n",
      "avant\n",
      "\n",
      "\n",
      "avant\n",
      "\n"
     ]
    }
   ],
   "source": [
    "\n",
    "filtrer('C:/Users/cyria/OneDrive/Bureau/notes.txt', 'destination.txt')"
   ]
  }
 ],
 "metadata": {
  "kernelspec": {
   "display_name": "Python 3.10.8 64-bit (microsoft store)",
   "language": "python",
   "name": "python3"
  },
  "language_info": {
   "codemirror_mode": {
    "name": "ipython",
    "version": 3
   },
   "file_extension": ".py",
   "mimetype": "text/x-python",
   "name": "python",
   "nbconvert_exporter": "python",
   "pygments_lexer": "ipython3",
   "version": "3.10.8"
  },
  "orig_nbformat": 4,
  "vscode": {
   "interpreter": {
    "hash": "4c2e59c9858e480365d7bbe6ec18083a8db6f1aebf751422637bf9ae599e61da"
   }
  }
 },
 "nbformat": 4,
 "nbformat_minor": 2
}
