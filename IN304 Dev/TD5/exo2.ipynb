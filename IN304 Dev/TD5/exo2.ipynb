{
 "cells": [
  {
   "cell_type": "code",
   "execution_count": null,
   "metadata": {},
   "outputs": [],
   "source": [
    "def filtres(source,destination):\n",
    "    fs = open(source,'r')\n",
    "    fd = open(destination, 'w')\n",
    "    while 1:\n",
    "        txt = fs.readline()\n",
    "        if txt == '':\n",
    "            break\n",
    "        if txt[0] != '#':\n",
    "            fd.write(txt)\n",
    "    fs.close()\n",
    "    fd.close()\n",
    "    return"
   ]
  },
  {
   "cell_type": "code",
   "execution_count": null,
   "metadata": {},
   "outputs": [],
   "source": [
    "print(\"textesource.txt\",\"textedestination.tx\")"
   ]
  }
 ],
 "metadata": {
  "kernelspec": {
   "display_name": "Python 3.10.8 64-bit (microsoft store)",
   "language": "python",
   "name": "python3"
  },
  "language_info": {
   "name": "python",
   "version": "3.10.8"
  },
  "orig_nbformat": 4,
  "vscode": {
   "interpreter": {
    "hash": "4c2e59c9858e480365d7bbe6ec18083a8db6f1aebf751422637bf9ae599e61da"
   }
  }
 },
 "nbformat": 4,
 "nbformat_minor": 2
}
