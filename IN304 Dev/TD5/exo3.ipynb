{
 "cells": [
  {
   "cell_type": "code",
   "execution_count": 3,
   "metadata": {},
   "outputs": [],
   "source": [
    "def sansDC(ch):\n",
    "    nouv = \"\"\n",
    "    i,j = 0, len(ch) -1\n",
    "    while i < j:\n",
    "        nouv = nouv + ch[i]\n",
    "        i = i+1\n",
    "    return nouv\n",
    "\n",
    "def ecrireDansFichier():\n",
    "    of = open(nomF, 'a')\n",
    "    while 1:\n",
    "        ligne = input(\"entrez une ligne de texte (ou <Enter>) :\")\n",
    "        if ligne == \"\":\n",
    "            break\n",
    "        else:\n",
    "            of.write(ligne + \"\\n\")\n",
    "    of.close\n",
    "\n",
    "def lireDansFichier():\n",
    "    of = open(nomF,\"r\")\n",
    "    while 1:\n",
    "        ligne = of.realine()\n",
    "        if ligne == \"\":\n",
    "            break\n",
    "        print(sansDC(ligne))\n",
    "    of.close\n",
    "\n",
    "nomF = input(\"Entrez le nom du fichier\")\n",
    "choix = input(\"Entrez e pour écrire, c pour consulter les données:\" )\n",
    "\n",
    "if choix ==\"e\":\n",
    "    ecrireDansFichier()\n",
    "else:\n",
    "    lireDansFichier"
   ]
  }
 ],
 "metadata": {
  "kernelspec": {
   "display_name": "Python 3.10.8 64-bit (microsoft store)",
   "language": "python",
   "name": "python3"
  },
  "language_info": {
   "codemirror_mode": {
    "name": "ipython",
    "version": 3
   },
   "file_extension": ".py",
   "mimetype": "text/x-python",
   "name": "python",
   "nbconvert_exporter": "python",
   "pygments_lexer": "ipython3",
   "version": "3.10.8"
  },
  "orig_nbformat": 4,
  "vscode": {
   "interpreter": {
    "hash": "4c2e59c9858e480365d7bbe6ec18083a8db6f1aebf751422637bf9ae599e61da"
   }
  }
 },
 "nbformat": 4,
 "nbformat_minor": 2
}
