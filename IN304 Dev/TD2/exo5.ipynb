{
 "cells": [
  {
   "cell_type": "code",
   "execution_count": 1,
   "metadata": {},
   "outputs": [
    {
     "name": "stdout",
     "output_type": "stream",
     "text": [
      "[34, 34, 34, 34]\n"
     ]
    }
   ],
   "source": [
    "carre_mag = [[1,8,11,14],[15,10,5,4],[6,3,16,9],[12,13,2,7]]\n",
    "carre_pas_mag =  [[10,8,11,14],[15,10,5,4],[6,3,16,9],[12,13,2,7]]\n",
    "\n",
    "def liste_en_carre(carre_mag):\n",
    "\n",
    "    for i in range(4): #i correspond aux lignes\n",
    "        ligne = []\n",
    "        for j in range(4):#j aux colonnes\n",
    "            ligne.append(carre_mag[i][j])\n",
    "    \n",
    "\n",
    "\n",
    "    for i in carre_mag: #mis en forme\n",
    "        for nb in i:\n",
    "            print(nb, end=\"\\t\")\n",
    "        print()\n",
    "\n",
    "def est_magique(carre_mag):\n",
    "    somme = []\n",
    "    for j in range(4):\n",
    "        calcul = []\n",
    "        for i in range(4):\n",
    "            calcul.append(carre_mag[j][i])\n",
    "        total = sum(calcul)\n",
    "        somme.append(total)\n",
    "    for k in range(4):\n",
    "        if not somme[k] != sum(somme) % 4:\n",
    "            return -1\n",
    "        else:\n",
    "            return somme\n",
    "\n",
    "print(est_magique(carre_mag))\n",
    "\n"
   ]
  }
 ],
 "metadata": {
  "kernelspec": {
   "display_name": "Python 3.10.7 64-bit (microsoft store)",
   "language": "python",
   "name": "python3"
  },
  "language_info": {
   "codemirror_mode": {
    "name": "ipython",
    "version": 3
   },
   "file_extension": ".py",
   "mimetype": "text/x-python",
   "name": "python",
   "nbconvert_exporter": "python",
   "pygments_lexer": "ipython3",
   "version": "3.10.8"
  },
  "orig_nbformat": 4,
  "vscode": {
   "interpreter": {
    "hash": "4c2e59c9858e480365d7bbe6ec18083a8db6f1aebf751422637bf9ae599e61da"
   }
  }
 },
 "nbformat": 4,
 "nbformat_minor": 2
}
