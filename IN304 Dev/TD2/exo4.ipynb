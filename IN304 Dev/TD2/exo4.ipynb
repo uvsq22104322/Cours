{
 "cells": [
  {
   "cell_type": "code",
   "execution_count": 16,
   "metadata": {},
   "outputs": [
    {
     "name": "stdout",
     "output_type": "stream",
     "text": [
      "Tableau crible de base: [True, True, True, True, True, True, True, True, True, True, True, True, True, True, True, True, True, True, True, True, True, True, True, True, True, True, True, True, True, True, True, True, True, True, True, True, True, True, True, True, True, True, True, True, True, True, True, True, True, True, True, True, True, True, True, True, True, True, True, True, True, True, True, True, True, True, True, True, True, True, True, True, True, True, True, True, True, True, True, True, True, True, True, True, True, True, True, True, True, True, True, True, True, True, True, True, True, True, True, True]\n",
      "Le tableau apres Erathosthen []\n"
     ]
    }
   ],
   "source": [
    "\n",
    "def crible_d_era(nb):\n",
    "    crible = [True for k in range(1,1+nb)]\n",
    "    crible_era = []\n",
    "    print(\"Tableau crible de base:\",crible)\n",
    "    i = 2\n",
    "    for i in crible:\n",
    "        if i == 0 or i == 1:\n",
    "            i += 1\n",
    "        elif crible[i] == True:\n",
    "            crible_era.append(i)\n",
    "            for j in range(i,nb,i):\n",
    "                crible[j] = False\n",
    "    return crible_era\n",
    "\n",
    "\n",
    "\n",
    "\n",
    "print(\"Le tableau apres Erathosthen\", crible_d_era(100))"
   ]
  }
 ],
 "metadata": {
  "kernelspec": {
   "display_name": "Python 3.10.7 64-bit (microsoft store)",
   "language": "python",
   "name": "python3"
  },
  "language_info": {
   "codemirror_mode": {
    "name": "ipython",
    "version": 3
   },
   "file_extension": ".py",
   "mimetype": "text/x-python",
   "name": "python",
   "nbconvert_exporter": "python",
   "pygments_lexer": "ipython3",
   "version": "3.10.7"
  },
  "orig_nbformat": 4,
  "vscode": {
   "interpreter": {
    "hash": "4c2e59c9858e480365d7bbe6ec18083a8db6f1aebf751422637bf9ae599e61da"
   }
  }
 },
 "nbformat": 4,
 "nbformat_minor": 2
}
