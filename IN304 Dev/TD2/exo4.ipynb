{
 "cells": [
  {
   "cell_type": "code",
   "execution_count": 10,
   "metadata": {},
   "outputs": [
    {
     "name": "stdout",
     "output_type": "stream",
     "text": [
      "Tableau crible de base: [True, True, True, True, True, True, True, True, True, True, True, True, True, True, True, True, True, True, True, True, True, True, True, True, True, True, True, True, True, True, True, True, True, True, True, True, True, True, True, True, True, True, True, True, True, True, True, True, True, True, True, True, True, True, True, True, True, True, True, True, True, True, True, True, True, True, True, True, True, True, True, True, True, True, True, True, True, True, True, True, True, True, True, True, True, True, True, True, True, True, True, True, True, True, True, True, True, True, True, True]\n",
      "Le tableau apres Erathosthen []\n"
     ]
    }
   ],
   "source": [
    "\n",
    "def crible_d_era(nb):\n",
    "    crible = [True for k in range(nb)]\n",
    "    crible_era = []\n",
    "    print(\"Tableau crible de base:\",crible)\n",
    "    \n",
    "    for i in crible:            \n",
    "        if crible[i] == True and i > 1:\n",
    "            crible_era.append(i)\n",
    "            for j in range(i,nb+1,i):\n",
    "                crible[j] = False\n",
    "        \n",
    "    return crible_era\n",
    "\n",
    "\n",
    "\n",
    "\n",
    "print(\"Le tableau apres Erathosthen\", crible_d_era(100))"
   ]
  }
 ],
 "metadata": {
  "kernelspec": {
   "display_name": "Python 3.10.7 64-bit (microsoft store)",
   "language": "python",
   "name": "python3"
  },
  "language_info": {
   "codemirror_mode": {
    "name": "ipython",
    "version": 3
   },
   "file_extension": ".py",
   "mimetype": "text/x-python",
   "name": "python",
   "nbconvert_exporter": "python",
   "pygments_lexer": "ipython3",
   "version": "3.10.7"
  },
  "orig_nbformat": 4,
  "vscode": {
   "interpreter": {
    "hash": "4c2e59c9858e480365d7bbe6ec18083a8db6f1aebf751422637bf9ae599e61da"
   }
  }
 },
 "nbformat": 4,
 "nbformat_minor": 2
}
