{
 "cells": [
  {
   "cell_type": "code",
   "execution_count": 30,
   "metadata": {},
   "outputs": [
    {
     "name": "stdout",
     "output_type": "stream",
     "text": [
      "mouton\n",
      "False\n"
     ]
    }
   ],
   "source": [
    "#Question 1 : \n",
    "def année_bisextile(année):\n",
    "    l_animaux = [\"singe\", \"coq\", \"chien\", \"porc\", \"rat\", \"boeuf\", \"tigre\", \"lapin\", \"dragon\", \"serpent\", \"cheval\", \"mouton\"]\n",
    "    print(l_animaux[année%12])\n",
    "    return bool((not année % 4 and année % 100) or not année % 400)\n",
    "\n",
    "année = int(input(\"Entrez une année:\"))\n",
    "\n",
    "print(année_bisextile(année))"
   ]
  },
  {
   "cell_type": "code",
   "execution_count": 35,
   "metadata": {},
   "outputs": [
    {
     "name": "stdout",
     "output_type": "stream",
     "text": [
      "2\n",
      "2000\n",
      "le nombre de jour est 28\n"
     ]
    }
   ],
   "source": [
    "#Question 2:\n",
    "\n",
    "# possible d'utiliser le module calendar : import calendar as cal\n",
    "def nombre_jour(mois, année):\n",
    "    mois, année = int(mois), int(année)\n",
    "    print(mois), print(année)\n",
    "    l_mois = [29, 31, 28, 31, 30, 31,30,31,31,30,31,30,31]\n",
    "    if mois == 2 and année_bisextile == True:\n",
    "        return l_mois[0]\n",
    "    else:\n",
    "        return l_mois[mois]\n",
    "    \n",
    "print(\"le nombre de jour est\", nombre_jour(input(\"Entrez un mois:\"),input(\"Entrez une année:\")))\n",
    "\n"
   ]
  }
 ],
 "metadata": {
  "kernelspec": {
   "display_name": "Python 3.10.7 64-bit (microsoft store)",
   "language": "python",
   "name": "python3"
  },
  "language_info": {
   "codemirror_mode": {
    "name": "ipython",
    "version": 3
   },
   "file_extension": ".py",
   "mimetype": "text/x-python",
   "name": "python",
   "nbconvert_exporter": "python",
   "pygments_lexer": "ipython3",
   "version": "3.10.7"
  },
  "orig_nbformat": 4,
  "vscode": {
   "interpreter": {
    "hash": "4c2e59c9858e480365d7bbe6ec18083a8db6f1aebf751422637bf9ae599e61da"
   }
  }
 },
 "nbformat": 4,
 "nbformat_minor": 2
}
