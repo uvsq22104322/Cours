{
 "cells": [
  {
   "cell_type": "code",
   "execution_count": 5,
   "metadata": {},
   "outputs": [
    {
     "name": "stdout",
     "output_type": "stream",
     "text": [
      "dragon\n",
      "True\n"
     ]
    }
   ],
   "source": [
    "#Question 1 : \n",
    "def année_bisextile(année):\n",
    "    l_animaux = [\"singe\", \"coq\", \"chien\", \"porc\", \"rat\", \"boeuf\", \"tigre\", \"lapin\", \"dragon\", \"serpent\", \"cheval\", \"mouton\"]\n",
    "    print(l_animaux[année%12])\n",
    "    return bool((not année % 4 and année % 100) or not année % 400)\n",
    "\n",
    "année = int(input(\"Entrez une année:\"))\n",
    "\n",
    "print(année_bisextile(année))"
   ]
  },
  {
   "cell_type": "code",
   "execution_count": null,
   "metadata": {},
   "outputs": [],
   "source": [
    "#Question 2:\n",
    "\n",
    "# possible d'utiliser le module calendar : import calendar as cal\n",
    "\n",
    "def nombre_jour(mois):\n",
    "    l_mois = [\"janvier\", 31, \"février\", 29, \"mars\", 31, \"avril\",30 , \"mai\", 31, \"juin\",30,\"juillet\",31 , \"aout\",31, \"septembre\",30, \"octobre\",31, \"novembre\",30, \"décembre\", 31]\n",
    "    for mois in l_mois:\n",
    "        nombre = l_mois[mois + 1]\n",
    "        print(nombre)\n",
    "\n",
    "print(nombre_jour(\"janvier\"))\n",
    "\n"
   ]
  }
 ],
 "metadata": {
  "kernelspec": {
   "display_name": "Python 3.10.4 64-bit",
   "language": "python",
   "name": "python3"
  },
  "language_info": {
   "codemirror_mode": {
    "name": "ipython",
    "version": 3
   },
   "file_extension": ".py",
   "mimetype": "text/x-python",
   "name": "python",
   "nbconvert_exporter": "python",
   "pygments_lexer": "ipython3",
   "version": "3.10.4"
  },
  "orig_nbformat": 4,
  "vscode": {
   "interpreter": {
    "hash": "916dbcbb3f70747c44a77c7bcd40155683ae19c65e1c03b4aa3499c5328201f1"
   }
  }
 },
 "nbformat": 4,
 "nbformat_minor": 2
}
