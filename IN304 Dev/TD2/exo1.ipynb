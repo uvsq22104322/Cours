{
 "cells": [
  {
   "cell_type": "code",
   "execution_count": 5,
   "metadata": {},
   "outputs": [
    {
     "name": "stdout",
     "output_type": "stream",
     "text": [
      "dragon\n",
      "True\n"
     ]
    }
   ],
   "source": [
    "#Question 1 : \n",
    "def année_bisextile(année):\n",
    "    l_animaux = [\"singe\", \"coq\", \"chien\", \"porc\", \"rat\", \"boeuf\", \"tigre\", \"lapin\", \"dragon\", \"serpent\", \"cheval\", \"mouton\"]\n",
    "    print(l_animaux[année%12])\n",
    "    return bool((not année % 4 and année % 100) or not année % 400)\n",
    "\n",
    "année = int(input(\"Entrez une année:\"))\n",
    "\n",
    "print(année_bisextile(année))"
   ]
  },
  {
   "cell_type": "code",
   "execution_count": null,
   "metadata": {},
   "outputs": [
    {
     "ename": "TypeError",
     "evalue": "list indices must be integers or slices, not tuple",
     "output_type": "error",
     "traceback": [
      "\u001b[1;31m---------------------------------------------------------------------------\u001b[0m",
      "\u001b[1;31mTypeError\u001b[0m                                 Traceback (most recent call last)",
      "Cell \u001b[1;32mIn [6], line 11\u001b[0m\n\u001b[0;32m      8\u001b[0m         nombre \u001b[38;5;241m=\u001b[39m \u001b[38;5;28mint\u001b[39m(l_mois[mois][\u001b[38;5;241m1\u001b[39m])\n\u001b[0;32m      9\u001b[0m         \u001b[38;5;28mprint\u001b[39m(nombre)\n\u001b[1;32m---> 11\u001b[0m \u001b[38;5;28mprint\u001b[39m(\u001b[43mnombre_jour\u001b[49m\u001b[43m(\u001b[49m\u001b[38;5;28;43mstr\u001b[39;49m\u001b[43m(\u001b[49m\u001b[38;5;28;43minput\u001b[39;49m\u001b[43m(\u001b[49m\u001b[38;5;124;43m\"\u001b[39;49m\u001b[38;5;124;43mEntrez un mois:\u001b[39;49m\u001b[38;5;124;43m\"\u001b[39;49m\u001b[43m)\u001b[49m\u001b[43m)\u001b[49m\u001b[43m)\u001b[49m)\n",
      "Cell \u001b[1;32mIn [6], line 8\u001b[0m, in \u001b[0;36mnombre_jour\u001b[1;34m(mois)\u001b[0m\n\u001b[0;32m      6\u001b[0m l_mois \u001b[38;5;241m=\u001b[39m [(\u001b[38;5;124m\"\u001b[39m\u001b[38;5;124mjanvier\u001b[39m\u001b[38;5;124m\"\u001b[39m, \u001b[38;5;241m31\u001b[39m), (\u001b[38;5;124m\"\u001b[39m\u001b[38;5;124mfévrier\u001b[39m\u001b[38;5;124m\"\u001b[39m, \u001b[38;5;241m29\u001b[39m), (\u001b[38;5;124m\"\u001b[39m\u001b[38;5;124mmars\u001b[39m\u001b[38;5;124m\"\u001b[39m, \u001b[38;5;241m31\u001b[39m), (\u001b[38;5;124m\"\u001b[39m\u001b[38;5;124mavril\u001b[39m\u001b[38;5;124m\"\u001b[39m,\u001b[38;5;241m30\u001b[39m) , (\u001b[38;5;124m\"\u001b[39m\u001b[38;5;124mmai\u001b[39m\u001b[38;5;124m\"\u001b[39m, \u001b[38;5;241m31\u001b[39m), (\u001b[38;5;124m\"\u001b[39m\u001b[38;5;124mjuin\u001b[39m\u001b[38;5;124m\"\u001b[39m,\u001b[38;5;241m30\u001b[39m),(\u001b[38;5;124m\"\u001b[39m\u001b[38;5;124mjuillet\u001b[39m\u001b[38;5;124m\"\u001b[39m,\u001b[38;5;241m31\u001b[39m) , (\u001b[38;5;124m\"\u001b[39m\u001b[38;5;124maout\u001b[39m\u001b[38;5;124m\"\u001b[39m,\u001b[38;5;241m31\u001b[39m), (\u001b[38;5;124m\"\u001b[39m\u001b[38;5;124mseptembre\u001b[39m\u001b[38;5;124m\"\u001b[39m,\u001b[38;5;241m30\u001b[39m), (\u001b[38;5;124m\"\u001b[39m\u001b[38;5;124moctobre\u001b[39m\u001b[38;5;124m\"\u001b[39m,\u001b[38;5;241m31\u001b[39m), (\u001b[38;5;124m\"\u001b[39m\u001b[38;5;124mnovembre\u001b[39m\u001b[38;5;124m\"\u001b[39m,\u001b[38;5;241m30\u001b[39m), (\u001b[38;5;124m\"\u001b[39m\u001b[38;5;124mdécembre\u001b[39m\u001b[38;5;124m\"\u001b[39m, \u001b[38;5;241m31\u001b[39m)]\n\u001b[0;32m      7\u001b[0m \u001b[38;5;28;01mfor\u001b[39;00m mois \u001b[38;5;129;01min\u001b[39;00m l_mois:\n\u001b[1;32m----> 8\u001b[0m     nombre \u001b[38;5;241m=\u001b[39m \u001b[38;5;28mint\u001b[39m(\u001b[43ml_mois\u001b[49m\u001b[43m[\u001b[49m\u001b[43mmois\u001b[49m\u001b[43m]\u001b[49m[\u001b[38;5;241m1\u001b[39m])\n\u001b[0;32m      9\u001b[0m     \u001b[38;5;28mprint\u001b[39m(nombre)\n",
      "\u001b[1;31mTypeError\u001b[0m: list indices must be integers or slices, not tuple"
     ]
    },
    {
     "ename": "",
     "evalue": "",
     "output_type": "error",
     "traceback": [
      "\u001b[1;31mLe Kernel s’est bloqué lors de l’exécution du code dans la cellule active ou une cellule précédente. Veuillez vérifier le code dans la ou les cellules pour identifier une cause possible de l’échec. Cliquez <a href='https://aka.ms/vscodeJupyterKernelCrash'>ici</a> pour plus d’informations. Pour plus d’informations, consultez Jupyter <a href='command:jupyter.viewOutput'>log</a>."
     ]
    }
   ],
   "source": [
    "#Question 2:\n",
    "\n",
    "# possible d'utiliser le module calendar : import calendar as cal\n",
    "\n",
    "def nombre_jour(mois):\n",
    "    l_mois = [(1, 31), (2, 29), (3, 31), (4,30) , (5, 31), (6,30),(7,31) , (8,31), (9,30), (10,31), (11,30), (12, 31)]\n",
    "    for mois in l_mois:\n",
    "        nombre = int(l_mois[mois][1])\n",
    "        print(nombre)\n",
    "\n",
    "print(nombre_jour(str(input(\"Entrez un mois:\"))))\n",
    "\n"
   ]
  }
 ],
 "metadata": {
  "kernelspec": {
   "display_name": "Python 3.10.7 64-bit (microsoft store)",
   "language": "python",
   "name": "python3"
  },
  "language_info": {
   "codemirror_mode": {
    "name": "ipython",
    "version": 3
   },
   "file_extension": ".py",
   "mimetype": "text/x-python",
   "name": "python",
   "nbconvert_exporter": "python",
   "pygments_lexer": "ipython3",
   "version": "3.10.7"
  },
  "orig_nbformat": 4,
  "vscode": {
   "interpreter": {
    "hash": "4c2e59c9858e480365d7bbe6ec18083a8db6f1aebf751422637bf9ae599e61da"
   }
  }
 },
 "nbformat": 4,
 "nbformat_minor": 2
}
