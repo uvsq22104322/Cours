{
 "cells": [
  {
   "cell_type": "code",
   "execution_count": 36,
   "metadata": {},
   "outputs": [
    {
     "name": "stdout",
     "output_type": "stream",
     "text": [
      "True\n"
     ]
    }
   ],
   "source": [
    "#Question 1 : \n",
    "def année_bisextile(année):\n",
    "    #l_animaux = [\"singe\", \"coq\", \"chien\", \"porc\", \"rat\", \"boeuf\", \"tigre\", \"lapin\", \"dragon\", \"serpent\", \"cheval\", \"mouton\"]\n",
    "    #print(str(l_animaux[année%12]))\n",
    "    return bool((not année % 4 and année % 100) or not année % 400) \n",
    "\n",
    "print(année_bisextile(int(input(\"Entrez une année:\"))))"
   ]
  },
  {
   "cell_type": "code",
   "execution_count": 44,
   "metadata": {},
   "outputs": [
    {
     "name": "stdout",
     "output_type": "stream",
     "text": [
      "Le mois est 2 et l'année est 2000\n"
     ]
    },
    {
     "ename": "TypeError",
     "evalue": "int() argument must be a string, a bytes-like object or a real number, not 'list'",
     "output_type": "error",
     "traceback": [
      "\u001b[1;31m---------------------------------------------------------------------------\u001b[0m",
      "\u001b[1;31mTypeError\u001b[0m                                 Traceback (most recent call last)",
      "Cell \u001b[1;32mIn [44], line 26\u001b[0m\n\u001b[0;32m     24\u001b[0m année \u001b[38;5;241m=\u001b[39m \u001b[38;5;28minput\u001b[39m(\u001b[38;5;124m\"\u001b[39m\u001b[38;5;124mEntrez une année supérieur à 1582:\u001b[39m\u001b[38;5;124m\"\u001b[39m)\n\u001b[0;32m     25\u001b[0m mois \u001b[38;5;241m=\u001b[39m \u001b[38;5;28minput\u001b[39m(\u001b[38;5;124m\"\u001b[39m\u001b[38;5;124mEntrez un mois:\u001b[39m\u001b[38;5;124m\"\u001b[39m)\n\u001b[1;32m---> 26\u001b[0m \u001b[38;5;28mprint\u001b[39m(\u001b[38;5;124m\"\u001b[39m\u001b[38;5;124mLe nombre de jour depuis le début d\u001b[39m\u001b[38;5;124m'\u001b[39m\u001b[38;5;124mannée 1583 est\u001b[39m\u001b[38;5;124m\"\u001b[39m, \u001b[43mnombre_jour\u001b[49m\u001b[43m(\u001b[49m\u001b[43mmois\u001b[49m\u001b[43m,\u001b[49m\u001b[43m \u001b[49m\u001b[43mannée\u001b[49m\u001b[43m)\u001b[49m, \u001b[38;5;124m\"\u001b[39m\u001b[38;5;130;01m\\n\u001b[39;00m\u001b[38;5;124m\"\u001b[39m, \u001b[38;5;124m\"\u001b[39m\u001b[38;5;124mAnnée bisextile ? :\u001b[39m\u001b[38;5;124m\"\u001b[39m, année_bisextile(\u001b[38;5;28mint\u001b[39m(année)))\n",
      "Cell \u001b[1;32mIn [44], line 18\u001b[0m, in \u001b[0;36mnombre_jour\u001b[1;34m(mois, année)\u001b[0m\n\u001b[0;32m     16\u001b[0m     temp \u001b[38;5;241m=\u001b[39m \u001b[38;5;28mint\u001b[39m(l_mois[\u001b[38;5;241m0\u001b[39m]) \u001b[38;5;241m+\u001b[39m \u001b[38;5;28mint\u001b[39m(l_mois[\u001b[38;5;241m1\u001b[39m]) \n\u001b[0;32m     17\u001b[0m \u001b[38;5;28;01melse\u001b[39;00m:\n\u001b[1;32m---> 18\u001b[0m     temp \u001b[38;5;241m=\u001b[39m \u001b[38;5;28;43mint\u001b[39;49m\u001b[43m(\u001b[49m\u001b[43ml_mois\u001b[49m\u001b[43m[\u001b[49m\u001b[38;5;241;43m1\u001b[39;49m\u001b[43m:\u001b[49m\u001b[43mmois\u001b[49m\u001b[43m]\u001b[49m\u001b[43m)\u001b[49m\n\u001b[0;32m     19\u001b[0m \u001b[38;5;28mprint\u001b[39m(temp)\n\u001b[0;32m     20\u001b[0m \u001b[38;5;28;01mreturn\u001b[39;00m total\n",
      "\u001b[1;31mTypeError\u001b[0m: int() argument must be a string, a bytes-like object or a real number, not 'list'"
     ]
    }
   ],
   "source": [
    "#Question 2:\n",
    "\n",
    "# possible d'utiliser le module calendar : import calendar as cal\n",
    "\n",
    "#pas bon !!\n",
    "def nombre_jour(mois, année):\n",
    "    mois, année = int(mois), int(année)\n",
    "    total = 0\n",
    "    temp = 0\n",
    "    print(\"Le mois est\",mois,\"et l'année est\",année)\n",
    "    l_mois = [\"29\", \"31\", \"28\", \"31\", \"30\", \"31\",\"30\",\"31\",\"31\",\"30\",\"31\",\"30\",\"31\"]\n",
    "    for i in range(1582,année+1):\n",
    "        if année_bisextile(i) == True:\n",
    "            total += 366\n",
    "        else:\n",
    "            total += 365\n",
    "    if mois == 2 and année_bisextile == True:\n",
    "        temp = int(l_mois[0]) + int(l_mois[1]) \n",
    "    else:\n",
    "        temp = int(l_mois[1:mois])\n",
    "    print(temp)\n",
    "    return total\n",
    "\n",
    "\n",
    "\n",
    "année = input(\"Entrez une année supérieur à 1582:\")\n",
    "mois = input(\"Entrez un mois:\")\n",
    "print(\"Le nombre de jour depuis le début d'année 1583 est\", nombre_jour(mois, année), \"\\n\", \"Année bisextile ? :\", année_bisextile(int(année)))\n"
   ]
  },
  {
   "cell_type": "code",
   "execution_count": null,
   "metadata": {},
   "outputs": [],
   "source": [
    "def dateValide(j,m,a):\n",
    "    nbr_jour = nombre_jour(m,a)\n",
    "    if année_bisextile(a) == True and nbr_jour == 366:\n",
    "        return \"Cette date existe\"\n",
    "    elif année_bisextile(a) == False and nbr_jour == 365:\n",
    "        return \"Cette date existe\"\n",
    "    else:\n",
    "        return \"Cette date n'existe pas\"\n",
    "\n",
    "print(dateValide(input(\"Entrez un jour\"),input(\"Entrez un mois\"), input(\"Entrez une année\")))\n"
   ]
  }
 ],
 "metadata": {
  "kernelspec": {
   "display_name": "Python 3.10.7 64-bit (microsoft store)",
   "language": "python",
   "name": "python3"
  },
  "language_info": {
   "codemirror_mode": {
    "name": "ipython",
    "version": 3
   },
   "file_extension": ".py",
   "mimetype": "text/x-python",
   "name": "python",
   "nbconvert_exporter": "python",
   "pygments_lexer": "ipython3",
   "version": "3.10.7"
  },
  "orig_nbformat": 4,
  "vscode": {
   "interpreter": {
    "hash": "4c2e59c9858e480365d7bbe6ec18083a8db6f1aebf751422637bf9ae599e61da"
   }
  }
 },
 "nbformat": 4,
 "nbformat_minor": 2
}
