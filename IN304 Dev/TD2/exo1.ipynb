{
 "cells": [
  {
   "cell_type": "code",
   "execution_count": 1,
   "metadata": {},
   "outputs": [
    {
     "name": "stdout",
     "output_type": "stream",
     "text": [
      "mouton\n",
      "False\n"
     ]
    }
   ],
   "source": [
    "#Question 1 : \n",
    "def année_bisextile(année):\n",
    "    l_animaux = [\"singe\", \"coq\", \"chien\", \"porc\", \"rat\", \"boeuf\", \"tigre\", \"lapin\", \"dragon\", \"serpent\", \"cheval\", \"mouton\"]\n",
    "    print(l_animaux[année%12])\n",
    "    return bool((not année % 4 and année % 100) or not année % 400)\n",
    "\n",
    "année = int(input(\"Entrez une année:\"))\n",
    "\n",
    "print(année_bisextile(année))"
   ]
  },
  {
   "cell_type": "code",
   "execution_count": 5,
   "metadata": {},
   "outputs": [
    {
     "name": "stdout",
     "output_type": "stream",
     "text": [
      "Le mois est 3 et l'année est 2003\n",
      "Le nombre de jour total est 152236\n"
     ]
    }
   ],
   "source": [
    "#Question 2:\n",
    "\n",
    "# possible d'utiliser le module calendar : import calendar as cal\n",
    "def nombre_jour(mois, année):\n",
    "    mois, année = int(mois), int(année)\n",
    "    print(\"Le mois est\",mois,\"et l'année est\",année)\n",
    "    l_mois = [29, 31, 28, 31, 30, 31,30,31,31,30,31,30,31]\n",
    "    if mois == 2 and année_bisextile == True:\n",
    "        année = (année - 1586) * 366 \n",
    "        return l_mois[0] + année\n",
    "    else:\n",
    "        année = (année - 1586) * 365\n",
    "        return l_mois[mois] + année\n",
    "    \n",
    "print(\"Le nombre de jour total est\", nombre_jour(input(\"Entrez un mois:\"),input(\"Entrez une année supérieur à 1586:\")))\n",
    "\n"
   ]
  }
 ],
 "metadata": {
  "kernelspec": {
   "display_name": "Python 3.10.7 64-bit (microsoft store)",
   "language": "python",
   "name": "python3"
  },
  "language_info": {
   "codemirror_mode": {
    "name": "ipython",
    "version": 3
   },
   "file_extension": ".py",
   "mimetype": "text/x-python",
   "name": "python",
   "nbconvert_exporter": "python",
   "pygments_lexer": "ipython3",
   "version": "3.10.7"
  },
  "orig_nbformat": 4,
  "vscode": {
   "interpreter": {
    "hash": "4c2e59c9858e480365d7bbe6ec18083a8db6f1aebf751422637bf9ae599e61da"
   }
  }
 },
 "nbformat": 4,
 "nbformat_minor": 2
}
