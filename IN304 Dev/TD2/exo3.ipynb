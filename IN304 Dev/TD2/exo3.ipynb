{
 "cells": [
  {
   "cell_type": "code",
   "execution_count": 16,
   "metadata": {},
   "outputs": [
    {
     "name": "stdout",
     "output_type": "stream",
     "text": [
      "Nombre d'épreuves: 10  Nombre de personnes: 100\n",
      "Note de l'épreuve 1 : 10.0\n",
      "Note de l'épreuve 2 : 10.59\n",
      "Note de l'épreuve 3 : 11.16\n",
      "Note de l'épreuve 4 : 10.46\n",
      "Note de l'épreuve 5 : 9.72\n",
      "Note de l'épreuve 6 : 9.6\n",
      "Note de l'épreuve 7 : 9.96\n",
      "Note de l'épreuve 8 : 9.87\n",
      "Note de l'épreuve 9 : 10.18\n",
      "Note de l'épreuve 10 : 10.74\n",
      "None\n"
     ]
    }
   ],
   "source": [
    "import random\n",
    "random.seed(10)\n",
    "def moyenne_des_epreuves(nb_ep,nb_per):\n",
    "    print(\"Nombre d'épreuves:\",nb_ep,\" Nombre de personnes:\",nb_per)\n",
    "    for i in range(nb_ep):\n",
    "        moyenne_d_une_epreuve = 0\n",
    "        for j in range(nb_per):\n",
    "            note = random.randint(0,20)\n",
    "            moyenne_d_une_epreuve += note\n",
    "        print(\"Note de l'épreuve\", i+1,\":\", round(moyenne_d_une_epreuve/nb_per,2))\n",
    "\n",
    "#print(moyenne_des_epreuves(random.randint(1,8),random.randint(20,100)))\n",
    "print(moyenne_des_epreuves(10,100))"
   ]
  },
  {
   "cell_type": "code",
   "execution_count": null,
   "metadata": {},
   "outputs": [],
   "source": [
    "#Si on change la graine, les valeurs obtenues seront grandement proche de celle-ci\n"
   ]
  }
 ],
 "metadata": {
  "kernelspec": {
   "display_name": "Python 3.10.7 64-bit (microsoft store)",
   "language": "python",
   "name": "python3"
  },
  "language_info": {
   "codemirror_mode": {
    "name": "ipython",
    "version": 3
   },
   "file_extension": ".py",
   "mimetype": "text/x-python",
   "name": "python",
   "nbconvert_exporter": "python",
   "pygments_lexer": "ipython3",
   "version": "3.10.7"
  },
  "orig_nbformat": 4,
  "vscode": {
   "interpreter": {
    "hash": "4c2e59c9858e480365d7bbe6ec18083a8db6f1aebf751422637bf9ae599e61da"
   }
  }
 },
 "nbformat": 4,
 "nbformat_minor": 2
}
