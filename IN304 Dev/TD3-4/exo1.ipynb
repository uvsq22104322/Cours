{
 "cells": [
  {
   "cell_type": "code",
   "execution_count": 18,
   "metadata": {},
   "outputs": [
    {
     "name": "stdout",
     "output_type": "stream",
     "text": [
      "10946\n"
     ]
    }
   ],
   "source": [
    "def fibonacci(n):\n",
    "    val = 0\n",
    "    temp2 = 0\n",
    "    temp1 = 1\n",
    "    for i in range(2,n+1):\n",
    "        val = temp1 + temp2\n",
    "        temp2, temp1 = temp1, val\n",
    "    return val\n",
    "\n",
    "print(fibonacci(21))"
   ]
  },
  {
   "cell_type": "code",
   "execution_count": 3,
   "metadata": {},
   "outputs": [
    {
     "name": "stdout",
     "output_type": "stream",
     "text": [
      "1\n",
      "2\n",
      "3\n",
      "5\n"
     ]
    }
   ],
   "source": [
    "val = 0\n",
    "temp2 = 0\n",
    "temp1 = 1\n",
    "for i in range(2,5+1):\n",
    "    val = temp1 + temp2\n",
    "    temp2, temp1 = temp1, val\n",
    "    print(val)"
   ]
  },
  {
   "cell_type": "code",
   "execution_count": 14,
   "metadata": {},
   "outputs": [
    {
     "name": "stdout",
     "output_type": "stream",
     "text": [
      "[0, 1, 2, 3, 5, 8]\n"
     ]
    }
   ],
   "source": [
    "def fibonacciwhile(n):\n",
    "    liste = [0]\n",
    "    val = 0\n",
    "    temp2 = 0\n",
    "    temp1 = 1\n",
    "    i = 0\n",
    "    while i != n:\n",
    "        val = temp1 + temp2\n",
    "        temp2, temp1 = temp1, val\n",
    "        liste.append(val)\n",
    "        i += 1\n",
    "    return liste\n",
    "\n",
    "print(fibonacciwhile(5))"
   ]
  },
  {
   "cell_type": "code",
   "execution_count": 26,
   "metadata": {},
   "outputs": [
    {
     "name": "stdout",
     "output_type": "stream",
     "text": [
      "832040\n"
     ]
    }
   ],
   "source": [
    "def recurFibonacci(n):\n",
    "    if  n == 0:\n",
    "        return 0\n",
    "    elif n == 1:\n",
    "        return 1\n",
    "    else:\n",
    "        temp1 = recurFibonacci(n-1)\n",
    "        temp2 = recurFibonacci(n-2)\n",
    "        val = temp1 + temp2\n",
    "    \n",
    "    return val\n",
    "\n",
    "print(recurFibonacci(30))"
   ]
  },
  {
   "cell_type": "code",
   "execution_count": 31,
   "metadata": {},
   "outputs": [
    {
     "name": "stdout",
     "output_type": "stream",
     "text": [
      "120\n"
     ]
    }
   ],
   "source": [
    "def calcFactorielle(n):\n",
    "    if n == 2:\n",
    "        return 2\n",
    "    else:\n",
    "        temp = calcFactorielle(n-1)\n",
    "        val = temp * n\n",
    "    return val\n",
    "\n",
    "print(calcFactorielle(5))"
   ]
  },
  {
   "cell_type": "code",
   "execution_count": 47,
   "metadata": {},
   "outputs": [
    {
     "name": "stdout",
     "output_type": "stream",
     "text": [
      "78\n"
     ]
    }
   ],
   "source": [
    "def calcPlusGrandCommDiv(a,b):\n",
    "    if b == 0:\n",
    "        return a\n",
    "    else:\n",
    "        temp1 = a % b\n",
    "        temp2 = calcPlusGrandCommDiv(b,temp1)\n",
    "        return temp2\n",
    "\n",
    "print(calcPlusGrandCommDiv(1326,546))\n"
   ]
  },
  {
   "cell_type": "code",
   "execution_count": 54,
   "metadata": {},
   "outputs": [
    {
     "name": "stdout",
     "output_type": "stream",
     "text": [
      "tottottot\n",
      "tottot\n",
      "tot\n",
      "None\n"
     ]
    }
   ],
   "source": [
    "def recur_pyr_inv(n,s):\n",
    "    if n == 1:\n",
    "        print(s)\n",
    "    else:\n",
    "        print(s*n)\n",
    "        recur_pyr_inv(n-1,s)\n",
    "    \n",
    "print(recur_pyr_inv(3,\"tot\"))"
   ]
  },
  {
   "cell_type": "code",
   "execution_count": 58,
   "metadata": {},
   "outputs": [
    {
     "name": "stdout",
     "output_type": "stream",
     "text": [
      "38416\n"
     ]
    }
   ],
   "source": [
    "def puissance(x,n):\n",
    "    if n == 1:\n",
    "        return x\n",
    "    else:\n",
    "        val = puissance(x,n-1) * x\n",
    "    return val\n",
    "\n",
    "print(puissance(14,4))"
   ]
  },
  {
   "cell_type": "code",
   "execution_count": null,
   "metadata": {},
   "outputs": [],
   "source": []
  }
 ],
 "metadata": {
  "kernelspec": {
   "display_name": "Python 3.10.6 64-bit",
   "language": "python",
   "name": "python3"
  },
  "language_info": {
   "codemirror_mode": {
    "name": "ipython",
    "version": 3
   },
   "file_extension": ".py",
   "mimetype": "text/x-python",
   "name": "python",
   "nbconvert_exporter": "python",
   "pygments_lexer": "ipython3",
   "version": "3.10.6"
  },
  "orig_nbformat": 4,
  "vscode": {
   "interpreter": {
    "hash": "916dbcbb3f70747c44a77c7bcd40155683ae19c65e1c03b4aa3499c5328201f1"
   }
  }
 },
 "nbformat": 4,
 "nbformat_minor": 2
}
