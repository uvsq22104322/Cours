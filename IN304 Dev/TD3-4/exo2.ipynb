{
 "cells": [
  {
   "cell_type": "code",
   "execution_count": 2,
   "metadata": {},
   "outputs": [
    {
     "name": "stdout",
     "output_type": "stream",
     "text": [
      "{'nom': 'toto', 'prénom': 'titi', 'age': '20', 'adresse': '404'}\n"
     ]
    }
   ],
   "source": [
    "dico1 = {}\n",
    "dico1 = {   \"nom\":\"toto\",\n",
    "            \"prénom\":\"titi\",\n",
    "            \"age\":\"20\",\n",
    "            \"adresse\":\"404\"\n",
    "        }\n",
    "\n",
    "print(dico1)"
   ]
  },
  {
   "cell_type": "code",
   "execution_count": 3,
   "metadata": {},
   "outputs": [
    {
     "name": "stdout",
     "output_type": "stream",
     "text": [
      "{'nom': 'toto', 'prénom': 'titi', 'age': 25, 'adresse': '404'}\n",
      "{'nom': 'toto', 'prénom': 'titi', 'adresse': '404'}\n"
     ]
    }
   ],
   "source": [
    "dico1[\"age\"] = 25\n",
    "print(dico1)\n",
    "dico1.pop(\"age\")\n",
    "print(dico1)"
   ]
  },
  {
   "cell_type": "code",
   "execution_count": 5,
   "metadata": {},
   "outputs": [
    {
     "name": "stdout",
     "output_type": "stream",
     "text": [
      "toto\n"
     ]
    }
   ],
   "source": [
    "nom = dico1[\"nom\"]\n",
    "print(nom)\n"
   ]
  },
  {
   "cell_type": "code",
   "execution_count": 4,
   "metadata": {},
   "outputs": [
    {
     "name": "stdout",
     "output_type": "stream",
     "text": [
      "True\n",
      "False\n"
     ]
    }
   ],
   "source": [
    "print(\"prénom\" in dico1)\n",
    "print(\"age\" in dico1)\n"
   ]
  },
  {
   "cell_type": "code",
   "execution_count": 6,
   "metadata": {},
   "outputs": [
    {
     "name": "stdout",
     "output_type": "stream",
     "text": [
      "dict_keys(['nom', 'prénom', 'adresse'])\n",
      "dict_values(['toto', 'titi', '404'])\n",
      "dict_items([('nom', 'toto'), ('prénom', 'titi'), ('adresse', '404')])\n"
     ]
    }
   ],
   "source": [
    "print(dico1.keys())\n",
    "print(dico1.values())\n",
    "print(dico1.items())\n"
   ]
  },
  {
   "cell_type": "code",
   "execution_count": 13,
   "metadata": {},
   "outputs": [
    {
     "name": "stdout",
     "output_type": "stream",
     "text": [
      "[2, 0, 7, 3, 6, 4, 1, 3, 2, 8]\n",
      "[-10, -9, -8, -7, -6, -5, -4, -3, -2, -1]\n"
     ]
    }
   ],
   "source": [
    "import random\n",
    "\n",
    "liste1 = [random.randint(0,10) for i in range(10)]\n",
    "liste2neg = [-10+i for i in range(10)]\n",
    "print(liste1)\n",
    "print(liste2neg)"
   ]
  },
  {
   "cell_type": "code",
   "execution_count": 24,
   "metadata": {},
   "outputs": [
    {
     "name": "stdout",
     "output_type": "stream",
     "text": [
      "{'positif': [2, 0, 7, 3, 6, 4, 1, 3, 2, 8, 4], 'negatif': [-10, -9, -8, -7, -6, -5, -4, -3, -2, -1]}\n"
     ]
    }
   ],
   "source": [
    "dico2 = {}\n",
    "dico2[\"positif\"] = liste1\n",
    "dico2[\"negatif\"] = liste2neg\n",
    "\n",
    "print(dico2)"
   ]
  },
  {
   "cell_type": "code",
   "execution_count": 25,
   "metadata": {},
   "outputs": [
    {
     "name": "stdout",
     "output_type": "stream",
     "text": [
      "{'positif': [2, 0, 7, 3, 6, 4, 1, 3, 2, 8, 4, 3], 'negatif': [-10, -9, -8, -7, -6, -5, -4, -3, -2, -1]}\n"
     ]
    }
   ],
   "source": [
    "\n",
    "\n",
    "def entier_al(dico):\n",
    "    val = random.randint(-5,5)\n",
    "    if val < 0:\n",
    "        dico[\"negatif\"].append(val)\n",
    "    else:\n",
    "        dico[\"positif\"].append(val)\n",
    "\n",
    "entier_al(dico2)\n",
    "print(dico2)\n"
   ]
  },
  {
   "cell_type": "code",
   "execution_count": 26,
   "metadata": {},
   "outputs": [
    {
     "name": "stdout",
     "output_type": "stream",
     "text": [
      "{'positif': [4, 0, 49, 9, 36, 16, 1, 9, 4, 64, 16, 9], 'negatif': [-1000, -729, -512, -343, -216, -125, -64, -27, -8, -1]}\n"
     ]
    }
   ],
   "source": [
    "def carre_cube(dico):\n",
    "    dico[\"positif\"] = [i ** 2 for i in dico[\"positif\"]]\n",
    "    dico[\"negatif\"] = [i ** 3 for i in dico[\"negatif\"]]\n",
    "\n",
    "carre_cube(dico2)\n",
    "print(dico2)"
   ]
  },
  {
   "cell_type": "code",
   "execution_count": null,
   "metadata": {},
   "outputs": [],
   "source": []
  }
 ],
 "metadata": {
  "kernelspec": {
   "display_name": "Python 3.10.6 64-bit",
   "language": "python",
   "name": "python3"
  },
  "language_info": {
   "codemirror_mode": {
    "name": "ipython",
    "version": 3
   },
   "file_extension": ".py",
   "mimetype": "text/x-python",
   "name": "python",
   "nbconvert_exporter": "python",
   "pygments_lexer": "ipython3",
   "version": "3.10.6"
  },
  "orig_nbformat": 4,
  "vscode": {
   "interpreter": {
    "hash": "916dbcbb3f70747c44a77c7bcd40155683ae19c65e1c03b4aa3499c5328201f1"
   }
  }
 },
 "nbformat": 4,
 "nbformat_minor": 2
}
