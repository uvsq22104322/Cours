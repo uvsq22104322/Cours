{
 "cells": [
  {
   "cell_type": "code",
   "execution_count": 3,
   "metadata": {},
   "outputs": [
    {
     "name": "stdout",
     "output_type": "stream",
     "text": [
      "{'a': 2, 'n': 2, 't': 3, 'i': 2, 'p': 1, 's': 2, 'c': 1, 'o': 1, 'u': 1}\n"
     ]
    }
   ],
   "source": [
    "def occurence(chaine):\n",
    "    dico = dict()\n",
    "    for character in chaine:\n",
    "        dico[character] = chaine.count(character)\n",
    "    return dico\n",
    "\n",
    "\n",
    "print(occurence(\"antipasconstitu\"))"
   ]
  },
  {
   "cell_type": "code",
   "execution_count": 4,
   "metadata": {},
   "outputs": [
    {
     "name": "stdout",
     "output_type": "stream",
     "text": [
      "['robb', 'rickon', 'rorbert', 'renly']\n"
     ]
    }
   ],
   "source": [
    "liste_noms = ['eddard', 'catelyn', 'robb', 'sansa', 'arya', 'brandon', 'rickon', 'theon', 'rorbert', 'cersei', 'tywin',\n",
    "'jaime', 'tyrion', 'shae', 'bronn', 'lancel', 'joffrey', 'sandor', 'varys', 'renly']\n",
    "\n",
    "def mots_position1(liste,let,pos):\n",
    "    liste_let = []\n",
    "    for mot in liste_noms:\n",
    "        if mot[pos] == let:\n",
    "            liste_let.append(mot)\n",
    "    return liste_let\n",
    "\n",
    "print(mots_position1(liste_noms,\"r\",0))"
   ]
  },
  {
   "cell_type": "code",
   "execution_count": 7,
   "metadata": {},
   "outputs": [
    {
     "name": "stdout",
     "output_type": "stream",
     "text": [
      "['catelyn', 'sansa', 'jaime', 'lancel', 'sandor', 'varys']\n"
     ]
    }
   ],
   "source": [
    "def mots_position2(liste,let,pos):\n",
    "    liste_let2 = [i for i in liste if i[pos] == let]\n",
    "    return liste_let2\n",
    "\n",
    "print(mots_position2(liste_noms,\"a\",1))"
   ]
  },
  {
   "cell_type": "code",
   "execution_count": null,
   "metadata": {},
   "outputs": [],
   "source": []
  }
 ],
 "metadata": {
  "kernelspec": {
   "display_name": "Python 3.10.6 64-bit",
   "language": "python",
   "name": "python3"
  },
  "language_info": {
   "codemirror_mode": {
    "name": "ipython",
    "version": 3
   },
   "file_extension": ".py",
   "mimetype": "text/x-python",
   "name": "python",
   "nbconvert_exporter": "python",
   "pygments_lexer": "ipython3",
   "version": "3.10.6"
  },
  "orig_nbformat": 4,
  "vscode": {
   "interpreter": {
    "hash": "916dbcbb3f70747c44a77c7bcd40155683ae19c65e1c03b4aa3499c5328201f1"
   }
  }
 },
 "nbformat": 4,
 "nbformat_minor": 2
}
