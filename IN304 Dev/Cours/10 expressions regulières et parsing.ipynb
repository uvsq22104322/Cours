{
 "cells": [
  {
   "cell_type": "markdown",
   "id": "89c70f35",
   "metadata": {},
   "source": [
    "# Expressions régulières et parsing"
   ]
  },
  {
   "cell_type": "markdown",
   "id": "b3a91cf5",
   "metadata": {},
   "source": [
    "# Table of Contents\n",
    "- [Définition et syntaxe](#Définition-et-syntaxe)\n",
    "- [Le module re](#Le-module-re)\n",
    "    - [La fonction search()](#La-fonction-search())\n",
    "    - [Les fonctions match() et fullmatch()](#Les-fonctions-match()-et-fullmatch())\n",
    "    - [Compilation d’expressions régulières](#Compilation-d’expressions-régulières)\n",
    "    - [Groupes](#Groupes)\n",
    "    - [La méthode .findall()](#La-méthode-.findall())\n",
    "    - [La méthode .sub()](#La-méthode-.sub())\n",
    "- [Exercices](#Exercices)\n",
    "    - [Exercice 1](#Exercice-1:)\n",
    "    - [Exercice 2](#Exercice-2:)\n",
    "    - [Exercice 3](#Exercice-3:)\n",
    "    - [Exercice 4](#Exercice-4:)\n",
    "   "
   ]
  },
  {
   "cell_type": "markdown",
   "id": "0a9b7856",
   "metadata": {},
   "source": [
    "Le module `re` permet d’utiliser des expressions régulières avec Python.\n",
    "\n",
    "Les expressions régulières sont aussi appelées en anglais `regular expression` ou en plus court `regex`. \n",
    "\n",
    "Les expressions régulières sont puissantes et incontournables, spécialement lorsque vous souhaitez récupérer des informations dans de gros fichiers.\n",
    "\n",
    "Cette action de recherche de données dans un fichier est appelée plus généralement ***parsing*** (qui signifie littéralement « analyse syntaxique »). "
   ]
  },
  {
   "cell_type": "markdown",
   "id": "33cce307",
   "metadata": {},
   "source": [
    "## Définition et syntaxe"
   ]
  },
  {
   "cell_type": "markdown",
   "id": "b2b4e952",
   "metadata": {},
   "source": [
    "Une expression régulière est une suite de caractères qui a pour but de décrire un fragment de texte. \n",
    "\n",
    "Cette suite de caractères est encore appelée `motif` (en anglais `pattern`), qui est constitué de deux types de caractères :\n",
    "* Les caractères dits normaux.\n",
    "* Les métacaractères ayant une signification particulière, par exemple le caractère `ˆ` signifie début de ligne et non pas le caractère « chapeau » littéral.\n",
    "\n",
    "Avant de présenter les `regex` en Python, nous allons faire un petit détour par *Unix*. \n",
    "En effet, certains programmes comme `egrep`, `sed` ou encore `awk` savent interpréter les expressions régulières. Tous ces programmes fonctionnent généralement selon le schéma suivant :\n",
    "* Le programme lit un fichier ligne par ligne.\n",
    "* Pour chaque ligne lue, si l’expression régulière passée en argument est retrouvée dans la ligne, alors le programme effectue une action.\n",
    "\n",
    "Par exemple, pour le programme egrep :\n",
    "```\n",
    "$ egrep \"^DEF\" herp_virus.gbk\n",
    "DEFINITION Human herpesvirus 2, complete genome\n",
    "```\n",
    "\n",
    "Ici, `egrep` affiche toutes les lignes du fichier du virus de l’herpès (herp_virus.gbk) dans lesquelles la *regex ˆDEF* (c’est-à-dire le mot DEF en début de ligne) est retrouvée.\n",
    "\n",
    "Après avoir introduit le vocabulaire des `regex`, voici quelques éléments de syntaxe des métacaractères :\n",
    "```\n",
    "ˆ Début de chaîne de caractères ou de ligne.\n",
    "    Exemple : la regex ˆATG est retrouvée dans la chaîne de caractères ATGCGT mais pas dans la chaîne CCATGTT.\n",
    "$ Fin de chaîne de caractères ou de ligne.\n",
    "    Exemple : la regex ATG$ est retrouvée dans la chaîne de caractères TGCATG mais pas dans la chaîne CCATGTT.\n",
    ". N’importe quel caractère (mais un caractère quand même).\n",
    "    Exemple : la regex A.G est retrouvée dans ATG, AtG, A4G, mais aussi dans A-G ou dans A G.\n",
    "[ABC] Le caractère A ou B ou C (un seul caractère).\n",
    "    Exemple : la regex T[ABC]G est retrouvée dans TAG, TBG ou TCG, mais pas dans TG.\n",
    "[A-Z] N’importe quelle lettre majuscule.\n",
    "    Exemple : la regex C[A-Z]T est retrouvée dans CAT, CBT, CCT...\n",
    "[a-z] N’importe quelle lettre minuscule.\n",
    "[0-9] N’importe quel chiffre.\n",
    "[A-Za-z0-9] N’importe quel caractère alphanumérique. \n",
    "[ˆAB] N’importe quel caractère sauf A et B.\n",
    "    Exemple : la regex CG[ˆAB]T est retrouvée dans CG9T, CGCT. . . mais pas dans CGAT ni dans CGBT. \n",
    "\\ Caractère d’échappement (pour protéger certains caractères).\n",
    "    Exemple : la regex \\+ désigne le caractère + littéral. La regex A\\.G est retrouvée dans A.G et non pas dans A suivi de n’importe quel caractère, suivi de G.\n",
    "* 0 à n fois le caractère précédent ou l’expression entre parenthèses précédente. \n",
    "    Exemple : la regex A(CG)*T est retrouvée dans AT, ACGT, ACGCGT...\n",
    "+ 1 à n fois le caractère précédent ou l’expression entre parenthèses précédente. \n",
    "    Exemple : la regex A(CG)+T est retrouvée dans ACGT, ACGCGT. . . mais pas dans AT.\n",
    "? 0 à 1 fois le caractère précédent ou l’expression entre parenthèses précédente. \n",
    "    Exemple : la regex A(CG)?T est retrouvée dans AT ou ACGT.\n",
    "{n} n fois le caractère précédent ou l’expression entre parenthèses précédente.\n",
    "    Exemple : la regex A(CG){2}T est retrouvée dans ACGCGT mais pas dans ACGT, ACGCGCGT ou ACGCG.\n",
    "{n,m} n à m fois le caractère précédent ou l’expression entre parenthèses précédente.\n",
    "    Exemple : la regex A(C){2,4}T est retrouvée dans ACCT, ACCCT et ACCCCT mais pas dans ACT, ACCCCCT ou ACCC.\n",
    "{n,} Au moins n fois le caractère précédent ou l’expression entre parenthèses précédente.\n",
    "    Exemple : la regex A(C){2,}T est retrouvée dans ACCT, ACCCT et ACCCCT mais pas à ACT ou ACCC.\n",
    "{,m} Au plus m fois le caractère précédent ou l’expression entre parenthèses précédente.\n",
    "    Exemple : la regex A(C){,2}T est retrouvée dans AT, ACT et ACCT mais pas dans ACCCT ou ACC.\n",
    "(CG|TT) Les chaînes de caractères CG ou TT.\n",
    "    Exemple : la regex A(CG|TT)C est retrouvée dans ACGC ou ATTC.\n",
    "```\n",
    "\n",
    "Enfin, il existe des caractères spéciaux qui sont bien commodes et qui peuvent être utilisés en tant que métacaractères :\n",
    "```\n",
    "\\d remplace n’importe quel chiffre (d signifie digit), équivalent à [0-9].\n",
    "\\w remplace n’importe quel caractère alphanumérique et le caractère souligné (underscore) (w signifie word character), équivalent à [0-9A-Za-z_].\n",
    "\\s remplace n’importe quel « espace blanc » (whitespace) (s signifie space), équivalent à [ \\t\\n\\r\\f]. Les espaces blancs les plus classiques sont l’espace , la tabulation \\t, le retour à la ligne \\n, mais il en existe d’autres comme \\r et \\f. \\s est très pratique pour détecter une combinaison d’espace(s) et/ou de tabulation(s).\n",
    "\n",
    "```\n",
    "\n",
    "> Il est important de savoir par ailleurs que les regex sont « avides » (greedy en anglais) lorsqu’on utilise les métacaractères + et *. C’est-à-dire que la regex cherchera à « s’étendre » au maximum. Par exemple, si on utilise la regex A+ pour faire une recherche dans la chaîne TTTAAAAAAAAGC, tous les A de cette chaîne (8 en tout) seront concernés, bien que AA, AAA, etc. « fonctionnent » également avec cette regex."
   ]
  },
  {
   "cell_type": "markdown",
   "id": "ba0d6fc5",
   "metadata": {},
   "source": [
    "## Le module re"
   ]
  },
  {
   "cell_type": "markdown",
   "id": "1284399e",
   "metadata": {},
   "source": [
    "### La fonction search()"
   ]
  },
  {
   "cell_type": "markdown",
   "id": "dc6c23f0",
   "metadata": {},
   "source": [
    "Dans le module `re`, la fonction `search()` est incontournable. Elle permet de rechercher un motif, c’est-à-dire une `regex`, au sein d’une chaîne de caractères avec une syntaxe de la forme: \n",
    "\n",
    "`search(motif, chaine)`\n",
    "\n",
    "Si *motif* est retrouvé dans *chaine*, Python renvoie un objet du type `SRE_Match`. Sans entrer dans les détails propres au langage orienté objet, si on utilise un objet du type SRE_Match dans un test, il sera considéré comme vrai.\n",
    "\n",
    "Dans cet exemple dans lequel on va rechercher le motif `\"tigre\"` dans la chaîne de caractères `\"girafe tigre singe\"` :"
   ]
  },
  {
   "cell_type": "code",
   "execution_count": 5,
   "id": "08e90649",
   "metadata": {},
   "outputs": [
    {
     "data": {
      "text/plain": [
       "<re.Match object; span=(7, 12), match='tigre'>"
      ]
     },
     "execution_count": 5,
     "metadata": {},
     "output_type": "execute_result"
    }
   ],
   "source": [
    "import re\n",
    "animaux = \"girafe tigre singe\"\n",
    "re.search(\"tigre\", animaux)"
   ]
  },
  {
   "cell_type": "code",
   "execution_count": 3,
   "id": "77ba0f66",
   "metadata": {},
   "outputs": [
    {
     "name": "stdout",
     "output_type": "stream",
     "text": [
      "OK\n"
     ]
    }
   ],
   "source": [
    "if re.search(\"tigre\", animaux):\n",
    "    print(\"OK\")"
   ]
  },
  {
   "cell_type": "markdown",
   "id": "8d0b56bd",
   "metadata": {},
   "source": [
    "> Le motif que vous utilisez comme premier argument de la fonction search() sera interprété en tant que regex. Ainsi, ˆDEF correspondra au mot DEF en début de chaîne et pas au caractère littéral ˆsuivi du mot DEF."
   ]
  },
  {
   "cell_type": "markdown",
   "id": "3ca585ae",
   "metadata": {},
   "source": [
    "### Les fonctions match() et fullmatch()"
   ]
  },
  {
   "cell_type": "markdown",
   "id": "a3271d37",
   "metadata": {},
   "source": [
    "Il existe aussi la fonction `match()` dans le module `re` qui fonctionne sur le modèle de `search()`. La différence est qu’elle renvoie un objet du type SRE_Match seulement lorsque la regex correspond au début de la chaîne de caractères (à partir du premier caractère)."
   ]
  },
  {
   "cell_type": "code",
   "execution_count": 6,
   "id": "bfc97fae",
   "metadata": {},
   "outputs": [
    {
     "data": {
      "text/plain": [
       "<re.Match object; span=(7, 12), match='tigre'>"
      ]
     },
     "execution_count": 6,
     "metadata": {},
     "output_type": "execute_result"
    }
   ],
   "source": [
    "animaux = \"girafe tigre singe\"\n",
    "re.search(\"tigre\", animaux)"
   ]
  },
  {
   "cell_type": "code",
   "execution_count": 7,
   "id": "e2213fd0",
   "metadata": {},
   "outputs": [],
   "source": [
    "re.match(\"tigre\", animaux)"
   ]
  },
  {
   "cell_type": "code",
   "execution_count": 9,
   "id": "fd74bd82",
   "metadata": {},
   "outputs": [
    {
     "data": {
      "text/plain": [
       "<re.Match object; span=(0, 5), match='tigre'>"
      ]
     },
     "execution_count": 9,
     "metadata": {},
     "output_type": "execute_result"
    }
   ],
   "source": [
    "animaux = \"tigre singe\"\n",
    "re.match(\"tigre\", animaux)"
   ]
  },
  {
   "cell_type": "markdown",
   "id": "2ad7a09c",
   "metadata": {},
   "source": [
    "Il existe également la fonction `fullmatch()` qui renvoie un objet du type `SRE_Match` si et seulement si l’expression régulière correspond exactement à la chaîne de caractères."
   ]
  },
  {
   "cell_type": "code",
   "execution_count": 10,
   "id": "9e045381",
   "metadata": {},
   "outputs": [],
   "source": [
    "animaux = \"tigre \"\n",
    "re.fullmatch(\"tigre\", animaux)"
   ]
  },
  {
   "cell_type": "code",
   "execution_count": 11,
   "id": "581c29f4",
   "metadata": {},
   "outputs": [
    {
     "data": {
      "text/plain": [
       "<re.Match object; span=(0, 5), match='tigre'>"
      ]
     },
     "execution_count": 11,
     "metadata": {},
     "output_type": "execute_result"
    }
   ],
   "source": [
    "animaux = \"tigre\"\n",
    "re.fullmatch(\"tigre\", animaux)"
   ]
  },
  {
   "cell_type": "markdown",
   "id": "2b12a24f",
   "metadata": {},
   "source": [
    "> De manière générale, nous recommandons l’usage de la fonction `search()`. Si vous souhaitez avoir une correspondance avec le début de la chaîne de caractères comme dans la fonction `match()`, vous pouvez toujours utiliser l’accroche de début de ligne `ˆ`.\n",
    "Si vous voulez une correspondance exacte comme dans la fonction `fullmatch()`, vous pouvez utiliser les métacaractères `ˆ` et `$`, par exemple `ˆtigre$`"
   ]
  },
  {
   "cell_type": "markdown",
   "id": "536bcf3b",
   "metadata": {},
   "source": [
    "### Compilation d’expressions régulières"
   ]
  },
  {
   "cell_type": "markdown",
   "id": "38177bc5",
   "metadata": {},
   "source": [
    "Lorsqu’on a besoin de tester la même expression régulière sur plusieurs milliers de chaînes de caractères, il est pratique de compiler préalablement la `regex` à l’aide de la fonction `compile()` qui renvoie un objet de type `SRE_Pattern` :"
   ]
  },
  {
   "cell_type": "code",
   "execution_count": 12,
   "id": "1ca533f3",
   "metadata": {},
   "outputs": [
    {
     "data": {
      "text/plain": [
       "re.compile(r'^tigre', re.UNICODE)"
      ]
     },
     "execution_count": 12,
     "metadata": {},
     "output_type": "execute_result"
    }
   ],
   "source": [
    "regex = re.compile(\"^tigre\")\n",
    "regex"
   ]
  },
  {
   "cell_type": "markdown",
   "id": "a6703901",
   "metadata": {},
   "source": [
    "On peut alors utiliser directement cet objet avec la méthode `.search()` :"
   ]
  },
  {
   "cell_type": "code",
   "execution_count": 13,
   "id": "7815e697",
   "metadata": {},
   "outputs": [],
   "source": [
    "animaux = \"girafe tigre singe\"\n",
    "regex.search(animaux)"
   ]
  },
  {
   "cell_type": "code",
   "execution_count": 14,
   "id": "49799ab1",
   "metadata": {},
   "outputs": [
    {
     "data": {
      "text/plain": [
       "<re.Match object; span=(0, 5), match='tigre'>"
      ]
     },
     "execution_count": 14,
     "metadata": {},
     "output_type": "execute_result"
    }
   ],
   "source": [
    "animaux = \"tigre singe\"\n",
    "regex.search(animaux)"
   ]
  },
  {
   "cell_type": "code",
   "execution_count": 15,
   "id": "5df8ec11",
   "metadata": {},
   "outputs": [],
   "source": [
    "animaux = \"singe tigre\"\n",
    "regex.search(animaux)"
   ]
  },
  {
   "cell_type": "markdown",
   "id": "80a96b15",
   "metadata": {},
   "source": [
    "### Groupes"
   ]
  },
  {
   "cell_type": "markdown",
   "id": "93d4497e",
   "metadata": {},
   "source": [
    "\n",
    "L’intérêt de l’objet de type `SRE_Match` renvoyé par Python lorsqu’une regex trouve une correspondance dans une chaîne de caractères est de pouvoir ensuite récupérer certaines zones précises :"
   ]
  },
  {
   "cell_type": "code",
   "execution_count": 17,
   "id": "652dcedb",
   "metadata": {},
   "outputs": [],
   "source": [
    "regex = re.compile(\"([0-9]+)\\.([0-9]+)\")"
   ]
  },
  {
   "cell_type": "markdown",
   "id": "fc6e0601",
   "metadata": {},
   "source": [
    "Dans cet exemple, on recherche un nombre décimal, c’est-à-dire une chaîne de caractères :\n",
    "* qui débute par un ou plusieurs chiffres [0-9]+,\n",
    "* suivi d’un point \\. (le point a d’habitude une signification de métacaractère, donc il faut l’échapper avec \\ pour qu’il\n",
    "retrouve sa signification de point),\n",
    "* et qui se termine encore par un ou plusieurs chiffres [0-9]+.\n",
    "\n",
    "Les parenthèses dans la regex créent des groupes ([0-9]+ deux fois) qui seront récupérés ultérieurement par la méthode\n",
    ".group().\n"
   ]
  },
  {
   "cell_type": "code",
   "execution_count": 19,
   "id": "88129399",
   "metadata": {},
   "outputs": [
    {
     "data": {
      "text/plain": [
       "'3.14'"
      ]
     },
     "execution_count": 19,
     "metadata": {},
     "output_type": "execute_result"
    }
   ],
   "source": [
    "resultat = regex.search(\"pi vaut 3.14\")\n",
    "resultat.group(0)"
   ]
  },
  {
   "cell_type": "code",
   "execution_count": 20,
   "id": "d8e518ee",
   "metadata": {},
   "outputs": [
    {
     "data": {
      "text/plain": [
       "'3'"
      ]
     },
     "execution_count": 20,
     "metadata": {},
     "output_type": "execute_result"
    }
   ],
   "source": [
    "resultat.group(1)"
   ]
  },
  {
   "cell_type": "code",
   "execution_count": 21,
   "id": "2847c5e9",
   "metadata": {},
   "outputs": [
    {
     "data": {
      "text/plain": [
       "'14'"
      ]
     },
     "execution_count": 21,
     "metadata": {},
     "output_type": "execute_result"
    }
   ],
   "source": [
    "resultat.group(2)"
   ]
  },
  {
   "cell_type": "code",
   "execution_count": 22,
   "id": "e62eb369",
   "metadata": {},
   "outputs": [
    {
     "data": {
      "text/plain": [
       "8"
      ]
     },
     "execution_count": 22,
     "metadata": {},
     "output_type": "execute_result"
    }
   ],
   "source": [
    "resultat.start()"
   ]
  },
  {
   "cell_type": "code",
   "execution_count": 23,
   "id": "a98564c9",
   "metadata": {},
   "outputs": [
    {
     "data": {
      "text/plain": [
       "12"
      ]
     },
     "execution_count": 23,
     "metadata": {},
     "output_type": "execute_result"
    }
   ],
   "source": [
    "resultat.end()"
   ]
  },
  {
   "cell_type": "markdown",
   "id": "a8fb8dcb",
   "metadata": {},
   "source": [
    "La totalité de la correspondance est donnée par `.group(0)`, le premier élément entre parenthèses est donné par `.group(1)` et le second par `.group(2)`.\n",
    "\n",
    "Les méthodes `.start()` et `.end()` donnent respectivement la position de début et de fin de la zone qui correspond à la `regex`. Notez que la méthode `.search()` ne renvoie que la première zone qui correspond à l’expression régulière, même s’il en existe plusieurs :"
   ]
  },
  {
   "cell_type": "code",
   "execution_count": 24,
   "id": "bb6a7b9f",
   "metadata": {},
   "outputs": [
    {
     "data": {
      "text/plain": [
       "'3.14'"
      ]
     },
     "execution_count": 24,
     "metadata": {},
     "output_type": "execute_result"
    }
   ],
   "source": [
    "resultat = regex.search(\"pi vaut 3.14 et e vaut 2.72\")\n",
    "resultat.group(0)"
   ]
  },
  {
   "cell_type": "markdown",
   "id": "d59cd395",
   "metadata": {},
   "source": [
    "### La méthode .findall()"
   ]
  },
  {
   "cell_type": "markdown",
   "id": "2e4ef271",
   "metadata": {},
   "source": [
    "Pour récupérer chaque zone, s’il y en a plusieurs, vous pouvez utiliser la méthode .findall() qui renvoie une liste des éléments en correspondance."
   ]
  },
  {
   "cell_type": "code",
   "execution_count": 25,
   "id": "c976a5a8",
   "metadata": {},
   "outputs": [
    {
     "data": {
      "text/plain": [
       "['3.14', '2.72']"
      ]
     },
     "execution_count": 25,
     "metadata": {},
     "output_type": "execute_result"
    }
   ],
   "source": [
    "regex = re.compile(\"[0-9]+\\.[0-9]+\")\n",
    "resultat = regex.findall(\"pi vaut 3.14 et e vaut 2.72\")\n",
    "resultat"
   ]
  },
  {
   "cell_type": "markdown",
   "id": "089e4c90",
   "metadata": {},
   "source": [
    "L’utilisation des groupes entre parenthèses est également possible et ceux-ci sont alors renvoyés sous la forme de tuples."
   ]
  },
  {
   "cell_type": "code",
   "execution_count": 26,
   "id": "916ec290",
   "metadata": {},
   "outputs": [
    {
     "data": {
      "text/plain": [
       "[('3', '14'), ('2', '72')]"
      ]
     },
     "execution_count": 26,
     "metadata": {},
     "output_type": "execute_result"
    }
   ],
   "source": [
    "regex = re.compile(\"([0-9]+)\\.([0-9]+)\")\n",
    "resultat = regex.findall(\"pi vaut 3.14 et e vaut 2.72\")\n",
    "resultat"
   ]
  },
  {
   "cell_type": "markdown",
   "id": "d563db88",
   "metadata": {},
   "source": [
    "### La méthode .sub()"
   ]
  },
  {
   "cell_type": "markdown",
   "id": "05ce0132",
   "metadata": {},
   "source": [
    "Enfin, la méthode `.sub()` permet d’effectuer des remplacements assez puissants. Par défaut la méthode `.sub(chaine1, chaine2)` remplace toutes les occurrences trouvées par l’expression régulière dans `chaine2` par `chaine1`. Si vous souhaitez ne remplacer que les n premières occurrences, utilisez l’argument `count=n` :"
   ]
  },
  {
   "cell_type": "code",
   "execution_count": 27,
   "id": "95078e4a",
   "metadata": {},
   "outputs": [
    {
     "data": {
      "text/plain": [
       "'pi vaut quelque chose et e vaut quelque chose'"
      ]
     },
     "execution_count": 27,
     "metadata": {},
     "output_type": "execute_result"
    }
   ],
   "source": [
    "regex = re.compile(\"[0-9]+\\.[0-9]+\")\n",
    "regex.sub(\"quelque chose\", \"pi vaut 3.14 et e vaut 2.72\")"
   ]
  },
  {
   "cell_type": "code",
   "execution_count": 28,
   "id": "70c9a991",
   "metadata": {},
   "outputs": [
    {
     "data": {
      "text/plain": [
       "'pi vaut quelque chose et e vaut 2.72'"
      ]
     },
     "execution_count": 28,
     "metadata": {},
     "output_type": "execute_result"
    }
   ],
   "source": [
    "regex.sub(\"quelque chose\", \"pi vaut 3.14 et e vaut 2.72\", count=1)"
   ]
  },
  {
   "cell_type": "markdown",
   "id": "de3ad8ee",
   "metadata": {},
   "source": [
    "Encore plus puissant, il est possible d’utiliser dans le remplacement des groupes qui ont été « capturés » avec des parenthèses."
   ]
  },
  {
   "cell_type": "code",
   "execution_count": 29,
   "id": "7d0abe3e",
   "metadata": {},
   "outputs": [
    {
     "data": {
      "text/plain": [
       "'pi vaut approximativement 3 et e vaut approximativement 2'"
      ]
     },
     "execution_count": 29,
     "metadata": {},
     "output_type": "execute_result"
    }
   ],
   "source": [
    "regex = re.compile(\"([0-9]+)\\.([0-9]+)\")\n",
    "phrase = \"pi vaut 3.14 et e vaut 2.72\"\n",
    "regex.sub(\"approximativement \\\\1\", phrase)"
   ]
  },
  {
   "cell_type": "code",
   "execution_count": 30,
   "id": "99b36885",
   "metadata": {},
   "outputs": [
    {
     "data": {
      "text/plain": [
       "'pi vaut approximativement 3 (puis .14) et e vaut approximativement 2 (puis .72)'"
      ]
     },
     "execution_count": 30,
     "metadata": {},
     "output_type": "execute_result"
    }
   ],
   "source": [
    "regex.sub(\"approximativement \\\\1 (puis .\\\\2)\",phrase)"
   ]
  },
  {
   "cell_type": "markdown",
   "id": "deb6b27e",
   "metadata": {},
   "source": [
    "Si vous avez capturé des groupes, il suffit d’utiliser `\\\\1`, `\\\\2` (etc.) pour utiliser les groupes correspondants dans la chaîne de caractères substituée. On notera que la syntaxe générale pour récupérer des groupes dans les outils qui gèrent les regex est `\\1`, `\\2`, etc. Toutefois, Python nous oblige à mettre un deuxième backslash car il y a ici deux niveaux :\n",
    "* un premier niveau Python où on veut mettre un backslash littéral (donc `\\\\`), \n",
    "* puis un second niveau regex dans lequel on veut retrouver `\\1`. \n",
    "\n",
    "Si cela est confus, retenez seulement qu’il faut mettre un `\\\\` devant le numéro de groupe.\n",
    "\n",
    "Enfin, sachez que la réutilisation d’un groupe précédemment capturé est aussi utilisable lors d’une utilisation classique de regex. Par exemple :"
   ]
  },
  {
   "cell_type": "code",
   "execution_count": 31,
   "id": "a51dac45",
   "metadata": {},
   "outputs": [
    {
     "data": {
      "text/plain": [
       "<re.Match object; span=(9, 15), match='panpan'>"
      ]
     },
     "execution_count": 31,
     "metadata": {},
     "output_type": "execute_result"
    }
   ],
   "source": [
    "re.search(\"(pan)\\\\1\", \"bambi et panpan\")"
   ]
  },
  {
   "cell_type": "code",
   "execution_count": 32,
   "id": "d86d6f02",
   "metadata": {},
   "outputs": [],
   "source": [
    "re.search(\"(pan)\\\\1\", \"le pistolet a fait pan !\")"
   ]
  },
  {
   "cell_type": "markdown",
   "id": "fa2ff3d8",
   "metadata": {},
   "source": [
    "Dans la regex `(pan)\\\\1`, on capture d’abord le groupe (pan) grâce aux parenthèses (il s’agit du groupe 1 puisque c’est le premier jeu de parenthèses), immédiatement suivi du même groupe grâce au `\\\\1`. Dans cet exemple, on capture donc le mot `panpan`. Si, par contre, on a une seule occurrence du mot `pan`, cette regex ne fonctionne pas.\n",
    "\n",
    "Bien sûr, si on avait eu un deuxième groupe, on aurait pu le réutiliser avec `\\\\2`, un troisième groupe avec `\\\\3`, etc."
   ]
  },
  {
   "cell_type": "markdown",
   "id": "bba2d713",
   "metadata": {},
   "source": [
    "## Exercices"
   ]
  },
  {
   "cell_type": "markdown",
   "id": "826d9415",
   "metadata": {},
   "source": [
    "### Exercice 1: \n",
    "\n",
    "Le fichier `cigale_fourmi.tx` contient le célèbre poème de Jean de la Fontaine. Malheureusement, la personne qui l’a recopié a parfois mis plusieurs espaces au lieu d’un seul entre les mots.\n",
    "\n",
    "Créez un script `cigale_fourmi.py` qui grâce à une regex et à la fonction sub() remplace plusieurs espaces par un seul espace dans le texte. Le nouveau texte « propre » sera enregistré dans un fichier `cigale_fourmi_propre.txt`\n"
   ]
  },
  {
   "cell_type": "markdown",
   "id": "6f7577dc",
   "metadata": {},
   "source": [
    "### Exercice 2: \n",
    "\n",
    "Dans cet exercice, nous allons manipuler le fichier `GenBank NC_001133.gb` correspondant au chromosome `I` de la *levure Saccharomyces cerevisiae*.\n",
    "Créez un script `regex_genbank.py` :\n",
    "* qui recherche le mot DEFINITION en début de ligne dans le fichier GenBank, puis affiche la ligne correspondante ;\n",
    "* qui recherche tous les journaux (mot-clé JOURNAL) dans lesquels ont été publiés les travaux sur cette séquence, puis affiche les lignes correspondantes. \n",
    "\n",
    "Conseils :\n",
    "> Vous utiliserez des regex pour trouver les lignes demandées."
   ]
  },
  {
   "cell_type": "markdown",
   "id": "40ebe5a6",
   "metadata": {},
   "source": [
    "### Exercice 3: \n",
    "\n",
    "Dans cet exercice, nous allons manipuler le fichier `breves_doublons.txt` qui contient des mots répétés deux fois. Par exemple :\n",
    "\n",
    "```\n",
    "Le cinéma est devenu parlant, la radio radio finira en images\n",
    "La sardine, c'est un petit petit poisson sans tête qui vit dans l'huile\n",
    "```\n",
    "Écrivez un script ```ote_doublons.p``` qui lit le fichier `breves_doublons.tx` et qui supprime tous les doublons à l’aide d’une regex. Le script affichera le nouveau texte à l’écran.\n",
    "\n",
    "> Conseil : utilisez la méthode .sub()."
   ]
  },
  {
   "cell_type": "markdown",
   "id": "50a817b3",
   "metadata": {},
   "source": [
    "### Exercice 4: \n",
    "\n",
    "Le format HTML permet d’afficher des pages web dans un navigateur. Il s’agit d’un langage à balise qui fonctionne avec des balises ouvrantes <balise> et des balises fermantes </balise>.\n",
    "\n",
    "Créez un script `dehtmliseur.py` qui lit le fichier `fichier_a_dehtmliser.html` au format HTML et qui renvoie à l’écran tout le texte de ce fichier sans les balises HTML.\n",
    "\n",
    "> Nous vous conseillons tout d’abord d’ouvrir le fichier HTML dans un éditeur de texte et de bien l’observer.\n"
   ]
  },
  {
   "cell_type": "code",
   "execution_count": null,
   "id": "2b8666c8",
   "metadata": {},
   "outputs": [],
   "source": []
  }
 ],
 "metadata": {
  "celltoolbar": "Slideshow",
  "kernelspec": {
   "display_name": "Python 3.10.6 64-bit",
   "language": "python",
   "name": "python3"
  },
  "language_info": {
   "codemirror_mode": {
    "name": "ipython",
    "version": 3
   },
   "file_extension": ".py",
   "mimetype": "text/x-python",
   "name": "python",
   "nbconvert_exporter": "python",
   "pygments_lexer": "ipython3",
   "version": "3.10.6"
  },
  "vscode": {
   "interpreter": {
    "hash": "916dbcbb3f70747c44a77c7bcd40155683ae19c65e1c03b4aa3499c5328201f1"
   }
  }
 },
 "nbformat": 4,
 "nbformat_minor": 5
}
