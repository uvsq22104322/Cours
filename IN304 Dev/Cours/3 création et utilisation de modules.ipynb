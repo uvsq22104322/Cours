{
 "cells": [
  {
   "cell_type": "markdown",
   "id": "a203b264",
   "metadata": {
    "slideshow": {
     "slide_type": "slide"
    }
   },
   "source": [
    "# Modules: Création et Utilisation de Modules en Python"
   ]
  },
  {
   "cell_type": "markdown",
   "id": "b3a91cf5",
   "metadata": {},
   "source": [
    "# Table of Contents\n",
    "- [Modules](#Modules)\n",
    "  - [Définition](#Définition)\n",
    "  - [Importation de modules](#Importation-de-modules)\n",
    "  - [Obtenir de l’aide sur les modules importés](#Obtenir-de-l’aide-sur-les-modules-importés)\n",
    "  - [Quelques modules courants](#Quelques-modules-courants)\n",
    "  - [Module random : génération de nombres aléatoires](#Module-random-:-génération-de-nombres-aléatoires)\n",
    "  - [Module sys : passage d’arguments](#Module-sys-:-passage-d’arguments)\n",
    "  - [Module os : interaction avec le système d’exploitation](#Module-os-:-interaction-avec-le-système-d’exploitation)\n",
    "- [Création de modules](#Création-de-modules)\n",
    "  - [Pourquoi créer ses propres modules ?](#Pourquoi-créer-ses-propres-modules-?)\n",
    "  - [Création de son propore module](#Création-de-son-propore-module)\n",
    "  - [Utilisation de son propre module](#Utilisation-de-son-propre-module)\n",
    "  - [Les docstrings](#Les-docstrings)\n",
    "  - [Visibilité des fonctions dans un module](#Visibilité-des-fonctions-dans-un-module)\n",
    "  - [Module ou script ?](#Module-ou-script-?)\n",
    "- [Exercices](#Exercices)\n",
    "   "
   ]
  },
  {
   "cell_type": "markdown",
   "id": "a228e8cd",
   "metadata": {
    "slideshow": {
     "slide_type": "slide"
    }
   },
   "source": [
    "## Modules"
   ]
  },
  {
   "cell_type": "markdown",
   "id": "958a4d5d",
   "metadata": {
    "slideshow": {
     "slide_type": "slide"
    }
   },
   "source": [
    "### Définition"
   ]
  },
  {
   "cell_type": "markdown",
   "id": "9ecb5382",
   "metadata": {
    "slideshow": {
     "slide_type": "slide"
    }
   },
   "source": [
    "* Les **modules** sont des programmes Python qui contiennent des *fonctions* que l’on est amené à réutiliser souvent \n",
    "* On les appelle aussi **bibliothèques** ou **libraries**. \n",
    "* Ce sont des **« boîtes à outils »** qui vont vous être très utiles.\n",
    "\n",
    "> Les développeurs de Python ont mis au point de nombreux modules qui effectuent une quantité phénoménale de tâches.\n",
    ">> Pour cette raison, prenez toujours le réflexe de vérifier si une partie du code que vous souhaitez écrire n’existe pas déjà sous forme de module.\n",
    "\n",
    "* La plupart de ces modules sont déjà installés dans les versions standards de Python.\n",
    "* Vous pouvez accéder à une documentation exhaustive sur le site de Python."
   ]
  },
  {
   "cell_type": "markdown",
   "id": "d3cef9aa",
   "metadata": {
    "slideshow": {
     "slide_type": "slide"
    }
   },
   "source": [
    "### Importation de modules"
   ]
  },
  {
   "cell_type": "markdown",
   "id": "6511a2ae",
   "metadata": {
    "slideshow": {
     "slide_type": "slide"
    }
   },
   "source": [
    "* Dans les chapitres précédents, nous avons rencontré la notion de module plusieurs fois. Notamment lorsque nous avons voulu tirer un nombre aléatoire :\n"
   ]
  },
  {
   "cell_type": "code",
   "execution_count": 3,
   "id": "fe8136a8",
   "metadata": {
    "slideshow": {
     "slide_type": "slide"
    }
   },
   "outputs": [
    {
     "data": {
      "text/plain": [
       "3"
      ]
     },
     "execution_count": 3,
     "metadata": {},
     "output_type": "execute_result"
    }
   ],
   "source": [
    "import random\n",
    "random.randint(0, 10)"
   ]
  },
  {
   "cell_type": "markdown",
   "id": "33562302",
   "metadata": {
    "slideshow": {
     "slide_type": "slide"
    }
   },
   "source": [
    "* Ligne 1, l’instruction **import** donne accès à toutes les fonctions du module **random**.\n",
    "* Ensuite, ligne 2, nous utilisons la fonction **randint(0, 10)** du module **random**. \n",
    "    * Cette fonction renvoie un nombre entier tiré aléatoirement entre 0 inclus et 10 inclus."
   ]
  },
  {
   "cell_type": "markdown",
   "id": "1b01869e",
   "metadata": {},
   "source": [
    "**Le module math** \n",
    "> donne accès aux fonctions trigonométriques **sinus** et **cosinus**, et à la constante **π** :"
   ]
  },
  {
   "cell_type": "code",
   "execution_count": 4,
   "id": "0bcc7fe8",
   "metadata": {},
   "outputs": [
    {
     "data": {
      "text/plain": [
       "6.123233995736766e-17"
      ]
     },
     "execution_count": 4,
     "metadata": {},
     "output_type": "execute_result"
    }
   ],
   "source": [
    "import math\n",
    "math.cos(math.pi / 2)"
   ]
  },
  {
   "cell_type": "code",
   "execution_count": 5,
   "id": "77f7a7bc",
   "metadata": {},
   "outputs": [
    {
     "data": {
      "text/plain": [
       "1.0"
      ]
     },
     "execution_count": 5,
     "metadata": {},
     "output_type": "execute_result"
    }
   ],
   "source": [
    "math.sin(math.pi / 2)"
   ]
  },
  {
   "cell_type": "markdown",
   "id": "7c0386c3",
   "metadata": {},
   "source": [
    "> En résumé, l’utilisation de la syntaxe **import module** permet d’importer tout une série de fonctions organisées par « thèmes ». \n",
    ">> Par exemple, les fonctions gérant les nombres aléatoires avec **random** et les fonctions mathématiques avec **math**. \n",
    "\n",
    "Python possède de nombreux autres modules internes (c’est-à-dire présent de base lorsqu’on installe Python)."
   ]
  },
  {
   "cell_type": "markdown",
   "id": "24c10c9f",
   "metadata": {},
   "source": [
    "**Remarque**\n",
    "\n",
    "Nous avons déjà introduit la syntaxe **truc.bidule()** avec **truc** étant un objet et **.bidule()** une méthode. En effet, une méthode est une fonction un peu particulière :\n",
    "* elle est liée à un objet par un point ;\n",
    "* en général, elle agit sur ou utilise l’objet auquel elle est liée.\n",
    "\n",
    "> Par exemple, la méthode  **.format()** dans l’instruction **\"{}\".format(3.14)** utilise l’objet chaîne de caractères **\"{}\"** auquel elle est liée pour finalement renvoyer une autre chaîne de caractères \"3.14\"."
   ]
  },
  {
   "cell_type": "code",
   "execution_count": 6,
   "id": "8cf7af0e",
   "metadata": {},
   "outputs": [
    {
     "name": "stdout",
     "output_type": "stream",
     "text": [
      "3.14\n"
     ]
    }
   ],
   "source": [
    "print (\"{}\".format(3.14))"
   ]
  },
  {
   "cell_type": "markdown",
   "id": "4a88d991",
   "metadata": {},
   "source": [
    "Avec les modules, nous rencontrons une syntaxe similaire. \n",
    "> Par exemple, dans l’instruction **math.cos()**, on pourrait penser que **.cos()** est aussi une méthode. En fait la documentation officielle de Python 3 précise bien que dans ce cas **.cos()** est une fonction.\n",
    ">> Dans ce cours, nous utiliserons ainsi le mot *fonction* lorsqu’on évoquera des fonctions issues de modules.\n",
    ">>> Ici, la syntaxe **module.fonction()** est là pour rappeler de quel module provient la fonction en un coup d’œil !"
   ]
  },
  {
   "cell_type": "markdown",
   "id": "0ad8424a",
   "metadata": {},
   "source": [
    "**Il existe un autre moyen d’importer une ou plusieurs fonctions d’un module :** \n",
    "\n",
    "> À l’aide du mot-clé **from**, on peut importer une fonction spécifique d’un module donné. Remarquez bien qu’il est inutile de répéter le nom du module dans ce cas, seul le nom de la fonction en question est requis.>"
   ]
  },
  {
   "cell_type": "code",
   "execution_count": 7,
   "id": "d205c569",
   "metadata": {},
   "outputs": [
    {
     "data": {
      "text/plain": [
       "2"
      ]
     },
     "execution_count": 7,
     "metadata": {},
     "output_type": "execute_result"
    }
   ],
   "source": [
    "from random import randint \n",
    "randint (0 ,10)"
   ]
  },
  {
   "cell_type": "code",
   "execution_count": 8,
   "id": "e55d3393",
   "metadata": {},
   "outputs": [
    {
     "data": {
      "text/plain": [
       "6.123233995736766e-17"
      ]
     },
     "execution_count": 8,
     "metadata": {},
     "output_type": "execute_result"
    }
   ],
   "source": [
    "from math import cos\n",
    "cos(math.pi / 2)"
   ]
  },
  {
   "cell_type": "markdown",
   "id": "87e43373",
   "metadata": {},
   "source": [
    "> On peut également importer toutes les fonctions d’un module. \n",
    "L’instruction from random **import *** importe toutes les fonctions du module random. On peut ainsi utiliser toutes ses\n",
    "fonctions directement, comme par exemple **randint()** et **uniform()** qui renvoie des nombres aléatoires entiers et floats."
   ]
  },
  {
   "cell_type": "code",
   "execution_count": 9,
   "id": "9014f002",
   "metadata": {},
   "outputs": [
    {
     "data": {
      "text/plain": [
       "8"
      ]
     },
     "execution_count": 9,
     "metadata": {},
     "output_type": "execute_result"
    }
   ],
   "source": [
    "from random import *\n",
    "randint (0 ,50)"
   ]
  },
  {
   "cell_type": "code",
   "execution_count": 10,
   "id": "9e7cbef4",
   "metadata": {},
   "outputs": [
    {
     "data": {
      "text/plain": [
       "0.7906567013843226"
      ]
     },
     "execution_count": 10,
     "metadata": {},
     "output_type": "execute_result"
    }
   ],
   "source": [
    "uniform (0, 2.5)"
   ]
  },
  {
   "cell_type": "markdown",
   "id": "d68b49a0",
   "metadata": {},
   "source": [
    "Dans la pratique, plutôt que de charger toutes les fonctions d’un module en une seule fois \n",
    "\n",
    "```\n",
    "from random import *\n",
    "```\n",
    "\n",
    "nous vous conseillons de charger le module seul de la manière suivante :\n",
    "\n",
    "```\n",
    "import random\n",
    "```\n",
    "\n",
    "puis d’appeler explicitement les fonctions voulues, par exemple :\n",
    "\n",
    "```\n",
    "random.randint(0,2)\n",
    "```\n",
    "\n",
    "Il est également possible de définir un alias (un nom plus court) pour un module :\n",
    "\n",
    "```\n",
    "import random as rand\n",
    "rand.randint(1, 10)\n",
    "rand.uniform(1, 3)\n",
    "```\n"
   ]
  },
  {
   "cell_type": "code",
   "execution_count": 11,
   "id": "07491272",
   "metadata": {},
   "outputs": [
    {
     "data": {
      "text/plain": [
       "2"
      ]
     },
     "execution_count": 11,
     "metadata": {},
     "output_type": "execute_result"
    }
   ],
   "source": [
    "import random\n",
    "random.randint(0,2)"
   ]
  },
  {
   "cell_type": "code",
   "execution_count": 12,
   "id": "12cc6dc7",
   "metadata": {},
   "outputs": [],
   "source": [
    "import random as rand"
   ]
  },
  {
   "cell_type": "code",
   "execution_count": 13,
   "id": "768f2982",
   "metadata": {},
   "outputs": [
    {
     "data": {
      "text/plain": [
       "2"
      ]
     },
     "execution_count": 13,
     "metadata": {},
     "output_type": "execute_result"
    }
   ],
   "source": [
    "rand.randint(1, 10)"
   ]
  },
  {
   "cell_type": "code",
   "execution_count": 14,
   "id": "85928668",
   "metadata": {},
   "outputs": [
    {
     "data": {
      "text/plain": [
       "1.9320154498183664"
      ]
     },
     "execution_count": 14,
     "metadata": {},
     "output_type": "execute_result"
    }
   ],
   "source": [
    "rand.uniform(1, 3)"
   ]
  },
  {
   "cell_type": "markdown",
   "id": "c94eba77",
   "metadata": {},
   "source": [
    "> Dans cet exemple, les fonctions du module random sont accessibles via l’alias rand.\n",
    "Enfin, pour vider de la mémoire un module déjà chargé, on peut utiliser l’instruction **del :**\n"
   ]
  },
  {
   "cell_type": "code",
   "execution_count": 21,
   "id": "f9233bcb",
   "metadata": {},
   "outputs": [
    {
     "data": {
      "text/plain": [
       "9"
      ]
     },
     "execution_count": 21,
     "metadata": {},
     "output_type": "execute_result"
    }
   ],
   "source": [
    "import random\n",
    "random.randint(0,10)"
   ]
  },
  {
   "cell_type": "code",
   "execution_count": 22,
   "id": "11d71fe2",
   "metadata": {},
   "outputs": [],
   "source": [
    "del random"
   ]
  },
  {
   "cell_type": "code",
   "execution_count": 23,
   "id": "1972dde9",
   "metadata": {},
   "outputs": [
    {
     "ename": "NameError",
     "evalue": "name 'random' is not defined",
     "output_type": "error",
     "traceback": [
      "\u001b[0;31m---------------------------------------------------------------------------\u001b[0m",
      "\u001b[0;31mNameError\u001b[0m                                 Traceback (most recent call last)",
      "\u001b[0;32m/tmp/ipykernel_636515/2923030923.py\u001b[0m in \u001b[0;36m<module>\u001b[0;34m\u001b[0m\n\u001b[0;32m----> 1\u001b[0;31m \u001b[0mrandom\u001b[0m\u001b[0;34m.\u001b[0m\u001b[0mrandint\u001b[0m\u001b[0;34m(\u001b[0m\u001b[0;36m0\u001b[0m\u001b[0;34m,\u001b[0m\u001b[0;36m10\u001b[0m\u001b[0;34m)\u001b[0m\u001b[0;34m\u001b[0m\u001b[0;34m\u001b[0m\u001b[0m\n\u001b[0m",
      "\u001b[0;31mNameError\u001b[0m: name 'random' is not defined"
     ]
    }
   ],
   "source": [
    "random.randint(0,10)"
   ]
  },
  {
   "cell_type": "code",
   "execution_count": 19,
   "id": "fb22e90c",
   "metadata": {},
   "outputs": [],
   "source": [
    "del rand"
   ]
  },
  {
   "cell_type": "code",
   "execution_count": 20,
   "id": "f3b63ee2",
   "metadata": {},
   "outputs": [
    {
     "ename": "NameError",
     "evalue": "name 'rand' is not defined",
     "output_type": "error",
     "traceback": [
      "\u001b[0;31m---------------------------------------------------------------------------\u001b[0m",
      "\u001b[0;31mNameError\u001b[0m                                 Traceback (most recent call last)",
      "\u001b[0;32m/tmp/ipykernel_636515/369635570.py\u001b[0m in \u001b[0;36m<module>\u001b[0;34m\u001b[0m\n\u001b[0;32m----> 1\u001b[0;31m \u001b[0mrand\u001b[0m\u001b[0;34m.\u001b[0m\u001b[0mrandint\u001b[0m\u001b[0;34m(\u001b[0m\u001b[0;36m0\u001b[0m\u001b[0;34m,\u001b[0m\u001b[0;36m10\u001b[0m\u001b[0;34m)\u001b[0m\u001b[0;34m\u001b[0m\u001b[0;34m\u001b[0m\u001b[0m\n\u001b[0m",
      "\u001b[0;31mNameError\u001b[0m: name 'rand' is not defined"
     ]
    }
   ],
   "source": [
    "rand.randint(0,10)"
   ]
  },
  {
   "cell_type": "markdown",
   "id": "05ceb6b6",
   "metadata": {},
   "source": [
    "> On constate alors qu’un rappel d’une fonction du module **random** après l’avoir vidé de la mémoire\n",
    "retourne un message d’erreur"
   ]
  },
  {
   "cell_type": "markdown",
   "id": "ee474ab8",
   "metadata": {
    "slideshow": {
     "slide_type": "slide"
    }
   },
   "source": [
    "### Obtenir de l’aide sur les modules importés"
   ]
  },
  {
   "cell_type": "markdown",
   "id": "0dc5e6d3",
   "metadata": {},
   "source": [
    "Pour obtenir de l’aide sur un module rien de plus simple, il suffit d’utiliser la commande **help() :**"
   ]
  },
  {
   "cell_type": "code",
   "execution_count": 24,
   "id": "f5efddb0",
   "metadata": {},
   "outputs": [
    {
     "name": "stdout",
     "output_type": "stream",
     "text": [
      "Help on module random:\n",
      "\n",
      "NAME\n",
      "    random - Random variable generators.\n",
      "\n",
      "MODULE REFERENCE\n",
      "    https://docs.python.org/3.9/library/random\n",
      "    \n",
      "    The following documentation is automatically generated from the Python\n",
      "    source files.  It may be incomplete, incorrect or include features that\n",
      "    are considered implementation detail and may vary between Python\n",
      "    implementations.  When in doubt, consult the module reference at the\n",
      "    location listed above.\n",
      "\n",
      "DESCRIPTION\n",
      "        bytes\n",
      "        -----\n",
      "               uniform bytes (values between 0 and 255)\n",
      "    \n",
      "        integers\n",
      "        --------\n",
      "               uniform within range\n",
      "    \n",
      "        sequences\n",
      "        ---------\n",
      "               pick random element\n",
      "               pick random sample\n",
      "               pick weighted random sample\n",
      "               generate random permutation\n",
      "    \n",
      "        distributions on the real line:\n",
      "        ------------------------------\n",
      "               uniform\n",
      "               triangular\n",
      "               normal (Gaussian)\n",
      "               lognormal\n",
      "               negative exponential\n",
      "               gamma\n",
      "               beta\n",
      "               pareto\n",
      "               Weibull\n",
      "    \n",
      "        distributions on the circle (angles 0 to 2pi)\n",
      "        ---------------------------------------------\n",
      "               circular uniform\n",
      "               von Mises\n",
      "    \n",
      "    General notes on the underlying Mersenne Twister core generator:\n",
      "    \n",
      "    * The period is 2**19937-1.\n",
      "    * It is one of the most extensively tested generators in existence.\n",
      "    * The random() method is implemented in C, executes in a single Python step,\n",
      "      and is, therefore, threadsafe.\n",
      "\n",
      "CLASSES\n",
      "    _random.Random(builtins.object)\n",
      "        Random\n",
      "            SystemRandom\n",
      "    \n",
      "    class Random(_random.Random)\n",
      "     |  Random(x=None)\n",
      "     |  \n",
      "     |  Random number generator base class used by bound module functions.\n",
      "     |  \n",
      "     |  Used to instantiate instances of Random to get generators that don't\n",
      "     |  share state.\n",
      "     |  \n",
      "     |  Class Random can also be subclassed if you want to use a different basic\n",
      "     |  generator of your own devising: in that case, override the following\n",
      "     |  methods:  random(), seed(), getstate(), and setstate().\n",
      "     |  Optionally, implement a getrandbits() method so that randrange()\n",
      "     |  can cover arbitrarily large ranges.\n",
      "     |  \n",
      "     |  Method resolution order:\n",
      "     |      Random\n",
      "     |      _random.Random\n",
      "     |      builtins.object\n",
      "     |  \n",
      "     |  Methods defined here:\n",
      "     |  \n",
      "     |  __getstate__(self)\n",
      "     |      # Issue 17489: Since __reduce__ was defined to fix #759889 this is no\n",
      "     |      # longer called; we leave it here because it has been here since random was\n",
      "     |      # rewritten back in 2001 and why risk breaking something.\n",
      "     |  \n",
      "     |  __init__(self, x=None)\n",
      "     |      Initialize an instance.\n",
      "     |      \n",
      "     |      Optional argument x controls seeding, as for Random.seed().\n",
      "     |  \n",
      "     |  __reduce__(self)\n",
      "     |      Helper for pickle.\n",
      "     |  \n",
      "     |  __setstate__(self, state)\n",
      "     |  \n",
      "     |  betavariate(self, alpha, beta)\n",
      "     |      Beta distribution.\n",
      "     |      \n",
      "     |      Conditions on the parameters are alpha > 0 and beta > 0.\n",
      "     |      Returned values range between 0 and 1.\n",
      "     |  \n",
      "     |  choice(self, seq)\n",
      "     |      Choose a random element from a non-empty sequence.\n",
      "     |  \n",
      "     |  choices(self, population, weights=None, *, cum_weights=None, k=1)\n",
      "     |      Return a k sized list of population elements chosen with replacement.\n",
      "     |      \n",
      "     |      If the relative weights or cumulative weights are not specified,\n",
      "     |      the selections are made with equal probability.\n",
      "     |  \n",
      "     |  expovariate(self, lambd)\n",
      "     |      Exponential distribution.\n",
      "     |      \n",
      "     |      lambd is 1.0 divided by the desired mean.  It should be\n",
      "     |      nonzero.  (The parameter would be called \"lambda\", but that is\n",
      "     |      a reserved word in Python.)  Returned values range from 0 to\n",
      "     |      positive infinity if lambd is positive, and from negative\n",
      "     |      infinity to 0 if lambd is negative.\n",
      "     |  \n",
      "     |  gammavariate(self, alpha, beta)\n",
      "     |      Gamma distribution.  Not the gamma function!\n",
      "     |      \n",
      "     |      Conditions on the parameters are alpha > 0 and beta > 0.\n",
      "     |      \n",
      "     |      The probability distribution function is:\n",
      "     |      \n",
      "     |                  x ** (alpha - 1) * math.exp(-x / beta)\n",
      "     |        pdf(x) =  --------------------------------------\n",
      "     |                    math.gamma(alpha) * beta ** alpha\n",
      "     |  \n",
      "     |  gauss(self, mu, sigma)\n",
      "     |      Gaussian distribution.\n",
      "     |      \n",
      "     |      mu is the mean, and sigma is the standard deviation.  This is\n",
      "     |      slightly faster than the normalvariate() function.\n",
      "     |      \n",
      "     |      Not thread-safe without a lock around calls.\n",
      "     |  \n",
      "     |  getstate(self)\n",
      "     |      Return internal state; can be passed to setstate() later.\n",
      "     |  \n",
      "     |  lognormvariate(self, mu, sigma)\n",
      "     |      Log normal distribution.\n",
      "     |      \n",
      "     |      If you take the natural logarithm of this distribution, you'll get a\n",
      "     |      normal distribution with mean mu and standard deviation sigma.\n",
      "     |      mu can have any value, and sigma must be greater than zero.\n",
      "     |  \n",
      "     |  normalvariate(self, mu, sigma)\n",
      "     |      Normal distribution.\n",
      "     |      \n",
      "     |      mu is the mean, and sigma is the standard deviation.\n",
      "     |  \n",
      "     |  paretovariate(self, alpha)\n",
      "     |      Pareto distribution.  alpha is the shape parameter.\n",
      "     |  \n",
      "     |  randbytes(self, n)\n",
      "     |      Generate n random bytes.\n",
      "     |  \n",
      "     |  randint(self, a, b)\n",
      "     |      Return random integer in range [a, b], including both end points.\n",
      "     |  \n",
      "     |  randrange(self, start, stop=None, step=1)\n",
      "     |      Choose a random item from range(start, stop[, step]).\n",
      "     |      \n",
      "     |      This fixes the problem with randint() which includes the\n",
      "     |      endpoint; in Python this is usually not what you want.\n",
      "     |  \n",
      "     |  sample(self, population, k, *, counts=None)\n",
      "     |      Chooses k unique random elements from a population sequence or set.\n",
      "     |      \n",
      "     |      Returns a new list containing elements from the population while\n",
      "     |      leaving the original population unchanged.  The resulting list is\n",
      "     |      in selection order so that all sub-slices will also be valid random\n",
      "     |      samples.  This allows raffle winners (the sample) to be partitioned\n",
      "     |      into grand prize and second place winners (the subslices).\n",
      "     |      \n",
      "     |      Members of the population need not be hashable or unique.  If the\n",
      "     |      population contains repeats, then each occurrence is a possible\n",
      "     |      selection in the sample.\n",
      "     |      \n",
      "     |      Repeated elements can be specified one at a time or with the optional\n",
      "     |      counts parameter.  For example:\n",
      "     |      \n",
      "     |          sample(['red', 'blue'], counts=[4, 2], k=5)\n",
      "     |      \n",
      "     |      is equivalent to:\n",
      "     |      \n",
      "     |          sample(['red', 'red', 'red', 'red', 'blue', 'blue'], k=5)\n",
      "     |      \n",
      "     |      To choose a sample from a range of integers, use range() for the\n",
      "     |      population argument.  This is especially fast and space efficient\n",
      "     |      for sampling from a large population:\n",
      "     |      \n",
      "     |          sample(range(10000000), 60)\n",
      "     |  \n",
      "     |  seed(self, a=None, version=2)\n",
      "     |      Initialize internal state from a seed.\n",
      "     |      \n",
      "     |      The only supported seed types are None, int, float,\n",
      "     |      str, bytes, and bytearray.\n",
      "     |      \n",
      "     |      None or no argument seeds from current time or from an operating\n",
      "     |      system specific randomness source if available.\n",
      "     |      \n",
      "     |      If *a* is an int, all bits are used.\n",
      "     |      \n",
      "     |      For version 2 (the default), all of the bits are used if *a* is a str,\n",
      "     |      bytes, or bytearray.  For version 1 (provided for reproducing random\n",
      "     |      sequences from older versions of Python), the algorithm for str and\n",
      "     |      bytes generates a narrower range of seeds.\n",
      "     |  \n",
      "     |  setstate(self, state)\n",
      "     |      Restore internal state from object returned by getstate().\n",
      "     |  \n",
      "     |  shuffle(self, x, random=None)\n",
      "     |      Shuffle list x in place, and return None.\n",
      "     |      \n",
      "     |      Optional argument random is a 0-argument function returning a\n",
      "     |      random float in [0.0, 1.0); if it is the default None, the\n",
      "     |      standard random.random will be used.\n",
      "     |  \n",
      "     |  triangular(self, low=0.0, high=1.0, mode=None)\n",
      "     |      Triangular distribution.\n",
      "     |      \n",
      "     |      Continuous distribution bounded by given lower and upper limits,\n",
      "     |      and having a given mode value in-between.\n",
      "     |      \n",
      "     |      http://en.wikipedia.org/wiki/Triangular_distribution\n",
      "     |  \n",
      "     |  uniform(self, a, b)\n",
      "     |      Get a random number in the range [a, b) or [a, b] depending on rounding.\n",
      "     |  \n",
      "     |  vonmisesvariate(self, mu, kappa)\n",
      "     |      Circular data distribution.\n",
      "     |      \n",
      "     |      mu is the mean angle, expressed in radians between 0 and 2*pi, and\n",
      "     |      kappa is the concentration parameter, which must be greater than or\n",
      "     |      equal to zero.  If kappa is equal to zero, this distribution reduces\n",
      "     |      to a uniform random angle over the range 0 to 2*pi.\n",
      "     |  \n",
      "     |  weibullvariate(self, alpha, beta)\n",
      "     |      Weibull distribution.\n",
      "     |      \n",
      "     |      alpha is the scale parameter and beta is the shape parameter.\n",
      "     |  \n",
      "     |  ----------------------------------------------------------------------\n",
      "     |  Class methods defined here:\n",
      "     |  \n",
      "     |  __init_subclass__(**kwargs) from builtins.type\n",
      "     |      Control how subclasses generate random integers.\n",
      "     |      \n",
      "     |      The algorithm a subclass can use depends on the random() and/or\n",
      "     |      getrandbits() implementation available to it and determines\n",
      "     |      whether it can generate random integers from arbitrarily large\n",
      "     |      ranges.\n",
      "     |  \n",
      "     |  ----------------------------------------------------------------------\n",
      "     |  Data descriptors defined here:\n",
      "     |  \n",
      "     |  __dict__\n",
      "     |      dictionary for instance variables (if defined)\n",
      "     |  \n",
      "     |  __weakref__\n",
      "     |      list of weak references to the object (if defined)\n",
      "     |  \n",
      "     |  ----------------------------------------------------------------------\n",
      "     |  Data and other attributes defined here:\n",
      "     |  \n",
      "     |  VERSION = 3\n",
      "     |  \n",
      "     |  ----------------------------------------------------------------------\n",
      "     |  Methods inherited from _random.Random:\n",
      "     |  \n",
      "     |  getrandbits(self, k, /)\n",
      "     |      getrandbits(k) -> x.  Generates an int with k random bits.\n",
      "     |  \n",
      "     |  random(self, /)\n",
      "     |      random() -> x in the interval [0, 1).\n",
      "     |  \n",
      "     |  ----------------------------------------------------------------------\n",
      "     |  Static methods inherited from _random.Random:\n",
      "     |  \n",
      "     |  __new__(*args, **kwargs) from builtins.type\n",
      "     |      Create and return a new object.  See help(type) for accurate signature.\n",
      "    \n",
      "    class SystemRandom(Random)\n",
      "     |  SystemRandom(x=None)\n",
      "     |  \n",
      "     |  Alternate random number generator using sources provided\n",
      "     |  by the operating system (such as /dev/urandom on Unix or\n",
      "     |  CryptGenRandom on Windows).\n",
      "     |  \n",
      "     |   Not available on all systems (see os.urandom() for details).\n",
      "     |  \n",
      "     |  Method resolution order:\n",
      "     |      SystemRandom\n",
      "     |      Random\n",
      "     |      _random.Random\n",
      "     |      builtins.object\n",
      "     |  \n",
      "     |  Methods defined here:\n",
      "     |  \n",
      "     |  getrandbits(self, k)\n",
      "     |      getrandbits(k) -> x.  Generates an int with k random bits.\n",
      "     |  \n",
      "     |  getstate = _notimplemented(self, *args, **kwds)\n",
      "     |  \n",
      "     |  randbytes(self, n)\n",
      "     |      Generate n random bytes.\n",
      "     |  \n",
      "     |  random(self)\n",
      "     |      Get the next random number in the range [0.0, 1.0).\n",
      "     |  \n",
      "     |  seed(self, *args, **kwds)\n",
      "     |      Stub method.  Not used for a system random number generator.\n",
      "     |  \n",
      "     |  setstate = _notimplemented(self, *args, **kwds)\n",
      "     |  \n",
      "     |  ----------------------------------------------------------------------\n",
      "     |  Methods inherited from Random:\n",
      "     |  \n",
      "     |  __getstate__(self)\n",
      "     |      # Issue 17489: Since __reduce__ was defined to fix #759889 this is no\n",
      "     |      # longer called; we leave it here because it has been here since random was\n",
      "     |      # rewritten back in 2001 and why risk breaking something.\n",
      "     |  \n",
      "     |  __init__(self, x=None)\n",
      "     |      Initialize an instance.\n",
      "     |      \n",
      "     |      Optional argument x controls seeding, as for Random.seed().\n",
      "     |  \n",
      "     |  __reduce__(self)\n",
      "     |      Helper for pickle.\n",
      "     |  \n",
      "     |  __setstate__(self, state)\n",
      "     |  \n",
      "     |  betavariate(self, alpha, beta)\n",
      "     |      Beta distribution.\n",
      "     |      \n",
      "     |      Conditions on the parameters are alpha > 0 and beta > 0.\n",
      "     |      Returned values range between 0 and 1.\n",
      "     |  \n",
      "     |  choice(self, seq)\n",
      "     |      Choose a random element from a non-empty sequence.\n",
      "     |  \n",
      "     |  choices(self, population, weights=None, *, cum_weights=None, k=1)\n",
      "     |      Return a k sized list of population elements chosen with replacement.\n",
      "     |      \n",
      "     |      If the relative weights or cumulative weights are not specified,\n",
      "     |      the selections are made with equal probability.\n",
      "     |  \n",
      "     |  expovariate(self, lambd)\n",
      "     |      Exponential distribution.\n",
      "     |      \n",
      "     |      lambd is 1.0 divided by the desired mean.  It should be\n",
      "     |      nonzero.  (The parameter would be called \"lambda\", but that is\n",
      "     |      a reserved word in Python.)  Returned values range from 0 to\n",
      "     |      positive infinity if lambd is positive, and from negative\n",
      "     |      infinity to 0 if lambd is negative.\n",
      "     |  \n",
      "     |  gammavariate(self, alpha, beta)\n",
      "     |      Gamma distribution.  Not the gamma function!\n",
      "     |      \n",
      "     |      Conditions on the parameters are alpha > 0 and beta > 0.\n",
      "     |      \n",
      "     |      The probability distribution function is:\n",
      "     |      \n",
      "     |                  x ** (alpha - 1) * math.exp(-x / beta)\n",
      "     |        pdf(x) =  --------------------------------------\n",
      "     |                    math.gamma(alpha) * beta ** alpha\n",
      "     |  \n",
      "     |  gauss(self, mu, sigma)\n",
      "     |      Gaussian distribution.\n",
      "     |      \n",
      "     |      mu is the mean, and sigma is the standard deviation.  This is\n",
      "     |      slightly faster than the normalvariate() function.\n",
      "     |      \n",
      "     |      Not thread-safe without a lock around calls.\n",
      "     |  \n",
      "     |  lognormvariate(self, mu, sigma)\n",
      "     |      Log normal distribution.\n",
      "     |      \n",
      "     |      If you take the natural logarithm of this distribution, you'll get a\n",
      "     |      normal distribution with mean mu and standard deviation sigma.\n",
      "     |      mu can have any value, and sigma must be greater than zero.\n",
      "     |  \n",
      "     |  normalvariate(self, mu, sigma)\n",
      "     |      Normal distribution.\n",
      "     |      \n",
      "     |      mu is the mean, and sigma is the standard deviation.\n",
      "     |  \n",
      "     |  paretovariate(self, alpha)\n",
      "     |      Pareto distribution.  alpha is the shape parameter.\n",
      "     |  \n",
      "     |  randint(self, a, b)\n",
      "     |      Return random integer in range [a, b], including both end points.\n",
      "     |  \n",
      "     |  randrange(self, start, stop=None, step=1)\n",
      "     |      Choose a random item from range(start, stop[, step]).\n",
      "     |      \n",
      "     |      This fixes the problem with randint() which includes the\n",
      "     |      endpoint; in Python this is usually not what you want.\n",
      "     |  \n",
      "     |  sample(self, population, k, *, counts=None)\n",
      "     |      Chooses k unique random elements from a population sequence or set.\n",
      "     |      \n",
      "     |      Returns a new list containing elements from the population while\n",
      "     |      leaving the original population unchanged.  The resulting list is\n",
      "     |      in selection order so that all sub-slices will also be valid random\n",
      "     |      samples.  This allows raffle winners (the sample) to be partitioned\n",
      "     |      into grand prize and second place winners (the subslices).\n",
      "     |      \n",
      "     |      Members of the population need not be hashable or unique.  If the\n",
      "     |      population contains repeats, then each occurrence is a possible\n",
      "     |      selection in the sample.\n",
      "     |      \n",
      "     |      Repeated elements can be specified one at a time or with the optional\n",
      "     |      counts parameter.  For example:\n",
      "     |      \n",
      "     |          sample(['red', 'blue'], counts=[4, 2], k=5)\n",
      "     |      \n",
      "     |      is equivalent to:\n",
      "     |      \n",
      "     |          sample(['red', 'red', 'red', 'red', 'blue', 'blue'], k=5)\n",
      "     |      \n",
      "     |      To choose a sample from a range of integers, use range() for the\n",
      "     |      population argument.  This is especially fast and space efficient\n",
      "     |      for sampling from a large population:\n",
      "     |      \n",
      "     |          sample(range(10000000), 60)\n",
      "     |  \n",
      "     |  shuffle(self, x, random=None)\n",
      "     |      Shuffle list x in place, and return None.\n",
      "     |      \n",
      "     |      Optional argument random is a 0-argument function returning a\n",
      "     |      random float in [0.0, 1.0); if it is the default None, the\n",
      "     |      standard random.random will be used.\n",
      "     |  \n",
      "     |  triangular(self, low=0.0, high=1.0, mode=None)\n",
      "     |      Triangular distribution.\n",
      "     |      \n",
      "     |      Continuous distribution bounded by given lower and upper limits,\n",
      "     |      and having a given mode value in-between.\n",
      "     |      \n",
      "     |      http://en.wikipedia.org/wiki/Triangular_distribution\n",
      "     |  \n",
      "     |  uniform(self, a, b)\n",
      "     |      Get a random number in the range [a, b) or [a, b] depending on rounding.\n",
      "     |  \n",
      "     |  vonmisesvariate(self, mu, kappa)\n",
      "     |      Circular data distribution.\n",
      "     |      \n",
      "     |      mu is the mean angle, expressed in radians between 0 and 2*pi, and\n",
      "     |      kappa is the concentration parameter, which must be greater than or\n",
      "     |      equal to zero.  If kappa is equal to zero, this distribution reduces\n",
      "     |      to a uniform random angle over the range 0 to 2*pi.\n",
      "     |  \n",
      "     |  weibullvariate(self, alpha, beta)\n",
      "     |      Weibull distribution.\n",
      "     |      \n",
      "     |      alpha is the scale parameter and beta is the shape parameter.\n",
      "     |  \n",
      "     |  ----------------------------------------------------------------------\n",
      "     |  Class methods inherited from Random:\n",
      "     |  \n",
      "     |  __init_subclass__(**kwargs) from builtins.type\n",
      "     |      Control how subclasses generate random integers.\n",
      "     |      \n",
      "     |      The algorithm a subclass can use depends on the random() and/or\n",
      "     |      getrandbits() implementation available to it and determines\n",
      "     |      whether it can generate random integers from arbitrarily large\n",
      "     |      ranges.\n",
      "     |  \n",
      "     |  ----------------------------------------------------------------------\n",
      "     |  Data descriptors inherited from Random:\n",
      "     |  \n",
      "     |  __dict__\n",
      "     |      dictionary for instance variables (if defined)\n",
      "     |  \n",
      "     |  __weakref__\n",
      "     |      list of weak references to the object (if defined)\n",
      "     |  \n",
      "     |  ----------------------------------------------------------------------\n",
      "     |  Data and other attributes inherited from Random:\n",
      "     |  \n",
      "     |  VERSION = 3\n",
      "     |  \n",
      "     |  ----------------------------------------------------------------------\n",
      "     |  Static methods inherited from _random.Random:\n",
      "     |  \n",
      "     |  __new__(*args, **kwargs) from builtins.type\n",
      "     |      Create and return a new object.  See help(type) for accurate signature.\n",
      "\n",
      "FUNCTIONS\n",
      "    betavariate(alpha, beta) method of Random instance\n",
      "        Beta distribution.\n",
      "        \n",
      "        Conditions on the parameters are alpha > 0 and beta > 0.\n",
      "        Returned values range between 0 and 1.\n",
      "    \n",
      "    choice(seq) method of Random instance\n",
      "        Choose a random element from a non-empty sequence.\n",
      "    \n",
      "    choices(population, weights=None, *, cum_weights=None, k=1) method of Random instance\n",
      "        Return a k sized list of population elements chosen with replacement.\n",
      "        \n",
      "        If the relative weights or cumulative weights are not specified,\n",
      "        the selections are made with equal probability.\n",
      "    \n",
      "    expovariate(lambd) method of Random instance\n",
      "        Exponential distribution.\n",
      "        \n",
      "        lambd is 1.0 divided by the desired mean.  It should be\n",
      "        nonzero.  (The parameter would be called \"lambda\", but that is\n",
      "        a reserved word in Python.)  Returned values range from 0 to\n",
      "        positive infinity if lambd is positive, and from negative\n",
      "        infinity to 0 if lambd is negative.\n",
      "    \n",
      "    gammavariate(alpha, beta) method of Random instance\n",
      "        Gamma distribution.  Not the gamma function!\n",
      "        \n",
      "        Conditions on the parameters are alpha > 0 and beta > 0.\n",
      "        \n",
      "        The probability distribution function is:\n",
      "        \n",
      "                    x ** (alpha - 1) * math.exp(-x / beta)\n",
      "          pdf(x) =  --------------------------------------\n",
      "                      math.gamma(alpha) * beta ** alpha\n",
      "    \n",
      "    gauss(mu, sigma) method of Random instance\n",
      "        Gaussian distribution.\n",
      "        \n",
      "        mu is the mean, and sigma is the standard deviation.  This is\n",
      "        slightly faster than the normalvariate() function.\n",
      "        \n",
      "        Not thread-safe without a lock around calls.\n",
      "    \n",
      "    getrandbits(k, /) method of Random instance\n",
      "        getrandbits(k) -> x.  Generates an int with k random bits.\n",
      "    \n",
      "    getstate() method of Random instance\n",
      "        Return internal state; can be passed to setstate() later.\n",
      "    \n",
      "    lognormvariate(mu, sigma) method of Random instance\n",
      "        Log normal distribution.\n",
      "        \n",
      "        If you take the natural logarithm of this distribution, you'll get a\n",
      "        normal distribution with mean mu and standard deviation sigma.\n",
      "        mu can have any value, and sigma must be greater than zero.\n",
      "    \n",
      "    normalvariate(mu, sigma) method of Random instance\n",
      "        Normal distribution.\n",
      "        \n",
      "        mu is the mean, and sigma is the standard deviation.\n",
      "    \n",
      "    paretovariate(alpha) method of Random instance\n",
      "        Pareto distribution.  alpha is the shape parameter.\n",
      "    \n",
      "    randbytes(n) method of Random instance\n",
      "        Generate n random bytes.\n",
      "    \n",
      "    randint(a, b) method of Random instance\n",
      "        Return random integer in range [a, b], including both end points.\n",
      "    \n",
      "    random() method of Random instance\n",
      "        random() -> x in the interval [0, 1).\n",
      "    \n",
      "    randrange(start, stop=None, step=1) method of Random instance\n",
      "        Choose a random item from range(start, stop[, step]).\n",
      "        \n",
      "        This fixes the problem with randint() which includes the\n",
      "        endpoint; in Python this is usually not what you want.\n",
      "    \n",
      "    sample(population, k, *, counts=None) method of Random instance\n",
      "        Chooses k unique random elements from a population sequence or set.\n",
      "        \n",
      "        Returns a new list containing elements from the population while\n",
      "        leaving the original population unchanged.  The resulting list is\n",
      "        in selection order so that all sub-slices will also be valid random\n",
      "        samples.  This allows raffle winners (the sample) to be partitioned\n",
      "        into grand prize and second place winners (the subslices).\n",
      "        \n",
      "        Members of the population need not be hashable or unique.  If the\n",
      "        population contains repeats, then each occurrence is a possible\n",
      "        selection in the sample.\n",
      "        \n",
      "        Repeated elements can be specified one at a time or with the optional\n",
      "        counts parameter.  For example:\n",
      "        \n",
      "            sample(['red', 'blue'], counts=[4, 2], k=5)\n",
      "        \n",
      "        is equivalent to:\n",
      "        \n",
      "            sample(['red', 'red', 'red', 'red', 'blue', 'blue'], k=5)\n",
      "        \n",
      "        To choose a sample from a range of integers, use range() for the\n",
      "        population argument.  This is especially fast and space efficient\n",
      "        for sampling from a large population:\n",
      "        \n",
      "            sample(range(10000000), 60)\n",
      "    \n",
      "    seed(a=None, version=2) method of Random instance\n",
      "        Initialize internal state from a seed.\n",
      "        \n",
      "        The only supported seed types are None, int, float,\n",
      "        str, bytes, and bytearray.\n",
      "        \n",
      "        None or no argument seeds from current time or from an operating\n",
      "        system specific randomness source if available.\n",
      "        \n",
      "        If *a* is an int, all bits are used.\n",
      "        \n",
      "        For version 2 (the default), all of the bits are used if *a* is a str,\n",
      "        bytes, or bytearray.  For version 1 (provided for reproducing random\n",
      "        sequences from older versions of Python), the algorithm for str and\n",
      "        bytes generates a narrower range of seeds.\n",
      "    \n",
      "    setstate(state) method of Random instance\n",
      "        Restore internal state from object returned by getstate().\n",
      "    \n",
      "    shuffle(x, random=None) method of Random instance\n",
      "        Shuffle list x in place, and return None.\n",
      "        \n",
      "        Optional argument random is a 0-argument function returning a\n",
      "        random float in [0.0, 1.0); if it is the default None, the\n",
      "        standard random.random will be used.\n",
      "    \n",
      "    triangular(low=0.0, high=1.0, mode=None) method of Random instance\n",
      "        Triangular distribution.\n",
      "        \n",
      "        Continuous distribution bounded by given lower and upper limits,\n",
      "        and having a given mode value in-between.\n",
      "        \n",
      "        http://en.wikipedia.org/wiki/Triangular_distribution\n",
      "    \n",
      "    uniform(a, b) method of Random instance\n",
      "        Get a random number in the range [a, b) or [a, b] depending on rounding.\n",
      "    \n",
      "    vonmisesvariate(mu, kappa) method of Random instance\n",
      "        Circular data distribution.\n",
      "        \n",
      "        mu is the mean angle, expressed in radians between 0 and 2*pi, and\n",
      "        kappa is the concentration parameter, which must be greater than or\n",
      "        equal to zero.  If kappa is equal to zero, this distribution reduces\n",
      "        to a uniform random angle over the range 0 to 2*pi.\n",
      "    \n",
      "    weibullvariate(alpha, beta) method of Random instance\n",
      "        Weibull distribution.\n",
      "        \n",
      "        alpha is the scale parameter and beta is the shape parameter.\n",
      "\n",
      "DATA\n",
      "    __all__ = ['Random', 'SystemRandom', 'betavariate', 'choice', 'choices...\n",
      "\n",
      "FILE\n",
      "    /usr/lib/python3.9/random.py\n",
      "\n",
      "\n"
     ]
    }
   ],
   "source": [
    "import random\n",
    "help(random)"
   ]
  },
  {
   "cell_type": "markdown",
   "id": "495a4f18",
   "metadata": {},
   "source": [
    "**Remarque**\n",
    "\n",
    "* Pour vous déplacer dans l’aide, utilisez les flèches du haut et du bas pour parcourir les lignes les unes après les autres, ou les touches page-up et page-down pour faire défiler l’aide page par page.\n",
    "* Pour quitter l’aide, appuyez sur la touche Q.\n",
    "* Pour chercher du texte, tapez le caractère **/** puis le texte que vous cherchez puis la touche **Entrée**. \n",
    "> Par exemple, pour chercher l’aide sur la fonction **randint()**, tapez **/randint** puis **Entrée**.\n",
    "* Vous pouvez également obtenir de l’aide sur une fonction particulière d’un module de la manière suivante :\n",
    "``` \n",
    "help(random.randint)\n",
    "```\n"
   ]
  },
  {
   "cell_type": "markdown",
   "id": "6c79b892",
   "metadata": {},
   "source": [
    "> La commande **help()** est en fait une commande plus générale permettant d’avoir de l’aide sur n’importe quel objet chargé en mémoire, par exemple:"
   ]
  },
  {
   "cell_type": "code",
   "execution_count": 25,
   "id": "e885f010",
   "metadata": {},
   "outputs": [
    {
     "name": "stdout",
     "output_type": "stream",
     "text": [
      "Help on list object:\n",
      "\n",
      "class list(object)\n",
      " |  list(iterable=(), /)\n",
      " |  \n",
      " |  Built-in mutable sequence.\n",
      " |  \n",
      " |  If no argument is given, the constructor creates a new empty list.\n",
      " |  The argument must be an iterable if specified.\n",
      " |  \n",
      " |  Methods defined here:\n",
      " |  \n",
      " |  __add__(self, value, /)\n",
      " |      Return self+value.\n",
      " |  \n",
      " |  __contains__(self, key, /)\n",
      " |      Return key in self.\n",
      " |  \n",
      " |  __delitem__(self, key, /)\n",
      " |      Delete self[key].\n",
      " |  \n",
      " |  __eq__(self, value, /)\n",
      " |      Return self==value.\n",
      " |  \n",
      " |  __ge__(self, value, /)\n",
      " |      Return self>=value.\n",
      " |  \n",
      " |  __getattribute__(self, name, /)\n",
      " |      Return getattr(self, name).\n",
      " |  \n",
      " |  __getitem__(...)\n",
      " |      x.__getitem__(y) <==> x[y]\n",
      " |  \n",
      " |  __gt__(self, value, /)\n",
      " |      Return self>value.\n",
      " |  \n",
      " |  __iadd__(self, value, /)\n",
      " |      Implement self+=value.\n",
      " |  \n",
      " |  __imul__(self, value, /)\n",
      " |      Implement self*=value.\n",
      " |  \n",
      " |  __init__(self, /, *args, **kwargs)\n",
      " |      Initialize self.  See help(type(self)) for accurate signature.\n",
      " |  \n",
      " |  __iter__(self, /)\n",
      " |      Implement iter(self).\n",
      " |  \n",
      " |  __le__(self, value, /)\n",
      " |      Return self<=value.\n",
      " |  \n",
      " |  __len__(self, /)\n",
      " |      Return len(self).\n",
      " |  \n",
      " |  __lt__(self, value, /)\n",
      " |      Return self<value.\n",
      " |  \n",
      " |  __mul__(self, value, /)\n",
      " |      Return self*value.\n",
      " |  \n",
      " |  __ne__(self, value, /)\n",
      " |      Return self!=value.\n",
      " |  \n",
      " |  __repr__(self, /)\n",
      " |      Return repr(self).\n",
      " |  \n",
      " |  __reversed__(self, /)\n",
      " |      Return a reverse iterator over the list.\n",
      " |  \n",
      " |  __rmul__(self, value, /)\n",
      " |      Return value*self.\n",
      " |  \n",
      " |  __setitem__(self, key, value, /)\n",
      " |      Set self[key] to value.\n",
      " |  \n",
      " |  __sizeof__(self, /)\n",
      " |      Return the size of the list in memory, in bytes.\n",
      " |  \n",
      " |  append(self, object, /)\n",
      " |      Append object to the end of the list.\n",
      " |  \n",
      " |  clear(self, /)\n",
      " |      Remove all items from list.\n",
      " |  \n",
      " |  copy(self, /)\n",
      " |      Return a shallow copy of the list.\n",
      " |  \n",
      " |  count(self, value, /)\n",
      " |      Return number of occurrences of value.\n",
      " |  \n",
      " |  extend(self, iterable, /)\n",
      " |      Extend list by appending elements from the iterable.\n",
      " |  \n",
      " |  index(self, value, start=0, stop=9223372036854775807, /)\n",
      " |      Return first index of value.\n",
      " |      \n",
      " |      Raises ValueError if the value is not present.\n",
      " |  \n",
      " |  insert(self, index, object, /)\n",
      " |      Insert object before index.\n",
      " |  \n",
      " |  pop(self, index=-1, /)\n",
      " |      Remove and return item at index (default last).\n",
      " |      \n",
      " |      Raises IndexError if list is empty or index is out of range.\n",
      " |  \n",
      " |  remove(self, value, /)\n",
      " |      Remove first occurrence of value.\n",
      " |      \n",
      " |      Raises ValueError if the value is not present.\n",
      " |  \n",
      " |  reverse(self, /)\n",
      " |      Reverse *IN PLACE*.\n",
      " |  \n",
      " |  sort(self, /, *, key=None, reverse=False)\n",
      " |      Sort the list in ascending order and return None.\n",
      " |      \n",
      " |      The sort is in-place (i.e. the list itself is modified) and stable (i.e. the\n",
      " |      order of two equal elements is maintained).\n",
      " |      \n",
      " |      If a key function is given, apply it once to each list item and sort them,\n",
      " |      ascending or descending, according to their function values.\n",
      " |      \n",
      " |      The reverse flag can be set to sort in descending order.\n",
      " |  \n",
      " |  ----------------------------------------------------------------------\n",
      " |  Class methods defined here:\n",
      " |  \n",
      " |  __class_getitem__(...) from builtins.type\n",
      " |      See PEP 585\n",
      " |  \n",
      " |  ----------------------------------------------------------------------\n",
      " |  Static methods defined here:\n",
      " |  \n",
      " |  __new__(*args, **kwargs) from builtins.type\n",
      " |      Create and return a new object.  See help(type) for accurate signature.\n",
      " |  \n",
      " |  ----------------------------------------------------------------------\n",
      " |  Data and other attributes defined here:\n",
      " |  \n",
      " |  __hash__ = None\n",
      "\n"
     ]
    }
   ],
   "source": [
    "t = [1 ,2 , 3]\n",
    "help(t)"
   ]
  },
  {
   "cell_type": "markdown",
   "id": "5f5baadb",
   "metadata": {},
   "source": [
    "> Enfin, pour connaître d’un seul coup d’œil toutes les méthodes ou variables associées à un objet, utilisez la fonction **dir() :**"
   ]
  },
  {
   "cell_type": "code",
   "execution_count": 26,
   "id": "f1ceed03",
   "metadata": {
    "slideshow": {
     "slide_type": "slide"
    }
   },
   "outputs": [
    {
     "data": {
      "text/plain": [
       "['BPF',\n",
       " 'LOG4',\n",
       " 'NV_MAGICCONST',\n",
       " 'RECIP_BPF',\n",
       " 'Random',\n",
       " 'SG_MAGICCONST',\n",
       " 'SystemRandom',\n",
       " 'TWOPI',\n",
       " '_Sequence',\n",
       " '_Set',\n",
       " '__all__',\n",
       " '__builtins__',\n",
       " '__cached__',\n",
       " '__doc__',\n",
       " '__file__',\n",
       " '__loader__',\n",
       " '__name__',\n",
       " '__package__',\n",
       " '__spec__',\n",
       " '_accumulate',\n",
       " '_acos',\n",
       " '_bisect',\n",
       " '_ceil',\n",
       " '_cos',\n",
       " '_e',\n",
       " '_exp',\n",
       " '_floor',\n",
       " '_inst',\n",
       " '_log',\n",
       " '_os',\n",
       " '_pi',\n",
       " '_random',\n",
       " '_repeat',\n",
       " '_sha512',\n",
       " '_sin',\n",
       " '_sqrt',\n",
       " '_test',\n",
       " '_test_generator',\n",
       " '_urandom',\n",
       " '_warn',\n",
       " 'betavariate',\n",
       " 'choice',\n",
       " 'choices',\n",
       " 'expovariate',\n",
       " 'gammavariate',\n",
       " 'gauss',\n",
       " 'getrandbits',\n",
       " 'getstate',\n",
       " 'lognormvariate',\n",
       " 'normalvariate',\n",
       " 'paretovariate',\n",
       " 'randbytes',\n",
       " 'randint',\n",
       " 'random',\n",
       " 'randrange',\n",
       " 'sample',\n",
       " 'seed',\n",
       " 'setstate',\n",
       " 'shuffle',\n",
       " 'triangular',\n",
       " 'uniform',\n",
       " 'vonmisesvariate',\n",
       " 'weibullvariate']"
      ]
     },
     "execution_count": 26,
     "metadata": {},
     "output_type": "execute_result"
    }
   ],
   "source": [
    "import random\n",
    "dir(random)"
   ]
  },
  {
   "cell_type": "markdown",
   "id": "aa2d2452",
   "metadata": {
    "slideshow": {
     "slide_type": "slide"
    }
   },
   "source": [
    "### Quelques modules courants"
   ]
  },
  {
   "cell_type": "markdown",
   "id": "8858480d",
   "metadata": {
    "slideshow": {
     "slide_type": "slide"
    }
   },
   "source": [
    "Il existe une série de modules que vous serez probablement amenés à utiliser si vous programmez en Python. En voici une liste non exhaustive. Pour la liste complète, reportez-vous à la page des modules ( https://docs.python.org/fr/3/py-modindex.html) sur le site de Python :\n",
    "* **math :**  fonctions et constantes mathématiques de base.\n",
    "* **sys :** interaction avec l’interpréteur Python, passage d’arguments.\n",
    "* **os :** dialogue avec le système d’exploitation.\n",
    "* **random :** génération de nombres aléatoires.\n",
    "* **time :** accès à l’heure de l’ordinateur et aux fonctions gérant le temps.\n",
    "* **urllib :** récupération de données sur internet depuis Python.\n",
    "* **Tkinter :** interface python avec Tk. Création d’objets graphiques.\n",
    "* **re :** gestion des expressions régulières. \n",
    "\n",
    "Il existe de nombreux autres modules externes qui ne sont pas installés de base dans Python. Citons-en quelques-uns : \n",
    "* **NumPy** (manipulations de vecteurs et de matrices, algèbre linéaire)\n",
    "* **matplotlib** (représentations graphiques : courbes, nuages de points, diagrammes en bâtons. . . )\n",
    "* **pandas** (analyse de données)"
   ]
  },
  {
   "cell_type": "markdown",
   "id": "90812232",
   "metadata": {
    "slideshow": {
     "slide_type": "slide"
    }
   },
   "source": [
    "### Module random : génération de nombres aléatoires"
   ]
  },
  {
   "cell_type": "markdown",
   "id": "c54a9dd7",
   "metadata": {
    "slideshow": {
     "slide_type": "slide"
    }
   },
   "source": [
    "Comme indiqué précédemment le module **random** contient des fonctions pour la génération de nombres aléatoires :"
   ]
  },
  {
   "cell_type": "code",
   "execution_count": 31,
   "id": "aeee7814",
   "metadata": {
    "slideshow": {
     "slide_type": "slide"
    }
   },
   "outputs": [
    {
     "data": {
      "text/plain": [
       "5"
      ]
     },
     "execution_count": 31,
     "metadata": {},
     "output_type": "execute_result"
    }
   ],
   "source": [
    "import random\n",
    "random.randint(0, 10)"
   ]
  },
  {
   "cell_type": "code",
   "execution_count": 32,
   "id": "f96f3053",
   "metadata": {
    "slideshow": {
     "slide_type": "slide"
    }
   },
   "outputs": [
    {
     "data": {
      "text/plain": [
       "2"
      ]
     },
     "execution_count": 32,
     "metadata": {},
     "output_type": "execute_result"
    }
   ],
   "source": [
    "random.randint(0, 10)"
   ]
  },
  {
   "cell_type": "code",
   "execution_count": 33,
   "id": "55b3ddc6",
   "metadata": {},
   "outputs": [
    {
     "data": {
      "text/plain": [
       "8.978620505338297"
      ]
     },
     "execution_count": 33,
     "metadata": {},
     "output_type": "execute_result"
    }
   ],
   "source": [
    "random.uniform(0, 10)"
   ]
  },
  {
   "cell_type": "code",
   "execution_count": 34,
   "id": "887d964c",
   "metadata": {},
   "outputs": [
    {
     "data": {
      "text/plain": [
       "0.6696305528296154"
      ]
     },
     "execution_count": 34,
     "metadata": {},
     "output_type": "execute_result"
    }
   ],
   "source": [
    "random.uniform(0, 10)"
   ]
  },
  {
   "cell_type": "markdown",
   "id": "fb6e8ca6",
   "metadata": {},
   "source": [
    "Le module random permet aussi de permuter aléatoirement des listes :"
   ]
  },
  {
   "cell_type": "code",
   "execution_count": 35,
   "id": "c11f428a",
   "metadata": {},
   "outputs": [],
   "source": [
    "x=[1,2,3,4]"
   ]
  },
  {
   "cell_type": "code",
   "execution_count": 36,
   "id": "0e09a6b5",
   "metadata": {},
   "outputs": [],
   "source": [
    "random.shuffle(x)"
   ]
  },
  {
   "cell_type": "code",
   "execution_count": 37,
   "id": "fab03d3d",
   "metadata": {},
   "outputs": [
    {
     "data": {
      "text/plain": [
       "[1, 3, 2, 4]"
      ]
     },
     "execution_count": 37,
     "metadata": {},
     "output_type": "execute_result"
    }
   ],
   "source": [
    "x"
   ]
  },
  {
   "cell_type": "code",
   "execution_count": 38,
   "id": "1e0c1392",
   "metadata": {},
   "outputs": [],
   "source": [
    "random.shuffle(x)"
   ]
  },
  {
   "cell_type": "code",
   "execution_count": 39,
   "id": "a7be8f84",
   "metadata": {},
   "outputs": [
    {
     "data": {
      "text/plain": [
       "[4, 2, 1, 3]"
      ]
     },
     "execution_count": 39,
     "metadata": {},
     "output_type": "execute_result"
    }
   ],
   "source": [
    "x"
   ]
  },
  {
   "cell_type": "markdown",
   "id": "73127ee8",
   "metadata": {},
   "source": [
    "Mais aussi de tirer alétoirement un ou plusieurs éléments dans une liste donnée.\n",
    "\n",
    "> La fonction **choice()** tire aléatoirement un élément d’une liste alors que **choices()** (avec un s à la fin) réalise plusieurs tirages aléatoires, dont le nombre est précisé par le paramètre **k**."
   ]
  },
  {
   "cell_type": "code",
   "execution_count": 40,
   "id": "3992d664",
   "metadata": {},
   "outputs": [],
   "source": [
    "bases = [\"A\", \"T\", \"C\", \"G\"]"
   ]
  },
  {
   "cell_type": "code",
   "execution_count": 42,
   "id": "63211a79",
   "metadata": {},
   "outputs": [
    {
     "data": {
      "text/plain": [
       "'T'"
      ]
     },
     "execution_count": 42,
     "metadata": {},
     "output_type": "execute_result"
    }
   ],
   "source": [
    "random.choice(bases)"
   ]
  },
  {
   "cell_type": "code",
   "execution_count": 43,
   "id": "07dc9735",
   "metadata": {},
   "outputs": [
    {
     "data": {
      "text/plain": [
       "'G'"
      ]
     },
     "execution_count": 43,
     "metadata": {},
     "output_type": "execute_result"
    }
   ],
   "source": [
    "random.choice(bases)"
   ]
  },
  {
   "cell_type": "code",
   "execution_count": 44,
   "id": "8f3cecd0",
   "metadata": {},
   "outputs": [
    {
     "data": {
      "text/plain": [
       "['T', 'A', 'G', 'C', 'G']"
      ]
     },
     "execution_count": 44,
     "metadata": {},
     "output_type": "execute_result"
    }
   ],
   "source": [
    "random.choices(bases , k=5)"
   ]
  },
  {
   "cell_type": "code",
   "execution_count": 47,
   "id": "149da56a",
   "metadata": {},
   "outputs": [
    {
     "data": {
      "text/plain": [
       "['C', 'C', 'T']"
      ]
     },
     "execution_count": 47,
     "metadata": {},
     "output_type": "execute_result"
    }
   ],
   "source": [
    "random.choices(bases , k=3)"
   ]
  },
  {
   "cell_type": "code",
   "execution_count": 48,
   "id": "b95772b2",
   "metadata": {},
   "outputs": [
    {
     "data": {
      "text/plain": [
       "['G', 'T', 'A', 'C', 'G', 'A', 'A', 'G', 'C', 'A']"
      ]
     },
     "execution_count": 48,
     "metadata": {},
     "output_type": "execute_result"
    }
   ],
   "source": [
    "random.choices(bases , k=10)"
   ]
  },
  {
   "cell_type": "markdown",
   "id": "7cae7ac3",
   "metadata": {},
   "source": [
    "**Graine Aléatoire** \n",
    "\n",
    "Pour des besoins de reproductibilité des analyses en science, on a souvent besoin de retrouver les mêmes résultats même si on utilise des nombres aléatoires. Pour cela, on peut définir ce qu’on appelle la **« graine aléatoire »**.\n",
    "\n",
    "**Définition:**\n",
    "En informatique, la généreration de nombres aléatoires est un problème complexe. On utilise plutôt des « générateurs de nombres pseudo-aléatoires ». Pour cela, une graine aléatoire doit être définie. Cette graine est la plupart du temps un nombre entier qu’on passe au générateur, celui-ci va alors produire une série donnée de nombres pseudo-aléatoires qui dépendent de cette graine. Si on change la graine, la série de nombres change.\n",
    "\n",
    "> En Python, la graine aléatoire se définit avec la fonction **seed() :**\n",
    "\n",
    "\n"
   ]
  },
  {
   "cell_type": "code",
   "execution_count": 57,
   "id": "01dbe6d5",
   "metadata": {},
   "outputs": [],
   "source": [
    "random.seed(42)"
   ]
  },
  {
   "cell_type": "code",
   "execution_count": 58,
   "id": "1a24e486",
   "metadata": {},
   "outputs": [
    {
     "data": {
      "text/plain": [
       "10"
      ]
     },
     "execution_count": 58,
     "metadata": {},
     "output_type": "execute_result"
    }
   ],
   "source": [
    "random.randint(0, 10)"
   ]
  },
  {
   "cell_type": "code",
   "execution_count": 59,
   "id": "406b709c",
   "metadata": {},
   "outputs": [
    {
     "data": {
      "text/plain": [
       "1"
      ]
     },
     "execution_count": 59,
     "metadata": {},
     "output_type": "execute_result"
    }
   ],
   "source": [
    "random.randint(0, 10)"
   ]
  },
  {
   "cell_type": "code",
   "execution_count": 60,
   "id": "7931a97d",
   "metadata": {},
   "outputs": [
    {
     "data": {
      "text/plain": [
       "0"
      ]
     },
     "execution_count": 60,
     "metadata": {},
     "output_type": "execute_result"
    }
   ],
   "source": [
    "random.randint(0, 10)"
   ]
  },
  {
   "cell_type": "markdown",
   "id": "2cd09161",
   "metadata": {},
   "source": [
    "Ici la graine aléatoire est fixée à 42. Si on ne précise pas la graine, par défaut Python utilise la date. Plus précisément, il s’agit du nombre de secondes écoulées depuis une date donnée du passé. Ainsi, à chaque fois qu’on relance Python, la graine sera différente car ce nombre de secondes sera différent.\n",
    "\n",
    "Si vous exécutez ces mêmes lignes de code (depuis l’instruction **random.seed(42)**), vous devriez systématiquement obtenir les mêmes résultats si vous relancez plusieurs fois de suite ces instructions sur une même machine."
   ]
  },
  {
   "cell_type": "code",
   "execution_count": 61,
   "id": "596e8d0e",
   "metadata": {},
   "outputs": [],
   "source": [
    "random.seed(52)"
   ]
  },
  {
   "cell_type": "code",
   "execution_count": 62,
   "id": "91b4c5dc",
   "metadata": {},
   "outputs": [
    {
     "data": {
      "text/plain": [
       "4"
      ]
     },
     "execution_count": 62,
     "metadata": {},
     "output_type": "execute_result"
    }
   ],
   "source": [
    "random.randint(0, 10)"
   ]
  },
  {
   "cell_type": "code",
   "execution_count": 63,
   "id": "c4f87514",
   "metadata": {},
   "outputs": [
    {
     "data": {
      "text/plain": [
       "0"
      ]
     },
     "execution_count": 63,
     "metadata": {},
     "output_type": "execute_result"
    }
   ],
   "source": [
    "random.randint(0, 10)"
   ]
  },
  {
   "cell_type": "code",
   "execution_count": 64,
   "id": "0c9407cb",
   "metadata": {},
   "outputs": [
    {
     "data": {
      "text/plain": [
       "8"
      ]
     },
     "execution_count": 64,
     "metadata": {},
     "output_type": "execute_result"
    }
   ],
   "source": [
    "random.randint(0, 10)"
   ]
  },
  {
   "cell_type": "markdown",
   "id": "63bbead5",
   "metadata": {},
   "source": [
    "**Remarque**\n",
    "\n",
    "Quand on utlise des nombres aléatoires, il est fondamental de connaitre la distribution de probablités utilisée par la fonction. Par exemple, \n",
    "* La fonction de base du module **random** est **random.random()**, elle renvoie un float aléatoire entre 0 et 1 tiré dans une distribution uniforme. Si on tire beaucoup de nombres, on aura la même probabilité d’obtenir tous les nombres possibles entre 0 et 1. \n",
    "* La fonction **random.randint()** tire aussi un entier dans une distribution uniforme. \n",
    "* La fonction **random.gauss()** tire quant à elle un float aléatoire dans une distribution Gaussienne.\n"
   ]
  },
  {
   "cell_type": "markdown",
   "id": "861b7c46",
   "metadata": {},
   "source": [
    "### Module sys : passage d’arguments"
   ]
  },
  {
   "cell_type": "markdown",
   "id": "532284d4",
   "metadata": {},
   "source": [
    "Le module **sys** contient des fonctions et des variables spécifiques à l’interpréteur Python lui-même. \n",
    "Ce module est particulièrement intéressant pour récupérer les arguments passés à un script Python lorsque celui-ci est appelé en ligne de commande.\n",
    "\n",
    "Dans cet exemple, créons le court script suivant que l’on enregistrera sous le nom sysArg0.py :\n",
    "```\n",
    "import sys\n",
    "print(sys.argv)\n",
    "```\n",
    "\n",
    "Ensuite, dans un shell, exécutons le script test.py suivi de plusieurs arguments. Par exemple :\n",
    "```\n",
    " $ python sysArg0.py salut girafe 42\n",
    " ['sysArg0.py', 'salut', 'girafe', '42']\n",
    "```\n",
    "* Ligne 1. Le caractère ***```$```*** représente l’invite du shell, ***sysArg0.py*** est le nom du script Python, ***salut, girafe et 42*** sont les arguments passés au script (tous séparés par un espace).\n",
    "* Ligne 2. Le script affiche le contenu de la variable sys.argv. Cette variable est une liste qui contient tous les arguments de la ligne de commande, y compris le nom du script lui-même qu’on retrouve comme premier élément de cette liste dans sys.argv[0]. On peut donc accéder à chacun des arguments du script avec sys.argv[1], sys.argv[2]. . .\n",
    "\n",
    "Toujours dans le module sys, la fonction sys.exit() est utile pour quitter un script Python. On peut donner un argument à cette fonction (en général une chaîne de caractères) qui sera renvoyé au moment où Python quittera le script. Par exemple, si vous attendez au moins un argument en ligne de commande, vous pouvez renvoyer un message pour indiquer à l’utilisateur ce que le script attend comme argument :\n",
    "\n",
    "```\n",
    "import sys\n",
    "if len(sys.argv) != 2:\n",
    "    sys.exit(\"ERREUR : il faut exactement un argument.\")\n",
    "print(f\"Argument vaut : {sys.argv[1]}\")\n",
    "```\n",
    "Puis on l’exécute sans argument :\n",
    "```\n",
    "$ python sysArg1.py\n",
    "ERREUR : il faut exactement un argument.\n",
    "```\n",
    "et avec un argument :\n",
    "```\n",
    "$ python sysArg1.py 42\n",
    "Argument vaut : 42\n",
    "```\n",
    "\n",
    "**Remarque** : Notez qu’ici on vérifie que le script possède deux arguments car le nom du script lui-même compte pour un argument (le tout premier). L’intérêt de récupérer des arguments passés dans la ligne de commande à l’appel du script est de pouvoir ensuite les utiliser dans le script.\n",
    "\n",
    "> **Exemple** : Le script compte_lignes.py qui va prendre comme argument le nom d’un fichier puis afficher le nombre de lignes qu’il contient.\n",
    "\n",
    "```\n",
    "import sys\n",
    "if len(sys.argv) != 2:\n",
    "    sys.exit(\"ERREUR : il faut exactement un argument.\")\n",
    "\n",
    "nom_fichier = sys.argv[1]\n",
    "taille = 0\n",
    "with open(nom_fichier , \"r\") as f_in:\n",
    "    taille = len(f_in.readlines()) \n",
    "\n",
    "print(f\"{nom_fichier} contient {taille} lignes.\")\n",
    "```\n",
    "\n",
    "Supposons que dans le même répertoire, nous ayons le fichier **zoo1.txt** dont voici le contenu Supposons que dans le même répertoire, nous ayons le fichier **zoo1.txt** dont voici le contenu `:\n",
    "\n",
    "```\n",
    "girafe \n",
    "tigre\n",
    "singe \n",
    "souris\n",
    "```\n",
    "et le fichier zoo2.txt qui contient :\n",
    "\n",
    "```\n",
    "poisson \n",
    "abeille \n",
    "chat\n",
    "```\n",
    "Utilisons maintenant notre script compte_lignes.py :\n",
    "\n",
    "```\n",
    "$ python compte_lignes.py\n",
    "ERREUR : il faut exactement un argument. \n",
    "$ python compte_lignes.py zoo1.txt \n",
    "zoo1.txt contient 4 lignes.\n",
    "$ python compte_lignes.py zoo2.txt \n",
    "zoo2.txt contient 3 lignes.\n",
    "```\n",
    "**Notre script est donc capable de :**\n",
    "* Vérifier si un argument lui est donné et si ce n’est pas le cas d’afficher un message d’erreur.\n",
    "* D’ouvrir le fichier dont le nom est fourni en argument, de compter puis d’afficher le nombre de lignes. Par contre, le script ne vérifie pas si le fichier existe bien :\n",
    "\n",
    "```\n",
    "$ python compte_lignes.py zoo3.txt \n",
    "Traceback (most recent call last):\n",
    " File \"compte_lignes.py\", line 8, in <module >    \n",
    "  with open(nom_fichier , \"r\") as f_in:\n",
    "FileNotFoundError: [Errno 2] No such file or directory: 'zoo3.txt'\n",
    "```"
   ]
  },
  {
   "cell_type": "markdown",
   "id": "1a62a085",
   "metadata": {},
   "source": [
    "### Module os : interaction avec le système d’exploitation"
   ]
  },
  {
   "cell_type": "markdown",
   "id": "79f3d2f4",
   "metadata": {},
   "source": [
    "Le module **os** gère l’interface avec le système d’exploitation.\n",
    "La fonction **os.path.exists()** est une fonction pratique de ce module qui vérifie la présence d’un fichier sur le disque dur."
   ]
  },
  {
   "cell_type": "code",
   "execution_count": 65,
   "id": "131349af",
   "metadata": {
    "slideshow": {
     "slide_type": "slide"
    }
   },
   "outputs": [
    {
     "ename": "SystemExit",
     "evalue": "le fichier est absent",
     "output_type": "error",
     "traceback": [
      "An exception has occurred, use %tb to see the full traceback.\n",
      "\u001b[0;31mSystemExit\u001b[0m\u001b[0;31m:\u001b[0m le fichier est absent\n"
     ]
    },
    {
     "name": "stderr",
     "output_type": "stream",
     "text": [
      "/usr/local/lib/python3.9/dist-packages/IPython/core/interactiveshell.py:3449: UserWarning: To exit: use 'exit', 'quit', or Ctrl-D.\n",
      "  warn(\"To exit: use 'exit', 'quit', or Ctrl-D.\", stacklevel=1)\n"
     ]
    }
   ],
   "source": [
    "import sys\n",
    "import os\n",
    "if os.path.exists(\"toto.pdb\"):\n",
    "    print(\"le fichier est présent\") \n",
    "else:\n",
    "    sys.exit(\"le fichier est absent\")"
   ]
  },
  {
   "cell_type": "markdown",
   "id": "363cf122",
   "metadata": {},
   "source": [
    "Dans cet exemple, si le fichier n’existe pas sur le disque, on quitte le programme avec la fonction **exit()** du module **sys** que nous venons de voir.\n",
    "La fonction **os.getcwd()** renvoie le répertoire (sous forme de chemin complet) depuis lequel est lancé Python :"
   ]
  },
  {
   "cell_type": "code",
   "execution_count": 66,
   "id": "c9e36369",
   "metadata": {},
   "outputs": [
    {
     "data": {
      "text/plain": [
       "'/root/ipynbs/Tutorials/sparkBasics/Modules'"
      ]
     },
     "execution_count": 66,
     "metadata": {},
     "output_type": "execute_result"
    }
   ],
   "source": [
    "import os\n",
    "os.getcwd()"
   ]
  },
  {
   "cell_type": "markdown",
   "id": "9b10f95f",
   "metadata": {
    "slideshow": {
     "slide_type": "slide"
    }
   },
   "source": [
    "Enfin, la fonction **os.listdir()** renvoie le contenu du répertoire depuis lequel est lancé Python :"
   ]
  },
  {
   "cell_type": "code",
   "execution_count": 67,
   "id": "45b48076",
   "metadata": {},
   "outputs": [
    {
     "data": {
      "text/plain": [
       "['.ipynb_checkpoints',\n",
       " 'sysArg1.py',\n",
       " 'compte_lignes.py',\n",
       " 'sysArg0.py',\n",
       " 'Modules.ipynb',\n",
       " 'message.py',\n",
       " 'message2.py',\n",
       " 'inputCL.txt',\n",
       " 'message3.py',\n",
       " '__pycache__',\n",
       " 'zoo1.txt',\n",
       " 'zoo2.txt']"
      ]
     },
     "execution_count": 67,
     "metadata": {},
     "output_type": "execute_result"
    }
   ],
   "source": [
    "import os\n",
    "os.listdir()"
   ]
  },
  {
   "cell_type": "markdown",
   "id": "1251f5e4",
   "metadata": {
    "slideshow": {
     "slide_type": "slide"
    }
   },
   "source": [
    "Le résultat est renvoyé sous forme d’une liste contenant à la fois le nom des fichiers et des répertoires. Il existe de nombreuse autres fonctions dans le module os, n’hésitez pas à consulter la documentation."
   ]
  },
  {
   "cell_type": "markdown",
   "id": "d27a08f7",
   "metadata": {
    "slideshow": {
     "slide_type": "slide"
    }
   },
   "source": [
    "## Création de modules"
   ]
  },
  {
   "cell_type": "markdown",
   "id": "9762a48e",
   "metadata": {},
   "source": [
    "### Pourquoi créer ses propres modules ?"
   ]
  },
  {
   "cell_type": "markdown",
   "id": "831f7dfc",
   "metadata": {},
   "source": [
    "Nous avons découvert quelques modules existants dans Python comme **random**, **math**, etc. \n",
    "Nous avons vu par ailleurs que les fonctions sont utiles pour réutiliser une fraction de code plusieurs fois au sein d’un même programme sans avoir à dupliquer ce code. \n",
    "On peut imaginer qu’une fonction bien écrite pourrait être judicieusement réutilisée dans un autre programme Python. \n",
    "> C’est justement l’intérêt de créer un module. On y met un ensemble de fonctions que l’on peut être amené à utiliser souvent. En général, les modules sont regroupés autour d’un thème précis. \n",
    ">> Par exemple, on pourrait concevoir un module d’analyse de séquences biologiques ou encore de gestion de fichiers de format special."
   ]
  },
  {
   "cell_type": "markdown",
   "id": "df97a288",
   "metadata": {},
   "source": [
    "### Création de son propore module"
   ]
  },
  {
   "cell_type": "markdown",
   "id": "e48974c8",
   "metadata": {},
   "source": [
    "En Python, la création d’un module est très simple. Il suffit d’écrire un ensemble de fonctions (et/ou de constantes) dans un fichier, puis d’enregistrer ce dernier avec une extension .py (comme n’importe quel script Python). \n",
    "> À titre d’exemple, nous allons créer un module simple que nous enregistrerons sous le nom **message.py :**\n",
    "```\n",
    "\"\"\" Module inutile qui affiche des messages : -).\"\"\"\n",
    "\n",
    "DATE = 16092022\n",
    "\n",
    "def bonjour(nom):\n",
    "    \"\"\" Dit Bonjour .\"\"\"\n",
    "    return \"Bonjour \" + nom\n",
    "\n",
    "def ciao(nom):\n",
    "    \"\"\" Dit Ciao .\"\"\"\n",
    "    return \"Ciao \" + nom\n",
    "\n",
    "def hello(nom):\n",
    "    \"\"\" Dit Hello .\"\"\"\n",
    "    return \"Hello \" + nom\n",
    "```\n",
    "\n",
    "> Les chaînes de caractères entre triple guillemets en tête du module et en tête de chaque fonction sont facultatives, mais elles jouent néanmoins un rôle essentiel dans la documentation du code.\n",
    "\n",
    "**Remarque**\n",
    "\n",
    "Une constante est, par définition, une variable dont la valeur n’est pas modifiée. Par convention en Python, le nom des constantes est écrit en majuscules (comme DATE dans notre exemple).\n",
    "  "
   ]
  },
  {
   "cell_type": "markdown",
   "id": "5d5c7659",
   "metadata": {},
   "source": [
    "### Utilisation de son propre module"
   ]
  },
  {
   "cell_type": "markdown",
   "id": "0231d646",
   "metadata": {},
   "source": [
    "Pour appeler une fonction ou une variable de ce module, il faut que le fichier *message.py* soit dans le répertoire courant (dans lequel on travaille) ou bien dans un répertoire listé par la variable d’environnement PYTHONPATH de votre système d’exploitation. \n",
    "Ensuite, il suffit d’importer le module et toutes ses fonctions (et constantes) vous sont alors accessibles.\n",
    "\n",
    "**Remarque**\n",
    "\n",
    "* Avec Mac OS X et Linux, il faut taper la commande suivante depuis un shell Bash pour modifier la variable d’environnement PYTHONPATH :\n",
    "```\n",
    "export PYTHONPATH=$PYTHONPATH:/chemin/vers/mon/super/module\n",
    "```\n",
    "* Avec Windows, mais depuis un shell PowerShell, il faut taper la commande suivante : \n",
    "\n",
    "``` \n",
    "$env:PYTHONPATH += \";C:\\chemin\\vers\\mon\\super\\module\"\n",
    "```\n",
    "Une fois cette manipulation effectuée, vous pouvez contrôler que le chemin vers le répertoire contenant vos modules a bien été ajouté à la variable d’environnement PYTHONPATH :\n",
    "* sous Mac OS X et Linux : \n",
    "```\n",
    "echo $PYTHONPATH\n",
    "```\n",
    "\n",
    "* sous Windows : \n",
    "```\n",
    "echo $env:PYTHONPATH\n",
    "```\n",
    "\n",
    "Le chargement du module se fait avec la commande \n",
    "```\n",
    "import message\n",
    "```\n",
    "\n",
    "Notez que le fichier est bien enregistré avec une extension **.py** et pourtant on ne la précise pas lorsqu’on importe le module. \n",
    "\n",
    "Ensuite, on peut utiliser les fonctions comme avec un module classique."
   ]
  },
  {
   "cell_type": "code",
   "execution_count": 69,
   "id": "48610735",
   "metadata": {},
   "outputs": [
    {
     "data": {
      "text/plain": [
       "'Hello Stepane'"
      ]
     },
     "execution_count": 69,
     "metadata": {},
     "output_type": "execute_result"
    }
   ],
   "source": [
    "import message\n",
    "message.hello (\"Stepane\") "
   ]
  },
  {
   "cell_type": "code",
   "execution_count": 70,
   "id": "e977ec99",
   "metadata": {},
   "outputs": [
    {
     "data": {
      "text/plain": [
       "'Ciao Paul'"
      ]
     },
     "execution_count": 70,
     "metadata": {},
     "output_type": "execute_result"
    }
   ],
   "source": [
    "message.ciao(\"Paul\")"
   ]
  },
  {
   "cell_type": "code",
   "execution_count": 71,
   "id": "555e4453",
   "metadata": {},
   "outputs": [
    {
     "data": {
      "text/plain": [
       "'Bonjour Monsieur'"
      ]
     },
     "execution_count": 71,
     "metadata": {},
     "output_type": "execute_result"
    }
   ],
   "source": [
    "message.bonjour(\"Monsieur\")"
   ]
  },
  {
   "cell_type": "code",
   "execution_count": 72,
   "id": "e7495b35",
   "metadata": {},
   "outputs": [
    {
     "data": {
      "text/plain": [
       "16092022"
      ]
     },
     "execution_count": 72,
     "metadata": {},
     "output_type": "execute_result"
    }
   ],
   "source": [
    "message.DATE"
   ]
  },
  {
   "cell_type": "markdown",
   "id": "0050ea80",
   "metadata": {},
   "source": [
    "**Remarque**\n",
    "> La première fois qu’un module est importé, Python crée un répertoire nommé __pycache__ contenant un fichier avec une extension .pyc qui contient le bytecode, c’est-à-dire le code précompilé du module.\n"
   ]
  },
  {
   "cell_type": "markdown",
   "id": "d59dba6d",
   "metadata": {},
   "source": [
    "### Les docstrings"
   ]
  },
  {
   "cell_type": "markdown",
   "id": "d2d542d6",
   "metadata": {},
   "source": [
    "Lorsqu’on écrit un module, il est important de créer de la documentation pour expliquer ce que fait le module et comment utiliser chaque fonction. \n",
    "\n",
    "Les chaînes de caractères entre triple guillemets situées en début du module et de chaque fonction sont là pour cela, on les appelle docstrings (« chaînes de documentation » en français). \n",
    "\n",
    "Ces docstrings permettent notamment de fournir de l’aide lorsqu’on invoque la commande **help() :**"
   ]
  },
  {
   "cell_type": "code",
   "execution_count": null,
   "id": "662f3cda",
   "metadata": {},
   "outputs": [],
   "source": [
    "help(message)"
   ]
  },
  {
   "cell_type": "markdown",
   "id": "92b78ecc",
   "metadata": {},
   "source": [
    "**Remarque:** \n",
    "> Si vous êtes en mode **Shell**, pressez la touche **Q** pour quitter l’aide. "
   ]
  },
  {
   "cell_type": "markdown",
   "id": "627ded69",
   "metadata": {},
   "source": [
    "Vous remarquez que Python a généré automatiquement cette page d’aide, tout comme il est capable de le faire pour les modules internes à Python (random, math, etc.) et ce grâce aux docstrings. \n",
    "> Notez que l’on peut aussi appeler l’aide pour une seule fonction :"
   ]
  },
  {
   "cell_type": "code",
   "execution_count": null,
   "id": "cdbb1092",
   "metadata": {},
   "outputs": [],
   "source": [
    "help(message.ciao)"
   ]
  },
  {
   "cell_type": "markdown",
   "id": "86f92f37",
   "metadata": {},
   "source": [
    "En résumé, les docstrings sont destinés aux utilisateurs du module. Leur but est différent des commentaires qui, eux, sont destinés à celui qui lit le code (pour en comprendre les subtilités). \n",
    "\n",
    "Une bonne docstring de fonction doit contenir tout ce dont un utilisateur a besoin pour utiliser cette fonction. \n",
    "\n",
    "Une liste minimale et non exhaustive serait :\n",
    "* ce que fait la fonction,\n",
    "* ce qu’elle prend en argument,\n",
    "* ce qu’elle renvoie.\n"
   ]
  },
  {
   "cell_type": "markdown",
   "id": "26426e68",
   "metadata": {},
   "source": [
    "### Visibilité des fonctions dans un module"
   ]
  },
  {
   "cell_type": "markdown",
   "id": "73a24dbb",
   "metadata": {},
   "source": [
    "La visibilité des fonctions au sein des modules suit des règles simples :\n",
    "* Les fonctions dans un même module peuvent s’appeler les unes les autres.\n",
    "* Les fonctions dans un module peuvent appeler des fonctions situées dans un autre module s’il a été préalablement importé. \n",
    "> Par exemple, si la commande **import autremodule** est utilisée dans un module, il est possible d’appeler\n",
    "une fonction avec **autremodule.fonction()**.\n",
    "\n",
    "Toutes ces règles viennent de la manière dont Python gère les espaces de noms. "
   ]
  },
  {
   "cell_type": "markdown",
   "id": "ca2997c8",
   "metadata": {},
   "source": [
    "### Module ou script ?"
   ]
  },
  {
   "cell_type": "markdown",
   "id": "28b2f897",
   "metadata": {},
   "source": [
    "Vous avez remarqué que notre ***module message*** ne contient que des fonctions et une constante. Si on l’exécutait comme un script classique, cela n’afficherait rien :\n",
    "```\n",
    "$ python message.py \n",
    "$\n",
    "```\n",
    "Cela s’explique par l’absence de programme principal, c’est-à-dire, de lignes de code que l’interpréteur exécute lorsqu’on lance le script. \n",
    "À l’inverse, que se passe-t-il alors si on importe un script en tant que module alors qu’il contient un programme principal avec des lignes de code ? \n",
    "\n",
    "Prenons par exemple le script ***message2.py*** suivant :\n",
    "\n",
    "```\n",
    "\"\"\" Script de test .\"\"\"\n",
    "\n",
    "def bonjour(nom):\n",
    "    \"\"\" Dit Bonjour .\"\"\" \n",
    "    return \"Bonjour \" + nom\n",
    "# programme principal \n",
    "print(bonjour(\"Joe\"))\n",
    "```\n"
   ]
  },
  {
   "cell_type": "code",
   "execution_count": null,
   "id": "fa994659",
   "metadata": {},
   "outputs": [],
   "source": [
    "import message2"
   ]
  },
  {
   "cell_type": "markdown",
   "id": "d193c31a",
   "metadata": {},
   "source": [
    "Ceci ***n’est pas le comportement voulu pour un module*** car on n’attend pas d’affichage particulier \n",
    "> par exemple la commande import math n’affiche rien dans l’interpréteur.\n",
    "\n",
    "Afin de pouvoir utiliser un code Python en tant que module ou en tant que script, nous vous conseillons la structure suivante (message3.py) :\n",
    "\n",
    "```\n",
    "\"\"\" Script de test .\"\"\"\n",
    "\n",
    "def bonjour(nom):\n",
    "    \"\"\" Dit Bonjour .\"\"\" \n",
    "    return \"Bonjour \" + nom\n",
    "    \n",
    "if __name__ == \"__main__\": \n",
    "    print(bonjour(\"Joe\"))\n",
    "```\n",
    "\n",
    "> L’instruction if __name__ == \"__main__\": indique à Python : \n",
    ">> Si le programme message3.py est exécuté en tant que script dans un shell, le résultat du test if sera alors True et le bloc d’instructions correspondant sera exécuté.\n",
    "\n",
    "```\n",
    "$ python message3.py \n",
    "Bonjour Joe\n",
    "```\n",
    ">> Si le programme message3.py est importé en tant que module, le résultat du test if sera alors False et le bloc d’instructions correspondant ne sera pas exécuté : \n",
    "\n",
    "```\n",
    "$ import message2\n",
    "  \n",
    "```\n",
    "\n"
   ]
  },
  {
   "cell_type": "code",
   "execution_count": null,
   "id": "4a6b4eb9",
   "metadata": {},
   "outputs": [],
   "source": [
    "import message3"
   ]
  },
  {
   "cell_type": "code",
   "execution_count": null,
   "id": "a01734c8",
   "metadata": {},
   "outputs": [],
   "source": [
    "message3.bonjour(\"Carole\")"
   ]
  },
  {
   "cell_type": "markdown",
   "id": "06e175eb",
   "metadata": {},
   "source": [
    "Au delà de la commodité de pouvoir utiliser votre script en tant que programme ou en tant que module, cela présente l’avantage de bien voir où se situe le programme principal quand on lit le code. \n",
    "\n",
    "Ainsi, plus besoin d’ajouter un commentaire *# programme principal*. \n",
    "L’utilisation de la ligne if __name__ == \"__main__\": est une bonne pratique que nous vous recommandons !\n"
   ]
  }
 ],
 "metadata": {
  "celltoolbar": "Diaporama",
  "kernelspec": {
   "display_name": "Python 3.10.6 64-bit",
   "language": "python",
   "name": "python3"
  },
  "language_info": {
   "codemirror_mode": {
    "name": "ipython",
    "version": 3
   },
   "file_extension": ".py",
   "mimetype": "text/x-python",
   "name": "python",
   "nbconvert_exporter": "python",
   "pygments_lexer": "ipython3",
   "version": "3.10.6"
  },
  "vscode": {
   "interpreter": {
    "hash": "916dbcbb3f70747c44a77c7bcd40155683ae19c65e1c03b4aa3499c5328201f1"
   }
  }
 },
 "nbformat": 4,
 "nbformat_minor": 5
}
