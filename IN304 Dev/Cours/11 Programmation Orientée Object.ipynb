{
 "cells": [
  {
   "cell_type": "markdown",
   "id": "89c70f35",
   "metadata": {},
   "source": [
    "# Programmation Orientée Objet"
   ]
  },
  {
   "cell_type": "markdown",
   "id": "b3a91cf5",
   "metadata": {},
   "source": [
    "# Table of Contents\n",
    "- [Introduction à la Programmation Orientée Objet](#Introduction-à-la-Programmation-Orientée-Objet)\n",
    "    - [Définition d'une Classe](#Définition-d'une-Classe)\n",
    "- [Construction d'une classe](#Construction-d'une-classe)\n",
    "    - [La classe minimale](#La-classe-minimale)\n",
    "    - [Ajout-d’un-attribut-d’instance](#Ajout-d’un-attribut-d’instance)\n",
    "    - [Les-attributs-de-classe](#Les-attributs-de-classe)\n",
    "    - [Les méthodes](#Les-méthodes)\n",
    "    - [Le constructeur](#Le-constructeur)\n",
    "    - [Passage d’argument(s) à l’instanciation](#Passage-d’argument(s)-à-l’instanciation)\n",
    "    - [Mieux comprendre le rôle du self](#Mieux-comprendre-le-rôle-du-self)\n",
    "    - [Différence entre les attributs de classe et d’instance](#Différence-entre-les-attributs-de-classe-et-d’instance)\n",
    "- [Espace de noms](#Espace-de-noms)\n",
    "    - [Rappel sur la règle LGI](#Rappel-sur-la-règle-LGI)\n",
    "    - [Gestion des noms dans les modules](#Gestion-des-noms-dans-les-modules)\n",
    "    - [Gestion des noms avec les classes](#Gestion-des-noms-avec-les-classes)\n",
    "- [Accès et modifications des attributs depuis l’extérieur](#Accès-et-modifications-des-attributs-depuis-l’extérieur)\n",
    "    - [Le problème](#Le-problème)\n",
    "    - [La solution : la classe property](#La-solution-:-la-classe-property)\n",
    "- [Bonnes pratiques pour construire et manipuler ses classes](#Bonnes-pratiques-pour-construire-et-manipuler-ses-classes)\n",
    "    - [L’accès aux attributs](#L’accès-aux-attributs)\n",
    "    - [Note sur les attributs publics et non publics](#Note-sur-les-attributs-publics-et-non-publics)\n",
    "    - [Classes et docstrings](#Classes-et-docstrings)\n",
    "    - [Autres bonnes pratiques](#Autres-bonnes-pratiques)\n",
    "    - [Les namedtuples](#Les-namedtuples)\n"
   ]
  },
  {
   "cell_type": "markdown",
   "id": "ad004ba0",
   "metadata": {},
   "source": [
    "## Introduction à la Programmation Orientée Objet"
   ]
  },
  {
   "cell_type": "markdown",
   "id": "ab028eed",
   "metadata": {},
   "source": [
    "**La programmation orientée objet (POO)** est un concept de programmation très puissant qui permet de structurer ses programmes de manière très efficace. \n",
    "\n",
    "En POO, on définit un **« objet »** comme une structure qui peut contenir des **« attributs »** ainsi que des **« méthodes »** qui agissent sur lui-même. \n",
    "\n",
    "> Par exemple, on définit un objet **« citron »** qui contient les attributs **« saveur »** et **« couleur »**, ainsi qu’une méthode **« presser »** permettant d’en extraire le jus. \n",
    "\n",
    "En Python, on utilise une **« classe »** pour construire un objet. Dans notre exemple, ***la classe correspondrait au « moule » utilisé pour construire autant d’objets citrons que nécessaire***."
   ]
  },
  {
   "cell_type": "markdown",
   "id": "33cce307",
   "metadata": {},
   "source": [
    "### Définition d'une Classe\n",
    "\n",
    "Une ***classe définit des objets qui sont des instances (des représentants) de cette classe***. On utilisera les mots **objet** ou **instance** pour désigner la même chose. \n",
    "\n",
    "Les **objets** peuvent posséder :\n",
    "* des **attributs** qui sont variables associées aux objets, et \n",
    "* des **méthodes** qui sont des fonctions associées aux objets et qui peuvent agir sur ces derniers ou encore les utiliser."
   ]
  },
  {
   "cell_type": "markdown",
   "id": "d02a06eb",
   "metadata": {},
   "source": [
    "En Python ***tout est objet!*** \n",
    "* Une variable de type int est en fait un objet de type int, donc *construit à partir de la classe int*. \n",
    "* Pareil pour les float et string. \n",
    "* Mais également pour les list, tuple, dict, etc. \n",
    "\n",
    "La **POO** permet de rédiger du code plus compact et mieux ré-utilisable. \n",
    "**L’utilisation de classes évite l’utilisation de variables globales en créant ce qu’on appelle un espace de noms propre à chaque objet permettant d’y encapsuler des attributs et des méthodes.**\n",
    "\n",
    "**la POO** amène de nouveaux concepts tels que: \n",
    "* ***Le polymorphisme*** : capacité à redéfinir le comportement des opérateurs, ou bien encore \n",
    "* ***L’héritage*** : capacité à définir une classe à partir d’une classe pré-existante et d’y ajouter de nouvelles fonctionnalités\n"
   ]
  },
  {
   "cell_type": "markdown",
   "id": "d26f279c",
   "metadata": {},
   "source": [
    "## Construction d'une classe\n",
    "\n",
    "Nous allons voir dans cette section comment définir une classe en reprenant notre exemple sur le citron que nous allons faire évoluer et complexifier. Attention, certains exemples sont destinés à vous montrer comment les classes fonctionnent mais leur utilisation n’aurait pas de sens dans un vrai programme."
   ]
  },
  {
   "cell_type": "markdown",
   "id": "722c4d5c",
   "metadata": {},
   "source": [
    "### La classe minimale\n",
    "\n",
    "En Python, le mot-clé **class** permet de créer sa propre classe, suivi du nom de cette classe. On se souvient, un nom de classe commence toujours par une majuscule. Comme d’habitude, cette ligne attend un bloc d’instructions indenté définissant le corps de la classe."
   ]
  },
  {
   "cell_type": "code",
   "execution_count": 1,
   "id": "ef590d84",
   "metadata": {},
   "outputs": [
    {
     "data": {
      "text/plain": [
       "__main__.Citron"
      ]
     },
     "execution_count": 1,
     "metadata": {},
     "output_type": "execute_result"
    }
   ],
   "source": [
    "class Citron:\n",
    "    pass\n",
    "\n",
    "Citron"
   ]
  },
  {
   "cell_type": "markdown",
   "id": "4836ede8",
   "metadata": {},
   "source": [
    "* La **classe Citron** est définie. Pas besoin de parenthèses comme avec les fonctions dans un cas simple comme celui-là (nous verrons d’autres exemples plus loin où elles sont nécessaires).\n",
    "* La classe ne contient rien, mais il faut mettre au moins une ligne, on met donc ici le mot-clé Python ```pass``` qui ne fait rien. \n",
    "* Quand on tape le nom de notre **classe Citron**, Python nous indique que cette classe est connue."
   ]
  },
  {
   "cell_type": "code",
   "execution_count": 2,
   "id": "ff713a32",
   "metadata": {},
   "outputs": [
    {
     "data": {
      "text/plain": [
       "type"
      ]
     },
     "execution_count": 2,
     "metadata": {},
     "output_type": "execute_result"
    }
   ],
   "source": [
    "type(Citron)"
   ]
  },
  {
   "cell_type": "markdown",
   "id": "8ed6c9ad",
   "metadata": {},
   "source": [
    "Lorsqu’on regarde le **type** de notre **classe Citron**, Python nous indique qu’il s’agit d’un **type** au même titre que ``` type(int)```. \n",
    "Nous avons donc créé un nouveau ```type``` !"
   ]
  },
  {
   "cell_type": "code",
   "execution_count": 3,
   "id": "76008362",
   "metadata": {},
   "outputs": [],
   "source": [
    "citron1 = Citron()"
   ]
  },
  {
   "cell_type": "markdown",
   "id": "88cd5fb0",
   "metadata": {},
   "source": [
    "On crée une **instance** de la **classe Citron**, c’est-à-dire qu’on fabrique un **représentant** ou **objet** de la **classe Citron** que nous nommons ```citron1```."
   ]
  },
  {
   "cell_type": "code",
   "execution_count": 4,
   "id": "37939877",
   "metadata": {},
   "outputs": [
    {
     "data": {
      "text/plain": [
       "<__main__.Citron at 0x7faeb30ec340>"
      ]
     },
     "execution_count": 4,
     "metadata": {},
     "output_type": "execute_result"
    }
   ],
   "source": [
    "citron1"
   ]
  },
  {
   "cell_type": "markdown",
   "id": "1e2bd24d",
   "metadata": {},
   "source": [
    "Lorsqu’on tape le nom de l’instance `citron1`, l’interpréteur nous rappelle qu’il s’agit d’un **objet de type Citron** ainsi que son adresse en mémoire.\n",
    "\n",
    "Il est également possible de vérifier qu’une **instance** est bien issue d’une **classe** donnée avec la fonction ```isinstance()``` :\n"
   ]
  },
  {
   "cell_type": "code",
   "execution_count": 7,
   "id": "397e2ff2",
   "metadata": {},
   "outputs": [
    {
     "data": {
      "text/plain": [
       "True"
      ]
     },
     "execution_count": 7,
     "metadata": {},
     "output_type": "execute_result"
    }
   ],
   "source": [
    "isinstance(citron1 , Citron)"
   ]
  },
  {
   "cell_type": "markdown",
   "id": "28ade6f5",
   "metadata": {},
   "source": [
    "### Ajout d’un attribut d’instance\n",
    "\n",
    "Reprenons notre **classe Citron** et **l’instance citron1** créée précédemment. Regardons les **attributs** et **méthodes** que cet objet possède, puis tentons de lui ajouter un attribut :"
   ]
  },
  {
   "cell_type": "code",
   "execution_count": 8,
   "id": "cef07a22",
   "metadata": {},
   "outputs": [
    {
     "data": {
      "text/plain": [
       "['__class__',\n",
       " '__delattr__',\n",
       " '__dict__',\n",
       " '__dir__',\n",
       " '__doc__',\n",
       " '__eq__',\n",
       " '__format__',\n",
       " '__ge__',\n",
       " '__getattribute__',\n",
       " '__gt__',\n",
       " '__hash__',\n",
       " '__init__',\n",
       " '__init_subclass__',\n",
       " '__le__',\n",
       " '__lt__',\n",
       " '__module__',\n",
       " '__ne__',\n",
       " '__new__',\n",
       " '__reduce__',\n",
       " '__reduce_ex__',\n",
       " '__repr__',\n",
       " '__setattr__',\n",
       " '__sizeof__',\n",
       " '__str__',\n",
       " '__subclasshook__',\n",
       " '__weakref__']"
      ]
     },
     "execution_count": 8,
     "metadata": {},
     "output_type": "execute_result"
    }
   ],
   "source": [
    "dir(citron1)"
   ]
  },
  {
   "cell_type": "markdown",
   "id": "86ef3ee9",
   "metadata": {},
   "source": [
    "L’objet possède de nombreuses **méthodes** ou **attributs** qui commencent et qui se terminent par deux caractères underscores. Les *underscores* indiquent qu’il s’agit de méthodes ou attributs destinés au fonctionnement interne de l’objet."
   ]
  },
  {
   "cell_type": "code",
   "execution_count": 9,
   "id": "e52e31b3",
   "metadata": {},
   "outputs": [
    {
     "data": {
      "text/plain": [
       "['__class__',\n",
       " '__delattr__',\n",
       " '__dict__',\n",
       " '__dir__',\n",
       " '__doc__',\n",
       " '__eq__',\n",
       " '__format__',\n",
       " '__ge__',\n",
       " '__getattribute__',\n",
       " '__gt__',\n",
       " '__hash__',\n",
       " '__init__',\n",
       " '__init_subclass__',\n",
       " '__le__',\n",
       " '__lt__',\n",
       " '__module__',\n",
       " '__ne__',\n",
       " '__new__',\n",
       " '__reduce__',\n",
       " '__reduce_ex__',\n",
       " '__repr__',\n",
       " '__setattr__',\n",
       " '__sizeof__',\n",
       " '__str__',\n",
       " '__subclasshook__',\n",
       " '__weakref__',\n",
       " 'couleur']"
      ]
     },
     "execution_count": 9,
     "metadata": {},
     "output_type": "execute_result"
    }
   ],
   "source": [
    "citron1.couleur = \"jaune\"\n",
    "dir(citron1)"
   ]
  },
  {
   "cell_type": "markdown",
   "id": "225259d9",
   "metadata": {},
   "source": [
    "Ici on ajoute un attribut `.couleur` à l’instance `citron1`. Notez bien la syntaxe **instance.attribut** et le point qui lie les deux.\n",
    "\n",
    "La fonction `dir()` nous montre que l’attribut `.couleur` a bien été ajouté à l’objet."
   ]
  },
  {
   "cell_type": "code",
   "execution_count": 10,
   "id": "70175b57",
   "metadata": {},
   "outputs": [
    {
     "data": {
      "text/plain": [
       "'jaune'"
      ]
     },
     "execution_count": 10,
     "metadata": {},
     "output_type": "execute_result"
    }
   ],
   "source": [
    "citron1.couleur"
   ]
  },
  {
   "cell_type": "markdown",
   "id": "91a3a6d3",
   "metadata": {},
   "source": [
    "La notation **instance.attribut** donne accès à l’attribut de l’objet.\n",
    "\n",
    "L’attribut nommé `.__dict__` est particulièrement intéressant. Il s’agit d’un dictionnaire qui listera les attributs créés dynamiquement dans l’instance en cours :"
   ]
  },
  {
   "cell_type": "code",
   "execution_count": 11,
   "id": "6bd7f450",
   "metadata": {},
   "outputs": [
    {
     "data": {
      "text/plain": [
       "{}"
      ]
     },
     "execution_count": 11,
     "metadata": {},
     "output_type": "execute_result"
    }
   ],
   "source": [
    "citron1 = Citron()\n",
    "citron1.__dict__"
   ]
  },
  {
   "cell_type": "code",
   "execution_count": 12,
   "id": "039563c3",
   "metadata": {},
   "outputs": [
    {
     "data": {
      "text/plain": [
       "{'couleur': 'jaune'}"
      ]
     },
     "execution_count": 12,
     "metadata": {},
     "output_type": "execute_result"
    }
   ],
   "source": [
    "citron1.couleur = \"jaune\"\n",
    "citron1.__dict__"
   ]
  },
  {
   "cell_type": "markdown",
   "id": "ed3087c8",
   "metadata": {},
   "source": [
    "L’ajout d’un attribut depuis l’extérieur de la classe avec une syntaxe **instance.nouvel_attribut = valeur**, créera ce nouvel attribut uniquement pour cette instance :"
   ]
  },
  {
   "cell_type": "code",
   "execution_count": 13,
   "id": "22971d32",
   "metadata": {},
   "outputs": [
    {
     "data": {
      "text/plain": [
       "{'couleur': 'jaune'}"
      ]
     },
     "execution_count": 13,
     "metadata": {},
     "output_type": "execute_result"
    }
   ],
   "source": [
    "citron1 = Citron()\n",
    "citron1.couleur = \"jaune\"\n",
    "citron1.__dict__"
   ]
  },
  {
   "cell_type": "code",
   "execution_count": 14,
   "id": "835561b3",
   "metadata": {},
   "outputs": [
    {
     "data": {
      "text/plain": [
       "{}"
      ]
     },
     "execution_count": 14,
     "metadata": {},
     "output_type": "execute_result"
    }
   ],
   "source": [
    "citron2 = Citron()\n",
    "citron2.__dict__"
   ]
  },
  {
   "cell_type": "markdown",
   "id": "80c7204c",
   "metadata": {},
   "source": [
    "Si on crée une nouvelle instance de `Citron`, ici `citron2`, elle n’aura pas l’attribut\n",
    "couleur à sa création."
   ]
  },
  {
   "cell_type": "markdown",
   "id": "5acc6870",
   "metadata": {},
   "source": [
    "**Definition:** Une **variable** ou **attribut d’instance** est une variable accrochée à une instance et qui est spécifique à cette instance. *Cet attribut n’existe donc pas forcément pour toutes les instances d’une classe donnée*, et *d’une instance à l’autre il ne prendra pas forcément la même valeur*. \n",
    "\n",
    ">On peut retrouver tous les attributs d’instance d’une instance donnée avec une syntaxe **instance.__dict__.**"
   ]
  },
  {
   "cell_type": "markdown",
   "id": "8da2a83b",
   "metadata": {},
   "source": [
    "L’instruction **del** fonctionne bien sûr pour **détruire un objet** (par exemple `del citron1`), mais permet également de **détruire un attribut d’instance**. Si on reprend notre exemple `citron1` ci-dessus :"
   ]
  },
  {
   "cell_type": "code",
   "execution_count": 15,
   "id": "49f6c695",
   "metadata": {},
   "outputs": [
    {
     "data": {
      "text/plain": [
       "{'couleur': 'jaune'}"
      ]
     },
     "execution_count": 15,
     "metadata": {},
     "output_type": "execute_result"
    }
   ],
   "source": [
    "citron1.__dict__"
   ]
  },
  {
   "cell_type": "code",
   "execution_count": 16,
   "id": "419aa267",
   "metadata": {},
   "outputs": [
    {
     "data": {
      "text/plain": [
       "{}"
      ]
     },
     "execution_count": 16,
     "metadata": {},
     "output_type": "execute_result"
    }
   ],
   "source": [
    "del citron1.couleur\n",
    "citron1.__dict__"
   ]
  },
  {
   "cell_type": "markdown",
   "id": "b7e20056",
   "metadata": {},
   "source": [
    "### Les attributs de classe\n",
    "\n",
    "Un **attribut de classe** est crée en ajoutant une variable dans une classe comme on créait une variable locale dans une fonction. "
   ]
  },
  {
   "cell_type": "code",
   "execution_count": 17,
   "id": "4b33e750",
   "metadata": {},
   "outputs": [],
   "source": [
    "class Citron:\n",
    "    couleur = \"jaune\""
   ]
  },
  {
   "cell_type": "markdown",
   "id": "fec580a6",
   "metadata": {},
   "source": [
    "**Définition:** Une **variable de classe** ou **attribut de classe** est un attribut qui sera identique pour chaque instance. On verra plus tard que de tels attributs suivent des règles différentes par rapport aux attributs d’instance.\n",
    "\n",
    "À l’extérieur ou à l’intérieur d’une classe, un attribut de classe peut se retrouver avec une syntaxe **NomClasse.attribut**:\n",
    "    "
   ]
  },
  {
   "cell_type": "code",
   "execution_count": 18,
   "id": "b30ca058",
   "metadata": {},
   "outputs": [
    {
     "name": "stdout",
     "output_type": "stream",
     "text": [
      "jaune\n"
     ]
    }
   ],
   "source": [
    "print(Citron.couleur)"
   ]
  },
  {
   "cell_type": "markdown",
   "id": "7aebd897",
   "metadata": {},
   "source": [
    "Ce code affiche `jaune`. L’attribut de classe est aussi visible depuis n’importe quelle instance :"
   ]
  },
  {
   "cell_type": "code",
   "execution_count": 19,
   "id": "f71a1f9a",
   "metadata": {},
   "outputs": [
    {
     "name": "stdout",
     "output_type": "stream",
     "text": [
      "jaune\n",
      "jaune\n"
     ]
    }
   ],
   "source": [
    "class Citron:\n",
    "    couleur = \"jaune\"\n",
    "    \n",
    "if __name__ == \"__main__\": \n",
    "    citron1 = Citron() \n",
    "    print(citron1.couleur) \n",
    "    citron2 = Citron() \n",
    "    print(citron2.couleur)"
   ]
  },
  {
   "cell_type": "markdown",
   "id": "df940e70",
   "metadata": {},
   "source": [
    "**Attention:** Même si on peut retrouver un attribut de classe avec une syntaxe **instance.attribut**, un tel attribut ne peut pas être modifié avec une syntaxe **instance.attribut = nouvelle_valeur** "
   ]
  },
  {
   "cell_type": "markdown",
   "id": "b53b2642",
   "metadata": {},
   "source": [
    "### Les méthodes\n",
    "\n",
    "Dans notre classe on pourra aussi ajouter des fonctions.\n",
    "\n",
    "**Définition:** Une fonction définie au sein d’une classe est appelée **méthode**. Pour exécuter une méthode à l’extérieur de la classe, la syntaxe générale est **instance.méthode()**. En général, on distingue **attributs** et **méthodes**. Toutefois il faut garder à l’esprit qu’une **méthode** est finalement un objet de type fonction. Ainsi, elle peut être vue comme un attribut également. \n",
    "\n",
    "Voici un exemple d’ajout d’une fonction, ou plus exactement d’une méthode, au sein d’une classe (attention à l’indentation !) :"
   ]
  },
  {
   "cell_type": "code",
   "execution_count": 20,
   "id": "d3664747",
   "metadata": {},
   "outputs": [
    {
     "name": "stdout",
     "output_type": "stream",
     "text": [
      "Coucou, je suis la méthode .coucou() dans la classe Citron !\n"
     ]
    }
   ],
   "source": [
    "class Citron:\n",
    "    def coucou(self):\n",
    "        print(\"Coucou, je suis la méthode .coucou() dans la classe Citron !\")\n",
    "\n",
    "if __name__ == \"__main__\": \n",
    "    citron1 = Citron() \n",
    "    citron1.coucou()"
   ]
  },
  {
   "cell_type": "markdown",
   "id": "0901286d",
   "metadata": {},
   "source": [
    "On définit une méthode nommée `.coucou()` qui va afficher un petit message. Attention, cette méthode prend obligatoirement un argument que nous avons nommé ici `self`. Si on a plusieurs méthodes dans une classe, on saute toujours une ligne entre elles afin de faciliter la lecture (comme pour les fonctions).\n",
    "\n",
    "On crée l’instance `citron1` de la classe `Citron`, puis on exécute la méthode `.coucou()` avec une syntaxe **instance.méthode()**.\n",
    "\n",
    "Une méthode étant une fonction, elle peut bien sûr retourner une valeur :\n"
   ]
  },
  {
   "cell_type": "code",
   "execution_count": 21,
   "id": "c2c673ab",
   "metadata": {},
   "outputs": [
    {
     "name": "stdout",
     "output_type": "stream",
     "text": [
      "acide\n"
     ]
    }
   ],
   "source": [
    "class Citron:\n",
    "    def recup_saveur(self):\n",
    "        return \"acide\"\n",
    "\n",
    "if __name__ == \"__main__\":\n",
    "    citron1 = Citron()\n",
    "    saveur_citron1 = citron1.recup_saveur() \n",
    "    print(saveur_citron1)"
   ]
  },
  {
   "cell_type": "markdown",
   "id": "086982bf",
   "metadata": {},
   "source": [
    "Comme pour les fonctions, une valeur retournée par une méthode est récupérable dans une variable, ici `saveur_citron1`."
   ]
  },
  {
   "cell_type": "markdown",
   "id": "0d26020b",
   "metadata": {},
   "source": [
    "### Le constructeur\n",
    "\n",
    "Lors de l’instanciation d’un objet à partir d’une classe, il peut être intéressant de lancer des instructions comme par exemple initialiser certaines variables. Pour cela, on ajoute une méthode spéciale nommée `.__init__():` cette méthode s’appelle le **« constructeur »** de la classe. \n",
    "\n",
    "Il s’agit d’une méthode spéciale dont le nom est entouré de doubles *underscores* : en effet, elle sert au fonctionnement interne de notre classe, et sauf cas extrêmement rare, elle n’est pas supposée être lancée comme une fonction classique par l’utilisateur de la classe. \n",
    "\n",
    "Ce constructeur est exécuté à chaque instanciation de notre classe, et ne renvoie pas de valeur, il ne possède donc pas de return.\n",
    "\n",
    "**Remarque:** Certains auteurs préfèrent nommer .__init__() « instantiateur » ou « initialisateur », pour signifier qu’il existe une autre méthode appelée .__new__() qui participe à la création d’une instance. \n",
    "\n",
    "\n"
   ]
  },
  {
   "cell_type": "code",
   "execution_count": 22,
   "id": "6ff58100",
   "metadata": {},
   "outputs": [
    {
     "name": "stdout",
     "output_type": "stream",
     "text": [
      "jaune\n"
     ]
    }
   ],
   "source": [
    "class Citron:\n",
    "    def __init__(self):\n",
    "        self.couleur = \"jaune\"\n",
    "        \n",
    "if __name__ == \"__main__\": \n",
    "    citron1 = Citron() \n",
    "    print(citron1.couleur)"
   ]
  },
  {
   "cell_type": "markdown",
   "id": "593769a0",
   "metadata": {},
   "source": [
    "**Étape 1.** Au départ, Python Tutor nous montre que la **classe Citron** a été mise en mémoire, elle contient pour l’instant la méthode **.__init__().**\n",
    "\n",
    "![Fonctionnement d’un constructeur (étape 1).](images/Tutor1.png)\n",
    "<center> Fonctionnement d’un constructeur (étape 1) </center>\n",
    "\n",
    "**Étape 2.** Nous créons ensuite l’instance **citron1** à partir de la **classe Citron**. Notre classe **Citron** contenant une méthode **.__init__()** (le constructeur), celle-ci est immédiatement exécutée au moment de l’instanciation. Cette méthode prend un argument nommé self : cet argument est obligatoire. Il s’agit en fait d’une référence vers l’instance en cours (instance que nous appellerons citron1 de retour dans le programme principal, mais cela serait vrai pour n’importe quel autre nom d’instance).Python Tutor nous indique cela par une flèche pointant vers un espace nommé Citron instance.\n",
    "\n",
    "![Fonctionnement d’un constructeur (étape 2).](images/Tutor2.png)\n",
    "<center> Fonctionnement d’un constructeur (étape 2) </center>\n",
    "\n",
    "**Étape 3.** Un nouvel attribut est créé s’appelant **self.couleur**. La chaîne de caractères **couleur** est ainsi « accrochée » (grâce au caractère point) à l’instance en cours référencée par le **self**. Python Tutor nous montre cela par une flèche qui pointe depuis le **self** vers la **variable couleur** (qui se trouve elle-même dans l’espace nommé Citron instance). Si d’autres attributs étaient créés, ils seraient tous répertoriés dans cet espace Citron instance. *L’attribut couleur est donc une variable d’instance*. La méthode **.__init__()** étant intrinsèquement une fonction, Python Tutor nous rappelle qu’elle ne renvoie rien (d’où le None dans la case Return value) une fois son exécution terminée. Et comme avec les fonctions classiques, l’espace mémoire contenant les variables locales à cette méthode va être détruit une fois son exécution terminée.\n",
    "\n",
    "![Fonctionnement d’un constructeur (étape 3).](images/Tutor3.png)\n",
    "<center> Fonctionnement d’un constructeur (étape 3) </center>\n",
    "\n",
    "**Étape 4.** De retour dans le programme principal, Python Tutor nous indique que **citron1** est une instance de la **classe Citron** par une flèche pointant vers l’espace **Citron instance**. Cette instance contient un **attribut** nommé **couleur** auquel on accéde avec la syntaxe **citron1.couleur** dans le print(). Notez que si l’instance s’était appelée enorme_citron, on aurait utilisé enorme_citron.couleur pour accéder à l’attribut couleur.\n",
    "\n",
    "![Fonctionnement d’un constructeur (étape 4).](images/Tutor4.png)\n",
    "<center> Fonctionnement d’un constructeur (étape 4) </center>"
   ]
  },
  {
   "cell_type": "markdown",
   "id": "91407a25",
   "metadata": {},
   "source": [
    "**Conseil:** Dans la mesure du possible, nous vous conseillons de créer tous les attributs d’instance dont vous aurez besoin dans le constructeur .__init__() plutôt que dans toute autre méthode. Ainsi ils seront visibles dans toute la classe dès l’instanciation."
   ]
  },
  {
   "cell_type": "markdown",
   "id": "22f78242",
   "metadata": {},
   "source": [
    "### Passage d’argument(s) à l’instanciation\n",
    "\n",
    "Lors de l’instanciation, il est possible de passer des arguments au constructeur. Comme pour les fonctions, on peut passer des arguments positionnels ou par mot-clé et en créer autant que l’on veut. Voici un exemple :\n"
   ]
  },
  {
   "cell_type": "code",
   "execution_count": 23,
   "id": "2026c0d1",
   "metadata": {},
   "outputs": [
    {
     "name": "stdout",
     "output_type": "stream",
     "text": [
      "citron1: {'masse': 100, 'couleur': 'jaune'}\n",
      "citron2: {'masse': 150, 'couleur': 'blanc'}\n"
     ]
    }
   ],
   "source": [
    "class Citron:\n",
    "    def __init__(self, masse, couleur=\"jaune\"):\n",
    "        self.masse = masse\n",
    "        self.couleur = couleur\n",
    "\n",
    "if __name__ == \"__main__\":\n",
    "    citron1 = Citron (100) \n",
    "    print(\"citron1:\", citron1.__dict__) \n",
    "    citron2 = Citron(150, couleur=\"blanc\") \n",
    "    print(\"citron2:\", citron2.__dict__)"
   ]
  },
  {
   "cell_type": "markdown",
   "id": "a56f602c",
   "metadata": {},
   "source": [
    "On a ici un argument positionnel `masse` et un autre par mot-clé `couleur`. "
   ]
  },
  {
   "cell_type": "markdown",
   "id": "ca2933a8",
   "metadata": {},
   "source": [
    "### Mieux comprendre le rôle du self\n",
    "\n",
    "Cette rubrique va nous aider à mieux comprendre le rôle du **self** à travers quelques exemples simples. Regardons le code suivant dans lequel nous créons une nouvelle méthode `.affiche_attributs()` :"
   ]
  },
  {
   "cell_type": "code",
   "execution_count": 24,
   "id": "f4238a20",
   "metadata": {},
   "outputs": [
    {
     "name": "stdout",
     "output_type": "stream",
     "text": [
      "<__main__.Citron object at 0x7faeb0594940>\n",
      "jaune\n"
     ]
    },
    {
     "ename": "NameError",
     "evalue": "name 'var' is not defined",
     "output_type": "error",
     "traceback": [
      "\u001b[0;31m---------------------------------------------------------------------------\u001b[0m",
      "\u001b[0;31mNameError\u001b[0m                                 Traceback (most recent call last)",
      "Cell \u001b[0;32mIn [24], line 13\u001b[0m\n\u001b[1;32m     11\u001b[0m \u001b[38;5;28;01mif\u001b[39;00m \u001b[38;5;18m__name__\u001b[39m \u001b[38;5;241m==\u001b[39m \u001b[38;5;124m\"\u001b[39m\u001b[38;5;124m__main__\u001b[39m\u001b[38;5;124m\"\u001b[39m: \n\u001b[1;32m     12\u001b[0m     citron1 \u001b[38;5;241m=\u001b[39m Citron() \n\u001b[0;32m---> 13\u001b[0m     \u001b[43mcitron1\u001b[49m\u001b[38;5;241;43m.\u001b[39;49m\u001b[43maffiche_attributs\u001b[49m\u001b[43m(\u001b[49m\u001b[43m)\u001b[49m\n",
      "Cell \u001b[0;32mIn [24], line 9\u001b[0m, in \u001b[0;36mCitron.affiche_attributs\u001b[0;34m(self)\u001b[0m\n\u001b[1;32m      7\u001b[0m \u001b[38;5;28mprint\u001b[39m(\u001b[38;5;28mself\u001b[39m) \n\u001b[1;32m      8\u001b[0m \u001b[38;5;28mprint\u001b[39m(\u001b[38;5;28mself\u001b[39m\u001b[38;5;241m.\u001b[39mcouleur) \n\u001b[0;32m----> 9\u001b[0m \u001b[38;5;28mprint\u001b[39m(\u001b[43mvar\u001b[49m)\n",
      "\u001b[0;31mNameError\u001b[0m: name 'var' is not defined"
     ]
    }
   ],
   "source": [
    "class Citron:\n",
    "    def __init__(self, couleur=\"jaune\"): \n",
    "        self.couleur = couleur\n",
    "        var = 2\n",
    "    \n",
    "    def affiche_attributs(self): \n",
    "        print(self) \n",
    "        print(self.couleur) \n",
    "        print(var)\n",
    "        \n",
    "if __name__ == \"__main__\": \n",
    "    citron1 = Citron() \n",
    "    citron1.affiche_attributs()"
   ]
  },
  {
   "cell_type": "markdown",
   "id": "8e1cab9d",
   "metadata": {},
   "source": [
    "* On crée l’attribut `couleur` que l’on accroche à l’instance avec le `self`. \n",
    "* Nous créons cette fois-ci une variable `var` sans l’accrocher au `self`. \n",
    "* Nous créons une nouvelle méthode dans la `classe Citron` qui se nomme `.affiche_attributs()`. Comme pour le constructeur, cette méthode prend comme premier argument **une variable obligatoire**, que nous avons à nouveau nommée `self`. Il s’agit encore une fois d’une référence vers l’objet ou instance créé(e). On va voir plus tard ce qu’elle contient exactement.\n",
    "\n",
    "**Attention:** On peut appeler cette référence comme on veut, toutefois nous vous conseillons vivement de l’appeler **self** car c’est une convention générale en Python. Ainsi, quelqu’un qui lira votre code comprendra immédiatement de quoi il s’agit.\n",
    "\n",
    "* La première instruction de la fonction `.affiche_attributs()`. va afficher le contenu de la variable self.\n",
    "* On souhaite que notre méthode `.affiche_attributs()` affiche ensuite l’attribut de classe .couleur ainsi que la variable var créée dans le constructeur `.__init__()`.\n",
    "\n",
    "> L’exécution de ce code donnera une erreur \n",
    "\n",
    "* La méthode `.affiche_attributs()` montre que le **self** est bien une référence vers l’instance (ou objet) citron1 (ou vers n’importe quelle autre instance, par exemple si on crée citron2 = Citron() le self sera une référence vers citron2).\n",
    "* La méthode `.affiche_attributs()` affiche l’attribut `.couleur` qui avait été créé précédemment dans le constructeur. Vous voyez ici l’intérêt principal de l’argument self passé en premier à chaque méthode d’une classe : il « accroche » n’importe quel attribut qui sera visible partout dans la classe, y compris dans une méthode où il n’a pas été défini.\n",
    "* La création de la variable `var` dans la méthode `.__init__()` sans l’accrocher à l’objet `self` fait qu’elle n’est plus accessible en dehors de `.__init__()`. C’est exactement comme pour les fonctions classiques, `var` est finalement une variable locale au sein de la méthode `.__init__()` et n’est plus visible lorsque l’exécution de cette dernière est terminée. Ainsi, Python renvoie une erreur car `var` n’existe pas lorsque `.affiche_attributs()` est en exécution.\n",
    "\n",
    "En résumé, le **self** est nécessaire lorsqu’on a besoin d’accéder à différents attributs dans les différentes méthodes d’une classe. Le **self** est également nécessaire pour appeler une méthode de la classe depuis une autre méthode :\n"
   ]
  },
  {
   "cell_type": "code",
   "execution_count": 25,
   "id": "a1aeb6af",
   "metadata": {},
   "outputs": [
    {
     "name": "stdout",
     "output_type": "stream",
     "text": [
      "Le citron c'est trop bon !\n"
     ]
    }
   ],
   "source": [
    "class Citron:\n",
    "    def __init__(self, couleur=\"jaune\"): \n",
    "        self.couleur = couleur \n",
    "        self.affiche_message()\n",
    "        \n",
    "    def affiche_message(self):\n",
    "        print(\"Le citron c'est trop bon !\")\n",
    "\n",
    "if __name__ == \"__main__\":\n",
    "    citron1 = Citron(\"jaune pâle\")"
   ]
  },
  {
   "cell_type": "markdown",
   "id": "612092bf",
   "metadata": {},
   "source": [
    "* Nous appelons ici la méthode `.affiche_message()` depuis le constructeur. Pour appeler cette méthode interne à la **classe Citron**, on doit utiliser une syntaxe **self.méthode()**. Le self sert donc pour accéder aux attributs mais aussi aux méthodes, ou plus généralement à tout ce qui est accroché à la classe.\n",
    "\n",
    "* La méthode `.affiche_message()` est exécutée. On peut se poser la question: Pourquoi passer l’argument self à cette méthode alors qu’on ne s’en sert pas dans celle-ci ?\n",
    "\n",
    "**Attention:** Même si on ne se sert d’aucun attribut dans une méthode, l’argument **self** (ou quel que soit son nom) est strictement obligatoire. En fait, la notation **citron1.affiche_message()** est équivalente à **Citron.affiche_message(citron1)**. Testez les deux pour voir! Dans cette dernière instruction, on appelle la méthode accrochée à la **classe Citron** et on lui passe explicitement l’instance `citron1` en tant qu’argument. La notation **citron1.affiche_message()** contient donc en filigrane un argument, à savoir, la référence vers l’instance `citron1` que l’on appelle `self` au sein de la méthode.\n",
    "\n",
    "**Conseil:** c’est la première notation `citron1.affiche_message()` (ou plus généralement **instance.méthode()**), plus compacte, qui sera toujours utilisée.\n",
    "\n",
    "Finalement, on crée l’instance `citron1` en lui passant l’argument `\"jaune pâle\"`. La variable d’instance **couleur** prendra ainsi cette valeur au lieu de celle par défaut (\"jaune\"). À noter, l’instanciation affichera le message *Le citron c'est trop bon !* puisque la méthode `.affiche_message()` est appelée dans le constructeur `.__init__()`.\n",
    "\n"
   ]
  },
  {
   "cell_type": "markdown",
   "id": "e41b4f18",
   "metadata": {},
   "source": [
    "### Différence entre les attributs de classe et d’instance\n",
    "\n",
    "On a vu comment créer un **attribut de classe**, il suffit de créer une variable au sein de la classe (en dehors de toute méthode). En général, les attributs de classe contiennent des propriétés générales à la classe puisqu’ils vont prendre la même valeur quelle que soit l’instance.\n",
    "\n",
    "Au contraire, les **attributs d’instance** sont spécifiques à chaque instance. Pour en créer, on a vu qu’il suffisait de les initialiser dans la méthode **.__init__()** en utilisant une syntaxe **self.nouvel_attribut = valeur**. On a vu aussi dans la section **Ajout d’un attribut d’instance** que l’on pouvait ajouter un attribut d’instance de l’extérieur avec une syntaxe **instance.nouvel_attribut = valeur**.\n",
    "\n",
    "Bien que les deux types d’attributs soient fondamentalement différents au niveau de leur finalité, il existe des similitudes lorsqu’on veut accéder à leur valeur. Le code suivant illustre cela :"
   ]
  },
  {
   "cell_type": "code",
   "execution_count": 31,
   "id": "db68e390",
   "metadata": {},
   "outputs": [
    {
     "name": "stdout",
     "output_type": "stream",
     "text": [
      "Attributs de classe : ellipsoïde acide\n",
      "Attributs d'instance : standard jaune 0\n",
      "Attributs d'instance : standard jaune 100\n"
     ]
    }
   ],
   "source": [
    "class Citron: \n",
    "    forme = \"ellipsoïde\" # attribut de classe \n",
    "    saveur = \"acide\" # attribut de classe\n",
    "    def __init__(self, couleur=\"jaune\", taille=\"standard\", masse=0): \n",
    "        self.couleur = couleur # attribut d'instance\n",
    "        self.taille = taille # attribut d'instance\n",
    "        self.masse = masse # attribut d'instance (masse en gramme)\n",
    "    \n",
    "    def augmente_masse(self, valeur): \n",
    "        self.masse += valeur\n",
    "        \n",
    "if __name__ == \"__main__\":\n",
    "    citron1 = Citron()\n",
    "    print(\"Attributs de classe :\", citron1.forme, citron1.saveur) \n",
    "    print(\"Attributs d'instance :\", citron1.taille, citron1.couleur, citron1.masse) \n",
    "    citron1.augmente_masse(100)\n",
    "    print(\"Attributs d'instance :\", citron1.taille, citron1.couleur, citron1.masse)"
   ]
  },
  {
   "cell_type": "markdown",
   "id": "3f5c3f80",
   "metadata": {},
   "source": [
    "* D'abord nous créons **deux variables de classe** qui seront communes à toutes les instances (disons qu’un citron sera toujours ellipsoïde et acide !).\n",
    "* ensuite, nous créons **trois variables d’instance** qui seront spécifiques à chaque instance (disons que la taille, la couleur et la masse d’un citron peuvent varier !), avec des valeurs par défaut.\n",
    "* après on crée une nouvelle méthode `.augmente_masse()` qui augmente l’attribut d’instance `.masse`\n",
    "* Dans le programme principal, on instancie la classe `Citron` sans passer d’argument (les valeurs par défaut \"jaune\", \"standard\" et 0 seront donc prises), puis on imprime les attributs\n",
    "\n",
    "La figure montre l’état des variables après avoir exécuté ce code grâce au site Python Tutor.\n",
    "\n",
    "![Illustration de la signification des attributs de classe et d’instance.](images/tutor5.png)\n",
    "<center> Illustration de la signification des attributs de classe et d’instance  </center>\n",
    "\n",
    "\n",
    "* Python Tutor montre bien la différence entre les variables de classe `forme` et `saveur` qui apparaissent directement dans les attributs de la classe `Citron` lors de sa définition et les trois variables d’instance `couleur`, `taille` et `masse` qui sont liées à l’instance `citron1`. Pour autant, on voit dans la dernière instruction `print()` qu’on peut accéder de la même manière aux variables de classe ou d’instance, lorsqu’on est à l’extérieur, avec une syntaxe **instance.attribut**.\n",
    "\n",
    "Au sein des méthodes, on accède également de la même manière aux attributs de classe ou d’instance, avec une syntaxe **self.attribut** :"
   ]
  },
  {
   "cell_type": "code",
   "execution_count": 27,
   "id": "dc60aeee",
   "metadata": {},
   "outputs": [
    {
     "name": "stdout",
     "output_type": "stream",
     "text": [
      "attribut de classe: acide\n",
      "attribut d'instance: jaune\n"
     ]
    }
   ],
   "source": [
    "class Citron:\n",
    "    saveur = \"acide\" # attribut de classe\n",
    "    \n",
    "    def __init__(self, couleur=\"jaune\"): \n",
    "        self.couleur = couleur # attribut d'instance\n",
    "    \n",
    "    def affiche_attributs(self):\n",
    "        print(f\"attribut de classe: {self.saveur}\") \n",
    "        print(f\"attribut d'instance: {self.couleur}\")\n",
    "        \n",
    "if __name__ == \"__main__\": \n",
    "    citron1 = Citron() \n",
    "    citron1.affiche_attributs()\n"
   ]
  },
  {
   "cell_type": "markdown",
   "id": "61db7bc3",
   "metadata": {},
   "source": [
    "En résumé, qu’on ait des **attributs de classe ou d’instance**, on peut accéder à eux de l’extérieur par **instance.attribut** et de l’intérieur par **self.attribut**.\n",
    "\n",
    "* **Les attributs d’instance** peuvent se modifier sans problème de l’extérieur avec une syntaxe **instance.attribut_d_instance = nouvelle_valeur** et de l’intérieur avec une syntaxe **self.attribut_d_instance = nouvelle_valeur**. \n",
    "* Ce n’est pas du tout le cas avec **les attributs de classe**.\n",
    "\n",
    "**Attention:** Les attributs de classe ne peuvent pas être modifiés ni à l’extérieur d’une classe via une syntaxe **instance.attribut_de_classe = nouvelle_valeur**, ni à l’intérieur d’une classe via une syntaxe **self.attribut_de_classe = nouvelle_valeur**. Puisqu’ils sont destinés à être identiques pour toutes les instances, cela est logique de ne pas pouvoir les modifier via une instance. Les attributs de classe Python ressemblent en quelque sorte aux attributs statiques du C++.\n",
    "\n",
    "Regardons l’exemple suivant illustrant cela :\n"
   ]
  },
  {
   "cell_type": "code",
   "execution_count": 32,
   "id": "a6bb5b64",
   "metadata": {},
   "outputs": [
    {
     "name": "stdout",
     "output_type": "stream",
     "text": [
      "acide\n",
      "sucrée\n",
      "acide\n"
     ]
    },
    {
     "ename": "AttributeError",
     "evalue": "saveur",
     "output_type": "error",
     "traceback": [
      "\u001b[0;31m---------------------------------------------------------------------------\u001b[0m",
      "\u001b[0;31mAttributeError\u001b[0m                            Traceback (most recent call last)",
      "Cell \u001b[0;32mIn [32], line 11\u001b[0m\n\u001b[1;32m      9\u001b[0m \u001b[38;5;28;01mdel\u001b[39;00m citron1\u001b[38;5;241m.\u001b[39msaveur\n\u001b[1;32m     10\u001b[0m \u001b[38;5;28mprint\u001b[39m(citron1\u001b[38;5;241m.\u001b[39msaveur) \u001b[38;5;66;03m# on regarde ici avec Python Tutor\u001b[39;00m\n\u001b[0;32m---> 11\u001b[0m \u001b[38;5;28;01mdel\u001b[39;00m citron1\u001b[38;5;241m.\u001b[39msaveur\n",
      "\u001b[0;31mAttributeError\u001b[0m: saveur"
     ]
    }
   ],
   "source": [
    "class Citron:\n",
    "    saveur = \"acide\"\n",
    "    \n",
    "if __name__ == \"__main__\":\n",
    "    citron1 = Citron()\n",
    "    print(citron1.saveur)\n",
    "    citron1.saveur = \"sucrée\"\n",
    "    print(citron1.saveur) # on regarde ici avec Python Tutor\n",
    "    del citron1.saveur\n",
    "    print(citron1.saveur) # on regarde ici avec Python Tutor\n",
    "    del citron1.saveur"
   ]
  },
  {
   "cell_type": "markdown",
   "id": "e67b2cc5",
   "metadata": {},
   "source": [
    "On pourrait penser qu’on modifie l’attribut de classe `saveur` avec une syntaxe **instance.attribut_de_classe\n",
    "= nouvelle_valeur**. Que se passe-t-il exactement? La figure nous montre l’état des variables grâce au site Python Tutor. Celui-ci indique qu'on a en fait créé un nouvel attribut d’instance `citron1.saveur` (contenant la valeur `sucrée`) qui est bien distinct de l’attribut de classe auquel on accédait avant par le même nom ! \n",
    "\n",
    "Tout ceci est dû à la manière dont Python gère les espaces de noms. Dans ce cas, l’attribut d’instance est prioritaire sur l’attribut de classe.\n",
    "\n",
    "On détruit finalement l’attribut d’instance `citron1.saveur` qui contenait la valeur `sucrée`. Python Tutor nous montre que `citron1.saveur` n’existe pas dans l’espace `Citron` instance qui est vide ; ainsi, Python utilisera l’attribut de classe `.saveur` qui contient toujours la valeur `acide`. \n",
    "\n",
    "Finalement va tenter de détruire l’attribut de classe `.saveur`. Toutefois, Python interdit cela, ainsi une erreur  est générée. \n",
    "\n",
    "En fait, la seule manière de modifier un attribut de classe est d’utiliser une syntaxe **NomClasse.attribut_de_classe = nouvelle_valeur**, dans l’exemple ci-dessus cela aurait été `Citron.saveur = \"sucrée\"`. De même, pour sa destruction, il faudra utiliser la même syntaxe : `del Citron.saveur`.\n",
    "\n",
    "![Illustration avec Python Tutor de la non destruction d’un attribut de classe (étape 1)](images/Tutor6.png)\n",
    "<center> Illustration avec Python Tutor de la non destruction d’un attribut de classe (étape 1) </center>\n",
    "\n",
    "![Illustration avec Python Tutor de la non destruction d’un attribut de classe (étape 2)](images/Tutor7.png)\n",
    "<center> Illustration avec Python Tutor de la non destruction d’un attribut de classe (étape 2) </center>\n",
    "\n",
    "> **Conseil:** Même si on peut modifier un attribut de classe, nous vous déconseillons de le faire. Une utilité des attributs de classe est par exemple de définir des constantes (mathématique ou autre), donc cela n’a pas de sens de vouloir les modifier ! Il est également déconseillé de créer des attributs de classe avec des objets modifiables comme des listes et des dictionnaires, cela peut avoir des effets désastreux non désirés. Nous verrons plus tard un exemple concret d’attribut de classe qui est très utile, à savoir *le concept d’objet de type **property***.\n",
    "\n",
    "> Si vous souhaitez avoir des attributs modifiables dans votre classe, créez plutôt des attributs d’instance dans le `.__init__()`."
   ]
  },
  {
   "cell_type": "markdown",
   "id": "95220a9a",
   "metadata": {},
   "source": [
    "## Espace de noms\n",
    "\n",
    "**Définition:**  un espace de noms, c’est ***une correspondance entre des noms et des objets***. Un espace de noms peut être vu aussi comme une capsule dans laquelle on trouve des noms d’objets. Par exemple, le programme principal ou une fonction représentent chacun un espace de noms, un module aussi, et bien sûr une classe ou l’instance d’une classe également.\n",
    "\n",
    "\n",
    "Différents espaces de noms peuvent contenir des objets de même nom sans que cela ne pose de problème. Parce qu’ils sont chacun dans un espace différent, ils peuvent cohabiter sans risque d’écrasement de l’un par l’autre. Par exemple, à chaque fois que l’on appelle une fonction, un espace de noms est créé pour cette fonction. Python Tutor nous montre cet espace sous la forme d’une zone dédiée. Si cette fonction appelle une autre fonction, un nouvel espace est créé, bien distinct de la fonction appelante (ce nouvel espace peut donc contenir un objet de même nom). En définitive, ce qui va compter, c’est de savoir quelles règles Python va utiliser pour chercher dans les différents espaces de noms pour finalement accéder à un objet.\n"
   ]
  },
  {
   "cell_type": "markdown",
   "id": "7b79102c",
   "metadata": {},
   "source": [
    "### Rappel sur la règle LGI\n",
    "\n",
    "Comme pour les Fonctions, la règle LGI peut être résumée ainsi : **Local > Global > Interne**. Lorsque Python rencontre un objet, il utilise cette règle de priorité pour accéder à la valeur de celui-ci. Si on est dans une fonction (ou une méthode), Python va d’abord chercher l’espace de noms local à cette fonction. S’il ne trouve pas de nom il va ensuite chercher l’espace de noms du programme principal (ou celui du module), donc des variables globales s’y trouvant. S’il ne trouve pas de nom, il va chercher dans les commandes internes à Python (on parle des Built-in Functions et des Built-in Constants). Si aucun objet n’est trouvé, Python renvoie une erreur.\n"
   ]
  },
  {
   "cell_type": "markdown",
   "id": "eb36667f",
   "metadata": {},
   "source": [
    "### Gestion des noms dans les modules\n",
    "\n",
    "\n",
    "Les modules représentent aussi un espace de noms en soi. Afin d’illustrer cela, jetons un coup d’œil à ce programme **test_var_module.py** :\n",
    "\n",
    "```Python\n",
    "import mod\n",
    "\n",
    "i = 1000000\n",
    "j=2\n",
    "\n",
    "print(\"Dans prog principal i:\", i)\n",
    "print(\"Dans prog principal j:\", j)\n",
    "\n",
    "mod.fct()\n",
    "mod.fct2()\n",
    "\n",
    "print(\"Dans prog principal i:\", i)\n",
    "print(\"Dans prog principal j:\", j)\n",
    "```\n",
    "Le module mod.py contient les instructions suivantes :\n",
    "\n",
    "```Python\n",
    "def fct():\n",
    "    i = -27478524\n",
    "    print(\"Dans module, i local:\", i)\n",
    "    \n",
    "def fct2():\n",
    "    print(\"Dans module, j global:\", j)    \n",
    "\n",
    "i = 3.14\n",
    "j = -76\n",
    "```\n",
    "L’exécution de test_var_module.py donnera :\n",
    "\n",
    "```Python\n",
    "$ python ./test_var_module.py\n",
    "Dans prog principal i: 1000000\n",
    "Dans prog principal j: 2\n",
    "Dans module , i local: -27478524\n",
    "Dans module, j global: -76\n",
    "Dans prog principal i: 1000000\n",
    "Dans prog principal j: 2\n",
    "```\n",
    "On a bien les valeurs de `i` et `j` définies dans le programme principal de `test.py.`\n",
    "\n",
    "Lorsqu’on exécute `mod.fct()`, la valeur de i sera celle définie localement dans cette fonction. Lorsqu’on exécute `mod.fct2()`, la valeur de `j` sera celle définie de manière globale dans le module.\n",
    "\n",
    "De retour dans notre programme principal, les variables `i` et `j` existent toujours et n’ont pas été modifiées par l’exécution de fonctions du module `mod.py`. \n",
    "\n",
    "En résumé, lorsqu’on lance une méthode d’un module, c’est l’espace de noms de celui-ci qui est utilisé. Bien sûr, toutes les variables du programme principal / fonction / méthode appelant ce module sont conservées telles quelles, et on les retrouve intactes lorsque l’exécution de la fonction du module est terminée. \n",
    "\n",
    "Un module a donc son propre espace de noms qui est bien distinct de tout programme principal **/ fonction / méthode** appelant un composant de ce module. Enfin, les variables globales créées dans notre programme principal ne sont pas accessibles dans le module lorsque celui-ci est en exécution.\n"
   ]
  },
  {
   "cell_type": "markdown",
   "id": "9cc96e70",
   "metadata": {},
   "source": [
    "### Gestion des noms avec les classes\n",
    "\n",
    "Une classe possède par définition son propre espace de noms qui ne peut être en aucun cas confondu avec celui d’une fonction ou d’un programme principal. Reprenons un exemple simple :"
   ]
  },
  {
   "cell_type": "code",
   "execution_count": 33,
   "id": "1da8b848",
   "metadata": {},
   "outputs": [
    {
     "name": "stdout",
     "output_type": "stream",
     "text": [
      "Dans le programme principal: sucrée, orange\n",
      "Dans __init__(), vous venez de créer un citron: très acide, jaune foncé\n",
      "Dans citron1.affiche_attributs(): très acide, jaune foncé\n",
      "Dans le programme principal: sucrée, orange\n"
     ]
    }
   ],
   "source": [
    "class Citron:\n",
    "    def __init__(self, saveur=\"acide\", couleur=\"jaune\"): \n",
    "        self.saveur = saveur\n",
    "        self.couleur = couleur\n",
    "        print(\"Dans __init__(), vous venez de créer un citron:\", self.affiche_attributs())\n",
    "\n",
    "    def affiche_attributs(self):\n",
    "        return f\"{self.saveur}, {self.couleur}\"\n",
    "\n",
    "if __name__ == \"__main__\":\n",
    "    saveur = \"sucrée\"\n",
    "    couleur = \"orange\"\n",
    "    print(f\"Dans le programme principal: {saveur}, {couleur}\")\n",
    "    citron1 = Citron(\"très acide\", \"jaune foncé\")\n",
    "    print(\"Dans citron1.affiche_attributs():\", citron1.affiche_attributs())\n",
    "    print(f\"Dans le programme principal: {saveur}, {couleur}\")\n"
   ]
  },
  {
   "cell_type": "markdown",
   "id": "89ebb6ad",
   "metadata": {},
   "source": [
    "Les deux variables globales `saveur` et `couleur` du programme principal ne peuvent pas être confondues avec les variables d’instance portant le même nom. \n",
    "\n",
    "Au sein de la classe, on utilisera pour récupérer ces dernières `self.saveur` et `self.couleur`. \n",
    "\n",
    "À l’extérieur, on utilisera `instance.saveur` et `instance.couleur`. Il n’y a donc aucun risque de confusion possible avec les variables globales `saveur` et `couleur`, on accède à chaque variable de la classe avec un nom distinct (qu’on soit à l’intérieur ou à l’extérieur de la classe).\n",
    "\n",
    "Ceci est également vrai pour les méthodes. Si par exemple, on a une méthode avec un certain nom, et une fonction du module principal avec le même nom, regardons ce qui se passe :"
   ]
  },
  {
   "cell_type": "code",
   "execution_count": 34,
   "id": "a9ae912f",
   "metadata": {},
   "outputs": [
    {
     "name": "stdout",
     "output_type": "stream",
     "text": [
      "Coucou interne !\n",
      "Coucou externe\n",
      "Coucou interne !\n",
      "Coucou externe\n"
     ]
    }
   ],
   "source": [
    "class Citron:\n",
    "    def __init__(self):\n",
    "        self.couleur = \"jaune\" \n",
    "        self.affiche_coucou() \n",
    "        affiche_coucou()\n",
    "\n",
    "    def affiche_coucou(self): \n",
    "        print(\"Coucou interne !\")\n",
    "\n",
    "def affiche_coucou (): \n",
    "    print(\"Coucou externe\")\n",
    "\n",
    "if __name__ == \"__main__\":\n",
    "    citron1 = Citron()\n",
    "    citron1.affiche_coucou()\n",
    "    affiche_coucou()"
   ]
  },
  {
   "cell_type": "markdown",
   "id": "3397e2d2",
   "metadata": {},
   "source": [
    "À nouveau, il n’y a pas de conflit possible pour l’utilisation d’une méthode ou d’une fonction avec le même nom. À\n",
    "l’intérieur de la classe on utilise `self.affiche_coucou()` pour la méthode et `affiche_coucou()` pour la fonction. À l’extérieur de la classe, on utilise `instance.affiche_coucou()` pour la méthode et `affiche_coucou()` pour la fonction.\n",
    "\n",
    "Nous venons de voir une propriété des classes extrêmement puissante : une classe crée automatiquement son propre espace de noms. Cela permet d’encapsuler à l’intérieur tous les attributs et méthodes dont on a besoin, sans avoir aucun risque de conflit de nom avec l’extérieur *(variables locales, globales ou provenant de modules)*. \n",
    "\n",
    "L’utilisation de classes évitera ainsi l’utilisation de variables globales qui sont à proscrire absolument. Tout cela concourt à rendre le code plus lisible."
   ]
  },
  {
   "cell_type": "markdown",
   "id": "723fdd5e",
   "metadata": {},
   "source": [
    "## Accès et modifications des attributs depuis l’extérieur"
   ]
  },
  {
   "cell_type": "markdown",
   "id": "0c6cc134",
   "metadata": {},
   "source": [
    "### Le problème\n",
    "\n",
    "Python était **très permissif** concernant le changement de valeur de n’importe quel attribut depuis l’extérieur. On a vu aussi qu’il était même possible de créer de nouveaux attributs depuis l’extérieur! **Dans d’autres langages orientés objet ceci n’est pas considéré comme une bonne pratique**. \n",
    "\n",
    "> **Il est plutôt recommandé de définir une interface, c’est-à-dire tout un jeu de méthodes accédant ou modifiant les attributs**. Ainsi, le concepteur de la classe a la garantie que celle-ci est utilisée correctement du « côté client ».\n",
    "\n",
    "**Remarque:** Cette stratégie d’utiliser uniquement l’interface de la classe pour accéder aux attributs provient des langages orientés objet comme Java et C++. Les méthodes accédant ou modifiant les attributs s’appellent aussi des **getters** et **setter**s (en français on dit **accesseurs** et **mutateurs**). \n",
    "> Un des avantages est qu’il est ainsi possible de **vérifier l’intégrité des données** grâce à ces méthodes : *si par exemple on souhaitait avoir un entier seulement, ou bien une valeur bornée, on peut facilement ajouter des tests dans le setter et renvoyer une erreur à l’utilisateur de la classe s’il n’a pas envoyé le bon type (ou la bonne valeur dans l’intervalle imposé).*\n",
    "\n",
    "Regardons à quoi pourrait ressembler une telle stratégie en Python :"
   ]
  },
  {
   "cell_type": "code",
   "execution_count": 40,
   "id": "dcf5956c",
   "metadata": {},
   "outputs": [
    {
     "name": "stdout",
     "output_type": "stream",
     "text": [
      "jaune 0\n",
      "jaune foncé 100\n"
     ]
    }
   ],
   "source": [
    "class Citron:\n",
    "    def __init__(self, couleur=\"jaune\", masse=0): \n",
    "        self.couleur = couleur\n",
    "        self.masse = masse # masse en g\n",
    "    \n",
    "    def get_couleur(self):\n",
    "        return self.couleur\n",
    "    \n",
    "    def set_couleur(self, value):\n",
    "        self.couleur = value\n",
    "        \n",
    "    def get_masse(self):\n",
    "        return self.masse\n",
    "\n",
    "    def set_masse(self, value):\n",
    "        if value < 0:\n",
    "            raise ValueError(\"Vous avez déjà vu une masse négative ???\")\n",
    "        self.masse = value\n",
    "\n",
    "if __name__ == \"__main__\":\n",
    "    \n",
    "    # définition de citron1\n",
    "    citron1 = Citron()\n",
    "    print(citron1.get_couleur(), citron1.get_masse())\n",
    "    \n",
    "    # on change les attributs de citron1 avec les setters\n",
    "    citron1.set_couleur(\"jaune foncé\")\n",
    "    citron1.set_masse(100)\n",
    "    print(citron1.get_couleur(), citron1.get_masse())"
   ]
  },
  {
   "cell_type": "markdown",
   "id": "f31ea6af",
   "metadata": {},
   "source": [
    "On définit **deux méthodes getters** pour accéder à chaque attribut.\n",
    "On définit **deux méthodes setters** pour modifier chaque attribut. \n",
    "\n",
    "Nous ensuite testons **si la masse est négative**, si tel est le cas nous générons une erreur avec le mot-clé `raise`, Ceci représente un des avantages des setters : contrôler la validité des attributs (on pourrait aussi vérifier qu’il s’agit d’un entier, etc.).\n",
    "\n",
    "Après instanciation, on affiche la valeur des attributs avec les *deux fonctions getters*, puis on les modifie avec *les setters* et on les réaffiche à nouveau.\n",
    "\n",
    "Si on avait mis citron1.set_masse(-100), la sortie aurait été la suivante :\n",
    "\n",
    "```bash \n",
    "jaune 0\n",
    "---------------------------------------------------------------------------\n",
    "ValueError                                Traceback (most recent call last)\n",
    "Cell In [39], line 28\n",
    "     26 # on change les attributs de citron1 avec les setters\n",
    "     27 citron1.set_couleur(\"jaune foncé\")\n",
    "---> 28 citron1.set_masse(-100)\n",
    "     29 print(citron1.get_couleur(), citron1.get_masse())\n",
    "\n",
    "Cell In [39], line 17, in Citron.set_masse(self, value)\n",
    "     15 def set_masse(self, value):\n",
    "     16     if value < 0:\n",
    "---> 17         raise ValueError(\"Vous avez déjà vu une masse négative ???\")\n",
    "     18     self.masse = value\n",
    "\n",
    "ValueError: Vous avez déjà vu une masse négative ???\n",
    "```\n",
    "\n",
    "La fonction interne `raise` nous a permis de générer une erreur car l’utilisateur de la classe (c’est-à-dire nous dans le programme principal) n’a pas rentré une valeur correcte.\n",
    "\n",
    "On comprend bien l’utilité d’une stratégie avec des **getters et setters** dans cet exemple. Toutefois, en Python, on peut très bien accéder et modifier les attributs même **si on a des getters et des setters dans la classe**. \n",
    "\n",
    "> Imaginons la même classe Citron que ci-dessus, mais on utilise le programme principal suivant :"
   ]
  },
  {
   "cell_type": "code",
   "execution_count": 41,
   "id": "35074973",
   "metadata": {},
   "outputs": [
    {
     "name": "stdout",
     "output_type": "stream",
     "text": [
      "jaune 0\n",
      "jaune foncé 100\n",
      "pourpre profond -15\n"
     ]
    }
   ],
   "source": [
    "if __name__ == \"__main__\":\n",
    "    # définition de citron1\n",
    "    citron1 = Citron()\n",
    "    print(citron1.get_couleur(), citron1.get_masse())\n",
    "    # on change les attributs de citron1 avec les setters\n",
    "    citron1.set_couleur(\"jaune foncé\")\n",
    "    citron1.set_masse(100)\n",
    "    print(citron1.get_couleur(), citron1.get_masse())\n",
    "    # on les rechange sans les setters\n",
    "    citron1.couleur = \"pourpre profond\"\n",
    "    citron1.masse = -15\n",
    "    print(citron1.get_couleur(), citron1.get_masse())"
   ]
  },
  {
   "cell_type": "markdown",
   "id": "147485bf",
   "metadata": {},
   "source": [
    "Malgré la présence des getters et des setters, nous avons réussi à accéder et à modifier la valeur des attributs. De plus, nous avons pu mettre une valeur aberrante (masse négative) sans que cela ne génère une erreur !\n",
    "\n",
    "Vous vous posez sans doute la question : mais dans ce cas, **quel est l’intérêt de mettre des getters et des setters en Python?** \n",
    "\n",
    "La réponse est très simple : cette stratégie n’est pas une manière « pythonique » d’opérer. En Python, la lisibilité est la priorité. De manière générale, une syntaxe avec des getters et setters du côté client surcharge la lecture. Imaginons que l’on ait une instance nommée `obj` et que l’on souhaite faire la somme de ses trois attributs `x, y et z` :\n",
    "```Python\n",
    "# pythonique\n",
    "obj.x + obj.y + obj.z\n",
    "# non pythonique\n",
    "obj.get_x() + obj.get_y() + obj.get_z()\n",
    "```\n",
    "\n",
    "**La méthode pythonique** est plus « douce » à lire, on parle aussi de syntactic sugar ou littéralement en français « sucre syntaxique ». De plus, à l’intérieur de la classe, *il faut définir un getter et un setter pour chaque attribut, ce qui multiple les lignes de code*.\n",
    "\n",
    "> Donc en Python, on n’utilise pas comme dans les autres langages orientés objet les getters et les setters ? Mais, tout de même, cela avait l’air une bonne idée de pouvoir contrôler comment un utilisateur de la classe interagit avec certains attributs (par exemple, rentre-t-il une bonne valeur ?). N’existe-t-il pas un moyen de faire ça en Python ? La réponse est : bien sûr il existe un moyen pythonique, la classe property. "
   ]
  },
  {
   "cell_type": "markdown",
   "id": "67db65f1",
   "metadata": {},
   "source": [
    "### La solution : la classe property\n",
    "\n",
    "les getters et setters traditionnels rencontrés dans d’autres langages orientés objet ne représentent pas une pratique pythonique. En Python, pour des raisons de lisibilité, il faudra dans la mesure du possible conserver une syntaxe **instance.attribut** pour l’accès aux attributs d’instance, et une syntaxe **instance.attribut = nouvelle_valeur** pour les modifier.\n",
    "\n",
    "Toutefois, *si on souhaite contrôler l’accès, la modification (voire la destruction) de certains attributs stratégiques*, Python met en place une **classe nommée property**. Celle-ci permet de combiner le maintien de la syntaxe lisible *instance.attribut*, tout en utilisant en filigrane des fonctions pour accéder, modifier, voire détruire l’attribut (à l’image des getters et setters, ainsi que des deleters ou encore destructeurs en français).\n",
    "\n",
    "Pour faire cela, on utilise la fonction Python interne **property()** qui crée un objet (ou instance) property :\n",
    "\n",
    "```Python\n",
    "attribut = property(fget=accesseur , fset=mutateur , fdel=destructeur)\n",
    "```\n",
    "\n",
    "Les arguments passés à `property()` sont systématiquement des méthodes dites callback, c’est-à-dire des noms de méthodes que l’on a définies précédemment dans notre classe, mais on ne précise ni argument, ni parenthèse, ni self. Avec cette ligne de code, `attribut` est un objet de type property qui fonctionne de la manière suivante à l’extérieur de la classe :\n",
    "\n",
    "* L’instruction **instance.attribut** appellera la méthode `.accesseur()`. \n",
    "* L’instruction **instance.attribut = valeur** appellera la méthode `.mutateur()`.\n",
    "* L’instruction **del instance.attribut** appellera la méthode `.destructeur()`.\n",
    "\n",
    "L’objet `attribut` est de type `property`, et la vraie valeur de l’attribut est stockée par Python dans une *variable d’instance* qui s’appellera par exemple *_attribut* (même nom mais commençant par un underscore unique, envoyant un message à l’utilisateur qu’il s’agit d’une variable associée au comportement interne de la classe).\n",
    "\n",
    "Comment cela fonctionne-t-il concrètement dans un code ?\n"
   ]
  },
  {
   "cell_type": "code",
   "execution_count": 44,
   "id": "0a1bc299",
   "metadata": {},
   "outputs": [
    {
     "name": "stdout",
     "output_type": "stream",
     "text": [
      "(1) Je suis dans le programme principal , je vais instancier un Citron\n",
      "(2) J'arrive dans le .__init__()\n",
      " Coucou je suis dans le set \n",
      "(3) Je reviens dans le programme principal \n",
      " Coucou je suis dans le get \n",
      "La masse de notre citron est 100 g\n",
      " Coucou je suis dans le set \n",
      " Coucou je suis dans le get \n",
      "La masse de notre citron est 25 g\n",
      "{'_masse': 25}\n"
     ]
    }
   ],
   "source": [
    "class Citron:\n",
    "    def __init__(self, masse=0):\n",
    "        print(\"(2) J'arrive dans le .__init__()\") \n",
    "        self.masse = masse\n",
    "    \n",
    "    def get_masse(self):\n",
    "        print (\" Coucou je suis dans le get \")\n",
    "        return self._masse\n",
    "    \n",
    "    def set_masse(self, valeur): \n",
    "        print (\" Coucou je suis dans le set \")\n",
    "        if valeur < 0:\n",
    "            raise ValueError(\"Un citron ne peut avoir\"\n",
    "                             \" de masse négative !\")\n",
    "        self._masse = valeur \n",
    "    \n",
    "    masse = property(fget=get_masse , fset=set_masse)\n",
    "\n",
    "if __name__ == \"__main__\":\n",
    "    print (\"(1) Je suis dans le programme principal , \"\n",
    "           \"je vais instancier un Citron\")\n",
    "    citron = Citron(masse=100)\n",
    "    print (\"(3) Je reviens dans le programme principal \") \n",
    "    print(f\"La masse de notre citron est {citron.masse} g\") \n",
    "    # on mange le citron \n",
    "    citron.masse = 25\n",
    "    print(f\"La masse de notre citron est {citron.masse} g\") \n",
    "    print(citron.__dict__)"
   ]
  },
  {
   "cell_type": "markdown",
   "id": "d1569017",
   "metadata": {},
   "source": [
    "L'exécution montre qu’à chaque appel de **self.masse** ou **citron.masse** on va utiliser les méthodes **accesseur** ou **mutateur**. La dernière commande qui affiche le contenu de **citron.__dict__** montre que la vraie valeur de l’attribut est stockée dans la variable d’**instance._masse** (**instance._masse** de l’extérieur et **self._masse** de l’intérieur).\n",
    "\n",
    "```Python \n",
    "masse = property(fget=get_masse , fset=set_masse)\n",
    "```\n",
    "Il s’agit de la commande clé pour mettre en place le système : `masse` devient ici un objet de **type property**. si on regarde son contenu avec une syntaxe **NomClasse.attribut_property**, donc ici **Citron.masse**, Python nous renverra quelque chose de ce style \n",
    "```Python \n",
    "<property object at 0x7fd3615aeef8>\n",
    "```\n",
    "**Qu’est-ce que cela signifie ?** Cela signifier que la prochaine fois qu’on voudra accéder au contenu de cet attribut **.masse**, Python appellera la méthode **.get_masse()**, et quand on voudra le modifier, Python appellera la méthode **.set_masse()** (ceci sera valable de l’intérieur ou de l’extérieur de la classe). Comme il n’y a pas de méthode destructeur (passée avec l’argument fdel), on ne pourra pas détruire cet attribut : un *del c.masse conduirait à une erreur de ce type : AttributeError: can't delete attribute*.\n",
    "\n",
    "La commande **self.masse = masse** dans le constructeur va appeler automatiquement la méthode **.set_masse()**. Dans cette commande, la variable masse à droite du signe **=** est une variable locale passée en argument. Par contre, **self.masse sera l’objet de type property**. L’objet masse créé par la ligne ` masse = property(fget=get_masse , fset=set_masse)` est un attribut de classe, on peut donc y accéder avec une syntaxe self.masse au sein d’une méthode.\n",
    "\n",
    "> **Conseil:** Notez bien l’utilisation de **self.masse** dans le constructeur plutôt que **self._masse**. Comme **self.masse** appelle la méthode **.set_masse()**, cela permet de contrôler si la valeur est correcte dès l’instanciation. C’est donc une pratique que nous vous recommandons. Si on avait utilisé self._masse, il n’y aurait pas eu d’appel à la fonction **mutateur** et on aurait pu mettre n’importe quoi, y compris une valeur aberrante, lors de l’instanciation.\n",
    "\n",
    "Dans les méthodes **accesseur** et **mutateur**, on utilise la variable **self._masse** qui contiendra la vraie valeur de la masse du citron (cela serait vrai pour tout autre objet de type property).\n",
    "\n",
    "**Attention**: Dans les méthodes **accesseur et mutateur** il ne faut surtout pas utiliser **self.masse** à la place de **self._masse**. Pourquoi ? Par exemple, dans **l’accesseur**, si on met **self.masse** cela signifie que l’on souhaite accéder à la valeur de l’attribut (comme dans le constructeur!). Ainsi, Python rappellera **l’accesseur** et retombera sur **self.masse**, ce qui rappellera **l’accesseur** et ainsi de suite : vous l’aurez compris, cela partira dans une récursion infinie et mènera à une erreur du type **RecursionError: maximum recursion depth exceeded**. Cela serait vrai aussi si vous aviez une fonction **destructeur**, il faudrait utiliser **self._masse**).\n",
    "\n",
    "> Il existe une autre syntaxe considérée comme plus élégante pour mettre en place les objets property. Il s’agit des décorateurs **@property, @attribut.setter et @attribut.deleter**. Toutefois, la notion de décorateur va au-delà du présent cours. \n"
   ]
  },
  {
   "cell_type": "markdown",
   "id": "165174de",
   "metadata": {},
   "source": [
    "## Bonnes pratiques pour construire et manipuler ses classes\n",
    "\n",
    "Nous allons voir dans cette section certaines pratiques que nous vous recommandons lorsque vous construisez vos propres classes."
   ]
  },
  {
   "cell_type": "markdown",
   "id": "3d1945c9",
   "metadata": {},
   "source": [
    "### L’accès aux attributs\n",
    "\n",
    "Nous allons voir dans cette rubrique certaines pratiques que nous vous recommandons lorsque vous construisez vos propres classes.\n",
    "\n",
    "On a vu que nous avions le moyen de contrôler l'accès et la modification des attributs depuis l’extérieur avec la classe property. Toutefois, cela peut parfois alourdir inutilement le code, ce qui va à l’encontre de certains préceptes de la PEP 20 comme « Sparse is better than dense », « Readability counts », etc.\n",
    "\n",
    "**Conseil**: Si on souhaite contrôler ce que fait le client de la classe pour certains attributs « délicats » ou « stratégiques », on peut utiliser la classe property. Toutefois, nous vous conseillons de ne l’utiliser que lorsque cela se révèle vraiment nécessaire, donc avec parcimonie. Le but étant de ne pas surcharger le code inutilement. Cela va dans le sens des recommandations des développeurs de Python (comme décrit dans la PEP8).\n",
    "\n",
    "Les objets property ont deux avantages principaux :\n",
    "\n",
    "* ils permettent de garder une lisibilité du côté client avec une syntaxe **instance.attribut** ;\n",
    "* même si un jour vous décidez de modifier votre classe et de mettre en place un contrôle d’accès à certains attributs avec des objets property, cela ne changera rien du côté client. Ce dernier utilisera toujours **instance.attribut** ou **instance.attribut = valeur**. Tout cela contribuera à une meilleure maintenance du code client utilisant votre classe.\n",
    "* Certains détracteurs disent qu’il est parfois difficile de déterminer qu’un attribut est contrôlé avec un objet property. La réponse à cela est simple, dites-le clairement dans la documentation de votre classe via les docstrings."
   ]
  },
  {
   "cell_type": "markdown",
   "id": "75ffe55b",
   "metadata": {},
   "source": [
    "### Note sur les attributs publics et non publics\n",
    "\n",
    "Certains langages orientés objet mettent en place des attributs dits privés dont l’accès est impossible de l’extérieur de la classe. Ceux-ci existent afin d’éviter qu’un client n’aille perturber ou casser quelque chose dans la classe. Les arguments auxquels l’utilisateur a accès sont dits publics.\n",
    "\n",
    "**Attention:** En Python, il n’existe pas d’attributs privés comme dans d’autres langages orientés objet. L’utilisateur a accès à tous les attributs quels qu’ils soient, même s’ils contiennent un ou plusieurs caractère(s) underscore(s) !\n",
    "\n",
    "Au lieu de ça, on parle en Python d’attributs publics et non publics.\n",
    "\n",
    "**Définition:**\n",
    "En Python les attributs non publics sont des attributs dont le nom commence par un ou deux caractère(s) underscore. Par exemple, **_attribut**, ou **__attribut**.\n",
    "\n",
    "La présence des underscores dans les noms d’attributs est un signe clair que le client ne doit pas y toucher. Toutefois, cela n’est qu’une convention, et comme dit ci-dessus le client peut tout de même modifier ces attributs.\n",
    "Par exemple, reprenons la classe Citron dont l’attribut **.masse** est contrôlé avec un objet *property*: \n",
    "\n"
   ]
  },
  {
   "cell_type": "code",
   "execution_count": 45,
   "id": "afccb598",
   "metadata": {},
   "outputs": [
    {
     "name": "stdout",
     "output_type": "stream",
     "text": [
      "(2) J'arrive dans le .__init__()\n",
      " Coucou je suis dans le set \n"
     ]
    }
   ],
   "source": [
    "citron = Citron ()"
   ]
  },
  {
   "cell_type": "code",
   "execution_count": 46,
   "id": "a6246d67",
   "metadata": {},
   "outputs": [
    {
     "name": "stdout",
     "output_type": "stream",
     "text": [
      " Coucou je suis dans le get \n"
     ]
    },
    {
     "data": {
      "text/plain": [
       "0"
      ]
     },
     "execution_count": 46,
     "metadata": {},
     "output_type": "execute_result"
    }
   ],
   "source": [
    "citron.masse"
   ]
  },
  {
   "cell_type": "code",
   "execution_count": 47,
   "id": "c0783807",
   "metadata": {},
   "outputs": [
    {
     "name": "stdout",
     "output_type": "stream",
     "text": [
      " Coucou je suis dans le set \n"
     ]
    },
    {
     "ename": "ValueError",
     "evalue": "Un citron ne peut avoir de masse négative !",
     "output_type": "error",
     "traceback": [
      "\u001b[0;31m---------------------------------------------------------------------------\u001b[0m",
      "\u001b[0;31mValueError\u001b[0m                                Traceback (most recent call last)",
      "Cell \u001b[0;32mIn [47], line 1\u001b[0m\n\u001b[0;32m----> 1\u001b[0m \u001b[43mcitron\u001b[49m\u001b[38;5;241;43m.\u001b[39;49m\u001b[43mmasse\u001b[49m \u001b[38;5;241m=\u001b[39m \u001b[38;5;241m-\u001b[39m\u001b[38;5;241m16\u001b[39m\n",
      "Cell \u001b[0;32mIn [44], line 13\u001b[0m, in \u001b[0;36mCitron.set_masse\u001b[0;34m(self, valeur)\u001b[0m\n\u001b[1;32m     11\u001b[0m \u001b[38;5;28mprint\u001b[39m (\u001b[38;5;124m\"\u001b[39m\u001b[38;5;124m Coucou je suis dans le set \u001b[39m\u001b[38;5;124m\"\u001b[39m)\n\u001b[1;32m     12\u001b[0m \u001b[38;5;28;01mif\u001b[39;00m valeur \u001b[38;5;241m<\u001b[39m \u001b[38;5;241m0\u001b[39m:\n\u001b[0;32m---> 13\u001b[0m     \u001b[38;5;28;01mraise\u001b[39;00m \u001b[38;5;167;01mValueError\u001b[39;00m(\u001b[38;5;124m\"\u001b[39m\u001b[38;5;124mUn citron ne peut avoir\u001b[39m\u001b[38;5;124m\"\u001b[39m\n\u001b[1;32m     14\u001b[0m                      \u001b[38;5;124m\"\u001b[39m\u001b[38;5;124m de masse négative !\u001b[39m\u001b[38;5;124m\"\u001b[39m)\n\u001b[1;32m     15\u001b[0m \u001b[38;5;28mself\u001b[39m\u001b[38;5;241m.\u001b[39m_masse \u001b[38;5;241m=\u001b[39m valeur\n",
      "\u001b[0;31mValueError\u001b[0m: Un citron ne peut avoir de masse négative !"
     ]
    }
   ],
   "source": [
    "citron.masse = -16"
   ]
  },
  {
   "cell_type": "code",
   "execution_count": 48,
   "id": "cd30bb58",
   "metadata": {},
   "outputs": [
    {
     "name": "stdout",
     "output_type": "stream",
     "text": [
      " Coucou je suis dans le set \n"
     ]
    }
   ],
   "source": [
    "citron.masse = 16"
   ]
  },
  {
   "cell_type": "code",
   "execution_count": 49,
   "id": "2d252478",
   "metadata": {},
   "outputs": [
    {
     "name": "stdout",
     "output_type": "stream",
     "text": [
      " Coucou je suis dans le get \n"
     ]
    },
    {
     "data": {
      "text/plain": [
       "16"
      ]
     },
     "execution_count": 49,
     "metadata": {},
     "output_type": "execute_result"
    }
   ],
   "source": [
    "citron.masse"
   ]
  },
  {
   "cell_type": "code",
   "execution_count": 50,
   "id": "0899a6e1",
   "metadata": {},
   "outputs": [
    {
     "data": {
      "text/plain": [
       "16"
      ]
     },
     "execution_count": 50,
     "metadata": {},
     "output_type": "execute_result"
    }
   ],
   "source": [
    "citron._masse"
   ]
  },
  {
   "cell_type": "code",
   "execution_count": 51,
   "id": "afead7b7",
   "metadata": {},
   "outputs": [],
   "source": [
    "citron._masse = -8364"
   ]
  },
  {
   "cell_type": "code",
   "execution_count": 52,
   "id": "76aeef7a",
   "metadata": {},
   "outputs": [
    {
     "name": "stdout",
     "output_type": "stream",
     "text": [
      " Coucou je suis dans le get \n"
     ]
    },
    {
     "data": {
      "text/plain": [
       "-8364"
      ]
     },
     "execution_count": 52,
     "metadata": {},
     "output_type": "execute_result"
    }
   ],
   "source": [
    "citron.masse"
   ]
  },
  {
   "cell_type": "markdown",
   "id": "1c96182b",
   "metadata": {},
   "source": [
    "Malgré l’objet **property**, nous avons pu modifier l’attribut non public **._masse** directement !\n",
    "\n",
    "Il existe également des attributs dont le nom commence par deux caractères underscores. Nous n’avons encore jamais croisé ce genre d’attribut. Ces derniers mettent en place le **name mangling**.\n",
    "\n",
    "**Définition:** \n",
    "Le name mangling, ou encore substantypage ou déformation de nom en français, correspond à un mécanisme de changement du nom d’un attribut selon si on est à l’intérieur ou à l’extérieur d’une classe."
   ]
  },
  {
   "cell_type": "code",
   "execution_count": 53,
   "id": "87eb0c0e",
   "metadata": {},
   "outputs": [
    {
     "name": "stdout",
     "output_type": "stream",
     "text": [
      "100\n"
     ]
    },
    {
     "ename": "AttributeError",
     "evalue": "'Citron' object has no attribute '__mass'",
     "output_type": "error",
     "traceback": [
      "\u001b[0;31m---------------------------------------------------------------------------\u001b[0m",
      "\u001b[0;31mAttributeError\u001b[0m                            Traceback (most recent call last)",
      "Cell \u001b[0;32mIn [53], line 11\u001b[0m\n\u001b[1;32m      9\u001b[0m citron1 \u001b[38;5;241m=\u001b[39m Citron() \n\u001b[1;32m     10\u001b[0m \u001b[38;5;28mprint\u001b[39m(citron1\u001b[38;5;241m.\u001b[39mget_mass()) \n\u001b[0;32m---> 11\u001b[0m \u001b[38;5;28mprint\u001b[39m(\u001b[43mcitron1\u001b[49m\u001b[38;5;241;43m.\u001b[39;49m\u001b[43m__mass\u001b[49m)\n",
      "\u001b[0;31mAttributeError\u001b[0m: 'Citron' object has no attribute '__mass'"
     ]
    }
   ],
   "source": [
    "class Citron:\n",
    "    def __init__(self):\n",
    "        self.__mass = 100\n",
    "    \n",
    "    def get_mass(self): \n",
    "        return self.__mass\n",
    "    \n",
    "if __name__ == \"__main__\": \n",
    "    citron1 = Citron() \n",
    "    print(citron1.get_mass()) \n",
    "    print(citron1.__mass)\n"
   ]
  },
  {
   "cell_type": "markdown",
   "id": "6f40e738",
   "metadata": {},
   "source": [
    "La dernière ligne du code a donc conduit à une erreur : Python prétend ne pas connaître l’attribut **.__mass**. On pourrait croire que cela constitue un mécanisme de protection des attributs. En fait il n’en est rien, car on va voir que l’attribut est toujours accessible et modifiable. Si on modifiait le programme principal comme suit :"
   ]
  },
  {
   "cell_type": "code",
   "execution_count": 55,
   "id": "409911c9",
   "metadata": {},
   "outputs": [
    {
     "name": "stdout",
     "output_type": "stream",
     "text": [
      "{'_Citron__mass': 100}\n"
     ]
    }
   ],
   "source": [
    "if __name__ == \"__main__\":\n",
    "    citron1 = Citron()\n",
    "    print(citron1.__dict__)"
   ]
  },
  {
   "cell_type": "markdown",
   "id": "53c17a81",
   "metadata": {},
   "source": [
    "On obtiendrait en sortie le dictionnaire: \n",
    "```bash \n",
    "    {'_Citron__mass': 100}\n",
    "```\n",
    "\n",
    "Le name mangling est donc un mécanisme qui transforme le nom **self.__attribut** à l’intérieur de la classe en **instance._NomClasse** à l’extérieur de la classe. Ce mécanisme a été conçu initialement pour pouvoir retrouver des noms d’attributs identiques lors de l’héritage.\n",
    "\n",
    "Donc en Python, on peut tout détruire, même les attributs délicats contenant des underscores. Pourquoi Python permet-il un tel paradoxe ? Et bien selon le concepteur Guido van Rossum : « We’re all consenting adults here », nous sommes ici entre adultes, autrement dit nous savons ce que nous faisons !\n",
    "\n",
    "**Conseil:**\n",
    "En résumé, n’essayez pas de mettre des barrières inutiles vers vos attributs. Cela va à l’encontre de la philosophie Python. Soignez plutôt la documentation et faites confiance aux utilisateurs de votre classe !\n",
    "\n"
   ]
  },
  {
   "cell_type": "markdown",
   "id": "2d99cf6c",
   "metadata": {},
   "source": [
    "### Classes et docstrings\n",
    "\n",
    "Les classes peuvent bien sûr contenir des docstrings comme les fonctions et les modules. C’est d’ailleurs une pratique vivement recommandée. Voici un exemple sur notre désormais familière classe Citron :"
   ]
  },
  {
   "cell_type": "code",
   "execution_count": 57,
   "id": "812f30e3",
   "metadata": {},
   "outputs": [],
   "source": [
    "class Citron:\n",
    "    \"\"\"Voici la classe Citron.\n",
    "    Il s'agit d'une classe assez impressionnante qui crée des objets citrons.\n",
    "    Par défaut une instance de Citron contient l'attribut de classe saveur.\n",
    "    \"\"\"   \n",
    "    saveur = \"acide\"\n",
    "    \n",
    "    def __init__(self, couleur=\"jaune\", taille=\"standard\"): \n",
    "        \"\"\"Constructeur de la classe Citron.\n",
    "        Ce constructeur prend deux arguments par mot-clé \n",
    "        couleur et taille .\n",
    "        \"\"\"\n",
    "        self.couleur = couleur\n",
    "        self.taille = taille\n",
    "        \n",
    "    def __str__(self):\n",
    "        \"\"\"Redéfinit le comportement avec print().\"\"\"\n",
    "        return f\"saveur: {saveur}, couleur: {couleur}, taille: {taille}\"\n",
    "    \n",
    "    def affiche_coucou(self):\n",
    "        \"\"\"Méthode inutile qui affiche coucou.\"\"\" \n",
    "        print (\" Coucou !\")\n",
    "    "
   ]
  },
  {
   "cell_type": "markdown",
   "id": "7112630d",
   "metadata": {},
   "source": [
    "Si on fait `help(Citron)` dans l’interpréteur, on obtient :"
   ]
  },
  {
   "cell_type": "code",
   "execution_count": 58,
   "id": "de750771",
   "metadata": {},
   "outputs": [
    {
     "name": "stdout",
     "output_type": "stream",
     "text": [
      "Help on class Citron in module __main__:\n",
      "\n",
      "class Citron(builtins.object)\n",
      " |  Citron(couleur='jaune', taille='standard')\n",
      " |  \n",
      " |  Voici la classe Citron.\n",
      " |  Il s'agit d'une classe assez impressionnante qui crée des objets citrons.\n",
      " |  Par défaut une instance de Citron contient l'attribut de classe saveur.\n",
      " |  \n",
      " |  Methods defined here:\n",
      " |  \n",
      " |  __init__(self, couleur='jaune', taille='standard')\n",
      " |      Constructeur de la classe Citron.\n",
      " |      Ce constructeur prend deux arguments par mot-clé \n",
      " |      couleur et taille .\n",
      " |  \n",
      " |  __str__(self)\n",
      " |      Redéfinit le comportement avec print().\n",
      " |  \n",
      " |  affiche_coucou(self)\n",
      " |      Méthode inutile qui affiche coucou.\n",
      " |  \n",
      " |  ----------------------------------------------------------------------\n",
      " |  Data descriptors defined here:\n",
      " |  \n",
      " |  __dict__\n",
      " |      dictionary for instance variables (if defined)\n",
      " |  \n",
      " |  __weakref__\n",
      " |      list of weak references to the object (if defined)\n",
      " |  \n",
      " |  ----------------------------------------------------------------------\n",
      " |  Data and other attributes defined here:\n",
      " |  \n",
      " |  saveur = 'acide'\n",
      "\n"
     ]
    }
   ],
   "source": [
    "help(Citron)"
   ]
  },
  {
   "cell_type": "markdown",
   "id": "c9baaca9",
   "metadata": {},
   "source": [
    "Python formate automatiquement l’aide comme il le fait avec les modules. Les docstrings sont destinées aux utilisateurs de votre classe. Elle doivent donc contenir tout ce dont un utilisateur a besoin pour comprendre ce que fait la classe et comment l’utiliser.\n",
    "\n",
    "Notez que si on instancie la classe **citron1 = Citron()** et qu’on invoque l’aide sur l’instance help(citron1), on obtient la même page d’aide. Comme pour les modules, si on invoque l’aide pour une méthode de la classe **help(citron1.affiche_coucou)**, on obtient l’aide pour cette méthode seulement.\n",
    "\n",
    "Toutes les docstrings d’une classe sont en fait stockées dans un attribut spécial nommé **instance.__doc__**. Cet attribut est une chaîne de caractères contenant la docstring générale de la classe. Ceci est également vrai pour les modules, méthodes et fonctions. Si on reprend notre exemple ci-dessus :"
   ]
  },
  {
   "cell_type": "code",
   "execution_count": 59,
   "id": "19c8052a",
   "metadata": {},
   "outputs": [
    {
     "name": "stdout",
     "output_type": "stream",
     "text": [
      "Voici la classe Citron.\n",
      "    Il s'agit d'une classe assez impressionnante qui crée des objets citrons.\n",
      "    Par défaut une instance de Citron contient l'attribut de classe saveur.\n",
      "    \n"
     ]
    }
   ],
   "source": [
    "citron1 = Citron()\n",
    "print(citron1.__doc__)"
   ]
  },
  {
   "cell_type": "code",
   "execution_count": 60,
   "id": "387e2a41",
   "metadata": {},
   "outputs": [
    {
     "name": "stdout",
     "output_type": "stream",
     "text": [
      "Méthode inutile qui affiche coucou.\n"
     ]
    }
   ],
   "source": [
    "print(citron1.affiche_coucou.__doc__)"
   ]
  },
  {
   "cell_type": "markdown",
   "id": "3a3ea517",
   "metadata": {},
   "source": [
    "L’attribut **.__doc__** est automatiquement créé par Python au moment de la mise en mémoire de la classe (ou module, méthode, fonction, etc.)."
   ]
  },
  {
   "cell_type": "markdown",
   "id": "15103a66",
   "metadata": {},
   "source": [
    "### Autres bonnes pratiques"
   ]
  },
  {
   "cell_type": "markdown",
   "id": "713a3d0f",
   "metadata": {},
   "source": [
    "Voici quelques points en vrac auxquels nous vous conseillons de faire attention :\n",
    "* Une classe ne se conçoit pas sans méthode. Si on a besoin d’une structure de données séquentielles ou si on veut donner des noms aux variables (plutôt qu’un indice), utilisez plutôt les dictionnaires. Une bonne alternative peut être les namedtuples.\n",
    "* Nous vous déconseillons de mettre comme paramètre par défaut une liste vide (ou tout autre objet séquentiel modifiable) :\n",
    "```Python \n",
    "def __init__(self, liste=[]):\n",
    "    self.liste = liste\n",
    "```\n",
    "Si vous créez des instances sans passer d’argument lors de l’instanciation, toutes ces instances pointeront vers la même liste. Cela peut avoir des effets désastreux.\n",
    "* Ne mettez pas non plus une liste vide (ou tout autre objet séquentiel modifiable) comme attribut de classe.\n",
    "```Python \n",
    "class Citron:\n",
    "    liste = []\n",
    "```\n",
    "\n",
    "Ici chaque instance pourra modifier la liste, ce qui n’est pas souhaitable. Souvenez vous, la modification des attributs de classe doit se faire par une syntaxe Citron.attribut = valeur (et non pas via les instances).\n",
    "\n",
    "* Comme abordé dans la rubrique Différence entre les attributs de classe et d’instance, nous vous conseillons de ne jamais modifier les attributs de classe. Vous pouvez néanmois les utiliser comme constantes.\n",
    "* Si vous avez besoin d’attributs modifiables, utilisez des attributs d’instance et initialisez les dans la méthode **.__init__()** (et nulle part ailleurs). Par exemple, si vous avez besoin d’une liste comme attribut, créez la plutôt dans le constructeur :\n",
    "```Python \n",
    "class Citron:\n",
    "    def __init__(self): \n",
    "        self.liste = []\n",
    "```\n",
    "\n",
    "Ainsi, vous aurez des listes réellement indépendantes pour chaque instance."
   ]
  },
  {
   "cell_type": "markdown",
   "id": "8ab85926",
   "metadata": {},
   "source": [
    "### Les namedtuples\n",
    "\n",
    "Imaginons que l’on souhaite stocker des éléments dans un container, que l’on puisse retrouver ces éléments avec une syntaxe **container.element** et que ces éléments soit non modifiables. On a vu que les classes ne sont pas faites pour cela, il n’est pas conseillé de les utiliser comme des containers inertes, on les conçoit en général afin d’y créer aussi des méthodes. Dans ce cas, les namedtuples sont faits pour ca !"
   ]
  },
  {
   "cell_type": "code",
   "execution_count": 61,
   "id": "68ce4474",
   "metadata": {},
   "outputs": [
    {
     "data": {
      "text/plain": [
       "__main__.Citron"
      ]
     },
     "execution_count": 61,
     "metadata": {},
     "output_type": "execute_result"
    }
   ],
   "source": [
    "import collections\n",
    "Citron = collections.namedtuple(\"Citron\", \"masse couleur saveur forme\")\n",
    "Citron\n"
   ]
  },
  {
   "cell_type": "code",
   "execution_count": 62,
   "id": "efae5b4f",
   "metadata": {},
   "outputs": [
    {
     "data": {
      "text/plain": [
       "Citron(masse=10, couleur='jaune', saveur='acide', forme='ellipsoide')"
      ]
     },
     "execution_count": 62,
     "metadata": {},
     "output_type": "execute_result"
    }
   ],
   "source": [
    "citron = Citron(10, \"jaune\", \"acide\", \"ellipsoide\")\n",
    "citron\n"
   ]
  },
  {
   "cell_type": "code",
   "execution_count": 64,
   "id": "9f016dcf",
   "metadata": {},
   "outputs": [
    {
     "data": {
      "text/plain": [
       "10"
      ]
     },
     "execution_count": 64,
     "metadata": {},
     "output_type": "execute_result"
    }
   ],
   "source": [
    "citron.masse"
   ]
  },
  {
   "cell_type": "code",
   "execution_count": 65,
   "id": "71c4f4df",
   "metadata": {},
   "outputs": [
    {
     "data": {
      "text/plain": [
       "'ellipsoide'"
      ]
     },
     "execution_count": 65,
     "metadata": {},
     "output_type": "execute_result"
    }
   ],
   "source": [
    "citron.forme"
   ]
  },
  {
   "cell_type": "code",
   "execution_count": null,
   "id": "1002ad37",
   "metadata": {},
   "outputs": [],
   "source": []
  }
 ],
 "metadata": {
  "celltoolbar": "Slideshow",
  "kernelspec": {
   "display_name": "Python 3 (ipykernel)",
   "language": "python",
   "name": "python3"
  },
  "language_info": {
   "codemirror_mode": {
    "name": "ipython",
    "version": 3
   },
   "file_extension": ".py",
   "mimetype": "text/x-python",
   "name": "python",
   "nbconvert_exporter": "python",
   "pygments_lexer": "ipython3",
   "version": "3.10.7"
  }
 },
 "nbformat": 4,
 "nbformat_minor": 5
}
