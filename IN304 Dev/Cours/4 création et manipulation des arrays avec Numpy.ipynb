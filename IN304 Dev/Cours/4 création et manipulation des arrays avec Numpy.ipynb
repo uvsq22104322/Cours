{
 "cells": [
  {
   "cell_type": "markdown",
   "id": "a203b264",
   "metadata": {
    "slideshow": {
     "slide_type": "slide"
    }
   },
   "source": [
    "# Création et Manipulation des *arrays* avec Numpy"
   ]
  },
  {
   "cell_type": "markdown",
   "id": "b3a91cf5",
   "metadata": {},
   "source": [
    "# Table of Contents\n",
    "- [Introduction](#Introduction)\n",
    "- [Objets de type array](#Objets-de-type-array)\n",
    "- [Array et dimensions](#Array-et-dimensions)\n",
    "- [Méthodes de calcul sur les arrays et l’argument axis](#Méthodes-de-calcul-sur-les-arrays-et-l’argument-axis)\n",
    "- [Indices](#Indices)\n",
    "- [Copie d’arrays](#Copie-d’arrays)\n",
    "- [Construction automatique de matrices](#Construction-automatique-de-matrices)\n",
    "- [Un peu d’algèbre linéaire](#Un-peu-d’algèbre-linéaire)\n",
    "- [Parcours de matrice et affectation de lignes / colonnes](#Parcours-de-matrice-et-affectation-de-lignes-/-colonnes)\n",
    "- [Masques booléens](#Masques-booléens)\n",
    "- [Quelques conseils](#Quelques-conseils)\n",
    "   "
   ]
  },
  {
   "cell_type": "markdown",
   "id": "c278dbc3",
   "metadata": {},
   "source": [
    "## Introduction"
   ]
  },
  {
   "cell_type": "markdown",
   "id": "bccf1a8f",
   "metadata": {},
   "source": [
    "Le module **NumPy** permet d’effectuer des calculs sur des *vecteurs* ou des *matrices*, élément par élément, via un nouveau type d’objet appelé **array**.\n",
    "\n",
    "On charge le module *NumPy* avec la commande : \n",
    "```\n",
    "import numpy\n",
    "```\n",
    "On peut également définir un nom raccourci pour *NumPy* : \n",
    "```\n",
    "import numpy as np\n",
    "```\n"
   ]
  },
  {
   "cell_type": "markdown",
   "id": "c39c493a",
   "metadata": {},
   "source": [
    "## Objets de type array"
   ]
  },
  {
   "cell_type": "markdown",
   "id": "50683641",
   "metadata": {},
   "source": [
    "Les objets de type **array**  correspondent à des tableaux à une ou plusieurs dimensions et permettent d’effectuer du calcul vectoriel. \n",
    "\n",
    "La fonction **array()** convertit un objet séquentiel comme une **liste** ou un **tuple** en un objet de type **array**.\n",
    "\n",
    "Voici un exemple simple de conversion d’une *liste* à une dimension en objet *array* :"
   ]
  },
  {
   "cell_type": "code",
   "execution_count": 131,
   "id": "984755b4",
   "metadata": {},
   "outputs": [
    {
     "data": {
      "text/plain": [
       "array([1, 2, 3])"
      ]
     },
     "execution_count": 131,
     "metadata": {},
     "output_type": "execute_result"
    }
   ],
   "source": [
    "import numpy as np\n",
    "a=[1,2,3]\n",
    "np.array(a)"
   ]
  },
  {
   "cell_type": "code",
   "execution_count": 132,
   "id": "ac71096c",
   "metadata": {},
   "outputs": [
    {
     "data": {
      "text/plain": [
       "array([1, 2, 3])"
      ]
     },
     "execution_count": 132,
     "metadata": {},
     "output_type": "execute_result"
    }
   ],
   "source": [
    "b = np.array(a)\n",
    "b"
   ]
  },
  {
   "cell_type": "code",
   "execution_count": 134,
   "id": "6d3addbd",
   "metadata": {},
   "outputs": [
    {
     "data": {
      "text/plain": [
       "numpy.ndarray"
      ]
     },
     "execution_count": 134,
     "metadata": {},
     "output_type": "execute_result"
    }
   ],
   "source": [
    "type(b)"
   ]
  },
  {
   "cell_type": "markdown",
   "id": "a1227589",
   "metadata": {},
   "source": [
    "> Nous avons converti la liste ```[1, 2, 3]``` en *array*. Nous aurions obtenu le même résultat si nous avions converti le tuple (1, 2, 3) en array.\n",
    "\n",
    "Par ailleurs, lorsqu’on demande à Python d’afficher le contenu d’un objet array, le mot array et les symboles ([ et ]) sont utilisés pour le distinguer d’une liste (délimitée par les caractères [ et ]) ou d’un tuple (délimité par les caractères ( et ))."
   ]
  },
  {
   "cell_type": "markdown",
   "id": "ba7858de",
   "metadata": {},
   "source": [
    "**Remarque** \n",
    "\n",
    "> Un objet array ne contient que des données homogènes, c’est-à-dire d’un type identique.\n",
    "Il est possible de créer un objet array à partir d’une liste contenant des entiers et des chaînes de caractères, mais dans ce cas, toutes les valeurs seront comprises par *NumPy* comme des chaînes de caractères:"
   ]
  },
  {
   "cell_type": "code",
   "execution_count": 135,
   "id": "a3b1eacd",
   "metadata": {},
   "outputs": [
    {
     "data": {
      "text/plain": [
       "array(['1', '2', 'tigre'], dtype='<U21')"
      ]
     },
     "execution_count": 135,
     "metadata": {},
     "output_type": "execute_result"
    }
   ],
   "source": [
    "a = np.array([1, 2, \"tigre\"])\n",
    "a"
   ]
  },
  {
   "cell_type": "code",
   "execution_count": 136,
   "id": "356f33bd",
   "metadata": {},
   "outputs": [
    {
     "data": {
      "text/plain": [
       "numpy.ndarray"
      ]
     },
     "execution_count": 136,
     "metadata": {},
     "output_type": "execute_result"
    }
   ],
   "source": [
    "type(a)"
   ]
  },
  {
   "cell_type": "markdown",
   "id": "17702177",
   "metadata": {},
   "source": [
    "> De même, il est possible de créer un objet array à partir d’une liste constituée d’entiers et de floats, mais toutes les valeurs seront alors comprises par *NumPy* comme des floats:"
   ]
  },
  {
   "cell_type": "code",
   "execution_count": 138,
   "id": "25f131ac",
   "metadata": {},
   "outputs": [
    {
     "data": {
      "text/plain": [
       "array([1. , 2. , 3.5])"
      ]
     },
     "execution_count": 138,
     "metadata": {},
     "output_type": "execute_result"
    }
   ],
   "source": [
    "b = np.array([1, 2, 3.5])\n",
    "b"
   ]
  },
  {
   "cell_type": "code",
   "execution_count": 139,
   "id": "69e6d589",
   "metadata": {},
   "outputs": [
    {
     "data": {
      "text/plain": [
       "numpy.ndarray"
      ]
     },
     "execution_count": 139,
     "metadata": {},
     "output_type": "execute_result"
    }
   ],
   "source": [
    "type(b)"
   ]
  },
  {
   "cell_type": "markdown",
   "id": "09e214da",
   "metadata": {},
   "source": [
    "> ici, la notation 1. indique qu’il s’agit du float 1.0000... et pas de l’entier 1."
   ]
  },
  {
   "cell_type": "markdown",
   "id": "b238d50d",
   "metadata": {},
   "source": [
    "La fonction **arange()** permet de construire un array à une dimension de manière simple."
   ]
  },
  {
   "cell_type": "code",
   "execution_count": 140,
   "id": "6775a41d",
   "metadata": {},
   "outputs": [
    {
     "data": {
      "text/plain": [
       "array([0, 1, 2, 3, 4, 5, 6, 7, 8, 9])"
      ]
     },
     "execution_count": 140,
     "metadata": {},
     "output_type": "execute_result"
    }
   ],
   "source": [
    "np.arange(10)"
   ]
  },
  {
   "cell_type": "markdown",
   "id": "ea687a95",
   "metadata": {},
   "source": [
    "on peut spécifier en argument une borne de début, une borne de fin et un pas :"
   ]
  },
  {
   "cell_type": "code",
   "execution_count": 141,
   "id": "b99138b4",
   "metadata": {},
   "outputs": [
    {
     "data": {
      "text/plain": [
       "array([10,  9,  8,  7,  6,  5,  4,  3,  2,  1])"
      ]
     },
     "execution_count": 141,
     "metadata": {},
     "output_type": "execute_result"
    }
   ],
   "source": [
    "np.arange(10, 0, -1)"
   ]
  },
  {
   "cell_type": "markdown",
   "id": "f3290247",
   "metadata": {},
   "source": [
    "Un autre avantage de la fonction **arange()** est qu’elle génère des objets array qui contiennent des entiers ou des floats selon l’argument qu’on lui passe :"
   ]
  },
  {
   "cell_type": "code",
   "execution_count": 142,
   "id": "780dd491",
   "metadata": {},
   "outputs": [
    {
     "data": {
      "text/plain": [
       "array([0, 1, 2, 3, 4, 5, 6, 7, 8, 9])"
      ]
     },
     "execution_count": 142,
     "metadata": {},
     "output_type": "execute_result"
    }
   ],
   "source": [
    "np.arange(10)"
   ]
  },
  {
   "cell_type": "code",
   "execution_count": 143,
   "id": "cf4138a6",
   "metadata": {},
   "outputs": [
    {
     "data": {
      "text/plain": [
       "array([0., 1., 2., 3., 4., 5., 6., 7., 8., 9.])"
      ]
     },
     "execution_count": 143,
     "metadata": {},
     "output_type": "execute_result"
    }
   ],
   "source": [
    "np.arange(10.0)"
   ]
  },
  {
   "cell_type": "markdown",
   "id": "dfe436e9",
   "metadata": {},
   "source": [
    "> La différence fondamentale entre un objet array à une dimension et une liste (ou un tuple) est que celui-ci est considéré comme un vecteur. Par conséquent, on peut effectuer des opérations *élément par élément* sur ce type d’objet, ce qui est bien commode lorsqu’on analyse de grandes quantités de données. "
   ]
  },
  {
   "cell_type": "code",
   "execution_count": 144,
   "id": "af06755c",
   "metadata": {},
   "outputs": [
    {
     "data": {
      "text/plain": [
       "array([0, 1, 2, 3])"
      ]
     },
     "execution_count": 144,
     "metadata": {},
     "output_type": "execute_result"
    }
   ],
   "source": [
    "v = np.arange(4)\n",
    "v"
   ]
  },
  {
   "cell_type": "code",
   "execution_count": 145,
   "id": "6fe45edd",
   "metadata": {},
   "outputs": [
    {
     "data": {
      "text/plain": [
       "array([1, 2, 3, 4])"
      ]
     },
     "execution_count": 145,
     "metadata": {},
     "output_type": "execute_result"
    }
   ],
   "source": [
    "v+1"
   ]
  },
  {
   "cell_type": "code",
   "execution_count": 146,
   "id": "f73e9ae1",
   "metadata": {},
   "outputs": [
    {
     "data": {
      "text/plain": [
       "array([0.1, 1.1, 2.1, 3.1])"
      ]
     },
     "execution_count": 146,
     "metadata": {},
     "output_type": "execute_result"
    }
   ],
   "source": [
    "v+0.1"
   ]
  },
  {
   "cell_type": "code",
   "execution_count": 147,
   "id": "f8f5bf0d",
   "metadata": {},
   "outputs": [
    {
     "data": {
      "text/plain": [
       "array([0, 2, 4, 6])"
      ]
     },
     "execution_count": 147,
     "metadata": {},
     "output_type": "execute_result"
    }
   ],
   "source": [
    "v*2"
   ]
  },
  {
   "cell_type": "code",
   "execution_count": 148,
   "id": "7564afcc",
   "metadata": {},
   "outputs": [
    {
     "data": {
      "text/plain": [
       "array([0, 1, 4, 9])"
      ]
     },
     "execution_count": 148,
     "metadata": {},
     "output_type": "execute_result"
    }
   ],
   "source": [
    "v*v"
   ]
  },
  {
   "cell_type": "markdown",
   "id": "7104868e",
   "metadata": {},
   "source": [
    "> Avec les listes, ces opérations n’auraient été possibles qu’en utilisant des boucles. \n",
    "\n",
    "* Nous vous encourageons donc à utiliser dorénavant les objets *array* lorsque vous aurez besoin de faire des opérations *élément par élément*.\n",
    "\n",
    "* Notez également que, dans le dernier exemple de multiplication, l’array final correspond à la multiplication élément par élément des deux array initiaux."
   ]
  },
  {
   "cell_type": "markdown",
   "id": "0c22e2f4",
   "metadata": {},
   "source": [
    "## Array et dimensions"
   ]
  },
  {
   "cell_type": "markdown",
   "id": "af606175",
   "metadata": {},
   "source": [
    "> Il est aussi possible de construire des objets arrays à **deux dimensions**, il suffit de passer en argument *une liste de listes* à la fonction *array()*\n",
    "\n",
    "| ![Définition des lignes et colonnes dans un array 2D](images/array2d.png) |\n",
    "|----|\n",
    "\n",
    "\n"
   ]
  },
  {
   "cell_type": "code",
   "execution_count": 153,
   "id": "4f3a6adc",
   "metadata": {},
   "outputs": [
    {
     "data": {
      "text/plain": [
       "array([[1, 2],\n",
       "       [3, 4],\n",
       "       [5, 6]])"
      ]
     },
     "execution_count": 153,
     "metadata": {},
     "output_type": "execute_result"
    }
   ],
   "source": [
    "w = np.array([[1, 2], [3, 4], [5, 6]])\n",
    "w"
   ]
  },
  {
   "cell_type": "markdown",
   "id": "21b0d4ba",
   "metadata": {},
   "source": [
    "On peut aussi créer des tableaux à **trois dimensions** en passant comme argument à la fonction *array()* une *liste de listes de listes* :"
   ]
  },
  {
   "cell_type": "code",
   "execution_count": 154,
   "id": "22ac138c",
   "metadata": {},
   "outputs": [
    {
     "data": {
      "text/plain": [
       "array([[[1, 2],\n",
       "        [2, 3]],\n",
       "\n",
       "       [[4, 5],\n",
       "        [5, 6]]])"
      ]
     },
     "execution_count": 154,
     "metadata": {},
     "output_type": "execute_result"
    }
   ],
   "source": [
    "x = np.array([[[1, 2], [2, 3]], [[4, 5], [5, 6]]])\n",
    "x"
   ]
  },
  {
   "cell_type": "markdown",
   "id": "40410630",
   "metadata": {},
   "source": [
    "> La fonction *array()* peut créer des tableaux à n’importe quel nombre de dimensions. Toutefois ça devient vite compliqué lorsqu’on dépasse trois dimensions. \n",
    "\n",
    "> Retenez qu’un objet array à une dimension peut être considéré comme un **vecteur** et un array à deux dimensions comme une **matrice**. "
   ]
  },
  {
   "cell_type": "markdown",
   "id": "769b0646",
   "metadata": {},
   "source": [
    "**Organisation des *arrays 2D***\n",
    "\n",
    "* Les *arrays 2D* représentent des **matrices**. \n",
    "* Il s’agit de tableaux de nombres qui sont organisés en *lignes et en colonnes*. \n",
    "\n",
    "Voici quelques attributs intéressants pour décrire un objet array :\n",
    "* .ndim renvoie le nombre de dimensions (par exemple, 1 pour un vecteur et 2 pour une matrice).\n",
    "* .shape renvoie les dimensions sous forme d’un tuple. Dans le cas d’une matrice (array à deux dimensions), la première valeur du tuple correspond au nombre de lignes et la seconde au nombre de colonnes.\n",
    "* .size renvoie le nombre total d’éléments contenus dans l’array.\n"
   ]
  },
  {
   "cell_type": "code",
   "execution_count": 101,
   "id": "a58ad1e0",
   "metadata": {},
   "outputs": [
    {
     "data": {
      "text/plain": [
       "array([0, 1, 2, 3])"
      ]
     },
     "execution_count": 101,
     "metadata": {},
     "output_type": "execute_result"
    }
   ],
   "source": [
    "v = np.arange(4)\n",
    "v"
   ]
  },
  {
   "cell_type": "code",
   "execution_count": 102,
   "id": "3f5f6850",
   "metadata": {},
   "outputs": [
    {
     "data": {
      "text/plain": [
       "1"
      ]
     },
     "execution_count": 102,
     "metadata": {},
     "output_type": "execute_result"
    }
   ],
   "source": [
    "v.ndim"
   ]
  },
  {
   "cell_type": "code",
   "execution_count": 103,
   "id": "a80da8b4",
   "metadata": {},
   "outputs": [
    {
     "data": {
      "text/plain": [
       "(4,)"
      ]
     },
     "execution_count": 103,
     "metadata": {},
     "output_type": "execute_result"
    }
   ],
   "source": [
    "v.shape"
   ]
  },
  {
   "cell_type": "code",
   "execution_count": 107,
   "id": "c0463a7d",
   "metadata": {},
   "outputs": [
    {
     "data": {
      "text/plain": [
       "4"
      ]
     },
     "execution_count": 107,
     "metadata": {},
     "output_type": "execute_result"
    }
   ],
   "source": [
    "v.size"
   ]
  },
  {
   "cell_type": "code",
   "execution_count": 109,
   "id": "aa0bbd50",
   "metadata": {},
   "outputs": [
    {
     "data": {
      "text/plain": [
       "array([[1, 2],\n",
       "       [3, 4],\n",
       "       [5, 6]])"
      ]
     },
     "execution_count": 109,
     "metadata": {},
     "output_type": "execute_result"
    }
   ],
   "source": [
    "w = np.array([[1, 2], [3, 4], [5, 6]])\n",
    "w"
   ]
  },
  {
   "cell_type": "code",
   "execution_count": 110,
   "id": "f29b46f5",
   "metadata": {},
   "outputs": [
    {
     "data": {
      "text/plain": [
       "2"
      ]
     },
     "execution_count": 110,
     "metadata": {},
     "output_type": "execute_result"
    }
   ],
   "source": [
    "w.ndim"
   ]
  },
  {
   "cell_type": "code",
   "execution_count": 111,
   "id": "197d7cab",
   "metadata": {},
   "outputs": [
    {
     "data": {
      "text/plain": [
       "(3, 2)"
      ]
     },
     "execution_count": 111,
     "metadata": {},
     "output_type": "execute_result"
    }
   ],
   "source": [
    "w.shape"
   ]
  },
  {
   "cell_type": "code",
   "execution_count": 112,
   "id": "74a43e28",
   "metadata": {},
   "outputs": [
    {
     "data": {
      "text/plain": [
       "6"
      ]
     },
     "execution_count": 112,
     "metadata": {},
     "output_type": "execute_result"
    }
   ],
   "source": [
    "w.size"
   ]
  },
  {
   "cell_type": "markdown",
   "id": "97df3c58",
   "metadata": {},
   "source": [
    "> La méthode ***.reshape()*** renvoie un nouvel array avec les dimensions spécifiées :"
   ]
  },
  {
   "cell_type": "code",
   "execution_count": 115,
   "id": "bb9a4e31",
   "metadata": {},
   "outputs": [
    {
     "data": {
      "text/plain": [
       "array([0, 1, 2, 3, 4, 5])"
      ]
     },
     "execution_count": 115,
     "metadata": {},
     "output_type": "execute_result"
    }
   ],
   "source": [
    "a = np.arange(0, 6)\n",
    "a"
   ]
  },
  {
   "cell_type": "code",
   "execution_count": 116,
   "id": "f1a960ca",
   "metadata": {},
   "outputs": [
    {
     "data": {
      "text/plain": [
       "(6,)"
      ]
     },
     "execution_count": 116,
     "metadata": {},
     "output_type": "execute_result"
    }
   ],
   "source": [
    "a.shape"
   ]
  },
  {
   "cell_type": "code",
   "execution_count": 118,
   "id": "dce4ed38",
   "metadata": {},
   "outputs": [
    {
     "data": {
      "text/plain": [
       "array([[0, 1, 2],\n",
       "       [3, 4, 5]])"
      ]
     },
     "execution_count": 118,
     "metadata": {},
     "output_type": "execute_result"
    }
   ],
   "source": [
    "b = a.reshape((2, 3))\n",
    "b"
   ]
  },
  {
   "cell_type": "code",
   "execution_count": 119,
   "id": "574114cb",
   "metadata": {},
   "outputs": [
    {
     "data": {
      "text/plain": [
       "(2, 3)"
      ]
     },
     "execution_count": 119,
     "metadata": {},
     "output_type": "execute_result"
    }
   ],
   "source": [
    "b.shape"
   ]
  },
  {
   "cell_type": "code",
   "execution_count": 120,
   "id": "30bec67d",
   "metadata": {},
   "outputs": [
    {
     "data": {
      "text/plain": [
       "array([0, 1, 2, 3, 4, 5])"
      ]
     },
     "execution_count": 120,
     "metadata": {},
     "output_type": "execute_result"
    }
   ],
   "source": [
    "a"
   ]
  },
  {
   "cell_type": "markdown",
   "id": "69c12c77",
   "metadata": {},
   "source": [
    "> Notez bien que ```a``` n’a pas été modifié. Notez également que ``` a.reshape((2, 3)) ``` n’est pas la même chose que ```a.reshape((3, 2))```:"
   ]
  },
  {
   "cell_type": "code",
   "execution_count": 122,
   "id": "b74f57b0",
   "metadata": {},
   "outputs": [
    {
     "data": {
      "text/plain": [
       "array([[0, 1],\n",
       "       [2, 3],\n",
       "       [4, 5]])"
      ]
     },
     "execution_count": 122,
     "metadata": {},
     "output_type": "execute_result"
    }
   ],
   "source": [
    "c = a.reshape((3, 2))\n",
    "c"
   ]
  },
  {
   "cell_type": "code",
   "execution_count": 123,
   "id": "ad38e4eb",
   "metadata": {},
   "outputs": [
    {
     "data": {
      "text/plain": [
       "(3, 2)"
      ]
     },
     "execution_count": 123,
     "metadata": {},
     "output_type": "execute_result"
    }
   ],
   "source": [
    "c.shape"
   ]
  },
  {
   "cell_type": "markdown",
   "id": "0e472134",
   "metadata": {},
   "source": [
    "La méthode ***.reshape()*** attend que les nouvelles dimensions soient compatibles avec la dimension initiale de l’objet array, c’est-à-dire que le nombre d’éléments contenus dans les différents arrays soit le même. \n",
    "Dans nos exemples précédents, 6=2×3=3×2.\n",
    "\n",
    "Si les nouvelles dimensions ne sont pas compatibles avec les dimensions initiales, la méthode ***.reshape()*** génère une erreur."
   ]
  },
  {
   "cell_type": "code",
   "execution_count": 155,
   "id": "505762f8",
   "metadata": {},
   "outputs": [
    {
     "data": {
      "text/plain": [
       "array([0, 1, 2, 3, 4, 5])"
      ]
     },
     "execution_count": 155,
     "metadata": {},
     "output_type": "execute_result"
    }
   ],
   "source": [
    "a = np.arange(0, 6)\n",
    "a"
   ]
  },
  {
   "cell_type": "code",
   "execution_count": 156,
   "id": "e95e7404",
   "metadata": {},
   "outputs": [
    {
     "data": {
      "text/plain": [
       "(6,)"
      ]
     },
     "execution_count": 156,
     "metadata": {},
     "output_type": "execute_result"
    }
   ],
   "source": [
    "a.shape"
   ]
  },
  {
   "cell_type": "code",
   "execution_count": 157,
   "id": "d725bd9f",
   "metadata": {},
   "outputs": [
    {
     "ename": "ValueError",
     "evalue": "cannot reshape array of size 6 into shape (3,4)",
     "output_type": "error",
     "traceback": [
      "\u001b[0;31m---------------------------------------------------------------------------\u001b[0m",
      "\u001b[0;31mValueError\u001b[0m                                Traceback (most recent call last)",
      "\u001b[0;32m/tmp/ipykernel_1294727/2639966246.py\u001b[0m in \u001b[0;36m<module>\u001b[0;34m\u001b[0m\n\u001b[0;32m----> 1\u001b[0;31m \u001b[0md\u001b[0m \u001b[0;34m=\u001b[0m \u001b[0ma\u001b[0m\u001b[0;34m.\u001b[0m\u001b[0mreshape\u001b[0m\u001b[0;34m(\u001b[0m\u001b[0;34m(\u001b[0m\u001b[0;36m3\u001b[0m\u001b[0;34m,\u001b[0m \u001b[0;36m4\u001b[0m\u001b[0;34m)\u001b[0m\u001b[0;34m)\u001b[0m\u001b[0;34m\u001b[0m\u001b[0;34m\u001b[0m\u001b[0m\n\u001b[0m",
      "\u001b[0;31mValueError\u001b[0m: cannot reshape array of size 6 into shape (3,4)"
     ]
    }
   ],
   "source": [
    "d = a.reshape((3, 4))"
   ]
  },
  {
   "cell_type": "markdown",
   "id": "ea5f4ef8",
   "metadata": {},
   "source": [
    "La méthode ***.resize()*** par contre ne déclenche pas d’erreur dans une telle situation et ajoute des ```0``` jusqu’à ce que le nouvel array soit rempli, ou bien coupe la liste initiale."
   ]
  },
  {
   "cell_type": "code",
   "execution_count": 158,
   "id": "c33f0155",
   "metadata": {},
   "outputs": [
    {
     "data": {
      "text/plain": [
       "array([0, 1, 2, 3, 4, 5])"
      ]
     },
     "execution_count": 158,
     "metadata": {},
     "output_type": "execute_result"
    }
   ],
   "source": [
    "a = np.arange(0, 6)\n",
    "a"
   ]
  },
  {
   "cell_type": "code",
   "execution_count": 159,
   "id": "6d99a6c0",
   "metadata": {},
   "outputs": [
    {
     "data": {
      "text/plain": [
       "(6,)"
      ]
     },
     "execution_count": 159,
     "metadata": {},
     "output_type": "execute_result"
    }
   ],
   "source": [
    "a.shape"
   ]
  },
  {
   "cell_type": "code",
   "execution_count": 173,
   "id": "3e6eba4b",
   "metadata": {},
   "outputs": [
    {
     "data": {
      "text/plain": [
       "(3, 3)"
      ]
     },
     "execution_count": 173,
     "metadata": {},
     "output_type": "execute_result"
    }
   ],
   "source": [
    "a.resize((3, 3), refcheck=False)\n",
    "a.shape"
   ]
  },
  {
   "cell_type": "code",
   "execution_count": 174,
   "id": "d64e2067",
   "metadata": {},
   "outputs": [
    {
     "data": {
      "text/plain": [
       "array([[0, 1, 2],\n",
       "       [3, 4, 5],\n",
       "       [0, 0, 0]])"
      ]
     },
     "execution_count": 174,
     "metadata": {},
     "output_type": "execute_result"
    }
   ],
   "source": [
    "a"
   ]
  },
  {
   "cell_type": "code",
   "execution_count": 182,
   "id": "ca75eb87",
   "metadata": {},
   "outputs": [
    {
     "data": {
      "text/plain": [
       "array([0, 1, 2, 3, 4, 5, 6, 7, 8, 9])"
      ]
     },
     "execution_count": 182,
     "metadata": {},
     "output_type": "execute_result"
    }
   ],
   "source": [
    "b = np.arange(0, 10)\n",
    "b"
   ]
  },
  {
   "cell_type": "code",
   "execution_count": 183,
   "id": "238d4aec",
   "metadata": {},
   "outputs": [
    {
     "data": {
      "text/plain": [
       "(10,)"
      ]
     },
     "execution_count": 183,
     "metadata": {},
     "output_type": "execute_result"
    }
   ],
   "source": [
    "b.shape"
   ]
  },
  {
   "cell_type": "code",
   "execution_count": 184,
   "id": "9eedc6cb",
   "metadata": {},
   "outputs": [
    {
     "data": {
      "text/plain": [
       "array([[0, 1, 2],\n",
       "       [3, 4, 5]])"
      ]
     },
     "execution_count": 184,
     "metadata": {},
     "output_type": "execute_result"
    }
   ],
   "source": [
    "b.resize((2, 3), refcheck=False)\n",
    "b"
   ]
  },
  {
   "cell_type": "code",
   "execution_count": 185,
   "id": "07753c00",
   "metadata": {},
   "outputs": [
    {
     "data": {
      "text/plain": [
       "(2, 3)"
      ]
     },
     "execution_count": 185,
     "metadata": {},
     "output_type": "execute_result"
    }
   ],
   "source": [
    "b.shape"
   ]
  },
  {
   "cell_type": "markdown",
   "id": "9d4b33e0",
   "metadata": {},
   "source": [
    "**ATTENTION** \n",
    "\n",
    "Cette modification de la forme de l’array par la méthode ***.resize()*** est faite « sur place » (in place), c’est-à-dire que la méthode ne renvoie rien mais l’array est bel et bien modifié. \n",
    "\n",
    "Si l’option ```refcheck=Fals``` n’est pas présente, Python peut parfois renvoyer une erreur s’il existe des références vers l’array qu’on souhaite modifier.\n",
    "\n",
    "Il existe aussi la fonction ***np.resize()*** qui, dans le cas d’un nouvel array plus grand que l’array initial, va répéter l’array initial afin de remplir les cases manquantes :"
   ]
  },
  {
   "cell_type": "code",
   "execution_count": 187,
   "id": "3385f59a",
   "metadata": {},
   "outputs": [
    {
     "data": {
      "text/plain": [
       "(6,)"
      ]
     },
     "execution_count": 187,
     "metadata": {},
     "output_type": "execute_result"
    }
   ],
   "source": [
    "a = np.arange(0, 6)\n",
    "a.shape"
   ]
  },
  {
   "cell_type": "code",
   "execution_count": 188,
   "id": "27b02161",
   "metadata": {},
   "outputs": [
    {
     "data": {
      "text/plain": [
       "(3, 5)"
      ]
     },
     "execution_count": 188,
     "metadata": {},
     "output_type": "execute_result"
    }
   ],
   "source": [
    "c = np.resize(a, (3, 5))\n",
    "c.shape"
   ]
  },
  {
   "cell_type": "code",
   "execution_count": 189,
   "id": "5b6e5692",
   "metadata": {},
   "outputs": [
    {
     "data": {
      "text/plain": [
       "array([[0, 1, 2, 3, 4],\n",
       "       [5, 0, 1, 2, 3],\n",
       "       [4, 5, 0, 1, 2]])"
      ]
     },
     "execution_count": 189,
     "metadata": {},
     "output_type": "execute_result"
    }
   ],
   "source": [
    "c"
   ]
  },
  {
   "cell_type": "code",
   "execution_count": 190,
   "id": "eba4f571",
   "metadata": {},
   "outputs": [
    {
     "data": {
      "text/plain": [
       "array([0, 1, 2, 3, 4, 5])"
      ]
     },
     "execution_count": 190,
     "metadata": {},
     "output_type": "execute_result"
    }
   ],
   "source": [
    "a"
   ]
  },
  {
   "cell_type": "markdown",
   "id": "226abdb2",
   "metadata": {},
   "source": [
    "Notez que cette fonction **np.resize()** renvoie un nouvel array mais ne modifie pas l’array initial contrairement à la méthode ***.resize()***."
   ]
  },
  {
   "cell_type": "markdown",
   "id": "612be970",
   "metadata": {},
   "source": [
    "**Remarque**\n",
    "\n",
    "Depuis le début de ce chapitre, nous avons toujours montré l’affichage d’un array dans l’interpréteur :"
   ]
  },
  {
   "cell_type": "code",
   "execution_count": 191,
   "id": "7a4c12fa",
   "metadata": {},
   "outputs": [
    {
     "data": {
      "text/plain": [
       "array([0, 1, 2, 3, 4, 5, 6, 7, 8, 9])"
      ]
     },
     "execution_count": 191,
     "metadata": {},
     "output_type": "execute_result"
    }
   ],
   "source": [
    "a = np.array(range(10))\n",
    "a"
   ]
  },
  {
   "cell_type": "code",
   "execution_count": 192,
   "id": "aa51e831",
   "metadata": {},
   "outputs": [
    {
     "data": {
      "text/plain": [
       "array([[1., 1., 1.],\n",
       "       [1., 1., 1.],\n",
       "       [1., 1., 1.]])"
      ]
     },
     "execution_count": 192,
     "metadata": {},
     "output_type": "execute_result"
    }
   ],
   "source": [
    "a2 = np.ones((3, 3))\n",
    "a2"
   ]
  },
  {
   "cell_type": "markdown",
   "id": "ed2829a1",
   "metadata": {},
   "source": [
    "Nous avons déjà indiqué que Python affiche systématiquement le mot array ainsi que les parenthèses, crochets et virgules pour séparer les éléments. Attention toutefois si vous utilisez la fonction **print()** car l’affichage est différent. Le mot array, les parenthèses et les virgules disparaissent :"
   ]
  },
  {
   "cell_type": "code",
   "execution_count": 193,
   "id": "93982de6",
   "metadata": {},
   "outputs": [
    {
     "name": "stdout",
     "output_type": "stream",
     "text": [
      "[0 1 2 3 4 5 6 7 8 9]\n"
     ]
    }
   ],
   "source": [
    "print(a)"
   ]
  },
  {
   "cell_type": "code",
   "execution_count": 194,
   "id": "9f47c062",
   "metadata": {},
   "outputs": [
    {
     "name": "stdout",
     "output_type": "stream",
     "text": [
      "[[1. 1. 1.]\n",
      " [1. 1. 1.]\n",
      " [1. 1. 1.]]\n"
     ]
    }
   ],
   "source": [
    "print(a2)"
   ]
  },
  {
   "cell_type": "markdown",
   "id": "5c3db8b6",
   "metadata": {},
   "source": [
    "Ceci peut amener des confusions spécialement pour un ```array 1D [0 1 2 3 4 5 6 7 8 9]``` et une liste contenant les même éléments ```[0, 1, 2, 3, 4, 5, 6, 7, 8, 9]```. Dans ce cas, seule la présence ou l’absence de virgules permet de trancher s’il s’agit d’un array ou d’une liste.\n"
   ]
  },
  {
   "cell_type": "markdown",
   "id": "6b7f1ef2",
   "metadata": {},
   "source": [
    "## Méthodes de calcul sur les arrays et l’argument axis"
   ]
  },
  {
   "cell_type": "markdown",
   "id": "e89f0866",
   "metadata": {},
   "source": [
    "Chaque *array NumPy* qui est créé possède une multitude de méthodes. Nombre d’entre elles permettent de faire des calculs de base comme **.mean()** pour la moyenne, **.sum()** pour la somme, **.std()** pour l’écart-type, **.max()** pour extraire le maximum, **.min()** pour extraire le minimum, etc.\n",
    "\n",
    "Par défaut, chacune de ces méthodes effectuera l’opération sur l’array entier, quelle que soit sa dimensionnalité. Par exemple :"
   ]
  },
  {
   "cell_type": "code",
   "execution_count": 299,
   "id": "1d7c06b5",
   "metadata": {},
   "outputs": [
    {
     "data": {
      "text/plain": [
       "[0, 1, 2, 3, 4, 5, 6, 7]"
      ]
     },
     "execution_count": 299,
     "metadata": {},
     "output_type": "execute_result"
    }
   ],
   "source": [
    "import random as rd\n",
    "l = list(range(8))\n",
    "l"
   ]
  },
  {
   "cell_type": "code",
   "execution_count": 300,
   "id": "63f6639e",
   "metadata": {},
   "outputs": [
    {
     "data": {
      "text/plain": [
       "[5, 1, 7, 2, 6, 4, 0, 3]"
      ]
     },
     "execution_count": 300,
     "metadata": {},
     "output_type": "execute_result"
    }
   ],
   "source": [
    "rd.shuffle(l)\n",
    "l"
   ]
  },
  {
   "cell_type": "code",
   "execution_count": 301,
   "id": "1187a2e5",
   "metadata": {},
   "outputs": [
    {
     "data": {
      "text/plain": [
       "array([[5, 1],\n",
       "       [7, 2],\n",
       "       [6, 4],\n",
       "       [0, 3]])"
      ]
     },
     "execution_count": 301,
     "metadata": {},
     "output_type": "execute_result"
    }
   ],
   "source": [
    "a = np.resize(l, (4, 2))\n",
    "a"
   ]
  },
  {
   "cell_type": "code",
   "execution_count": 302,
   "id": "5e46a88f",
   "metadata": {},
   "outputs": [
    {
     "data": {
      "text/plain": [
       "7"
      ]
     },
     "execution_count": 302,
     "metadata": {},
     "output_type": "execute_result"
    }
   ],
   "source": [
    "a.max()"
   ]
  },
  {
   "cell_type": "markdown",
   "id": "34635ba5",
   "metadata": {},
   "source": [
    "La méthode **.max()** nous a bien renvoyé la valeur maximum ```7```. Un argument très utile existant dans toutes ces méthodes est **axis**. \n",
    "\n",
    "Pour un **array 2D**, **axis=0** signifie qu’on fera l’opération le long de l’axe 0, à savoir les lignes. C’est-à-dire que l’opération se fait en faisant varier les lignes. On récupère ainsi une valeur par colonne :"
   ]
  },
  {
   "cell_type": "code",
   "execution_count": 303,
   "id": "53a9e717",
   "metadata": {},
   "outputs": [
    {
     "data": {
      "text/plain": [
       "array([7, 4])"
      ]
     },
     "execution_count": 303,
     "metadata": {},
     "output_type": "execute_result"
    }
   ],
   "source": [
    "a.max(axis=0)"
   ]
  },
  {
   "cell_type": "markdown",
   "id": "75610ee9",
   "metadata": {},
   "source": [
    "L’array 1D récupéré a son premier élément qui vaut 7 (maximum de la 1ère colonne) et son deuxième qui vaut 4 (maximum de la deuxième colonne).\n",
    "\n",
    "Avec axis=1 on fait une opération similaire mais en faisant varier les colonnes. On récupère ainsi une valeur par ligne :"
   ]
  },
  {
   "cell_type": "code",
   "execution_count": 304,
   "id": "a641069f",
   "metadata": {},
   "outputs": [
    {
     "data": {
      "text/plain": [
       "array([5, 7, 6, 3])"
      ]
     },
     "execution_count": 304,
     "metadata": {},
     "output_type": "execute_result"
    }
   ],
   "source": [
    "a.max(axis=1)"
   ]
  },
  {
   "cell_type": "markdown",
   "id": "40057672",
   "metadata": {},
   "source": [
    "L’array 1D récupéré a 4 éléments correspondant au maximum de chaque ligne.\n",
    "On comprend la puissance de cet argument axis. \n",
    "A nouveau, il est possible, en une ligne, de faire des calculs qui pourraient être très fastidieux avec les listes traditionnelles."
   ]
  },
  {
   "cell_type": "markdown",
   "id": "bb3233d3",
   "metadata": {},
   "source": [
    "## Indices"
   ]
  },
  {
   "cell_type": "markdown",
   "id": "405862a6",
   "metadata": {},
   "source": [
    "Pour récupérer un ou plusieurs élément(s) d’un objet array, vous pouvez utiliser les indices ou les tranches, de la même manière qu’avec les listes :"
   ]
  },
  {
   "cell_type": "code",
   "execution_count": 202,
   "id": "3804d4f1",
   "metadata": {},
   "outputs": [
    {
     "data": {
      "text/plain": [
       "array([0, 1, 2, 3, 4, 5, 6, 7, 8, 9])"
      ]
     },
     "execution_count": 202,
     "metadata": {},
     "output_type": "execute_result"
    }
   ],
   "source": [
    "a = np.arange(10)\n",
    "a"
   ]
  },
  {
   "cell_type": "code",
   "execution_count": 204,
   "id": "e981c396",
   "metadata": {},
   "outputs": [
    {
     "data": {
      "text/plain": [
       "array([5, 6, 7, 8, 9])"
      ]
     },
     "execution_count": 204,
     "metadata": {},
     "output_type": "execute_result"
    }
   ],
   "source": [
    "a[5:]"
   ]
  },
  {
   "cell_type": "code",
   "execution_count": 205,
   "id": "a3a56fd2",
   "metadata": {},
   "outputs": [
    {
     "data": {
      "text/plain": [
       "array([0, 2, 4, 6, 8])"
      ]
     },
     "execution_count": 205,
     "metadata": {},
     "output_type": "execute_result"
    }
   ],
   "source": [
    "a[::2]"
   ]
  },
  {
   "cell_type": "code",
   "execution_count": 206,
   "id": "9d2a8c74",
   "metadata": {},
   "outputs": [
    {
     "data": {
      "text/plain": [
       "1"
      ]
     },
     "execution_count": 206,
     "metadata": {},
     "output_type": "execute_result"
    }
   ],
   "source": [
    "a[1]"
   ]
  },
  {
   "cell_type": "markdown",
   "id": "8624b73d",
   "metadata": {},
   "source": [
    "Dans le cas d’un objet array à deux dimensions, vous pouvez récupérer une ligne complète (d’indice i), une colonne complète (d’indice j) ou bien un seul élément. "
   ]
  },
  {
   "cell_type": "code",
   "execution_count": 209,
   "id": "5aa6d199",
   "metadata": {},
   "outputs": [
    {
     "data": {
      "text/plain": [
       "array([[1, 2],\n",
       "       [3, 4]])"
      ]
     },
     "execution_count": 209,
     "metadata": {},
     "output_type": "execute_result"
    }
   ],
   "source": [
    "a = np.array([[1, 2], [3, 4]])\n",
    "a"
   ]
  },
  {
   "cell_type": "code",
   "execution_count": 213,
   "id": "035ec6da",
   "metadata": {},
   "outputs": [
    {
     "data": {
      "text/plain": [
       "array([1, 3])"
      ]
     },
     "execution_count": 213,
     "metadata": {},
     "output_type": "execute_result"
    }
   ],
   "source": [
    "a[:,0]"
   ]
  },
  {
   "cell_type": "code",
   "execution_count": 214,
   "id": "fc5860db",
   "metadata": {},
   "outputs": [
    {
     "data": {
      "text/plain": [
       "array([1, 2])"
      ]
     },
     "execution_count": 214,
     "metadata": {},
     "output_type": "execute_result"
    }
   ],
   "source": [
    "a[0,:]"
   ]
  },
  {
   "cell_type": "code",
   "execution_count": 215,
   "id": "355982b9",
   "metadata": {},
   "outputs": [
    {
     "data": {
      "text/plain": [
       "4"
      ]
     },
     "execution_count": 215,
     "metadata": {},
     "output_type": "execute_result"
    }
   ],
   "source": [
    "a[1, 1]"
   ]
  },
  {
   "cell_type": "markdown",
   "id": "5417ad13",
   "metadata": {},
   "source": [
    "La syntaxe ```a[i,:]``` renvoie la ```(i + 1)ème``` ligne d’indice```i```, et ```a[:,j]``` renvoie la ```( j + 1)ème``` colonne d’indice ```j```.\n",
    "Les tranches sont évidemment aussi utilisables sur un array à deux dimensions."
   ]
  },
  {
   "cell_type": "markdown",
   "id": "95597832",
   "metadata": {},
   "source": [
    "La syntaxe ```a[i, j]``` renvoie l’élément à la ligne d’indice ```i``` et à la colonne d’indice ```j```. Notez que *NumPy* suit la convention mathématiques des matrices, à savoir, on définit toujours un élément par sa ligne puis par sa colonne. \n",
    "\n",
    "En mathématiques, l’élément aij d’une matrice A se trouve à la ième ligne et à la jème colonne."
   ]
  },
  {
   "cell_type": "code",
   "execution_count": 216,
   "id": "88fd4a92",
   "metadata": {},
   "outputs": [
    {
     "data": {
      "text/plain": [
       "array([[1, 2],\n",
       "       [3, 4]])"
      ]
     },
     "execution_count": 216,
     "metadata": {},
     "output_type": "execute_result"
    }
   ],
   "source": [
    "a"
   ]
  },
  {
   "cell_type": "code",
   "execution_count": 217,
   "id": "8390dbd9",
   "metadata": {},
   "outputs": [
    {
     "data": {
      "text/plain": [
       "array([1, 2])"
      ]
     },
     "execution_count": 217,
     "metadata": {},
     "output_type": "execute_result"
    }
   ],
   "source": [
    "a[0]\n"
   ]
  },
  {
   "cell_type": "code",
   "execution_count": 218,
   "id": "0c590309",
   "metadata": {},
   "outputs": [
    {
     "data": {
      "text/plain": [
       "array([3, 4])"
      ]
     },
     "execution_count": 218,
     "metadata": {},
     "output_type": "execute_result"
    }
   ],
   "source": [
    "a[1]"
   ]
  },
  {
   "cell_type": "markdown",
   "id": "477e7f5a",
   "metadata": {},
   "source": [
    "Pour cette raison, la syntaxe ```a[i][j]``` est également valide pour récupér un élément :"
   ]
  },
  {
   "cell_type": "code",
   "execution_count": 219,
   "id": "215f3d80",
   "metadata": {},
   "outputs": [
    {
     "data": {
      "text/plain": [
       "4"
      ]
     },
     "execution_count": 219,
     "metadata": {},
     "output_type": "execute_result"
    }
   ],
   "source": [
    "a[1, 1]"
   ]
  },
  {
   "cell_type": "code",
   "execution_count": 220,
   "id": "d3b38601",
   "metadata": {},
   "outputs": [
    {
     "data": {
      "text/plain": [
       "4"
      ]
     },
     "execution_count": 220,
     "metadata": {},
     "output_type": "execute_result"
    }
   ],
   "source": [
    "a[1][1]"
   ]
  },
  {
   "cell_type": "markdown",
   "id": "75464385",
   "metadata": {},
   "source": [
    "Bien que cela soit possible,nous vous recommandons tout de même la syntaxe ```a[i, j]``` qui est plus proche de la définition mathématiques d’un élément de matrice "
   ]
  },
  {
   "cell_type": "markdown",
   "id": "87e7cce2",
   "metadata": {},
   "source": [
    "## Copie d’arrays"
   ]
  },
  {
   "cell_type": "markdown",
   "id": "c42ef27d",
   "metadata": {},
   "source": [
    "**Attention:**\n",
    "\n",
    "Par défaut la copie d’arrays se fait par référence comme pour tous les objets séquentiels en Python (listes, tuples, dictionnaires, etc.)."
   ]
  },
  {
   "cell_type": "code",
   "execution_count": 26,
   "id": "b3667247",
   "metadata": {},
   "outputs": [
    {
     "data": {
      "text/plain": [
       "array([0, 1, 2, 3, 4])"
      ]
     },
     "execution_count": 26,
     "metadata": {},
     "output_type": "execute_result"
    }
   ],
   "source": [
    "a = np.arange(5)\n",
    "a"
   ]
  },
  {
   "cell_type": "code",
   "execution_count": 27,
   "id": "ca520e0a",
   "metadata": {},
   "outputs": [],
   "source": [
    "b=a"
   ]
  },
  {
   "cell_type": "code",
   "execution_count": 28,
   "id": "c03052ab",
   "metadata": {},
   "outputs": [],
   "source": [
    "b[2] = -300"
   ]
  },
  {
   "cell_type": "code",
   "execution_count": 31,
   "id": "28c27ade",
   "metadata": {},
   "outputs": [
    {
     "data": {
      "text/plain": [
       "array([   0,    1, -300,    3,    4])"
      ]
     },
     "execution_count": 31,
     "metadata": {},
     "output_type": "execute_result"
    }
   ],
   "source": [
    "b"
   ]
  },
  {
   "cell_type": "code",
   "execution_count": 32,
   "id": "3ccf811a",
   "metadata": {},
   "outputs": [
    {
     "data": {
      "text/plain": [
       "array([   0,    1, -300,    3,    4])"
      ]
     },
     "execution_count": 32,
     "metadata": {},
     "output_type": "execute_result"
    }
   ],
   "source": [
    "a"
   ]
  },
  {
   "cell_type": "markdown",
   "id": "649d0c8d",
   "metadata": {},
   "source": [
    "Afin d’éviter ce problème, vous pouvez soit utiliser la fonction **np.array()** qui crée une nouvelle copie distincte de l’array initial, soit la fonction **copy.deepcopy()**"
   ]
  },
  {
   "cell_type": "code",
   "execution_count": 221,
   "id": "83582e75",
   "metadata": {},
   "outputs": [
    {
     "data": {
      "text/plain": [
       "array([[0, 0],\n",
       "       [0, 0]])"
      ]
     },
     "execution_count": 221,
     "metadata": {},
     "output_type": "execute_result"
    }
   ],
   "source": [
    "a = np.full((2, 2), 0)\n",
    "a"
   ]
  },
  {
   "cell_type": "code",
   "execution_count": 222,
   "id": "110b5846",
   "metadata": {},
   "outputs": [],
   "source": [
    "b = np.array(a)"
   ]
  },
  {
   "cell_type": "code",
   "execution_count": 223,
   "id": "fd418a2b",
   "metadata": {},
   "outputs": [],
   "source": [
    "b[1, 1] = -300"
   ]
  },
  {
   "cell_type": "code",
   "execution_count": 224,
   "id": "cdfe7647",
   "metadata": {},
   "outputs": [],
   "source": [
    "import copy\n",
    "c = copy.deepcopy(a)"
   ]
  },
  {
   "cell_type": "code",
   "execution_count": 225,
   "id": "b7e252e6",
   "metadata": {},
   "outputs": [],
   "source": [
    "c[1, 1] = -500"
   ]
  },
  {
   "cell_type": "code",
   "execution_count": 226,
   "id": "79be7831",
   "metadata": {},
   "outputs": [
    {
     "data": {
      "text/plain": [
       "array([[0, 0],\n",
       "       [0, 0]])"
      ]
     },
     "execution_count": 226,
     "metadata": {},
     "output_type": "execute_result"
    }
   ],
   "source": [
    "a"
   ]
  },
  {
   "cell_type": "code",
   "execution_count": 227,
   "id": "e3d29747",
   "metadata": {},
   "outputs": [
    {
     "data": {
      "text/plain": [
       "array([[   0,    0],\n",
       "       [   0, -300]])"
      ]
     },
     "execution_count": 227,
     "metadata": {},
     "output_type": "execute_result"
    }
   ],
   "source": [
    "b"
   ]
  },
  {
   "cell_type": "code",
   "execution_count": 228,
   "id": "8b0d777a",
   "metadata": {},
   "outputs": [
    {
     "data": {
      "text/plain": [
       "array([[   0,    0],\n",
       "       [   0, -500]])"
      ]
     },
     "execution_count": 228,
     "metadata": {},
     "output_type": "execute_result"
    }
   ],
   "source": [
    "c"
   ]
  },
  {
   "cell_type": "markdown",
   "id": "99e64843",
   "metadata": {},
   "source": [
    "**Remarque:** \n",
    "\n",
    "On pourra noter que la stratégie ```b = np.array(a)``` fait bien une copie distincte de l’array a quelle que soit sa dimensionnalité. Ceci n’était pas le cas avec la fonction list() pour les copies de listes à partir de la dimensionnalité 2 :"
   ]
  },
  {
   "cell_type": "code",
   "execution_count": 229,
   "id": "5347b716",
   "metadata": {},
   "outputs": [],
   "source": [
    "l1 = [[0, 0], [1, 1]]"
   ]
  },
  {
   "cell_type": "code",
   "execution_count": 230,
   "id": "f59f9907",
   "metadata": {},
   "outputs": [],
   "source": [
    "l2 = list(l1)"
   ]
  },
  {
   "cell_type": "code",
   "execution_count": 231,
   "id": "3f7568f5",
   "metadata": {},
   "outputs": [],
   "source": [
    "l3 = copy.deepcopy(l1)"
   ]
  },
  {
   "cell_type": "code",
   "execution_count": 232,
   "id": "e0c1012c",
   "metadata": {},
   "outputs": [],
   "source": [
    "l1 [1][1] = -365"
   ]
  },
  {
   "cell_type": "code",
   "execution_count": 235,
   "id": "9138fec5",
   "metadata": {},
   "outputs": [
    {
     "data": {
      "text/plain": [
       "[[0, 0], [1, -365]]"
      ]
     },
     "execution_count": 235,
     "metadata": {},
     "output_type": "execute_result"
    }
   ],
   "source": [
    "l2"
   ]
  },
  {
   "cell_type": "code",
   "execution_count": 236,
   "id": "1274f47c",
   "metadata": {},
   "outputs": [
    {
     "data": {
      "text/plain": [
       "[[0, 0], [1, 1]]"
      ]
     },
     "execution_count": 236,
     "metadata": {},
     "output_type": "execute_result"
    }
   ],
   "source": [
    "l3\n"
   ]
  },
  {
   "cell_type": "markdown",
   "id": "3ea5c044",
   "metadata": {},
   "source": [
    "## Construction automatique de matrices"
   ]
  },
  {
   "cell_type": "markdown",
   "id": "ff956c6c",
   "metadata": {},
   "source": [
    "Il peut être parfois pénible de construire une **matrice** (array à deux dimensions) à l’aide d’une liste de listes. \n",
    "\n",
    "Le module *NumPy* possède quelques fonctions pratiques pour initialiser des matrices. Par exemple, Les fonctions ```zeros()``` et ```ones()``` construisent des objets array contenant de ```0``` ou des ```1```. Il suffit de leur passer en argument un tuple indiquant les dimensions voulues."
   ]
  },
  {
   "cell_type": "code",
   "execution_count": 237,
   "id": "eb7c79f3",
   "metadata": {},
   "outputs": [
    {
     "data": {
      "text/plain": [
       "array([[0., 0., 0.],\n",
       "       [0., 0., 0.]])"
      ]
     },
     "execution_count": 237,
     "metadata": {},
     "output_type": "execute_result"
    }
   ],
   "source": [
    "np.zeros((2, 3))"
   ]
  },
  {
   "cell_type": "code",
   "execution_count": 238,
   "id": "a5977e5c",
   "metadata": {},
   "outputs": [
    {
     "data": {
      "text/plain": [
       "array([[1., 1., 1.],\n",
       "       [1., 1., 1.],\n",
       "       [1., 1., 1.]])"
      ]
     },
     "execution_count": 238,
     "metadata": {},
     "output_type": "execute_result"
    }
   ],
   "source": [
    " np.ones((3, 3))"
   ]
  },
  {
   "cell_type": "markdown",
   "id": "5804778d",
   "metadata": {},
   "source": [
    "Par défaut, les fonctions zeros() et ones() génèrent des floats, mais vous pouvez demander des entiers en passant le type, par exemple *int, float, etc.* en second argument :"
   ]
  },
  {
   "cell_type": "code",
   "execution_count": 239,
   "id": "c4d261b1",
   "metadata": {},
   "outputs": [
    {
     "data": {
      "text/plain": [
       "array([[0, 0, 0],\n",
       "       [0, 0, 0]])"
      ]
     },
     "execution_count": 239,
     "metadata": {},
     "output_type": "execute_result"
    }
   ],
   "source": [
    "np.zeros((2,3), int)"
   ]
  },
  {
   "cell_type": "markdown",
   "id": "217864aa",
   "metadata": {},
   "source": [
    "Enfin, si vous voulez construire une matrice avec autre chose que des 0 ou des 1, vous avez à votre disposition la fonction **full()** :"
   ]
  },
  {
   "cell_type": "code",
   "execution_count": 240,
   "id": "0011fb22",
   "metadata": {},
   "outputs": [
    {
     "data": {
      "text/plain": [
       "array([[7, 7, 7],\n",
       "       [7, 7, 7]])"
      ]
     },
     "execution_count": 240,
     "metadata": {},
     "output_type": "execute_result"
    }
   ],
   "source": [
    "np.full((2, 3), 7, int)"
   ]
  },
  {
   "cell_type": "code",
   "execution_count": 241,
   "id": "66b755f8",
   "metadata": {},
   "outputs": [
    {
     "data": {
      "text/plain": [
       "array([[7., 7., 7.],\n",
       "       [7., 7., 7.]])"
      ]
     },
     "execution_count": 241,
     "metadata": {},
     "output_type": "execute_result"
    }
   ],
   "source": [
    "#import numpy as np\n",
    "np.full((2, 3), 7, float)"
   ]
  },
  {
   "cell_type": "markdown",
   "id": "76e5c453",
   "metadata": {},
   "source": [
    "Nous construisons ainsi une matrice constituée de 2 lignes et 3 colonnes. Celle-ci ne contient que le chiffre ```7``` sous formes d’entiers *(int)* dans le premier cas et de floats dans le second.\n",
    "\n",
    "> Le module **numpy** contient aussi des fonctions pour lire des données à partir de fichiers et créer des arrays automatiquement. Cela se révèle bien pratique car la plupart du temps les données que l’on analyse proviennent de fichiers. \n",
    "\n",
    "La fonction la plus simple à prendre en main est **np.loadtxt()**. Celle-ci lit un fichier organisé en lignes / colonnes. Par exemple, imaginons que nous ayons un fichier donnees.dat contenant :\n",
    "```\n",
    "1   7 310\n",
    "15  -4  35\n",
    "78  95  79\n",
    "```\n"
   ]
  },
  {
   "cell_type": "code",
   "execution_count": 242,
   "id": "1cc57aeb",
   "metadata": {},
   "outputs": [
    {
     "data": {
      "text/plain": [
       "array([[  1.,   7., 310.],\n",
       "       [ 15.,  -4.,  35.],\n",
       "       [ 78.,  95.,  79.]])"
      ]
     },
     "execution_count": 242,
     "metadata": {},
     "output_type": "execute_result"
    }
   ],
   "source": [
    "np.loadtxt(\"donnees.dat\")"
   ]
  },
  {
   "cell_type": "markdown",
   "id": "53ef184d",
   "metadata": {},
   "source": [
    "La fonction prend en argument le nom du fichier et renvoie un array 2D directement :"
   ]
  },
  {
   "cell_type": "markdown",
   "id": "fd452e43",
   "metadata": {},
   "source": [
    "* chaque ligne doit avoir le même nombre de colonnes, la fonction ne gère pas les données manquantes ;\n",
    "* chaque donnée est convertie en float, donc si une chaîne est rencontrée la fonction renvoie une erreur ;\n",
    "* par défaut, les données doivent être séparées par n’importe quelle combinaison d’espace(s) et/ou de tabulations.\n",
    "\n",
    "La fonction **np.loadtxt()** contient tout un tas d’arguments par mot-clé permettant de récupérer telles ou telles lignes / colonnes, ignorer des lignes de commentaire, changer le séparateur par défaut (par exemple la virgule , pour les fichiers .csv), etc., qui peuvent se révéler commodes.\n",
    "\n",
    "L’opération inverse consistant à sauver un array dans un fichier se fait avec la fonction **np.savetxt()** :"
   ]
  },
  {
   "cell_type": "code",
   "execution_count": 245,
   "id": "a97a885b",
   "metadata": {},
   "outputs": [
    {
     "data": {
      "text/plain": [
       "array([[1, 2, 3],\n",
       "       [4, 5, 6],\n",
       "       [7, 8, 9]])"
      ]
     },
     "execution_count": 245,
     "metadata": {},
     "output_type": "execute_result"
    }
   ],
   "source": [
    "a = np.reshape(range(1, 10), (3, 3))\n",
    "a"
   ]
  },
  {
   "cell_type": "code",
   "execution_count": 246,
   "id": "2fcd58e4",
   "metadata": {},
   "outputs": [],
   "source": [
    "np.savetxt(\"out.dat\", a)"
   ]
  },
  {
   "cell_type": "markdown",
   "id": "041d8de1",
   "metadata": {},
   "source": [
    "Ceci générera le fichier out.dat contenant les lignes suivantes :\n",
    "```\n",
    "1.000000000000000000e+00 2.000000000000000000e+00 3.000000000000000000e+00\n",
    "4.000000000000000000e+00 5.000000000000000000e+00 6.000000000000000000e+00\n",
    "7.000000000000000000e+00 8.000000000000000000e+00 9.000000000000000000e+00\n",
    "```\n",
    "\n",
    "On voit que la fonction écrit par défaut les données comme des floats en notation scientifique. Bien sûr il existe de nombreuses options possibles permettant de changer le format, les séparateurs, etc.\n",
    "\n",
    "Il existe d’autres fonctions plus avancées telles que **np.genfromttxt()** gérant les données manquantes, ou encore **np.load()** et **np.fromfile()** permettant de lire des données au format binaire. \n",
    "\n",
    "De même, il existe des fonctions ou méthodes permettant d’écrire au format binaire : **np.save()** ou **.tofile()**. \n",
    "\n",
    "> Le format binaire possède en général l’extension .npy ou .npz lorsque les données sont compressées. \n",
    "L’avantage d’écrire au format binaire est que cela prend moins de place pour les gros tableaux."
   ]
  },
  {
   "cell_type": "markdown",
   "id": "a2b38a76",
   "metadata": {},
   "source": [
    "## Un peu d’algèbre linéaire"
   ]
  },
  {
   "cell_type": "markdown",
   "id": "f2c66a96",
   "metadata": {},
   "source": [
    "Après avoir manipulé les objets *array* comme des *vecteurs* et des *matrices*, voici quelques fonctions pour faire de l’algèbre linéaire.\n",
    "\n",
    "La fonction **transpose()** renvoie la transposée d’un array. Par exemple, pour une matrice :"
   ]
  },
  {
   "cell_type": "code",
   "execution_count": 248,
   "id": "c0c9bb43",
   "metadata": {},
   "outputs": [
    {
     "data": {
      "text/plain": [
       "array([[1, 2, 3],\n",
       "       [4, 5, 6],\n",
       "       [7, 8, 9]])"
      ]
     },
     "execution_count": 248,
     "metadata": {},
     "output_type": "execute_result"
    }
   ],
   "source": [
    "a = np.resize(np.arange(1, 10), (3, 3))\n",
    "a"
   ]
  },
  {
   "cell_type": "code",
   "execution_count": 249,
   "id": "20dc027b",
   "metadata": {},
   "outputs": [
    {
     "data": {
      "text/plain": [
       "array([[1, 4, 7],\n",
       "       [2, 5, 8],\n",
       "       [3, 6, 9]])"
      ]
     },
     "execution_count": 249,
     "metadata": {},
     "output_type": "execute_result"
    }
   ],
   "source": [
    "np.transpose(a)"
   ]
  },
  {
   "cell_type": "markdown",
   "id": "83f31d58",
   "metadata": {},
   "source": [
    "Tout objet array possède un attribut **.T*** qui contient la transposée, il est ainsi possible d’utiliser cette notation objet plus compacte :"
   ]
  },
  {
   "cell_type": "code",
   "execution_count": 110,
   "id": "78c2432b",
   "metadata": {},
   "outputs": [
    {
     "data": {
      "text/plain": [
       "array([[1, 4, 7],\n",
       "       [2, 5, 8],\n",
       "       [3, 6, 9]])"
      ]
     },
     "execution_count": 110,
     "metadata": {},
     "output_type": "execute_result"
    }
   ],
   "source": [
    "a.T"
   ]
  },
  {
   "cell_type": "markdown",
   "id": "57b3a81b",
   "metadata": {},
   "source": [
    "La fonction **dot()** vous permet de réaliser une multiplication de matrices "
   ]
  },
  {
   "cell_type": "code",
   "execution_count": 250,
   "id": "cc6926d2",
   "metadata": {},
   "outputs": [
    {
     "data": {
      "text/plain": [
       "array([[0, 1],\n",
       "       [2, 3]])"
      ]
     },
     "execution_count": 250,
     "metadata": {},
     "output_type": "execute_result"
    }
   ],
   "source": [
    "a = np.resize(np.arange(4), (2, 2))\n",
    "a\n"
   ]
  },
  {
   "cell_type": "code",
   "execution_count": 253,
   "id": "ab48908e",
   "metadata": {},
   "outputs": [
    {
     "data": {
      "text/plain": [
       "array([[ 2,  3],\n",
       "       [ 6, 11]])"
      ]
     },
     "execution_count": 253,
     "metadata": {},
     "output_type": "execute_result"
    }
   ],
   "source": [
    "np.dot(a, a)"
   ]
  },
  {
   "cell_type": "code",
   "execution_count": 114,
   "id": "add9d765",
   "metadata": {},
   "outputs": [
    {
     "data": {
      "text/plain": [
       "array([[0, 1],\n",
       "       [4, 9]])"
      ]
     },
     "execution_count": 114,
     "metadata": {},
     "output_type": "execute_result"
    }
   ],
   "source": [
    "a*a"
   ]
  },
  {
   "cell_type": "markdown",
   "id": "d169d7fb",
   "metadata": {},
   "source": [
    "Notez bien que ```dot(a, a)``` renvoie le produit matriciel entre deux matrices, alors que ```a * a``` renvoie le produit élément par élément."
   ]
  },
  {
   "cell_type": "markdown",
   "id": "abb31a0f",
   "metadata": {},
   "source": [
    "**Remarque**\n",
    "\n",
    "Dans le module **NumPy**, il existe également des objets de type matrix pour lesquels les multiplications de matrices sont différents, mais nous ne les aborderons pas ici."
   ]
  },
  {
   "cell_type": "markdown",
   "id": "dee60413",
   "metadata": {},
   "source": [
    "Pour toutes les opérations suivantes, nous utiliserons des fonctions du sous-module **linalg de NumPy**. \n",
    "\n",
    "La fonction **inv()** renvoie l’inverse d’une matrice carrée, **det()** son déterminant et **eig()** ses vecteurs et valeurs propres."
   ]
  },
  {
   "cell_type": "code",
   "execution_count": 254,
   "id": "2ddd4e1d",
   "metadata": {},
   "outputs": [
    {
     "data": {
      "text/plain": [
       "array([[1, 0, 0],\n",
       "       [0, 2, 0],\n",
       "       [0, 0, 3]])"
      ]
     },
     "execution_count": 254,
     "metadata": {},
     "output_type": "execute_result"
    }
   ],
   "source": [
    "a = np.diag((1, 2, 3))\n",
    "a"
   ]
  },
  {
   "cell_type": "code",
   "execution_count": 255,
   "id": "0b13ff7f",
   "metadata": {},
   "outputs": [
    {
     "data": {
      "text/plain": [
       "array([[1.        , 0.        , 0.        ],\n",
       "       [0.        , 0.5       , 0.        ],\n",
       "       [0.        , 0.        , 0.33333333]])"
      ]
     },
     "execution_count": 255,
     "metadata": {},
     "output_type": "execute_result"
    }
   ],
   "source": [
    "np.linalg.inv(a)"
   ]
  },
  {
   "cell_type": "code",
   "execution_count": 256,
   "id": "e4020ed8",
   "metadata": {},
   "outputs": [
    {
     "data": {
      "text/plain": [
       "6.0"
      ]
     },
     "execution_count": 256,
     "metadata": {},
     "output_type": "execute_result"
    }
   ],
   "source": [
    "np.linalg.det(a)"
   ]
  },
  {
   "cell_type": "code",
   "execution_count": 257,
   "id": "c0cdc308",
   "metadata": {},
   "outputs": [
    {
     "data": {
      "text/plain": [
       "(array([1., 2., 3.]),\n",
       " array([[1., 0., 0.],\n",
       "        [0., 1., 0.],\n",
       "        [0., 0., 1.]]))"
      ]
     },
     "execution_count": 257,
     "metadata": {},
     "output_type": "execute_result"
    }
   ],
   "source": [
    "np.linalg.eig(a)"
   ]
  },
  {
   "cell_type": "markdown",
   "id": "3dad43d2",
   "metadata": {},
   "source": [
    "* La fonction .diag() permet de générer une matrice diagonale\n",
    "* La fonction eig() renvoie un tuple dont le premier élément (d’indice 0) correspond aux valeurs propres et le second aux vecteurs propres. \n",
    "\n",
    "Une façon commode de récupérer ces éléments est d’utiliser cette fonction avec l’affectation multiple "
   ]
  },
  {
   "cell_type": "code",
   "execution_count": 258,
   "id": "27a8caef",
   "metadata": {},
   "outputs": [],
   "source": [
    "eigvals , eigvecs = np.linalg.eig(a)"
   ]
  },
  {
   "cell_type": "code",
   "execution_count": 259,
   "id": "b76adfcf",
   "metadata": {},
   "outputs": [
    {
     "data": {
      "text/plain": [
       "array([1., 2., 3.])"
      ]
     },
     "execution_count": 259,
     "metadata": {},
     "output_type": "execute_result"
    }
   ],
   "source": [
    "eigvals"
   ]
  },
  {
   "cell_type": "code",
   "execution_count": 260,
   "id": "699694ec",
   "metadata": {},
   "outputs": [
    {
     "data": {
      "text/plain": [
       "array([[1., 0., 0.],\n",
       "       [0., 1., 0.],\n",
       "       [0., 0., 1.]])"
      ]
     },
     "execution_count": 260,
     "metadata": {},
     "output_type": "execute_result"
    }
   ],
   "source": [
    "eigvecs"
   ]
  },
  {
   "cell_type": "code",
   "execution_count": 261,
   "id": "13d76738",
   "metadata": {},
   "outputs": [
    {
     "data": {
      "text/plain": [
       "array([1., 0., 0.])"
      ]
     },
     "execution_count": 261,
     "metadata": {},
     "output_type": "execute_result"
    }
   ],
   "source": [
    "eigvecs [0]"
   ]
  },
  {
   "cell_type": "code",
   "execution_count": 262,
   "id": "abd1f81f",
   "metadata": {},
   "outputs": [
    {
     "data": {
      "text/plain": [
       "array([0., 1., 0.])"
      ]
     },
     "execution_count": 262,
     "metadata": {},
     "output_type": "execute_result"
    }
   ],
   "source": [
    "eigvecs[1]"
   ]
  },
  {
   "cell_type": "code",
   "execution_count": 263,
   "id": "e1798997",
   "metadata": {},
   "outputs": [
    {
     "data": {
      "text/plain": [
       "array([0., 0., 1.])"
      ]
     },
     "execution_count": 263,
     "metadata": {},
     "output_type": "execute_result"
    }
   ],
   "source": [
    "eigvecs[2]"
   ]
  },
  {
   "cell_type": "markdown",
   "id": "584c2167",
   "metadata": {},
   "source": [
    "* eigvals est un array 1D contenant les 3 valeurs propres.\n",
    "* eigvecs est un array 2D contenant les 3 vecteurs propres (un par ligne), que l’on peut récupérer avec ```eigvecs[0], eigvecs[1] et eigvecs[2]```."
   ]
  },
  {
   "cell_type": "markdown",
   "id": "906e0047",
   "metadata": {},
   "source": [
    "## Parcours de matrice et affectation de lignes / colonnes"
   ]
  },
  {
   "cell_type": "markdown",
   "id": "200a9bbf",
   "metadata": {},
   "source": [
    "Lorqu’on a une matrice, on est souvent amené à la parcourir par ligne ou par colonne. Une fonctionnalité bien commode vient du fait que les **arrays** NumPy sont directement itérables par ligne"
   ]
  },
  {
   "cell_type": "code",
   "execution_count": 264,
   "id": "844d8315",
   "metadata": {},
   "outputs": [
    {
     "data": {
      "text/plain": [
       "array([[1, 2, 3],\n",
       "       [4, 5, 6],\n",
       "       [7, 8, 9]])"
      ]
     },
     "execution_count": 264,
     "metadata": {},
     "output_type": "execute_result"
    }
   ],
   "source": [
    "a = np.reshape(np.arange(1, 10), (3, 3))\n",
    "a"
   ]
  },
  {
   "cell_type": "code",
   "execution_count": 266,
   "id": "e544437c",
   "metadata": {},
   "outputs": [
    {
     "name": "stdout",
     "output_type": "stream",
     "text": [
      "[1 2 3] <class 'numpy.ndarray'>\n",
      "[4 5 6] <class 'numpy.ndarray'>\n",
      "[7 8 9] <class 'numpy.ndarray'>\n"
     ]
    }
   ],
   "source": [
    "for row in a:\n",
    "    print(row, type(row))"
   ]
  },
  {
   "cell_type": "markdown",
   "id": "c9bddb73",
   "metadata": {},
   "source": [
    "À chaque itération, la variable row est un array 1D correspondant à chaque ligne de a. Cela est lié au fait que l’utilisation d’un indiçage unique ```a[i]``` pour un array 2D correspond à sa ligne d’indice ```i```.\n",
    "\n",
    "Pour itérer sur les colonnes, on pourra utiliser l’astuce d’itérer sur la transposée de l’array a, c’est-à-dire ```a.T``` :"
   ]
  },
  {
   "cell_type": "code",
   "execution_count": 267,
   "id": "e1eee8e7",
   "metadata": {},
   "outputs": [
    {
     "name": "stdout",
     "output_type": "stream",
     "text": [
      "[1 4 7] <class 'numpy.ndarray'>\n",
      "[2 5 8] <class 'numpy.ndarray'>\n",
      "[3 6 9] <class 'numpy.ndarray'>\n"
     ]
    }
   ],
   "source": [
    "for col in a.T:\n",
    "    print(col, type(col))"
   ]
  },
  {
   "cell_type": "markdown",
   "id": "0d0af2a3",
   "metadata": {},
   "source": [
    "À chaque itération, la variable col est un array 1D correspondant à chaque colonne de a.\n",
    "\n",
    "On se souvient de l’affectation multiple x, y = 1, 2 qui permettait d’affecter des valeurs à plusieurs variables à la fois. Et bien, il est possible d’utiliser cette fonctionnalité aussi avec les arrays NumPy :"
   ]
  },
  {
   "cell_type": "code",
   "execution_count": 268,
   "id": "5f94c86c",
   "metadata": {},
   "outputs": [
    {
     "data": {
      "text/plain": [
       "array([[1, 2, 3],\n",
       "       [4, 5, 6],\n",
       "       [7, 8, 9]])"
      ]
     },
     "execution_count": 268,
     "metadata": {},
     "output_type": "execute_result"
    }
   ],
   "source": [
    "a"
   ]
  },
  {
   "cell_type": "code",
   "execution_count": 269,
   "id": "983645ac",
   "metadata": {},
   "outputs": [],
   "source": [
    "l1,l2,l3=a"
   ]
  },
  {
   "cell_type": "code",
   "execution_count": 270,
   "id": "13da2915",
   "metadata": {},
   "outputs": [
    {
     "data": {
      "text/plain": [
       "array([1, 2, 3])"
      ]
     },
     "execution_count": 270,
     "metadata": {},
     "output_type": "execute_result"
    }
   ],
   "source": [
    "l1"
   ]
  },
  {
   "cell_type": "code",
   "execution_count": 271,
   "id": "3908ee6f",
   "metadata": {},
   "outputs": [
    {
     "data": {
      "text/plain": [
       "array([4, 5, 6])"
      ]
     },
     "execution_count": 271,
     "metadata": {},
     "output_type": "execute_result"
    }
   ],
   "source": [
    "l2"
   ]
  },
  {
   "cell_type": "code",
   "execution_count": 272,
   "id": "59620bad",
   "metadata": {},
   "outputs": [
    {
     "data": {
      "text/plain": [
       "array([7, 8, 9])"
      ]
     },
     "execution_count": 272,
     "metadata": {},
     "output_type": "execute_result"
    }
   ],
   "source": [
    "l3"
   ]
  },
  {
   "cell_type": "markdown",
   "id": "e704ee12",
   "metadata": {},
   "source": [
    "Par défaut, cela se fait sur les lignes de l’array 2D. Cette fonctionnalité provient à nouveau du fait que pour NumPy ```a[i]``` correspond à la ligne d’indice```i``` d’un array 2D.\n",
    "Pour utiliser l’affectation multiple sur les colonnes, il suffit d’utiliser la transposée a.T :"
   ]
  },
  {
   "cell_type": "code",
   "execution_count": 102,
   "id": "0d27e374",
   "metadata": {},
   "outputs": [],
   "source": [
    "c1,c2,c3=a.T"
   ]
  },
  {
   "cell_type": "code",
   "execution_count": 103,
   "id": "bb839d10",
   "metadata": {},
   "outputs": [
    {
     "data": {
      "text/plain": [
       "array([1, 4, 7])"
      ]
     },
     "execution_count": 103,
     "metadata": {},
     "output_type": "execute_result"
    }
   ],
   "source": [
    "c1"
   ]
  },
  {
   "cell_type": "code",
   "execution_count": 104,
   "id": "89b04b38",
   "metadata": {},
   "outputs": [
    {
     "data": {
      "text/plain": [
       "array([2, 5, 8])"
      ]
     },
     "execution_count": 104,
     "metadata": {},
     "output_type": "execute_result"
    }
   ],
   "source": [
    "c2"
   ]
  },
  {
   "cell_type": "code",
   "execution_count": 105,
   "id": "86de5ea4",
   "metadata": {},
   "outputs": [
    {
     "data": {
      "text/plain": [
       "array([3, 6, 9])"
      ]
     },
     "execution_count": 105,
     "metadata": {},
     "output_type": "execute_result"
    }
   ],
   "source": [
    "c3"
   ]
  },
  {
   "cell_type": "markdown",
   "id": "0796ae26",
   "metadata": {},
   "source": [
    "## Masques booléens"
   ]
  },
  {
   "cell_type": "markdown",
   "id": "be6ab8ee",
   "metadata": {},
   "source": [
    "Une des grandes puissance des *arrays* NumPy est qu’ils supportent les masques booléens. \n",
    "\n",
    "Avant de les définir, il est important d’introduire le concept d’arrays de booléens. \n",
    "\n",
    "Jusqu’à maintenant nous avions définis uniquement des arrays avec des types numériques int ou float. Il est tout à fait possible de définir des arrays de booléens. \n",
    "\n",
    "La fonction **np.full()** vue ci-dessus nous permet d’en construire facilement :"
   ]
  },
  {
   "cell_type": "code",
   "execution_count": 64,
   "id": "0b945106",
   "metadata": {},
   "outputs": [
    {
     "data": {
      "text/plain": [
       "array([[ True,  True],\n",
       "       [ True,  True]])"
      ]
     },
     "execution_count": 64,
     "metadata": {},
     "output_type": "execute_result"
    }
   ],
   "source": [
    "np.full((2, 2), True)"
   ]
  },
  {
   "cell_type": "code",
   "execution_count": 65,
   "id": "88a35cd9",
   "metadata": {},
   "outputs": [
    {
     "data": {
      "text/plain": [
       "array([[False, False],\n",
       "       [False, False]])"
      ]
     },
     "execution_count": 65,
     "metadata": {},
     "output_type": "execute_result"
    }
   ],
   "source": [
    "np.full((2, 2), False)"
   ]
  },
  {
   "cell_type": "markdown",
   "id": "00c3b5b3",
   "metadata": {},
   "source": [
    "**Utilisation:**"
   ]
  },
  {
   "cell_type": "code",
   "execution_count": 277,
   "id": "eb6e245e",
   "metadata": {},
   "outputs": [
    {
     "data": {
      "text/plain": [
       "array([[1, 2, 3],\n",
       "       [4, 5, 6],\n",
       "       [7, 8, 9]])"
      ]
     },
     "execution_count": 277,
     "metadata": {},
     "output_type": "execute_result"
    }
   ],
   "source": [
    "a = np.reshape(np.arange(1, 10), (3, 3))\n",
    "a"
   ]
  },
  {
   "cell_type": "code",
   "execution_count": 278,
   "id": "e523ecc0",
   "metadata": {},
   "outputs": [
    {
     "data": {
      "text/plain": [
       "array([[False, False, False],\n",
       "       [False, False,  True],\n",
       "       [ True,  True,  True]])"
      ]
     },
     "execution_count": 278,
     "metadata": {},
     "output_type": "execute_result"
    }
   ],
   "source": [
    "a>5"
   ]
  },
  {
   "cell_type": "code",
   "execution_count": 279,
   "id": "f6c54ba6",
   "metadata": {},
   "outputs": [
    {
     "data": {
      "text/plain": [
       "array([[False,  True, False],\n",
       "       [False, False, False],\n",
       "       [False, False, False]])"
      ]
     },
     "execution_count": 279,
     "metadata": {},
     "output_type": "execute_result"
    }
   ],
   "source": [
    "a==2"
   ]
  },
  {
   "cell_type": "markdown",
   "id": "b6e60b29",
   "metadata": {},
   "source": [
    "Tous les éléments de l’array satisfaisant la condition seront à **True**, les autres à **False**. Encore plus fort, il est possible de combiner plusieurs conditions avec les opérateurs logiques **&** et **|** (respectivement ET et OU) :"
   ]
  },
  {
   "cell_type": "code",
   "execution_count": 280,
   "id": "3297d293",
   "metadata": {},
   "outputs": [
    {
     "data": {
      "text/plain": [
       "array([[1, 2, 3],\n",
       "       [4, 5, 6],\n",
       "       [7, 8, 9]])"
      ]
     },
     "execution_count": 280,
     "metadata": {},
     "output_type": "execute_result"
    }
   ],
   "source": [
    "a"
   ]
  },
  {
   "cell_type": "code",
   "execution_count": 281,
   "id": "14ca7c2a",
   "metadata": {},
   "outputs": [
    {
     "data": {
      "text/plain": [
       "array([[False, False, False],\n",
       "       [ True, False,  True],\n",
       "       [False,  True, False]])"
      ]
     },
     "execution_count": 281,
     "metadata": {},
     "output_type": "execute_result"
    }
   ],
   "source": [
    "(a>3)&(a%2==0)"
   ]
  },
  {
   "cell_type": "code",
   "execution_count": 282,
   "id": "e90ca09e",
   "metadata": {},
   "outputs": [
    {
     "data": {
      "text/plain": [
       "array([[False,  True, False],\n",
       "       [ True,  True,  True],\n",
       "       [ True,  True,  True]])"
      ]
     },
     "execution_count": 282,
     "metadata": {},
     "output_type": "execute_result"
    }
   ],
   "source": [
    "(a>3)|(a%2==0)"
   ]
  },
  {
   "cell_type": "markdown",
   "id": "4ba50ef9",
   "metadata": {},
   "source": [
    "Nous pouvons effectuer deux remarques :\n",
    "\n",
    "* Les opérateurs logiques **&** et **|** s’appliquent sur les arrays et sont différents des opérateurs logiques and et or qui eux s’appliquent sur les booléens (True ou False) ;\n",
    "* Il est conseillé de mettre des parenthèses pour chaque condition afin d’éviter les ambiguïtés.\n",
    "\n",
    "Maintenant que les arrays de booléens ont été introduits, nous pouvons définir les **masques booléens**."
   ]
  },
  {
   "cell_type": "markdown",
   "id": "3575571e",
   "metadata": {},
   "source": [
    "> Les **masques booléens** sont des arrays de booléens qui sont utilisés en tant qu’« indice » d’un array initial. Cela permet de récupérer / modifier une partie de l’array initial.\n",
    "\n",
    "Concrètement, il suffira d’utiliser un *array* et un *opérateur de comparaison* entre les crochets qui étaient dédiés à l’indiçage :"
   ]
  },
  {
   "cell_type": "code",
   "execution_count": 283,
   "id": "703f25e0",
   "metadata": {},
   "outputs": [
    {
     "data": {
      "text/plain": [
       "array([[1, 2, 3],\n",
       "       [4, 5, 6],\n",
       "       [7, 8, 9]])"
      ]
     },
     "execution_count": 283,
     "metadata": {},
     "output_type": "execute_result"
    }
   ],
   "source": [
    "a"
   ]
  },
  {
   "cell_type": "code",
   "execution_count": 284,
   "id": "14faf004",
   "metadata": {},
   "outputs": [
    {
     "data": {
      "text/plain": [
       "array([6, 7, 8, 9])"
      ]
     },
     "execution_count": 284,
     "metadata": {},
     "output_type": "execute_result"
    }
   ],
   "source": [
    "a[a>5]"
   ]
  },
  {
   "cell_type": "code",
   "execution_count": 285,
   "id": "bea70e6d",
   "metadata": {},
   "outputs": [
    {
     "data": {
      "text/plain": [
       "array([2])"
      ]
     },
     "execution_count": 285,
     "metadata": {},
     "output_type": "execute_result"
    }
   ],
   "source": [
    "a[a == 2]"
   ]
  },
  {
   "cell_type": "code",
   "execution_count": 286,
   "id": "d13e68a8",
   "metadata": {},
   "outputs": [
    {
     "data": {
      "text/plain": [
       "array([1, 2, 3, 4, 5, 6, 7, 8, 9])"
      ]
     },
     "execution_count": 286,
     "metadata": {},
     "output_type": "execute_result"
    }
   ],
   "source": [
    "a[a != 0]"
   ]
  },
  {
   "cell_type": "markdown",
   "id": "e1b77938",
   "metadata": {},
   "source": [
    "On voit que l’on récupère seulement les éléments de l’array a qui sastisfont la sélection! Toutefois, il est important de constater que l’array renvoyé perd la dimensionnalité de l’array a initial, il s’agit systématiquement d’un array 1D.\n",
    "\n",
    "La grande puissance de ce mécanisme est que l’on peut utiliser les masques booléens pour modifier les éléments que l’on sélectionne :"
   ]
  },
  {
   "cell_type": "code",
   "execution_count": 287,
   "id": "a2c696ab",
   "metadata": {},
   "outputs": [
    {
     "data": {
      "text/plain": [
       "array([[1, 2, 3],\n",
       "       [4, 5, 6],\n",
       "       [7, 8, 9]])"
      ]
     },
     "execution_count": 287,
     "metadata": {},
     "output_type": "execute_result"
    }
   ],
   "source": [
    " a"
   ]
  },
  {
   "cell_type": "code",
   "execution_count": 288,
   "id": "1d641819",
   "metadata": {},
   "outputs": [
    {
     "data": {
      "text/plain": [
       "array([6, 7, 8, 9])"
      ]
     },
     "execution_count": 288,
     "metadata": {},
     "output_type": "execute_result"
    }
   ],
   "source": [
    "a[a>5]"
   ]
  },
  {
   "cell_type": "code",
   "execution_count": 289,
   "id": "613c6b43",
   "metadata": {},
   "outputs": [],
   "source": [
    "a[a>5]=-1"
   ]
  },
  {
   "cell_type": "code",
   "execution_count": 290,
   "id": "a7ab9adb",
   "metadata": {},
   "outputs": [
    {
     "data": {
      "text/plain": [
       "array([[ 1,  2,  3],\n",
       "       [ 4,  5, -1],\n",
       "       [-1, -1, -1]])"
      ]
     },
     "execution_count": 290,
     "metadata": {},
     "output_type": "execute_result"
    }
   ],
   "source": [
    "a"
   ]
  },
  {
   "cell_type": "markdown",
   "id": "357e4e22",
   "metadata": {},
   "source": [
    "On peut bien sûr combiner plusieurs conditions avec les opérateurs logiques :"
   ]
  },
  {
   "cell_type": "code",
   "execution_count": 291,
   "id": "cdc1292b",
   "metadata": {},
   "outputs": [
    {
     "data": {
      "text/plain": [
       "array([[ 1,  2,  3],\n",
       "       [ 4,  5, -1],\n",
       "       [-1, -1, -1]])"
      ]
     },
     "execution_count": 291,
     "metadata": {},
     "output_type": "execute_result"
    }
   ],
   "source": [
    "a"
   ]
  },
  {
   "cell_type": "code",
   "execution_count": 292,
   "id": "7980a1a3",
   "metadata": {},
   "outputs": [
    {
     "data": {
      "text/plain": [
       "array([[ 1,  0,  3],\n",
       "       [ 0,  0, -1],\n",
       "       [-1, -1, -1]])"
      ]
     },
     "execution_count": 292,
     "metadata": {},
     "output_type": "execute_result"
    }
   ],
   "source": [
    "a[(a>3)|(a%2==0)]=0\n",
    "a"
   ]
  },
  {
   "cell_type": "markdown",
   "id": "c95ba39a",
   "metadata": {},
   "source": [
    "Ce mécanisme de sélection avec des masques booléens se révèle très puissant pour manipuler des grandes quantités de données. On verra qu’il peut être également utilisé avec les dataframes du module pandas.\n"
   ]
  },
  {
   "cell_type": "markdown",
   "id": "39972cb6",
   "metadata": {},
   "source": [
    "**Remarque:** \n",
    "\n",
    "Les masques booléens ne doivent pas être confondus avec les masked arrays 18 qui sont des arrays dans lesquels on peut trouver des valeurs manquantes ou invalides.\n"
   ]
  },
  {
   "cell_type": "markdown",
   "id": "c716831c",
   "metadata": {},
   "source": [
    "Une application possible des masques est de « binariser » une matrice de nombre :"
   ]
  },
  {
   "cell_type": "code",
   "execution_count": 293,
   "id": "1b81ceca",
   "metadata": {},
   "outputs": [
    {
     "data": {
      "text/plain": [
       "array([[0.32847137, 0.84947801, 0.31083311, 0.61227444],\n",
       "       [0.37507618, 0.49867287, 0.05531866, 0.18448961],\n",
       "       [0.02096683, 0.98489861, 0.5372846 , 0.93763209],\n",
       "       [0.20840514, 0.42446211, 0.94592795, 0.81079821]])"
      ]
     },
     "execution_count": 293,
     "metadata": {},
     "output_type": "execute_result"
    }
   ],
   "source": [
    "import random as rd\n",
    "import numpy as np\n",
    "a = np.resize([rd.random() for i in range(16)], (4,4))\n",
    "a"
   ]
  },
  {
   "cell_type": "code",
   "execution_count": 294,
   "id": "d5ad210b",
   "metadata": {},
   "outputs": [],
   "source": [
    "seuil = 0.3"
   ]
  },
  {
   "cell_type": "code",
   "execution_count": 295,
   "id": "7d47025f",
   "metadata": {},
   "outputs": [],
   "source": [
    "a[a < seuil] = 0"
   ]
  },
  {
   "cell_type": "code",
   "execution_count": 296,
   "id": "6262d6f5",
   "metadata": {},
   "outputs": [],
   "source": [
    "a[a > seuil] = 1"
   ]
  },
  {
   "cell_type": "code",
   "execution_count": 297,
   "id": "057db554",
   "metadata": {},
   "outputs": [
    {
     "data": {
      "text/plain": [
       "array([[1., 1., 1., 1.],\n",
       "       [1., 1., 0., 0.],\n",
       "       [0., 1., 1., 1.],\n",
       "       [0., 1., 1., 1.]])"
      ]
     },
     "execution_count": 297,
     "metadata": {},
     "output_type": "execute_result"
    }
   ],
   "source": [
    "a"
   ]
  },
  {
   "cell_type": "markdown",
   "id": "c55172ac",
   "metadata": {},
   "source": [
    "## Quelques conseils"
   ]
  },
  {
   "cell_type": "markdown",
   "id": "bda7f42f",
   "metadata": {},
   "source": [
    "**Utilisez NumPy pour :**\n",
    "* les opérations vectorielles (éléments par éléments) ;\n",
    "* lorsque vous souhaitez manipuler des objets mathématiques (vecteurs, matrices, etc.) et les outils associés (algèbre linéaire) ;\n",
    "* tout ce qui est numérique de manière générale. \n",
    "\n",
    "**Utilisez les listes :**\n",
    "* lorsque vous avez besoin d’un container pour accumuler des valeurs (fussent-elles des sous-listes), surtout lorsqu’elles ne sont pas homogènes (i.e. du même type) ;\n",
    "* lorsque vous souhaitez accumuler des valeurs : la méthode ```.append()``` est bien plus efficace que faire grandir un array au fur et à mesure (ce que nous n’avons pas abordé) ; lorsqu’on ne peut pas utiliser les fonctions de lecture de fichier de NumPy pour quelque raison que ce soit, il est tout à fait classique de faire grandir une liste au fur et à mesure de la lecture du fichier puis de la convertir à la fin en array.\n",
    "\n",
    "Le module **NumPy** est la brique de base pour tout ce qui est numérique. Associé aux modules SciPy et matplotlib (et aussi aux notebooks Jupyter), il permet de faire de l’analyse scientifique. "
   ]
  },
  {
   "cell_type": "code",
   "execution_count": null,
   "id": "5edff8db",
   "metadata": {},
   "outputs": [],
   "source": []
  }
 ],
 "metadata": {
  "celltoolbar": "Diaporama",
  "kernelspec": {
   "display_name": "Python 3 (ipykernel)",
   "language": "python",
   "name": "python3"
  },
  "language_info": {
   "codemirror_mode": {
    "name": "ipython",
    "version": 3
   },
   "file_extension": ".py",
   "mimetype": "text/x-python",
   "name": "python",
   "nbconvert_exporter": "python",
   "pygments_lexer": "ipython3",
   "version": "3.9.2"
  }
 },
 "nbformat": 4,
 "nbformat_minor": 5
}
