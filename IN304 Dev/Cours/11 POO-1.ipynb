{
 "cells": [
  {
   "cell_type": "markdown",
   "id": "89c70f35",
   "metadata": {},
   "source": [
    "# Programmation Orientée Objet"
   ]
  },
  {
   "cell_type": "markdown",
   "id": "b3a91cf5",
   "metadata": {},
   "source": [
    "# Table of Contents\n",
    "- [Introduction à la Programmation Orientée Objet](#Introduction-à-la-Programmation-Orientée-Objet)\n",
    "    - [Définition d'une Classe](#Définition-d'une-Classe)\n",
    "- [Construction d'une classe](#Construction-d'une-classe)\n",
    "    - [La classe minimale](#La-classe-minimale)\n",
    "    - [Ajout-d’un-attribut-d’instance](#Ajout-d’un-attribut-d’instance)\n",
    "    - [Les-attributs-de-classe](#Les-attributs-de-classe)\n",
    "    - [Les méthodes](#Les-méthodes)\n",
    "    - [Le constructeur](#Le-constructeur)\n",
    "    - [Passage d’argument(s) à l’instanciation](#Passage-d’argument(s)-à-l’instanciation)\n",
    "    - [Mieux comprendre le rôle du self](#Mieux-comprendre-le-rôle-du-self)\n",
    "    - [Différence entre les attributs de classe et d’instance](#Différence-entre-les-attributs-de-classe-et-d’instance)"
   ]
  },
  {
   "cell_type": "markdown",
   "id": "ad004ba0",
   "metadata": {},
   "source": [
    "## Introduction à la Programmation Orientée Objet"
   ]
  },
  {
   "cell_type": "markdown",
   "id": "ab028eed",
   "metadata": {},
   "source": [
    "**La programmation orientée objet (POO)** est un concept de programmation très puissant qui permet de structurer ses programmes de manière très efficace. \n",
    "\n",
    "En POO, on définit un **« objet »** comme une structure qui peut contenir des **« attributs »** ainsi que des **« méthodes »** qui agissent sur lui-même. \n",
    "\n",
    "> Par exemple, on définit un objet **« citron »** qui contient les attributs **« saveur »** et **« couleur »**, ainsi qu’une méthode **« presser »** permettant d’en extraire le jus. \n",
    "\n",
    "En Python, on utilise une **« classe »** pour construire un objet. Dans notre exemple, ***la classe correspondrait au « moule » utilisé pour construire autant d’objets citrons que nécessaire***."
   ]
  },
  {
   "cell_type": "markdown",
   "id": "33cce307",
   "metadata": {},
   "source": [
    "### Définition d'une Classe\n",
    "\n",
    "Une ***classe définit des objets qui sont des instances (des représentants) de cette classe***. On utilisera les mots **objet** ou **instance** pour désigner la même chose. \n",
    "\n",
    "Les **objets** peuvent posséder :\n",
    "* des **attributs** qui sont variables associées aux objets, et \n",
    "* des **méthodes** qui sont des fonctions associées aux objets et qui peuvent agir sur ces derniers ou encore les utiliser."
   ]
  },
  {
   "cell_type": "markdown",
   "id": "d02a06eb",
   "metadata": {},
   "source": [
    "En Python ***tout est objet!*** \n",
    "* Une variable de type int est en fait un objet de type int, donc *construit à partir de la classe int*. \n",
    "* Pareil pour les float et string. \n",
    "* Mais également pour les list, tuple, dict, etc. \n",
    "\n",
    "La **POO** permet de rédiger du code plus compact et mieux ré-utilisable. \n",
    "**L’utilisation de classes évite l’utilisation de variables globales en créant ce qu’on appelle un espace de noms propre à chaque objet permettant d’y encapsuler des attributs et des méthodes.**\n",
    "\n",
    "**la POO** amène de nouveaux concepts tels que: \n",
    "* ***Le polymorphisme*** : capacité à redéfinir le comportement des opérateurs, ou bien encore \n",
    "* ***L’héritage*** : capacité à définir une classe à partir d’une classe pré-existante et d’y ajouter de nouvelles fonctionnalités\n"
   ]
  },
  {
   "cell_type": "markdown",
   "id": "d26f279c",
   "metadata": {},
   "source": [
    "## Construction d'une classe\n",
    "\n",
    "Nous allons voir dans cette section comment définir une classe en reprenant notre exemple sur le citron que nous allons faire évoluer et complexifier. Attention, certains exemples sont destinés à vous montrer comment les classes fonctionnent mais leur utilisation n’aurait pas de sens dans un vrai programme."
   ]
  },
  {
   "cell_type": "markdown",
   "id": "722c4d5c",
   "metadata": {},
   "source": [
    "### La classe minimale\n",
    "\n",
    "En Python, le mot-clé **class** permet de créer sa propre classe, suivi du nom de cette classe. On se souvient, un nom de classe commence toujours par une majuscule. Comme d’habitude, cette ligne attend un bloc d’instructions indenté définissant le corps de la classe."
   ]
  },
  {
   "cell_type": "code",
   "execution_count": 1,
   "id": "ef590d84",
   "metadata": {},
   "outputs": [
    {
     "data": {
      "text/plain": [
       "__main__.Citron"
      ]
     },
     "execution_count": 1,
     "metadata": {},
     "output_type": "execute_result"
    }
   ],
   "source": [
    "class Citron:\n",
    "    pass\n",
    "\n",
    "Citron"
   ]
  },
  {
   "cell_type": "markdown",
   "id": "4836ede8",
   "metadata": {},
   "source": [
    "* La **classe Citron** est définie. Pas besoin de parenthèses comme avec les fonctions dans un cas simple comme celui-là (nous verrons d’autres exemples plus loin où elles sont nécessaires).\n",
    "* La classe ne contient rien, mais il faut mettre au moins une ligne, on met donc ici le mot-clé Python ```pass``` qui ne fait rien. \n",
    "* Quand on tape le nom de notre **classe Citron**, Python nous indique que cette classe est connue."
   ]
  },
  {
   "cell_type": "code",
   "execution_count": 2,
   "id": "ff713a32",
   "metadata": {},
   "outputs": [
    {
     "data": {
      "text/plain": [
       "type"
      ]
     },
     "execution_count": 2,
     "metadata": {},
     "output_type": "execute_result"
    }
   ],
   "source": [
    "type(Citron)"
   ]
  },
  {
   "cell_type": "markdown",
   "id": "8ed6c9ad",
   "metadata": {},
   "source": [
    "Lorsqu’on regarde le **type** de notre **classe Citron**, Python nous indique qu’il s’agit d’un **type** au même titre que ``` type(int)```. \n",
    "Nous avons donc créé un nouveau ```type``` !"
   ]
  },
  {
   "cell_type": "code",
   "execution_count": 3,
   "id": "76008362",
   "metadata": {},
   "outputs": [],
   "source": [
    "citron1 = Citron()"
   ]
  },
  {
   "cell_type": "markdown",
   "id": "88cd5fb0",
   "metadata": {},
   "source": [
    "On crée une **instance** de la **classe Citron**, c’est-à-dire qu’on fabrique un **représentant** ou **objet** de la **classe Citron** que nous nommons ```citron1```."
   ]
  },
  {
   "cell_type": "code",
   "execution_count": 4,
   "id": "37939877",
   "metadata": {},
   "outputs": [
    {
     "data": {
      "text/plain": [
       "<__main__.Citron at 0x7faeb30ec340>"
      ]
     },
     "execution_count": 4,
     "metadata": {},
     "output_type": "execute_result"
    }
   ],
   "source": [
    "citron1"
   ]
  },
  {
   "cell_type": "markdown",
   "id": "1e2bd24d",
   "metadata": {},
   "source": [
    "Lorsqu’on tape le nom de l’instance `citron1`, l’interpréteur nous rappelle qu’il s’agit d’un **objet de type Citron** ainsi que son adresse en mémoire.\n",
    "\n",
    "Il est également possible de vérifier qu’une **instance** est bien issue d’une **classe** donnée avec la fonction ```isinstance()``` :\n"
   ]
  },
  {
   "cell_type": "code",
   "execution_count": 7,
   "id": "397e2ff2",
   "metadata": {},
   "outputs": [
    {
     "data": {
      "text/plain": [
       "True"
      ]
     },
     "execution_count": 7,
     "metadata": {},
     "output_type": "execute_result"
    }
   ],
   "source": [
    "isinstance(citron1 , Citron)"
   ]
  },
  {
   "cell_type": "markdown",
   "id": "28ade6f5",
   "metadata": {},
   "source": [
    "### Ajout d’un attribut d’instance\n",
    "\n",
    "Reprenons notre **classe Citron** et **l’instance citron1** créée précédemment. Regardons les **attributs** et **méthodes** que cet objet possède, puis tentons de lui ajouter un attribut :"
   ]
  },
  {
   "cell_type": "code",
   "execution_count": 8,
   "id": "cef07a22",
   "metadata": {},
   "outputs": [
    {
     "data": {
      "text/plain": [
       "['__class__',\n",
       " '__delattr__',\n",
       " '__dict__',\n",
       " '__dir__',\n",
       " '__doc__',\n",
       " '__eq__',\n",
       " '__format__',\n",
       " '__ge__',\n",
       " '__getattribute__',\n",
       " '__gt__',\n",
       " '__hash__',\n",
       " '__init__',\n",
       " '__init_subclass__',\n",
       " '__le__',\n",
       " '__lt__',\n",
       " '__module__',\n",
       " '__ne__',\n",
       " '__new__',\n",
       " '__reduce__',\n",
       " '__reduce_ex__',\n",
       " '__repr__',\n",
       " '__setattr__',\n",
       " '__sizeof__',\n",
       " '__str__',\n",
       " '__subclasshook__',\n",
       " '__weakref__']"
      ]
     },
     "execution_count": 8,
     "metadata": {},
     "output_type": "execute_result"
    }
   ],
   "source": [
    "dir(citron1)"
   ]
  },
  {
   "cell_type": "markdown",
   "id": "86ef3ee9",
   "metadata": {},
   "source": [
    "L’objet possède de nombreuses **méthodes** ou **attributs** qui commencent et qui se terminent par deux caractères underscores. Les *underscores* indiquent qu’il s’agit de méthodes ou attributs destinés au fonctionnement interne de l’objet."
   ]
  },
  {
   "cell_type": "code",
   "execution_count": 9,
   "id": "e52e31b3",
   "metadata": {},
   "outputs": [
    {
     "data": {
      "text/plain": [
       "['__class__',\n",
       " '__delattr__',\n",
       " '__dict__',\n",
       " '__dir__',\n",
       " '__doc__',\n",
       " '__eq__',\n",
       " '__format__',\n",
       " '__ge__',\n",
       " '__getattribute__',\n",
       " '__gt__',\n",
       " '__hash__',\n",
       " '__init__',\n",
       " '__init_subclass__',\n",
       " '__le__',\n",
       " '__lt__',\n",
       " '__module__',\n",
       " '__ne__',\n",
       " '__new__',\n",
       " '__reduce__',\n",
       " '__reduce_ex__',\n",
       " '__repr__',\n",
       " '__setattr__',\n",
       " '__sizeof__',\n",
       " '__str__',\n",
       " '__subclasshook__',\n",
       " '__weakref__',\n",
       " 'couleur']"
      ]
     },
     "execution_count": 9,
     "metadata": {},
     "output_type": "execute_result"
    }
   ],
   "source": [
    "citron1.couleur = \"jaune\"\n",
    "dir(citron1)"
   ]
  },
  {
   "cell_type": "markdown",
   "id": "225259d9",
   "metadata": {},
   "source": [
    "Ici on ajoute un attribut `.couleur` à l’instance `citron1`. Notez bien la syntaxe **instance.attribut** et le point qui lie les deux.\n",
    "\n",
    "La fonction `dir()` nous montre que l’attribut `.couleur` a bien été ajouté à l’objet."
   ]
  },
  {
   "cell_type": "code",
   "execution_count": 10,
   "id": "70175b57",
   "metadata": {},
   "outputs": [
    {
     "data": {
      "text/plain": [
       "'jaune'"
      ]
     },
     "execution_count": 10,
     "metadata": {},
     "output_type": "execute_result"
    }
   ],
   "source": [
    "citron1.couleur"
   ]
  },
  {
   "cell_type": "markdown",
   "id": "91a3a6d3",
   "metadata": {},
   "source": [
    "La notation **instance.attribut** donne accès à l’attribut de l’objet.\n",
    "\n",
    "L’attribut nommé `.__dict__` est particulièrement intéressant. Il s’agit d’un dictionnaire qui listera les attributs créés dynamiquement dans l’instance en cours :"
   ]
  },
  {
   "cell_type": "code",
   "execution_count": 11,
   "id": "6bd7f450",
   "metadata": {},
   "outputs": [
    {
     "data": {
      "text/plain": [
       "{}"
      ]
     },
     "execution_count": 11,
     "metadata": {},
     "output_type": "execute_result"
    }
   ],
   "source": [
    "citron1 = Citron()\n",
    "citron1.__dict__"
   ]
  },
  {
   "cell_type": "code",
   "execution_count": 12,
   "id": "039563c3",
   "metadata": {},
   "outputs": [
    {
     "data": {
      "text/plain": [
       "{'couleur': 'jaune'}"
      ]
     },
     "execution_count": 12,
     "metadata": {},
     "output_type": "execute_result"
    }
   ],
   "source": [
    "citron1.couleur = \"jaune\"\n",
    "citron1.__dict__"
   ]
  },
  {
   "cell_type": "markdown",
   "id": "ed3087c8",
   "metadata": {},
   "source": [
    "L’ajout d’un attribut depuis l’extérieur de la classe avec une syntaxe **instance.nouvel_attribut = valeur**, créera ce nouvel attribut uniquement pour cette instance :"
   ]
  },
  {
   "cell_type": "code",
   "execution_count": 13,
   "id": "22971d32",
   "metadata": {},
   "outputs": [
    {
     "data": {
      "text/plain": [
       "{'couleur': 'jaune'}"
      ]
     },
     "execution_count": 13,
     "metadata": {},
     "output_type": "execute_result"
    }
   ],
   "source": [
    "citron1 = Citron()\n",
    "citron1.couleur = \"jaune\"\n",
    "citron1.__dict__"
   ]
  },
  {
   "cell_type": "code",
   "execution_count": 14,
   "id": "835561b3",
   "metadata": {},
   "outputs": [
    {
     "data": {
      "text/plain": [
       "{}"
      ]
     },
     "execution_count": 14,
     "metadata": {},
     "output_type": "execute_result"
    }
   ],
   "source": [
    "citron2 = Citron()\n",
    "citron2.__dict__"
   ]
  },
  {
   "cell_type": "markdown",
   "id": "80c7204c",
   "metadata": {},
   "source": [
    "Si on crée une nouvelle instance de `Citron`, ici `citron2`, elle n’aura pas l’attribut\n",
    "couleur à sa création."
   ]
  },
  {
   "cell_type": "markdown",
   "id": "5acc6870",
   "metadata": {},
   "source": [
    "**Definition:** Une **variable** ou **attribut d’instance** est une variable accrochée à une instance et qui est spécifique à cette instance. *Cet attribut n’existe donc pas forcément pour toutes les instances d’une classe donnée*, et *d’une instance à l’autre il ne prendra pas forcément la même valeur*. \n",
    "\n",
    ">On peut retrouver tous les attributs d’instance d’une instance donnée avec une syntaxe **instance.__dict__.**"
   ]
  },
  {
   "cell_type": "markdown",
   "id": "8da2a83b",
   "metadata": {},
   "source": [
    "L’instruction **del** fonctionne bien sûr pour **détruire un objet** (par exemple `del citron1`), mais permet également de **détruire un attribut d’instance**. Si on reprend notre exemple `citron1` ci-dessus :"
   ]
  },
  {
   "cell_type": "code",
   "execution_count": 15,
   "id": "49f6c695",
   "metadata": {},
   "outputs": [
    {
     "data": {
      "text/plain": [
       "{'couleur': 'jaune'}"
      ]
     },
     "execution_count": 15,
     "metadata": {},
     "output_type": "execute_result"
    }
   ],
   "source": [
    "citron1.__dict__"
   ]
  },
  {
   "cell_type": "code",
   "execution_count": 16,
   "id": "419aa267",
   "metadata": {},
   "outputs": [
    {
     "data": {
      "text/plain": [
       "{}"
      ]
     },
     "execution_count": 16,
     "metadata": {},
     "output_type": "execute_result"
    }
   ],
   "source": [
    "del citron1.couleur\n",
    "citron1.__dict__"
   ]
  },
  {
   "cell_type": "markdown",
   "id": "b7e20056",
   "metadata": {},
   "source": [
    "### Les attributs de classe\n",
    "\n",
    "Un **attribut de classe** est crée en ajoutant une variable dans une classe comme on créait une variable locale dans une fonction. "
   ]
  },
  {
   "cell_type": "code",
   "execution_count": 17,
   "id": "4b33e750",
   "metadata": {},
   "outputs": [],
   "source": [
    "class Citron:\n",
    "    couleur = \"jaune\""
   ]
  },
  {
   "cell_type": "markdown",
   "id": "fec580a6",
   "metadata": {},
   "source": [
    "**Définition:** Une **variable de classe** ou **attribut de classe** est un attribut qui sera identique pour chaque instance. On verra plus tard que de tels attributs suivent des règles différentes par rapport aux attributs d’instance.\n",
    "\n",
    "À l’extérieur ou à l’intérieur d’une classe, un attribut de classe peut se retrouver avec une syntaxe **NomClasse.attribut**:\n",
    "    "
   ]
  },
  {
   "cell_type": "code",
   "execution_count": 18,
   "id": "b30ca058",
   "metadata": {},
   "outputs": [
    {
     "name": "stdout",
     "output_type": "stream",
     "text": [
      "jaune\n"
     ]
    }
   ],
   "source": [
    "print(Citron.couleur)"
   ]
  },
  {
   "cell_type": "markdown",
   "id": "7aebd897",
   "metadata": {},
   "source": [
    "Ce code affiche `jaune`. L’attribut de classe est aussi visible depuis n’importe quelle instance :"
   ]
  },
  {
   "cell_type": "code",
   "execution_count": 19,
   "id": "f71a1f9a",
   "metadata": {},
   "outputs": [
    {
     "name": "stdout",
     "output_type": "stream",
     "text": [
      "jaune\n",
      "jaune\n"
     ]
    }
   ],
   "source": [
    "class Citron:\n",
    "    couleur = \"jaune\"\n",
    "    \n",
    "if __name__ == \"__main__\": \n",
    "    citron1 = Citron() \n",
    "    print(citron1.couleur) \n",
    "    citron2 = Citron() \n",
    "    print(citron2.couleur)"
   ]
  },
  {
   "cell_type": "markdown",
   "id": "df940e70",
   "metadata": {},
   "source": [
    "**Attention:** Même si on peut retrouver un attribut de classe avec une syntaxe **instance.attribut**, un tel attribut ne peut pas être modifié avec une syntaxe **instance.attribut = nouvelle_valeur** "
   ]
  },
  {
   "cell_type": "markdown",
   "id": "b53b2642",
   "metadata": {},
   "source": [
    "### Les méthodes\n",
    "\n",
    "Dans notre classe on pourra aussi ajouter des fonctions.\n",
    "\n",
    "**Définition:** Une fonction définie au sein d’une classe est appelée **méthode**. Pour exécuter une méthode à l’extérieur de la classe, la syntaxe générale est **instance.méthode()**. En général, on distingue **attributs** et **méthodes**. Toutefois il faut garder à l’esprit qu’une **méthode** est finalement un objet de type fonction. Ainsi, elle peut être vue comme un attribut également. \n",
    "\n",
    "Voici un exemple d’ajout d’une fonction, ou plus exactement d’une méthode, au sein d’une classe (attention à l’indentation !) :"
   ]
  },
  {
   "cell_type": "code",
   "execution_count": 20,
   "id": "d3664747",
   "metadata": {},
   "outputs": [
    {
     "name": "stdout",
     "output_type": "stream",
     "text": [
      "Coucou, je suis la méthode .coucou() dans la classe Citron !\n"
     ]
    }
   ],
   "source": [
    "class Citron:\n",
    "    def coucou(self):\n",
    "        print(\"Coucou, je suis la méthode .coucou() dans la classe Citron !\")\n",
    "\n",
    "if __name__ == \"__main__\": \n",
    "    citron1 = Citron() \n",
    "    citron1.coucou()"
   ]
  },
  {
   "cell_type": "markdown",
   "id": "0901286d",
   "metadata": {},
   "source": [
    "On définit une méthode nommée `.coucou()` qui va afficher un petit message. Attention, cette méthode prend obligatoirement un argument que nous avons nommé ici `self`. Si on a plusieurs méthodes dans une classe, on saute toujours une ligne entre elles afin de faciliter la lecture (comme pour les fonctions).\n",
    "\n",
    "On crée l’instance `citron1` de la classe `Citron`, puis on exécute la méthode `.coucou()` avec une syntaxe **instance.méthode()**.\n",
    "\n",
    "Une méthode étant une fonction, elle peut bien sûr retourner une valeur :\n"
   ]
  },
  {
   "cell_type": "code",
   "execution_count": 21,
   "id": "c2c673ab",
   "metadata": {},
   "outputs": [
    {
     "name": "stdout",
     "output_type": "stream",
     "text": [
      "acide\n"
     ]
    }
   ],
   "source": [
    "class Citron:\n",
    "    def recup_saveur(self):\n",
    "        return \"acide\"\n",
    "\n",
    "if __name__ == \"__main__\":\n",
    "    citron1 = Citron()\n",
    "    saveur_citron1 = citron1.recup_saveur() \n",
    "    print(saveur_citron1)"
   ]
  },
  {
   "cell_type": "markdown",
   "id": "086982bf",
   "metadata": {},
   "source": [
    "Comme pour les fonctions, une valeur retournée par une méthode est récupérable dans une variable, ici `saveur_citron1`."
   ]
  },
  {
   "cell_type": "markdown",
   "id": "0d26020b",
   "metadata": {},
   "source": [
    "### Le constructeur\n",
    "\n",
    "Lors de l’instanciation d’un objet à partir d’une classe, il peut être intéressant de lancer des instructions comme par exemple initialiser certaines variables. Pour cela, on ajoute une méthode spéciale nommée `.__init__():` cette méthode s’appelle le **« constructeur »** de la classe. \n",
    "\n",
    "Il s’agit d’une méthode spéciale dont le nom est entouré de doubles *underscores* : en effet, elle sert au fonctionnement interne de notre classe, et sauf cas extrêmement rare, elle n’est pas supposée être lancée comme une fonction classique par l’utilisateur de la classe. \n",
    "\n",
    "Ce constructeur est exécuté à chaque instanciation de notre classe, et ne renvoie pas de valeur, il ne possède donc pas de return.\n",
    "\n",
    "**Remarque:** Certains auteurs préfèrent nommer .__init__() « instantiateur » ou « initialisateur », pour signifier qu’il existe une autre méthode appelée .__new__() qui participe à la création d’une instance. \n",
    "\n",
    "\n"
   ]
  },
  {
   "cell_type": "code",
   "execution_count": 22,
   "id": "6ff58100",
   "metadata": {},
   "outputs": [
    {
     "name": "stdout",
     "output_type": "stream",
     "text": [
      "jaune\n"
     ]
    }
   ],
   "source": [
    "class Citron:\n",
    "    def __init__(self):\n",
    "        self.couleur = \"jaune\"\n",
    "        \n",
    "if __name__ == \"__main__\": \n",
    "    citron1 = Citron() \n",
    "    print(citron1.couleur)"
   ]
  },
  {
   "cell_type": "markdown",
   "id": "593769a0",
   "metadata": {},
   "source": [
    "**Étape 1.** Au départ, Python Tutor nous montre que la **classe Citron** a été mise en mémoire, elle contient pour l’instant la méthode **.__init__().**\n",
    "\n",
    "![Fonctionnement d’un constructeur (étape 1).](images/Tutor1.png)\n",
    "<center> Fonctionnement d’un constructeur (étape 1) </center>\n",
    "\n",
    "**Étape 2.** Nous créons ensuite l’instance **citron1** à partir de la **classe Citron**. Notre classe **Citron** contenant une méthode **.__init__()** (le constructeur), celle-ci est immédiatement exécutée au moment de l’instanciation. Cette méthode prend un argument nommé self : cet argument est obligatoire. Il s’agit en fait d’une référence vers l’instance en cours (instance que nous appellerons citron1 de retour dans le programme principal, mais cela serait vrai pour n’importe quel autre nom d’instance).Python Tutor nous indique cela par une flèche pointant vers un espace nommé Citron instance.\n",
    "\n",
    "![Fonctionnement d’un constructeur (étape 2).](images/Tutor2.png)\n",
    "<center> Fonctionnement d’un constructeur (étape 2) </center>\n",
    "\n",
    "**Étape 3.** Un nouvel attribut est créé s’appelant **self.couleur**. La chaîne de caractères **couleur** est ainsi « accrochée » (grâce au caractère point) à l’instance en cours référencée par le **self**. Python Tutor nous montre cela par une flèche qui pointe depuis le **self** vers la **variable couleur** (qui se trouve elle-même dans l’espace nommé Citron instance). Si d’autres attributs étaient créés, ils seraient tous répertoriés dans cet espace Citron instance. *L’attribut couleur est donc une variable d’instance*. La méthode **.__init__()** étant intrinsèquement une fonction, Python Tutor nous rappelle qu’elle ne renvoie rien (d’où le None dans la case Return value) une fois son exécution terminée. Et comme avec les fonctions classiques, l’espace mémoire contenant les variables locales à cette méthode va être détruit une fois son exécution terminée.\n",
    "\n",
    "![Fonctionnement d’un constructeur (étape 3).](images/Tutor3.png)\n",
    "<center> Fonctionnement d’un constructeur (étape 3) </center>\n",
    "\n",
    "**Étape 4.** De retour dans le programme principal, Python Tutor nous indique que **citron1** est une instance de la **classe Citron** par une flèche pointant vers l’espace **Citron instance**. Cette instance contient un **attribut** nommé **couleur** auquel on accéde avec la syntaxe **citron1.couleur** dans le print(). Notez que si l’instance s’était appelée enorme_citron, on aurait utilisé enorme_citron.couleur pour accéder à l’attribut couleur.\n",
    "\n",
    "![Fonctionnement d’un constructeur (étape 4).](images/Tutor4.png)\n",
    "<center> Fonctionnement d’un constructeur (étape 4) </center>"
   ]
  },
  {
   "cell_type": "markdown",
   "id": "91407a25",
   "metadata": {},
   "source": [
    "**Conseil:** Dans la mesure du possible, nous vous conseillons de créer tous les attributs d’instance dont vous aurez besoin dans le constructeur .__init__() plutôt que dans toute autre méthode. Ainsi ils seront visibles dans toute la classe dès l’instanciation."
   ]
  },
  {
   "cell_type": "markdown",
   "id": "22f78242",
   "metadata": {},
   "source": [
    "### Passage d’argument(s) à l’instanciation\n",
    "\n",
    "Lors de l’instanciation, il est possible de passer des arguments au constructeur. Comme pour les fonctions, on peut passer des arguments positionnels ou par mot-clé et en créer autant que l’on veut. Voici un exemple :\n"
   ]
  },
  {
   "cell_type": "code",
   "execution_count": 23,
   "id": "2026c0d1",
   "metadata": {},
   "outputs": [
    {
     "name": "stdout",
     "output_type": "stream",
     "text": [
      "citron1: {'masse': 100, 'couleur': 'jaune'}\n",
      "citron2: {'masse': 150, 'couleur': 'blanc'}\n"
     ]
    }
   ],
   "source": [
    "class Citron:\n",
    "    def __init__(self, masse, couleur=\"jaune\"):\n",
    "        self.masse = masse\n",
    "        self.couleur = couleur\n",
    "\n",
    "if __name__ == \"__main__\":\n",
    "    citron1 = Citron (100) \n",
    "    print(\"citron1:\", citron1.__dict__) \n",
    "    citron2 = Citron(150, couleur=\"blanc\") \n",
    "    print(\"citron2:\", citron2.__dict__)"
   ]
  },
  {
   "cell_type": "markdown",
   "id": "a56f602c",
   "metadata": {},
   "source": [
    "On a ici un argument positionnel `masse` et un autre par mot-clé `couleur`. "
   ]
  },
  {
   "cell_type": "markdown",
   "id": "ca2933a8",
   "metadata": {},
   "source": [
    "### Mieux comprendre le rôle du self\n",
    "\n",
    "Cette rubrique va nous aider à mieux comprendre le rôle du **self** à travers quelques exemples simples. Regardons le code suivant dans lequel nous créons une nouvelle méthode `.affiche_attributs()` :"
   ]
  },
  {
   "cell_type": "code",
   "execution_count": 24,
   "id": "f4238a20",
   "metadata": {},
   "outputs": [
    {
     "name": "stdout",
     "output_type": "stream",
     "text": [
      "<__main__.Citron object at 0x7faeb0594940>\n",
      "jaune\n"
     ]
    },
    {
     "ename": "NameError",
     "evalue": "name 'var' is not defined",
     "output_type": "error",
     "traceback": [
      "\u001b[0;31m---------------------------------------------------------------------------\u001b[0m",
      "\u001b[0;31mNameError\u001b[0m                                 Traceback (most recent call last)",
      "Cell \u001b[0;32mIn [24], line 13\u001b[0m\n\u001b[1;32m     11\u001b[0m \u001b[38;5;28;01mif\u001b[39;00m \u001b[38;5;18m__name__\u001b[39m \u001b[38;5;241m==\u001b[39m \u001b[38;5;124m\"\u001b[39m\u001b[38;5;124m__main__\u001b[39m\u001b[38;5;124m\"\u001b[39m: \n\u001b[1;32m     12\u001b[0m     citron1 \u001b[38;5;241m=\u001b[39m Citron() \n\u001b[0;32m---> 13\u001b[0m     \u001b[43mcitron1\u001b[49m\u001b[38;5;241;43m.\u001b[39;49m\u001b[43maffiche_attributs\u001b[49m\u001b[43m(\u001b[49m\u001b[43m)\u001b[49m\n",
      "Cell \u001b[0;32mIn [24], line 9\u001b[0m, in \u001b[0;36mCitron.affiche_attributs\u001b[0;34m(self)\u001b[0m\n\u001b[1;32m      7\u001b[0m \u001b[38;5;28mprint\u001b[39m(\u001b[38;5;28mself\u001b[39m) \n\u001b[1;32m      8\u001b[0m \u001b[38;5;28mprint\u001b[39m(\u001b[38;5;28mself\u001b[39m\u001b[38;5;241m.\u001b[39mcouleur) \n\u001b[0;32m----> 9\u001b[0m \u001b[38;5;28mprint\u001b[39m(\u001b[43mvar\u001b[49m)\n",
      "\u001b[0;31mNameError\u001b[0m: name 'var' is not defined"
     ]
    }
   ],
   "source": [
    "class Citron:\n",
    "    def __init__(self, couleur=\"jaune\"): \n",
    "        self.couleur = couleur\n",
    "        var = 2\n",
    "    \n",
    "    def affiche_attributs(self): \n",
    "        print(self) \n",
    "        print(self.couleur) \n",
    "        print(var)\n",
    "        \n",
    "if __name__ == \"__main__\": \n",
    "    citron1 = Citron() \n",
    "    citron1.affiche_attributs()"
   ]
  },
  {
   "cell_type": "markdown",
   "id": "8e1cab9d",
   "metadata": {},
   "source": [
    "* On crée l’attribut `couleur` que l’on accroche à l’instance avec le `self`. \n",
    "* Nous créons cette fois-ci une variable `var` sans l’accrocher au `self`. \n",
    "* Nous créons une nouvelle méthode dans la `classe Citron` qui se nomme `.affiche_attributs()`. Comme pour le constructeur, cette méthode prend comme premier argument **une variable obligatoire**, que nous avons à nouveau nommée `self`. Il s’agit encore une fois d’une référence vers l’objet ou instance créé(e). On va voir plus tard ce qu’elle contient exactement.\n",
    "\n",
    "**Attention:** On peut appeler cette référence comme on veut, toutefois nous vous conseillons vivement de l’appeler **self** car c’est une convention générale en Python. Ainsi, quelqu’un qui lira votre code comprendra immédiatement de quoi il s’agit.\n",
    "\n",
    "* La première instruction de la fonction `.affiche_attributs()`. va afficher le contenu de la variable self.\n",
    "* On souhaite que notre méthode `.affiche_attributs()` affiche ensuite l’attribut de classe .couleur ainsi que la variable var créée dans le constructeur `.__init__()`.\n",
    "\n",
    "> L’exécution de ce code donnera une erreur \n",
    "\n",
    "* La méthode `.affiche_attributs()` montre que le **self** est bien une référence vers l’instance (ou objet) citron1 (ou vers n’importe quelle autre instance, par exemple si on crée citron2 = Citron() le self sera une référence vers citron2).\n",
    "* La méthode `.affiche_attributs()` affiche l’attribut `.couleur` qui avait été créé précédemment dans le constructeur. Vous voyez ici l’intérêt principal de l’argument self passé en premier à chaque méthode d’une classe : il « accroche » n’importe quel attribut qui sera visible partout dans la classe, y compris dans une méthode où il n’a pas été défini.\n",
    "* La création de la variable `var` dans la méthode `.__init__()` sans l’accrocher à l’objet `self` fait qu’elle n’est plus accessible en dehors de `.__init__()`. C’est exactement comme pour les fonctions classiques, `var` est finalement une variable locale au sein de la méthode `.__init__()` et n’est plus visible lorsque l’exécution de cette dernière est terminée. Ainsi, Python renvoie une erreur car `var` n’existe pas lorsque `.affiche_attributs()` est en exécution.\n",
    "\n",
    "En résumé, le **self** est nécessaire lorsqu’on a besoin d’accéder à différents attributs dans les différentes méthodes d’une classe. Le **self** est également nécessaire pour appeler une méthode de la classe depuis une autre méthode :\n"
   ]
  },
  {
   "cell_type": "code",
   "execution_count": 25,
   "id": "a1aeb6af",
   "metadata": {},
   "outputs": [
    {
     "name": "stdout",
     "output_type": "stream",
     "text": [
      "Le citron c'est trop bon !\n"
     ]
    }
   ],
   "source": [
    "class Citron:\n",
    "    def __init__(self, couleur=\"jaune\"): \n",
    "        self.couleur = couleur \n",
    "        self.affiche_message()\n",
    "        \n",
    "    def affiche_message(self):\n",
    "        print(\"Le citron c'est trop bon !\")\n",
    "\n",
    "if __name__ == \"__main__\":\n",
    "    citron1 = Citron(\"jaune pâle\")"
   ]
  },
  {
   "cell_type": "markdown",
   "id": "612092bf",
   "metadata": {},
   "source": [
    "* Nous appelons ici la méthode `.affiche_message()` depuis le constructeur. Pour appeler cette méthode interne à la **classe Citron**, on doit utiliser une syntaxe **self.méthode()**. Le self sert donc pour accéder aux attributs mais aussi aux méthodes, ou plus généralement à tout ce qui est accroché à la classe.\n",
    "\n",
    "* La méthode `.affiche_message()` est exécutée. On peut se poser la question: Pourquoi passer l’argument self à cette méthode alors qu’on ne s’en sert pas dans celle-ci ?\n",
    "\n",
    "**Attention:** Même si on ne se sert d’aucun attribut dans une méthode, l’argument **self** (ou quel que soit son nom) est strictement obligatoire. En fait, la notation **citron1.affiche_message()** est équivalente à **Citron.affiche_message(citron1)**. Testez les deux pour voir! Dans cette dernière instruction, on appelle la méthode accrochée à la **classe Citron** et on lui passe explicitement l’instance `citron1` en tant qu’argument. La notation **citron1.affiche_message()** contient donc en filigrane un argument, à savoir, la référence vers l’instance `citron1` que l’on appelle `self` au sein de la méthode.\n",
    "\n",
    "**Conseil:** c’est la première notation `citron1.affiche_message()` (ou plus généralement **instance.méthode()**), plus compacte, qui sera toujours utilisée.\n",
    "\n",
    "Finalement, on crée l’instance `citron1` en lui passant l’argument `\"jaune pâle\"`. La variable d’instance **couleur** prendra ainsi cette valeur au lieu de celle par défaut (\"jaune\"). À noter, l’instanciation affichera le message *Le citron c'est trop bon !* puisque la méthode `.affiche_message()` est appelée dans le constructeur `.__init__()`.\n",
    "\n"
   ]
  },
  {
   "cell_type": "markdown",
   "id": "e41b4f18",
   "metadata": {},
   "source": [
    "### Différence entre les attributs de classe et d’instance\n",
    "\n",
    "On a vu comment créer un **attribut de classe**, il suffit de créer une variable au sein de la classe (en dehors de toute méthode). En général, les attributs de classe contiennent des propriétés générales à la classe puisqu’ils vont prendre la même valeur quelle que soit l’instance.\n",
    "\n",
    "Au contraire, les **attributs d’instance** sont spécifiques à chaque instance. Pour en créer, on a vu qu’il suffisait de les initialiser dans la méthode **.__init__()** en utilisant une syntaxe **self.nouvel_attribut = valeur**. On a vu aussi dans la section **Ajout d’un attribut d’instance** que l’on pouvait ajouter un attribut d’instance de l’extérieur avec une syntaxe **instance.nouvel_attribut = valeur**.\n",
    "\n",
    "Bien que les deux types d’attributs soient fondamentalement différents au niveau de leur finalité, il existe des similitudes lorsqu’on veut accéder à leur valeur. Le code suivant illustre cela :"
   ]
  },
  {
   "cell_type": "code",
   "execution_count": 31,
   "id": "db68e390",
   "metadata": {},
   "outputs": [
    {
     "name": "stdout",
     "output_type": "stream",
     "text": [
      "Attributs de classe : ellipsoïde acide\n",
      "Attributs d'instance : standard jaune 0\n",
      "Attributs d'instance : standard jaune 100\n"
     ]
    }
   ],
   "source": [
    "class Citron: \n",
    "    forme = \"ellipsoïde\" # attribut de classe \n",
    "    saveur = \"acide\" # attribut de classe\n",
    "    def __init__(self, couleur=\"jaune\", taille=\"standard\", masse=0): \n",
    "        self.couleur = couleur # attribut d'instance\n",
    "        self.taille = taille # attribut d'instance\n",
    "        self.masse = masse # attribut d'instance (masse en gramme)\n",
    "    \n",
    "    def augmente_masse(self, valeur): \n",
    "        self.masse += valeur\n",
    "        \n",
    "if __name__ == \"__main__\":\n",
    "    citron1 = Citron()\n",
    "    print(\"Attributs de classe :\", citron1.forme, citron1.saveur) \n",
    "    print(\"Attributs d'instance :\", citron1.taille, citron1.couleur, citron1.masse) \n",
    "    citron1.augmente_masse(100)\n",
    "    print(\"Attributs d'instance :\", citron1.taille, citron1.couleur, citron1.masse)"
   ]
  },
  {
   "cell_type": "markdown",
   "id": "3f5c3f80",
   "metadata": {},
   "source": [
    "* D'abord nous créons **deux variables de classe** qui seront communes à toutes les instances (disons qu’un citron sera toujours ellipsoïde et acide !).\n",
    "* ensuite, nous créons **trois variables d’instance** qui seront spécifiques à chaque instance (disons que la taille, la couleur et la masse d’un citron peuvent varier !), avec des valeurs par défaut.\n",
    "* après on crée une nouvelle méthode `.augmente_masse()` qui augmente l’attribut d’instance `.masse`\n",
    "* Dans le programme principal, on instancie la classe `Citron` sans passer d’argument (les valeurs par défaut \"jaune\", \"standard\" et 0 seront donc prises), puis on imprime les attributs\n",
    "\n",
    "La figure montre l’état des variables après avoir exécuté ce code grâce au site Python Tutor.\n",
    "\n",
    "![Illustration de la signification des attributs de classe et d’instance.](images/tutor5.png)\n",
    "<center> Illustration de la signification des attributs de classe et d’instance  </center>\n",
    "\n",
    "\n",
    "* Python Tutor montre bien la différence entre les variables de classe `forme` et `saveur` qui apparaissent directement dans les attributs de la classe `Citron` lors de sa définition et les trois variables d’instance `couleur`, `taille` et `masse` qui sont liées à l’instance `citron1`. Pour autant, on voit dans la dernière instruction `print()` qu’on peut accéder de la même manière aux variables de classe ou d’instance, lorsqu’on est à l’extérieur, avec une syntaxe **instance.attribut**.\n",
    "\n",
    "Au sein des méthodes, on accède également de la même manière aux attributs de classe ou d’instance, avec une syntaxe **self.attribut** :"
   ]
  },
  {
   "cell_type": "code",
   "execution_count": 27,
   "id": "dc60aeee",
   "metadata": {},
   "outputs": [
    {
     "name": "stdout",
     "output_type": "stream",
     "text": [
      "attribut de classe: acide\n",
      "attribut d'instance: jaune\n"
     ]
    }
   ],
   "source": [
    "class Citron:\n",
    "    saveur = \"acide\" # attribut de classe\n",
    "    \n",
    "    def __init__(self, couleur=\"jaune\"): \n",
    "        self.couleur = couleur # attribut d'instance\n",
    "    \n",
    "    def affiche_attributs(self):\n",
    "        print(f\"attribut de classe: {self.saveur}\") \n",
    "        print(f\"attribut d'instance: {self.couleur}\")\n",
    "        \n",
    "if __name__ == \"__main__\": \n",
    "    citron1 = Citron() \n",
    "    citron1.affiche_attributs()\n"
   ]
  },
  {
   "cell_type": "markdown",
   "id": "61db7bc3",
   "metadata": {},
   "source": [
    "En résumé, qu’on ait des **attributs de classe ou d’instance**, on peut accéder à eux de l’extérieur par **instance.attribut** et de l’intérieur par **self.attribut**.\n",
    "\n",
    "* **Les attributs d’instance** peuvent se modifier sans problème de l’extérieur avec une syntaxe **instance.attribut_d_instance = nouvelle_valeur** et de l’intérieur avec une syntaxe **self.attribut_d_instance = nouvelle_valeur**. \n",
    "* Ce n’est pas du tout le cas avec **les attributs de classe**.\n",
    "\n",
    "**Attention:** Les attributs de classe ne peuvent pas être modifiés ni à l’extérieur d’une classe via une syntaxe **instance.attribut_de_classe = nouvelle_valeur**, ni à l’intérieur d’une classe via une syntaxe **self.attribut_de_classe = nouvelle_valeur**. Puisqu’ils sont destinés à être identiques pour toutes les instances, cela est logique de ne pas pouvoir les modifier via une instance. Les attributs de classe Python ressemblent en quelque sorte aux attributs statiques du C++.\n",
    "\n",
    "Regardons l’exemple suivant illustrant cela :\n"
   ]
  },
  {
   "cell_type": "code",
   "execution_count": 32,
   "id": "a6bb5b64",
   "metadata": {},
   "outputs": [
    {
     "name": "stdout",
     "output_type": "stream",
     "text": [
      "acide\n",
      "sucrée\n",
      "acide\n"
     ]
    },
    {
     "ename": "AttributeError",
     "evalue": "saveur",
     "output_type": "error",
     "traceback": [
      "\u001b[0;31m---------------------------------------------------------------------------\u001b[0m",
      "\u001b[0;31mAttributeError\u001b[0m                            Traceback (most recent call last)",
      "Cell \u001b[0;32mIn [32], line 11\u001b[0m\n\u001b[1;32m      9\u001b[0m \u001b[38;5;28;01mdel\u001b[39;00m citron1\u001b[38;5;241m.\u001b[39msaveur\n\u001b[1;32m     10\u001b[0m \u001b[38;5;28mprint\u001b[39m(citron1\u001b[38;5;241m.\u001b[39msaveur) \u001b[38;5;66;03m# on regarde ici avec Python Tutor\u001b[39;00m\n\u001b[0;32m---> 11\u001b[0m \u001b[38;5;28;01mdel\u001b[39;00m citron1\u001b[38;5;241m.\u001b[39msaveur\n",
      "\u001b[0;31mAttributeError\u001b[0m: saveur"
     ]
    }
   ],
   "source": [
    "class Citron:\n",
    "    saveur = \"acide\"\n",
    "    \n",
    "if __name__ == \"__main__\":\n",
    "    citron1 = Citron()\n",
    "    print(citron1.saveur)\n",
    "    citron1.saveur = \"sucrée\"\n",
    "    print(citron1.saveur) # on regarde ici avec Python Tutor\n",
    "    del citron1.saveur\n",
    "    print(citron1.saveur) # on regarde ici avec Python Tutor\n",
    "    del citron1.saveur"
   ]
  },
  {
   "cell_type": "markdown",
   "id": "e67b2cc5",
   "metadata": {},
   "source": [
    "On pourrait penser qu’on modifie l’attribut de classe `saveur` avec une syntaxe **instance.attribut_de_classe\n",
    "= nouvelle_valeur**. Que se passe-t-il exactement? La figure nous montre l’état des variables grâce au site Python Tutor. Celui-ci indique qu'on a en fait créé un nouvel attribut d’instance `citron1.saveur` (contenant la valeur `sucrée`) qui est bien distinct de l’attribut de classe auquel on accédait avant par le même nom ! \n",
    "\n",
    "Tout ceci est dû à la manière dont Python gère les espaces de noms. Dans ce cas, l’attribut d’instance est prioritaire sur l’attribut de classe.\n",
    "\n",
    "On détruit finalement l’attribut d’instance `citron1.saveur` qui contenait la valeur `sucrée`. Python Tutor nous montre que `citron1.saveur` n’existe pas dans l’espace `Citron` instance qui est vide ; ainsi, Python utilisera l’attribut de classe `.saveur` qui contient toujours la valeur `acide`. \n",
    "\n",
    "Finalement va tenter de détruire l’attribut de classe `.saveur`. Toutefois, Python interdit cela, ainsi une erreur  est générée. \n",
    "\n",
    "En fait, la seule manière de modifier un attribut de classe est d’utiliser une syntaxe **NomClasse.attribut_de_classe = nouvelle_valeur**, dans l’exemple ci-dessus cela aurait été `Citron.saveur = \"sucrée\"`. De même, pour sa destruction, il faudra utiliser la même syntaxe : `del Citron.saveur`.\n",
    "\n",
    "![Illustration avec Python Tutor de la non destruction d’un attribut de classe (étape 1)](images/Tutor6.png)\n",
    "<center> Illustration avec Python Tutor de la non destruction d’un attribut de classe (étape 1) </center>\n",
    "\n",
    "![Illustration avec Python Tutor de la non destruction d’un attribut de classe (étape 2)](images/Tutor7.png)\n",
    "<center> Illustration avec Python Tutor de la non destruction d’un attribut de classe (étape 2) </center>\n",
    "\n",
    "> **Conseil:** Même si on peut modifier un attribut de classe, nous vous déconseillons de le faire. Une utilité des attributs de classe est par exemple de définir des constantes (mathématique ou autre), donc cela n’a pas de sens de vouloir les modifier ! Il est également déconseillé de créer des attributs de classe avec des objets modifiables comme des listes et des dictionnaires, cela peut avoir des effets désastreux non désirés. Nous verrons plus tard un exemple concret d’attribut de classe qui est très utile, à savoir *le concept d’objet de type **property***.\n",
    "\n",
    "> Si vous souhaitez avoir des attributs modifiables dans votre classe, créez plutôt des attributs d’instance dans le `.__init__()`."
   ]
  }
 ],
 "metadata": {
  "celltoolbar": "Slideshow",
  "kernelspec": {
   "display_name": "Python 3 (ipykernel)",
   "language": "python",
   "name": "python3"
  },
  "language_info": {
   "codemirror_mode": {
    "name": "ipython",
    "version": 3
   },
   "file_extension": ".py",
   "mimetype": "text/x-python",
   "name": "python",
   "nbconvert_exporter": "python",
   "pygments_lexer": "ipython3",
   "version": "3.10.7"
  }
 },
 "nbformat": 4,
 "nbformat_minor": 5
}
