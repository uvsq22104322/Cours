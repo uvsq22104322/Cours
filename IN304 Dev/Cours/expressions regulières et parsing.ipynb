<!DOCTYPE html>

<html  dir="ltr" lang="fr" xml:lang="fr">
<head>
    <title>eCampus: Se connecter sur le site</title>
<link rel="shortcut icon" href="//ecampus.paris-saclay.fr/pluginfile.php/1/theme_snap/favicon/1668730816/favicon.ico"/>
<meta name="apple-itunes-app" content="app-id=1553337282, app-argument=https://ecampus.paris-saclay.fr/login/index.php"/><link rel="manifest" href="https://ecampus.paris-saclay.fr/admin/tool/mobile/mobile.webmanifest.php" /><meta http-equiv="Content-Type" content="text/html; charset=utf-8" />
<meta name="keywords" content="moodle, eCampus: Se connecter sur le site" />
<link rel="stylesheet" type="text/css" href="https://ecampus.paris-saclay.fr/theme/yui_combo.php?3.17.2/cssgrids/cssgrids-min.css" /><link rel="stylesheet" type="text/css" href="https://ecampus.paris-saclay.fr/theme/yui_combo.php?rollup/3.17.2/yui-moodlesimple-min.css" /><script id="firstthemesheet" type="text/css">/** Required in order to fix style inclusion problems in IE with YUI **/</script><link rel="stylesheet" type="text/css" href="https://ecampus.paris-saclay.fr/theme/styles.php/snap/1668730816_1667396566/all" />
<script>
//<![CDATA[
var M = {}; M.yui = {};
M.pageloadstarttime = new Date();
M.cfg = {"wwwroot":"https:\/\/ecampus.paris-saclay.fr","sesskey":"9NetoHF0os","sessiontimeout":"14400","sessiontimeoutwarning":1200,"themerev":"1668730816","slasharguments":1,"theme":"snap","iconsystemmodule":"core\/icon_system_fontawesome","jsrev":"1668730816","admin":"admin","svgicons":true,"usertimezone":"Europe\/Paris","contextid":1,"langrev":1668730816,"templaterev":"1668730816"};var yui1ConfigFn = function(me) {if(/-skin|reset|fonts|grids|base/.test(me.name)){me.type='css';me.path=me.path.replace(/\.js/,'.css');me.path=me.path.replace(/\/yui2-skin/,'/assets/skins/sam/yui2-skin')}};
var yui2ConfigFn = function(me) {var parts=me.name.replace(/^moodle-/,'').split('-'),component=parts.shift(),module=parts[0],min='-min';if(/-(skin|core)$/.test(me.name)){parts.pop();me.type='css';min=''}
if(module){var filename=parts.join('-');me.path=component+'/'+module+'/'+filename+min+'.'+me.type}else{me.path=component+'/'+component+'.'+me.type}};
YUI_config = {"debug":false,"base":"https:\/\/ecampus.paris-saclay.fr\/lib\/yuilib\/3.17.2\/","comboBase":"https:\/\/ecampus.paris-saclay.fr\/theme\/yui_combo.php?","combine":true,"filter":null,"insertBefore":"firstthemesheet","groups":{"yui2":{"base":"https:\/\/ecampus.paris-saclay.fr\/lib\/yuilib\/2in3\/2.9.0\/build\/","comboBase":"https:\/\/ecampus.paris-saclay.fr\/theme\/yui_combo.php?","combine":true,"ext":false,"root":"2in3\/2.9.0\/build\/","patterns":{"yui2-":{"group":"yui2","configFn":yui1ConfigFn}}},"moodle":{"name":"moodle","base":"https:\/\/ecampus.paris-saclay.fr\/theme\/yui_combo.php?m\/1668730816\/","combine":true,"comboBase":"https:\/\/ecampus.paris-saclay.fr\/theme\/yui_combo.php?","ext":false,"root":"m\/1668730816\/","patterns":{"moodle-":{"group":"moodle","configFn":yui2ConfigFn}},"filter":null,"modules":{"moodle-core-languninstallconfirm":{"requires":["base","node","moodle-core-notification-confirm","moodle-core-notification-alert"]},"moodle-core-actionmenu":{"requires":["base","event","node-event-simulate"]},"moodle-core-maintenancemodetimer":{"requires":["base","node"]},"moodle-core-tooltip":{"requires":["base","node","io-base","moodle-core-notification-dialogue","json-parse","widget-position","widget-position-align","event-outside","cache-base"]},"moodle-core-handlebars":{"condition":{"trigger":"handlebars","when":"after"}},"moodle-core-blocks":{"requires":["base","node","io","dom","dd","dd-scroll","moodle-core-dragdrop","moodle-core-notification"]},"moodle-core-dragdrop":{"requires":["base","node","io","dom","dd","event-key","event-focus","moodle-core-notification"]},"moodle-core-event":{"requires":["event-custom"]},"moodle-core-popuphelp":{"requires":["moodle-core-tooltip"]},"moodle-core-formchangechecker":{"requires":["base","event-focus","moodle-core-event"]},"moodle-core-notification":{"requires":["moodle-core-notification-dialogue","moodle-core-notification-alert","moodle-core-notification-confirm","moodle-core-notification-exception","moodle-core-notification-ajaxexception"]},"moodle-core-notification-dialogue":{"requires":["base","node","panel","escape","event-key","dd-plugin","moodle-core-widget-focusafterclose","moodle-core-lockscroll"]},"moodle-core-notification-alert":{"requires":["moodle-core-notification-dialogue"]},"moodle-core-notification-confirm":{"requires":["moodle-core-notification-dialogue"]},"moodle-core-notification-exception":{"requires":["moodle-core-notification-dialogue"]},"moodle-core-notification-ajaxexception":{"requires":["moodle-core-notification-dialogue"]},"moodle-core-chooserdialogue":{"requires":["base","panel","moodle-core-notification"]},"moodle-core-lockscroll":{"requires":["plugin","base-build"]},"moodle-core_availability-form":{"requires":["base","node","event","event-delegate","panel","moodle-core-notification-dialogue","json"]},"moodle-backup-confirmcancel":{"requires":["node","node-event-simulate","moodle-core-notification-confirm"]},"moodle-backup-backupselectall":{"requires":["node","event","node-event-simulate","anim"]},"moodle-course-categoryexpander":{"requires":["node","event-key"]},"moodle-course-management":{"requires":["base","node","io-base","moodle-core-notification-exception","json-parse","dd-constrain","dd-proxy","dd-drop","dd-delegate","node-event-delegate"]},"moodle-course-dragdrop":{"requires":["base","node","io","dom","dd","dd-scroll","moodle-core-dragdrop","moodle-core-notification","moodle-course-coursebase","moodle-course-util"]},"moodle-course-util":{"requires":["node"],"use":["moodle-course-util-base"],"submodules":{"moodle-course-util-base":{},"moodle-course-util-section":{"requires":["node","moodle-course-util-base"]},"moodle-course-util-cm":{"requires":["node","moodle-course-util-base"]}}},"moodle-course-formatchooser":{"requires":["base","node","node-event-simulate"]},"moodle-form-dateselector":{"requires":["base","node","overlay","calendar"]},"moodle-form-shortforms":{"requires":["node","base","selector-css3","moodle-core-event"]},"moodle-form-passwordunmask":{"requires":[]},"moodle-question-searchform":{"requires":["base","node"]},"moodle-question-chooser":{"requires":["moodle-core-chooserdialogue"]},"moodle-question-preview":{"requires":["base","dom","event-delegate","event-key","core_question_engine"]},"moodle-core_outcome-outcomepanel":{"requires":["base","handlebars","moodle-core_outcome-models","moodle-core_outcome-scrollpanel","moodle-core_outcome-ariacontrol","moodle-core_outcome-ariacontrolled","moodle-core-notification-dialogue","moodle-core-notification-alert","moodle-core_outcome-simpleio"]},"moodle-core_outcome-scrollpanel":{"requires":["plugin","widget","panel"]},"moodle-core_outcome-mapoutcome":{"requires":["widget","handlebars","json-parse","json-stringify","moodle-core_outcome-models","moodle-core_outcome-outcomepanel","moodle-core-notification-exception"]},"moodle-core_outcome-dynamicpanel":{"requires":["base","moodle-core_outcome-simpleio","classnamemanager","moodle-core-notification-dialogue","moodle-core_outcome-scrollpanel"]},"moodle-core_outcome-models":{"requires":["base","model","model-list","moodle-core_outcome-simpleio","json-stringify"]},"moodle-core_outcome-ariacontrol":{"requires":["plugin","widget","escape"]},"moodle-core_outcome-ariacontrolled":{"requires":["plugin","widget"]},"moodle-core_outcome-simpleio":{"requires":["base","io-base","json-parse","moodle-core-notification-exception","moodle-core-notification-ajaxexception"]},"moodle-core_outcome-editoutcome":{"requires":["widget","event-valuechange","handlebars","json-parse","json-stringify","moodle-core_outcome-models","moodle-core-notification-dialogue","moodle-core-notification-exception"]},"moodle-core_outcome-mapoutcomeset":{"requires":["widget","model","model-list","handlebars","json-parse","json-stringify","moodle-core_outcome-models","moodle-core-notification-dialogue","moodle-core-notification-exception","moodle-core-notification-alert","moodle-core_outcome-simpleio"]},"moodle-availability_completion-form":{"requires":["base","node","event","moodle-core_availability-form"]},"moodle-availability_date-form":{"requires":["base","node","event","io","moodle-core_availability-form"]},"moodle-availability_grade-form":{"requires":["base","node","event","moodle-core_availability-form"]},"moodle-availability_group-form":{"requires":["base","node","event","moodle-core_availability-form"]},"moodle-availability_grouping-form":{"requires":["base","node","event","moodle-core_availability-form"]},"moodle-availability_profile-form":{"requires":["base","node","event","moodle-core_availability-form"]},"moodle-availability_releasecode-form":{"requires":["base","node","event","event-valuechange","moodle-core_availability-form"]},"moodle-mod_assign-history":{"requires":["node","transition"]},"moodle-mod_attendance-groupfilter":{"requires":["base","node"]},"moodle-mod_customcert-rearrange":{"requires":["dd-delegate","dd-drag"]},"moodle-mod_hsuforum-io":{"requires":["base","io-base","io-form","io-upload-iframe","json-parse"]},"moodle-mod_hsuforum-livelog":{"requires":["widget"]},"moodle-mod_hsuforum-article":{"requires":["base","node","event","router","core_rating","querystring","moodle-mod_hsuforum-io","moodle-mod_hsuforum-livelog","moodle-core-formchangechecker"]},"moodle-mod_quiz-dragdrop":{"requires":["base","node","io","dom","dd","dd-scroll","moodle-core-dragdrop","moodle-core-notification","moodle-mod_quiz-quizbase","moodle-mod_quiz-util-base","moodle-mod_quiz-util-page","moodle-mod_quiz-util-slot","moodle-course-util"]},"moodle-mod_quiz-util":{"requires":["node","moodle-core-actionmenu"],"use":["moodle-mod_quiz-util-base"],"submodules":{"moodle-mod_quiz-util-base":{},"moodle-mod_quiz-util-slot":{"requires":["node","moodle-mod_quiz-util-base"]},"moodle-mod_quiz-util-page":{"requires":["node","moodle-mod_quiz-util-base"]}}},"moodle-mod_quiz-toolboxes":{"requires":["base","node","event","event-key","io","moodle-mod_quiz-quizbase","moodle-mod_quiz-util-slot","moodle-core-notification-ajaxexception"]},"moodle-mod_quiz-modform":{"requires":["base","node","event"]},"moodle-mod_quiz-quizbase":{"requires":["base","node"]},"moodle-mod_quiz-autosave":{"requires":["base","node","event","event-valuechange","node-event-delegate","io-form"]},"moodle-mod_quiz-questionchooser":{"requires":["moodle-core-chooserdialogue","moodle-mod_quiz-util","querystring-parse"]},"moodle-message_airnotifier-toolboxes":{"requires":["base","node","io"]},"moodle-block_gapps-gmail":{"requires":["base","event","handlebars"]},"moodle-block_gapps-popup":{"requires":["base","event"]},"moodle-filter_glossary-autolinker":{"requires":["base","node","io-base","json-parse","event-delegate","overlay","moodle-core-event","moodle-core-notification-alert","moodle-core-notification-exception","moodle-core-notification-ajaxexception"]},"moodle-filter_mathjaxloader-loader":{"requires":["moodle-core-event"]},"moodle-editor_atto-editor":{"requires":["node","transition","io","overlay","escape","event","event-simulate","event-custom","node-event-html5","node-event-simulate","yui-throttle","moodle-core-notification-dialogue","moodle-core-notification-confirm","moodle-editor_atto-rangy","handlebars","timers","querystring-stringify"]},"moodle-editor_atto-plugin":{"requires":["node","base","escape","event","event-outside","handlebars","event-custom","timers","moodle-editor_atto-menu"]},"moodle-editor_atto-menu":{"requires":["moodle-core-notification-dialogue","node","event","event-custom"]},"moodle-editor_atto-rangy":{"requires":[]},"moodle-format_grid-gridkeys":{"requires":["event-nav-keys"]},"moodle-report_eventlist-eventfilter":{"requires":["base","event","node","node-event-delegate","datatable","autocomplete","autocomplete-filters"]},"moodle-report_loglive-fetchlogs":{"requires":["base","event","node","io","node-event-delegate"]},"moodle-report_outcome-autocomplete":{"requires":["base","autocomplete","autocomplete-filters","autocomplete-highlighters"]},"moodle-report_outcome-resetoptions":{"requires":["base","moodle-core_outcome-simpleio"]},"moodle-gradereport_grader-gradereporttable":{"requires":["base","node","event","handlebars","overlay","event-hover"]},"moodle-gradereport_history-userselector":{"requires":["escape","event-delegate","event-key","handlebars","io-base","json-parse","moodle-core-notification-dialogue"]},"moodle-tool_capability-search":{"requires":["base","node"]},"moodle-tool_lp-dragdrop-reorder":{"requires":["moodle-core-dragdrop"]},"moodle-tool_monitor-dropdown":{"requires":["base","event","node"]},"moodle-assignfeedback_editpdf-editor":{"requires":["base","event","node","io","graphics","json","event-move","event-resize","transition","querystring-stringify-simple","moodle-core-notification-dialog","moodle-core-notification-alert","moodle-core-notification-warning","moodle-core-notification-exception","moodle-core-notification-ajaxexception"]},"moodle-atto_accessibilitychecker-button":{"requires":["color-base","moodle-editor_atto-plugin"]},"moodle-atto_accessibilityhelper-button":{"requires":["moodle-editor_atto-plugin"]},"moodle-atto_align-button":{"requires":["moodle-editor_atto-plugin"]},"moodle-atto_bold-button":{"requires":["moodle-editor_atto-plugin"]},"moodle-atto_bsgrid-button":{"requires":["moodle-editor_atto-plugin"]},"moodle-atto_charmap-button":{"requires":["moodle-editor_atto-plugin"]},"moodle-atto_chemistry-button":{"requires":["moodle-editor_atto-plugin","moodle-core-event","io","event-valuechange","tabview","array-extras"]},"moodle-atto_clear-button":{"requires":["moodle-editor_atto-plugin"]},"moodle-atto_collapse-button":{"requires":["moodle-editor_atto-plugin"]},"moodle-atto_count-button":{"requires":["io","json-parse","moodle-editor_atto-plugin"]},"moodle-atto_emojipicker-button":{"requires":["moodle-editor_atto-plugin"]},"moodle-atto_emoticon-button":{"requires":["moodle-editor_atto-plugin"]},"moodle-atto_equation-button":{"requires":["moodle-editor_atto-plugin","moodle-core-event","io","event-valuechange","tabview","array-extras"]},"moodle-atto_filedragdrop-button":{"requires":["moodle-editor_atto-plugin"]},"moodle-atto_fullscreen-button":{"requires":["event-resize","moodle-editor_atto-plugin"]},"moodle-atto_h5p-button":{"requires":["moodle-editor_atto-plugin"]},"moodle-atto_hr-button":{"requires":["moodle-editor_atto-plugin"]},"moodle-atto_html-beautify":{},"moodle-atto_html-codemirror":{"requires":["moodle-atto_html-codemirror-skin"]},"moodle-atto_html-button":{"requires":["promise","moodle-editor_atto-plugin","moodle-atto_html-beautify","moodle-atto_html-codemirror","event-valuechange"]},"moodle-atto_htmlplus-beautify":{},"moodle-atto_htmlplus-codemirror":{"requires":["moodle-atto_htmlplus-codemirror-skin"]},"moodle-atto_htmlplus-button":{"requires":["moodle-editor_atto-plugin","moodle-atto_htmlplus-beautify","moodle-atto_htmlplus-codemirror","event-valuechange"]},"moodle-atto_image-button":{"requires":["moodle-editor_atto-plugin"]},"moodle-atto_imagedragdrop-button":{"requires":["moodle-editor_atto-plugin"]},"moodle-atto_indent-button":{"requires":["moodle-editor_atto-plugin"]},"moodle-atto_italic-button":{"requires":["moodle-editor_atto-plugin"]},"moodle-atto_kalturamedia-button":{"requires":["moodle-editor_atto-plugin"]},"moodle-atto_link-button":{"requires":["moodle-editor_atto-plugin"]},"moodle-atto_managefiles-button":{"requires":["moodle-editor_atto-plugin"]},"moodle-atto_managefiles-usedfiles":{"requires":["node","escape"]},"moodle-atto_media-button":{"requires":["moodle-editor_atto-plugin","moodle-form-shortforms"]},"moodle-atto_mediasitebutton-button":{"requires":["moodle-editor_atto-plugin","get"]},"moodle-atto_noautolink-button":{"requires":["moodle-editor_atto-plugin"]},"moodle-atto_orderedlist-button":{"requires":["moodle-editor_atto-plugin"]},"moodle-atto_recordrtc-recording":{"requires":["moodle-atto_recordrtc-button"]},"moodle-atto_recordrtc-button":{"requires":["moodle-editor_atto-plugin","moodle-atto_recordrtc-recording"]},"moodle-atto_rtl-button":{"requires":["moodle-editor_atto-plugin"]},"moodle-atto_strike-button":{"requires":["moodle-editor_atto-plugin"]},"moodle-atto_subscript-button":{"requires":["moodle-editor_atto-plugin"]},"moodle-atto_superscript-button":{"requires":["moodle-editor_atto-plugin"]},"moodle-atto_table-button":{"requires":["moodle-editor_atto-plugin","moodle-editor_atto-menu","event","event-valuechange"]},"moodle-atto_teamsmeeting-button":{"requires":["moodle-editor_atto-plugin"]},"moodle-atto_title-button":{"requires":["moodle-editor_atto-plugin"]},"moodle-atto_underline-button":{"requires":["moodle-editor_atto-plugin"]},"moodle-atto_undo-button":{"requires":["moodle-editor_atto-plugin"]},"moodle-atto_unorderedlist-button":{"requires":["moodle-editor_atto-plugin"]}}},"gallery":{"name":"gallery","base":"https:\/\/ecampus.paris-saclay.fr\/lib\/yuilib\/gallery\/","combine":true,"comboBase":"https:\/\/ecampus.paris-saclay.fr\/theme\/yui_combo.php?","ext":false,"root":"gallery\/1668730816\/","patterns":{"gallery-":{"group":"gallery"}}}},"modules":{"core_filepicker":{"name":"core_filepicker","fullpath":"https:\/\/ecampus.paris-saclay.fr\/lib\/javascript.php\/1668730816\/repository\/filepicker.js","requires":["base","node","node-event-simulate","json","async-queue","io-base","io-upload-iframe","io-form","yui2-treeview","panel","cookie","datatable","datatable-sort","resize-plugin","dd-plugin","escape","moodle-core_filepicker","moodle-core-notification-dialogue"]},"core_comment":{"name":"core_comment","fullpath":"https:\/\/ecampus.paris-saclay.fr\/lib\/javascript.php\/1668730816\/comment\/comment.js","requires":["base","io-base","node","json","yui2-animation","overlay","escape"]},"mathjax":{"name":"mathjax","fullpath":"https:\/\/cdn.jsdelivr.net\/npm\/mathjax@2.7.9\/MathJax.js?delayStartupUntil=configured"}}};
M.yui.loader = {modules: {}};

//]]>
</script>

<meta name="robots" content="noindex" /><meta name="theme-color" content="#63003C">
<meta name="viewport" content="width=device-width, initial-scale=1.0">
<link href='//fonts.googleapis.com/css?family=Roboto:500,100,400,300' rel='stylesheet' type='text/css'>

</head>

<body  id="page-login-index" class="format-site  path-login dir-ltr lang-fr yui-skin-sam yui3-skin-sam ecampus-paris-saclay-fr pagelayout-login course-1 context-1 notloggedin device-type-default snap-resource-card theme-snap layout-login">

<div>
    <a class="sr-only sr-only-focusable" href="#maincontent">Passer au contenu principal</a>
</div><script src="https://ecampus.paris-saclay.fr/lib/javascript.php/1668730816/lib/babel-polyfill/polyfill.min.js"></script>
<script src="https://ecampus.paris-saclay.fr/lib/javascript.php/1668730816/lib/polyfills/polyfill.js"></script>
<script src="https://ecampus.paris-saclay.fr/theme/yui_combo.php?rollup/3.17.2/yui-moodlesimple-min.js"></script><script src="https://ecampus.paris-saclay.fr/theme/jquery.php/core/jquery-3.5.1.min.js"></script>
<script src="https://ecampus.paris-saclay.fr/lib/javascript.php/1668730816/lib/javascript-static.js"></script>
<script>
//<![CDATA[
document.body.className += ' jsenabled';
//]]>
</script>


<header id='mr-nav' class='clearfix moodle-has-zindex'>
<div id="snap-header">
<a aria-label="accueil" id="snap-home" title="eCampus" class="logo" href="https://ecampus.paris-saclay.fr"><span class="sr-only">eCampus</span></a>
<div class="pull-right js-only row">
    <span class="hidden-md-down"></span></div>
</div>
</header>

<!-- moodle js hooks -->
<div id="page"><div id="page-content">
<!--
////////////////////////// MAIN  ///////////////////////////////
-->
<main id="moodle-page" class="clearfix">
<div id="page-header" class="clearfix">
</div>

<section id="region-main">
<div role="main"><span id="maincontent"></span><div class="m-y-3 hidden-sm-down"></div>
<div class="row snap-login-row"  id="logins">
    <div class="snap-login snap-login-option snap-login-cell" id="base-login">
        <h2 class="snap-logo-sitename text-center">eCampus</h2>

            <div class="loginerrors">
                <a href="#" id="loginerrormessage" class="accesshide">Votre session est échue. Veuillez vous reconnecter.</a>
                <div class="alert alert-danger" role="alert">Votre session est échue. Veuillez vous reconnecter.</div>
            </div>

        <form action="https://ecampus.paris-saclay.fr/login/index.php" method="post" id="login" autocomplete="off" class="snap-custom-form">
            <hr id="login_hr_first" style="display: none;">
            <input type="hidden" name="logintoken" value="cw4IlcDslTnPMs3cO3kZGnu1WvSus8Hb">
            <input id="anchor" type="hidden" name="anchor" value="">
            <script>document.getElementById('anchor').value = location.hash;</script>

            <label for="username" class="sr-only">
                    Nom d'utilisateur
            </label>
            <input type="text" name="username" id="username"
                class="form-control"
                value=""
                placeholder="Nom d'utilisateur">
            <label for="password" class="sr-only">Mot de passe</label>
            <input type="password" name="password" id="password" value=""
                class="form-control"
                placeholder="Mot de passe"
                autocomplete="off">
            <br>
            <a class="small btn btn-link btn-block" href="https://ecampus.paris-saclay.fr/login/forgot_password.php">Vous avez oublié votre nom d'utilisateur et/ou votre mot de passe ?</a>
            <button type="submit" class="btn btn-primary btn-block" id="loginbtn">Connexion</button>
        </form>
            <div id="snap-alt-login">
                <hr id="snap_alt_login_hr_first">
                <h2>Connexion avec un compte établissement</h2>
                <div class="potentialidplist">
                    <div class="potentialidp">
                        <a class="btn btn-secondary btn-block" role="button" href="https://ecampus.paris-saclay.fr/auth/saml2/login.php?wants=https%3A%2F%2Fecampus.paris-saclay.fr%2Fcourse%2Fview.php%3Fid%3D84186&amp;idp=0f5dc3e67942aebcb4fe827ac93ece07&amp;passive=off" title="Ecole Normale Supérieure Paris-Saclay">
                                <img class="auth-icon" src="data://image/png;base64,iVBORw0KGgoAAAANSUhEUgAAABAAAAAQCAIAAACQkWg2AAABQklEQVR42s2SsUoDQRCGd/Zu7273kjv0LhqSoEUKsYpobeV72PgOdoKP4EP4ApYW2oiiIJhGtJCQwohRiMl5ueSy2VtHA1qIiEXAZWB3i2/+/x8GtNbkLwemD/SGqWdb+FKZMqjxO7B7fFEQPB7JRjdaKYbri6VEjvUPunmLwcFNY8HPx+koVWo+JwQzsXzbRrPfgXScwfbhKRAyy51OMhCM3XUjl7Gt1WXUVO8yXxj+fMeCk+ZDKBwC5L4XY+9UqkKOBy7v9JNq4BNNPxm80AXsndWbLxFQoFqvlYtXj0+U0IrnYqTN2lKmtcyySSBNNIrDfv3WtVmcyoA7tWJgM/O63cHRMYNGOEDHXgpmPIdNIKUJ7Bydh5yXPIFytbnQMo3LVrv1mpQ9MZTquT/YqFaw8Ucegp4hGUnOzH+1GlMH3gAuap4eYTb6mAAAAABJRU5ErkJggg==" onerror="this.style.display='none'"/>
                            Ecole Normale Supérieure Paris-Saclay
                        </a>
                    </div>
                    <div class="potentialidp">
                        <a class="btn btn-secondary btn-block" role="button" href="https://ecampus.paris-saclay.fr/auth/saml2/login.php?wants=https%3A%2F%2Fecampus.paris-saclay.fr%2Fcourse%2Fview.php%3Fid%3D84186&amp;idp=f607987e0e3724673e8a34118d96dae5&amp;passive=off" title="Télécom Paris">
                                <img class="auth-icon" src="data://image/png;base64,iVBORw0KGgoAAAANSUhEUgAAABAAAAAQCAIAAACQkWg2AAAACXBIWXMAAABIAAAASABGyWs+AAAACXZwQWcAAAAQAAAAEABcxq3DAAAClUlEQVQoz4XLXU9SYRwA8P/zclBAQJ04DUMXIlijCdnWXZlZF3Zh6ypqtfVyWZfd1mprq5u+Qptld7VydVWtGjNz6UxJRbQxjxxOAqLAgXM4z3mePoK/+x/aSG/M/ZyjlMJBmMVisRhNJpPxa3EXuA8MFShPvZqihFI7ODv9nQcG2AJKKAWAOmh6TQcEhBKEEMbY0A0qSZZlEYLNhkkpJYRUoAwAlFvW9as3PB63YRjFQlHTaoqiTFyeWF9L9fb1ybIcOR5Jp9ZzOTU6PMQ5pwDAOaeSNBAKffn0+cRwrPK1Eg6HmyTb6uqa3+9f+LVw687NYnHXbm9mjJH4lfiH6Y+GYXR3dwmAXr+/2d7c3t6eyymhcNg0zWgsmslkJl9M6oY+EBqgCOPEbMLn9RXyhUB///t30/md/PLv5UbD7PDKwWAw8T2hqurYhbFsNgsAFADs4JAkye1xb8tyoD/g6+kpl/cD/YG90h5GaGR0RKtWS6W90XOj3OJUCF4HjTG2mlw1TTO7nWWMMWYtLS5xi2OCKaWcc0mSqpXqs+dPaYvLNTZ+0elwCM65YSIbRRgD54hSbjJEMMLY0g3AuF6vu9takZFRtfkUooS0OFxno7WZFXO/InW1acm/rkiw8W+3Jitdl0YbalFwwQQjd8+My49f1lOKvpHTt1T54WtTqwlLrN9+YOv1F6a+7b6dzT56U1OU9L0nzacGsQCur+X2fyxVl9KkvaWxWSjP/3Ec7SPQ0uTroD1tredjtkiH8+QABiciBHOTNeoZs7RjKVXnsSOd98ebOrzaWgaBTXBh5PLCEp7TQ56RIQGGYAxpm/L+wgoimNod9t5DdVklmNoOe6vJTU90UMsqQmtgm+Qc7CvNLLoiwf/9YlMHLNeSiwAAACV0RVh0ZGF0ZTpjcmVhdGUAMjAxNS0wNy0yMFQxMDo0OTo0MiswMjowMMft3eUAAAAldEVYdGRhdGU6bW9kaWZ5ADIwMTUtMDctMjBUMTA6NDk6NDIrMDI6MDC2sGVZAAAAAElFTkSuQmCC" onerror="this.style.display='none'"/>
                            Télécom Paris
                        </a>
                    </div>
                    <div class="potentialidp">
                        <a class="btn btn-secondary btn-block" role="button" href="https://ecampus.paris-saclay.fr/auth/saml2/login.php?wants=https%3A%2F%2Fecampus.paris-saclay.fr%2Fcourse%2Fview.php%3Fid%3D84186&amp;idp=a937ff1f50145fee098f32dc3907c247&amp;passive=off" title="Université Paris-Saclay">
                                <img class="auth-icon" src="data://image/png;base64,iVBORw0KGgoAAAANSUhEUgAAABAAAAAQCAMAAAAoLQ9TAAAABGdBTUEAALGPC/xhBQAAACBjSFJNAAB6JgAAgIQAAPoAAACA6AAAdTAAAOpgAAA6mAAAF3CculE8AAAAjVBMVEViADxiADxiADxiADxiADx1KVKvgpebZH9kAD7m2uD///+eaIJrE0a3jqGwhJns4+d7Mlh1J1FkAD9wHUtoBUKPU3G7laeISGj9+/xqDUR9NlvIqrjPtcGGRGX18POldIycZ4H38vSCP2HDorK4kaSyiJzIq7nq4OXOtMC0i5/Nsr/h0dm3kKOQVHGOUW8B/FGpAAAABHRSTlNJ50vlOs83MQAAAAFiS0dECmjQ9FYAAAAHdElNRQflAgEHDjoV4fYtAAAAe0lEQVQY013PyxaCMAwE0BYHhQgUVFTeKqBWxf//PMsRS2sWSeaebMIYh1Gc2XkUvbrLlaeGBs8nWpsQEFFoAiIS8QzJBtjuoCGl/e/wC4djZAMy/AFsyAu/rAyI6yY/nS8ztJ1q/XUC9dztLqV8iOk5h+P5GlS9x7xwPkAACI+hX0UdAAAAJXRFWHRkYXRlOmNyZWF0ZQAyMDIxLTAyLTAxVDA3OjE0OjU4KzAwOjAwD3GsswAAACV0RVh0ZGF0ZTptb2RpZnkAMjAyMS0wMi0wMVQwNzoxNDo1OCswMDowMH4sFA8AAAAASUVORK5CYII=" onerror="this.style.display='none'"/>
                            Université Paris-Saclay
                        </a>
                    </div>
                    <div class="potentialidp">
                        <a class="btn btn-secondary btn-block" role="button" href="https://ecampus.paris-saclay.fr/auth/saml2/login.php?wants=https%3A%2F%2Fecampus.paris-saclay.fr%2Fcourse%2Fview.php%3Fid%3D84186&amp;idp=3df4dd6f9dab3e24b13e8f31ba9782e6&amp;passive=off" title="AgroParisTech Institut des sciences et des industries du vivant et de l&#039;environnement">
                                <img class="auth-icon" src="data://image/png;base64,iVBORw0KGgoAAAANSUhEUgAAABAAAAAQCAIAAACQkWg2AAAACXBIWXMAAABIAAAASABGyWs+AAAACXZwQWcAAAAQAAAAEABcxq3DAAAA5klEQVQoz4VSoRbCMAwMPERl5WTkZCVyEomcnOQTkMhJPgGJnEQikZWVk5WRJxEdZUvH40Rf37WXXK7dAKAlRpH62tMacOm3JcvWHuu65BOpBT5GIjrUrhQkUgva+y0Vs8b87zCEMIoMIVhjlKtcYiF4BJ/X1u1LPysd8tows7XKz0IwhCAAEQmQNJ2bqjbMeaSv4O5fylt2dZjNs8s7ARrmvE8P0jA/x/E4S/kreHSnMvvW7QWYDzMJbt5HifOrla0658on3wAQoOov6sAaE8+anIZOmSjkrFYEKZMSq/zPDvT5iApvmtxo9RyUVFQAAAAldEVYdGRhdGU6Y3JlYXRlADIwMTUtMDctMjBUMTA6NDg6MTUrMDI6MDClaIYxAAAAJXRFWHRkYXRlOm1vZGlmeQAyMDE1LTA3LTIwVDEwOjQ4OjE1KzAyOjAw1DU+jQAAAABJRU5ErkJggg==" onerror="this.style.display='none'"/>
                            AgroParisTech Institut des sciences et des industries du vivant et de l&#039;environnement
                        </a>
                    </div>
                    <div class="potentialidp">
                        <a class="btn btn-secondary btn-block" role="button" href="https://ecampus.paris-saclay.fr/auth/saml2/login.php?wants=https%3A%2F%2Fecampus.paris-saclay.fr%2Fcourse%2Fview.php%3Fid%3D84186&amp;idp=12c4bbe861accb8dc75230bceee08aa3&amp;passive=off" title="Université de Versailles St. Quentin en Yvelines">
                                <img class="auth-icon" src="data://image/png;base64,iVBORw0KGgoAAAANSUhEUgAAABAAAAAQCAMAAAAoLQ9TAAAABGdBTUEAALGPC/xhBQAAACBjSFJNAAB6JgAAgIQAAPoAAACA6AAAdTAAAOpgAAA6mAAAF3CculE8AAACylBMVEX2+vthwdYAsNIvuNUmttVjwttHudRevtZgvtRRt81uwNBKs8JVs8A6qbN6v8b3+/zV7e8AnMsAtewAtesAuukWu+gAtuUyuuI2ut4ctNc9ttE+s8surL82q7YAkZzZ7e/m8/QAq9IAueYAt+Ynv+cVveYwveU8vuJDvt5FvNxFutRXvNFAtMdNtL8ipq/o8/TU7O8As84As98Uv+QAvuI3weM+weI7v99GwN1Ywt1bwddUvdBhv89Bs79OsrrY7e/e7/MApcQAu9wAutsYwN4+w99IxN5Kw91YxN1ixdtkxdhgwtNWvcxlv8oTp7Hh8PLZ7vEAssYAtdMAvtgYwNk+w9tayN1gyd1syt1xy9xrx9hoxdRrxNFavchVtb/e7/He8PIArL4Auc8AvtQxxNZUydprzd190d6G0t+D0d2Aztt7y9hyx9NpxM5Js73k8fPa7/EAsL4AucoAwtFDyNZt0NuL1+Ch3eSm3uWf2uKV1d6J0Np9zdZvxtBYucPg8PHc7/IAsbwAu8gExc9cz9eR2+C+6Ova8PLe8vPL6u6w4OWa196J0Nh7y9NgvMbi8fLc8PEAr7kAvcY6y9F719vD6+z4/Pz////5/PzU7vCt3uOY1t2BztVhvcfi8fPe8PMAscAAvMtJzNmZ3+nx/P/4/f+75fCW1uJ5y9pbvMzj8vTn8uxqs4x0uY2EvpOYx5q306a91qi81ai306Wcx5qKv5N/u493t4/r8+7k7t9poiV8sxV7tBh3sxVysRBxsRBvsRB2sxR7tBZ9tRB1ribn7+Lm7+NTlyNdnxRsqyB0sSV6tSd8uCR9uSR/uiR/uiJ9uR14tgZurCbq8Ob8/fu30KqBrmRmoT9bnCJeoBNnqBVxsRx0sxtwsRBtrw9xrx58tD2UwGbD2bD9/fzy9vHX5c+30KWXvHt9r1V+sFKbwHi606PZ587y9vBPykJQAAAAAWJLR0SX5m4brwAAAAd0SU1FB+UCAQcOOhXh9i0AAAEbSURBVBjTARAB7/4AAAECAwQFBgcICQoLDA0ODwAQERITFBUWFxgZGhscHR4fACAhIiMkJSYnKCkqKywtLi8AMDEyMzQ1Njc4OTo7PD0+PwBAQUJDREVGR0hJSktMTU5PAFBRUlNUVVZXWFlaW1xdXl8AYGFiY2RlZmdoaWprbG1ubwBwcXJzdHV2d3h5ent8fX5/AICBgoOEhYaHiImKi4yNjo8AkJGSk5SVlpeXmJmam5ydngCfoKGio6SXl5eXpaanqKmqAKusra6vsLGysrGztLW2t7gAubq7vL2+v8DAv77BwsPExQDGx8jJysvMzc7Ozs/Q0dLTANTV1tfY2drb3N3e3+Dh4uMAl5eX5OXm5+jp6uvs7ZeXl2vXeeVHgkxCAAAAJXRFWHRkYXRlOmNyZWF0ZQAyMDIxLTAyLTAxVDA3OjE0OjU4KzAwOjAwD3GsswAAACV0RVh0ZGF0ZTptb2RpZnkAMjAyMS0wMi0wMVQwNzoxNDo1OCswMDowMH4sFA8AAAAZdEVYdFNvZnR3YXJlAEFkb2JlIEltYWdlUmVhZHlxyWU8AAAAAElFTkSuQmCC" onerror="this.style.display='none'"/>
                            Université de Versailles St. Quentin en Yvelines
                        </a>
                    </div>
                    <div class="potentialidp">
                        <a class="btn btn-secondary btn-block" role="button" href="https://ecampus.paris-saclay.fr/auth/saml2/login.php?wants=https%3A%2F%2Fecampus.paris-saclay.fr%2Fcourse%2Fview.php%3Fid%3D84186&amp;idp=f96d8fe7d00a51089948bde71d6f9cc2&amp;passive=off" title="ENSTA Paris - Ecole Nationale Supérieure de Techniques Avancées">
                                <img class="auth-icon" src="data://image/png;base64,iVBORw0KGgoAAAANSUhEUgAAABAAAAAQCAIAAACQkWg2AAAACXBIWXMAAC4jAAAuIwF4pT92AAACF0lEQVR42mN88eIFA9Hg379/jP///4dwzl683dCzGFk6I97n/7//PDwcKgpSMlKiDAwMf//+ZYFL7zp49tjpa8zMTPaWes52hi9//4svn/r/61eIrKGO8sLJpRJigkxwDUdOXgnxsT23e+rqOTW3xSRnv/vDEe7PLCsFkT1/5e61W48YGBigGr59/6kkLzWzJx9itYGEIOufP/8+fPr35SsDAwMvD1dHTbKrvREDAwPUSSfP3fjw6cuv33/YWFkYGBhCNaTL46o4OdjsDNU9HE2CvG34eLkgKlng7tm255SBU4adhZ68jJi6quy5vdPERQQZGdEDChpKN+8++fPnj6SYMCcn+9ev3wUFeO8/eiEqwv/p87cvX78ry0t++vJdRIgPGkqfPn/rn7E2JtTl0PHLf/7+Y2ZmEhXmf/vuk4yUqKgw/537z75+/TF94ZYZXXlMTIxMDAwMF67cNdRTERXm5+LksDLV+vrtBzcXp6gwPzMz07MXb23NdU6cu2FroXPx6j2Ek4gEUCd9//7z05fvBFXz8XKxsTKzMDAwMLMwf/7y7dK1ewY6Kopy4oyYQYNpQ3nzHBEh/hev3kcEONy8++T67UdGeiofPn69fe+ppLjQnz9/WVlZpCWEdTUVGP/////r958jJ69s23vK3EjDx9WcnY2NkZHh/38GCMnAwPD//39GRgYGRsb///4x/vv3jyRPAwDbw+WSId6PpwAAAABJRU5ErkJggg==" onerror="this.style.display='none'"/>
                            ENSTA Paris - Ecole Nationale Supérieure de Techniques Avancées
                        </a>
                    </div>
                    <div class="potentialidp">
                        <a class="btn btn-secondary btn-block" role="button" href="https://ecampus.paris-saclay.fr/auth/saml2/login.php?wants=https%3A%2F%2Fecampus.paris-saclay.fr%2Fcourse%2Fview.php%3Fid%3D84186&amp;idp=efaed30258826718ae28a3a5eec46009&amp;passive=off" title="Université d&#039;Evry">
                                <img class="auth-icon" src="data://image/png;base64,iVBORw0KGgoAAAANSUhEUgAAABAAAAAQCAMAAAAoLQ9TAAAABGdBTUEAALGPC/xhBQAAACBjSFJNAAB6JgAAgIQAAPoAAACA6AAAdTAAAOpgAAA6mAAAF3CculE8AAAB6VBMVEX//////fz++vX86tX//v7///797t761q7//vz9/f36/P/++/jzqlf97Nn51Kn85cz//v3l7fPk7fXxihzzplH5zp7Y5e7P3edQjb69xcb/u2z78+r9/f6Vt9JWj7rftoT/7tn8///9/Pr+/Pv+/f3+/v7+///9/fz9/v79+vf//Pn9+/jm9P+/pH/j0rz/6dP+2rX83r351LH82LT6z6b+17D+2rP/27T7z6X4zKH9ypn/5cTtpVRlkbLb18+6v8Db3t/u5t3k5uT059fc1s/Nz8/Jx8Pn4tv769vb0cbyt3X/1Ju+wrwZZqVtn8ZHhLOVt9OCqsuRuNaArM48fbCVu9h3pcj8/f5Qirn++fP0sm395svw3cAsY5SbutNklbq3zt51nb9IgKzQ3ulik7np7vRnkrn+//5Qh7LzsGX/0ZvW2NIxdatxo8pxosj6/f680+ajw9zl7vVjl79dlcBtncE7dqj448r/q0mWrrzL0tXYybjg1cn/59D66NP87Nf56drx6uL/9+3669p7or9fk7zZzLmnpJf//fH+8uL+8+X97+P87uH76dn97t/9+PP/8uLV4ens8/j3+Pi62PHz5M360qP89+/+/v/Y5O7w9Pj99/D74ML86dTs8vf1+Pv+9+798OL/+/jMctDHAAAAAWJLR0QAiAUdSAAAAAd0SU1FB+UCAQcOOhXh9i0AAAD1SURBVBjTY2BgYGBkYGJmYGFAAFYGNnYGDhiPk4ubh5ePn0EAJiAoxCAsIgrVwQrEYuISklLSDCwsrKxALisLg4ysnLyCopKyiqqauoamljYDg46unr6BoZGxiamZuYWlFYOatY2tnb2Do5Ozi6ubu4cnA4OXt4+vn39AYFBwSGhYeARDZFR0TGxcfEJiUnJKalp6BgNDZlZ2Tm5efkFhUTFDSWkZA0N5RWVVdU1tXX1DY1NzSysDJ0Nbe0dnV3dPb19T/4SJkxgYJk+ZOm062I1qQDyDQXXmLIbZc+ZqMQiwsDKwaMxgmDefQYWVYcHCRVC/AQBnczXu4cDfIAAAACV0RVh0ZGF0ZTpjcmVhdGUAMjAyMS0wMi0wMVQwNzoxNDo1OCswMDowMA9xrLMAAAAldEVYdGRhdGU6bW9kaWZ5ADIwMjEtMDItMDFUMDc6MTQ6NTgrMDA6MDB+LBQPAAAAAElFTkSuQmCC" onerror="this.style.display='none'"/>
                            Université d&#039;Evry
                        </a>
                    </div>
                    <div class="potentialidp">
                        <a class="btn btn-secondary btn-block" role="button" href="https://ecampus.paris-saclay.fr/auth/saml2/login.php?wants=https%3A%2F%2Fecampus.paris-saclay.fr%2Fcourse%2Fview.php%3Fid%3D84186&amp;idp=15c2068c3f37855aa7c7b63ef8174257&amp;passive=off" title="Institut Optique Graduate School">
                                <img class="auth-icon" src="data://image/png;base64,iVBORw0KGgoAAAANSUhEUgAAABAAAAAQCAIAAACQkWg2AAAACXBIWXMAAABIAAAASABGyWs+AAAACXZwQWcAAAAQAAAAEABcxq3DAAABc0lEQVQoz41RvS9DcRQ99/WnLa1qWh9FiRiYSCwSCbPZIGwmsZr8K0Ji7mK0WHw0JUFEDBIEHTqIkpbW63tef+9eQ5+PoDjJ3c65595zSETwNz5Yxj/YEMH71n8JmOWxZNUViEBq84bNzFmxZAJSz0G8AUzbWUntas39yVaAvHe+gIVZWGu9fXAxu7i6sXXKHlxml5jZZanYTijoZxHTcrK5+/TRZeb4aqAvsTQ/GWkO4lOQnmDn8PLs6vYml/eREQ4FRof6xkb6Yy2h7+cSM1cs5zx75zMMgyBAVbuuZkfrlxddMu37Yrn4ZFbs6vz0RHciqgA8W87+yTURAbBsxyBDNfiCfhVuCsQijcODya72lo54JOBXnoNTdfOF8s8VEHm5Cdpi4UCDUgAeHs3lVBpUi61u2Qsz472dMWLmqsuFYhl/KBCPhpTyKYE8FJ7X1vd+Idd6nJsa60lEidmtHQsQ1RHJe/UEg4i8ziG/GgAACV4BLLDekh6QMW0AAAAldEVYdGRhdGU6Y3JlYXRlADIwMTUtMDctMjBUMTA6NDk6MTQrMDI6MDDs3ea7AAAAJXRFWHRkYXRlOm1vZGlmeQAyMDE1LTA3LTIwVDEwOjQ5OjE0KzAyOjAwnYBeBwAAAABJRU5ErkJggg==" onerror="this.style.display='none'"/>
                            Institut Optique Graduate School
                        </a>
                    </div>
                    <div class="potentialidp">
                        <a class="btn btn-secondary btn-block" role="button" href="https://ecampus.paris-saclay.fr/mahara/auth/xmlrpc/jump.php?hostwwwroot=https%3A%2F%2Fecampus.paris-saclay.fr&amp;wantsurl=%2Fcourse%2Fview.php%3Fid%3D84186&amp;remoteurl=1" title="ePortfolio">
                                <img class="auth-icon" src="https://ecampus.paris-saclay.fr/theme/image.php/snap/core/1668730816/i/mahara_host" onerror="this.style.display='none'"/>
                            ePortfolio
                        </a>
                    </div>
                </div>
            </div>

            <hr>
            <div class="snap-login snap-login-option snap-login-box" id="snap-guest-login">
                <h2>Des cours peuvent être ouverts aux visiteurs anonymes</h2>
                <form action="https://ecampus.paris-saclay.fr/login/index.php" method="post" id="guestlogin">
                    <input type="hidden" name="username" value="guest" />
                    <input type="hidden" name="password" value="guest" />
                    <button class="btn btn-secondary btn-block" id="guestloginbtn" type="submit">Connexion anonyme</button>
                </form>
            </div>

    </div>
</div>

    <div class="js-only snap-login snap-login-option snap-login-box" id="snap-login-help">
        <div class="snap-login-instructions">
            <a class="btn btn-primary btn-block iconhelp" href="#" data-toggle="modal" data-target="#login-help-modal">
                Première connexion pour les utilisateurs Télécom Paris / ENSTA <img class="icon " alt="Première connexion pour les utilisateurs Télécom Paris / ENSTA" title="Première connexion pour les utilisateurs Télécom Paris / ENSTA" src="https://ecampus.paris-saclay.fr/theme/image.php/snap/theme_snap/1668730816/help" />
            </a>
            <!-- Modal -->
            <div class="modal fade" id="login-help-modal" tabindex="-1" role="dialog" aria-labelledby="login-help-modal-title" aria-hidden="true">
              <div class="modal-dialog" role="document">
                <div class="modal-content">
                  <div class="modal-header">
                    <button type="button" class="close" data-dismiss="modal" aria-label="Fermer">
                      <span aria-hidden="true">&times;</span>
                    </button>
                    <h5 class="modal-title" id="login-help-modal-title">Première connexion pour les utilisateurs Télécom Paris / ENSTA</h5>
                  </div>
                  <div class="modal-body summary">
                      <br>
                      <div><p align="left">Bienvenue.<br /><br />Vous ne vous êtes jamais connecté-e sur eCampus ou vous avez déjà un compte local eCampus ?<br />Dans ces deux cas, vous allez devoir utiliser votre compte établissement pour accéder à eCampus.<br />Voici les étapes pour obtenir un accès sur eCampus via votre compte établissement :</p><ol><li>Activez votre <a href="https://identiteutilisateur.fr/" target="_blank" rel="noreferrer noopener">accès à eCampus via votre compte établissement en cliquant ici (création d'un compte dit "mutualisé")</a>,</li><li>Attendez maximum 12 heures pour que votre compte soit effectivement opérationnel (mises à jour à midi et minuit),</li><li>A partir du lendemain, cliquez sur "Compte établissement" de cette page et choisissez votre établissement pour vous identifier.</li></ol><div><div><a href="https://multiweb2.univ-evry.fr/SupportEcampus/">Support utilisateurs : je rencontre des difficultés pour me connecter</a></div></div></div><p><span style="font-size:1rem;"></span></p>
                  </div>
                </div>
              </div>
            </div>
        </div>
    </div>

<span class="snap-log-in-more snap-log-in-loading-spinner"></span></div></section>
</main>
</div>
</div>
</div>
<!-- close moodle js hooks -->


<footer id="moodle-footer" role="contentinfo" class="clearfix">
<div id="snap-site-footer"><div id="snap-footer-content"><div class="container-fluid">
	<div class="row">
	
		<div class="col-lg-4 col-md-6 col-12 pb-5">
			<h4 class="text-center">eCampus</h4>
			
<!--
			<a href="/mod/page/view.php?id=497402">
				<i class="fa fa-chevron-right pr-2"></i>Nos Missions
			</a>
			<br />
			<br />
-->
			
			<div>
				<a href="#" data-toggle="collapse" data-target="#footer_ups" aria-expanded="false" aria-controls="footer_ups">
					<span><i class="fa fa-chevron-right pr-2"></i>Université Paris-Saclay</span>
				</a>
				<a href="#" class="text-decoration-none" data-toggle="collapse" data-target="#footer_ups" aria-expanded="false" aria-controls="footer_ups">
					<span class="badge badge-primary badge-pill">7 <i class="fa fa-caret-down"></i><i class="fa fa-caret-up"></i></span>
				</a>
			</div>
			
			<div id="footer_ups" class="collapse pl-3" aria-labelledby="Établissements de l'Université Paris-Saclay">
				<ul class="list-unstyled">
					<li><i class="fa fa-angle-right pr-2"></i> <a href="https://www.universite-paris-saclay.fr" alt="Site internet de l'Université Paris-Saclay" target="_blank">UPSaclay</a></li>	
					<li><i class="fa fa-angle-right pr-2"></i> <a href="https://www.univ-evry.fr" alt="Site internet de l'Université d'Évry Val d’Essonne" target="_blank">UEVE</a></li>
					<li><i class="fa fa-angle-right pr-2"></i> <a href="https://www.uvsq.fr" alt="Site internet de l'université de Versailles-Saint-Quentin-en-Yvelines" target="_blank">UVSQ</a></li>
					<li><i class="fa fa-angle-right pr-2"></i> <a href="https://www.centralesupelec.fr" alt="Site internet de Centrale Supélec" target="_blank">Centrale Supélec</a></li>
					<li><i class="fa fa-angle-right pr-2"></i> <a href="https://ens-paris-saclay.fr" alt="Site internet de l'École Normale Supérieure" target="_blank">École Normale Supérieure</a></li>
					<li><i class="fa fa-angle-right pr-2"></i> <a href="https://www.institutoptique.fr" alt="Site internet de l'Institut d'Optique Graduate School" target="_blank">Institut d'Optique</a></li>
					<li><i class="fa fa-angle-right pr-2"></i> <a href="http://www2.agroparistech.fr" alt="Site internet de AgroParisTech" target="_blank">AgroParisTech</a></li>
				</ul>
			</div>
			
			<div>
				<a href="#" data-toggle="collapse" data-target="#footer_ipp" aria-expanded="false" aria-controls="footer_ipp">
					<span><i class="fa fa-chevron-right pr-2"></i>Institut Polytechnique de Paris</span>
				</a>
				<a href="#" class="text-decoration-none" data-toggle="collapse" data-target="#footer_ipp" aria-expanded="false" aria-controls="footer_ipp">
					<span class="badge badge-primary badge-pill">3 <i class="footer_ipp_glyph fa fa-caret-down"></i><i class="fa fa-caret-up"></i></span>
				</a>
			</div>
			
			<div id="footer_ipp" class="collapse pl-3" aria-labelledby="Établissements de l'Institut Polytechnique de Paris">
				<ul class="list-unstyled">
					<li><i class="fa fa-angle-right pr-2"></i> <a href="https://www.ensta-paris.fr" alt="Site internet de ENSTA Paris" target="_blank">ENSTA</a></li>	
					<li><i class="fa fa-angle-right pr-2"></i> <a href="https://www.telecom-paris.fr" alt="Site internet de Télécom Paris" target="_blank">Télécom Paris</a></li>
				</ul>
			</div>
			
			<br>
			<i class="fa fa-chevron-right pr-2"></i><a href="https://www.universite-paris-saclay.fr/collaborations/international/loffre-de-lalliance-eugloh-pour-les-etudiants" target="_blank">Université européenne EUGLOH</a>
			
		</div>
		
		
		<div class="col-lg-4 col-md-6 col-12 pb-4">
			
			
				<h4 class="text-center">Assistance</h4>
				<ul class="list-unstyled">
					<li><i class="fa fa-chevron-right pr-2"></i><a href="https://multiweb2.univ-evry.fr/SupportEcampus/">Problèmes de connexion</a></li>	
					<li>&nbsp;</li>	
					<!--
					<li><i class="fa fa-chevron-right pr-2"></i><a href="#">FAQ & Aide</a></li>	
					-->
					<li><i class="fa fa-chevron-right pr-2"></i><a href="https://www.openlms.net/open-lms-mobile-app/?utm_source=9rgh0ncHTl1wJMQhZbEpm5EfZrdmgA1Dmoodle20gm.mrooms.net&amp;utm_campaign=mobilelink_admin" target="_blank">Obtenir l'app mobile</a></li>
				</ul>
			
			
		</div>
		
		<div class="col-lg-4 col-md-12 col-12 pb-4">
			
				<h4 class="text-center">Informations légales</h4>
				<ul class="list-unstyled">
					<li><i class="fa fa-chevron-right pr-2"></i><a href="https://www.universite-paris-saclay.fr/vie-de-campus/handicap/ressources-et-outils/accessibilite-numerique" target="_blank">Accessibilité numérique</a></li>
					<li><i class="fa fa-chevron-right pr-2"></i><a href="/admin/tool/policy/view.php?versionid=1">Politique de confidentialité</a></li>	
<!--
					<li><i class="fa fa-chevron-right pr-2"></i><a href="/mod/page/view.php?id=497404">Cr&eacute;dits</a></li>	
					<li><i class="fa fa-chevron-right pr-2"></i><a href="/admin/tool/dataprivacy/summary.php">Résumé de rétention des données</a></li>	
					<li>&nbsp;</li><li>
-->
				</ul>
			
		</div>
		
	</div>
</div></div></div>

<div class="row">
    <div id="mrooms-footer" class="helplink col-sm-6">
        <small>
            Conçu avec <a href="https://fr.openlms.net/" target="_blank" rel="noopener">Open LMS</a>,
une technologie <a href="https://moodle.com/" target="_blank" rel="noopener">Moodle</a>.<br>
Copyright &#169; 2022 Open LMS, tous droits réservés.        </small>
    </div>
    <div class="langmenu col-sm-6 text-right">
        <div class="langmenu d-inline-block">
    <form method="get" action="https://ecampus.paris-saclay.fr/login/index.php" class="form-inline" id="single_select_f637c900a66a8c2">
            <label for="single_select637c900a66a8c3">
                <span class="accesshide " >Langue</span>
            </label>
        <select  id="single_select637c900a66a8c3" class="custom-select langmenu" name="lang"
                 >
                    <option  value="en" >English ‎(en)‎</option>
                    <option  value="es" >Español - Internacional ‎(es)‎</option>
                    <option  value="fr" selected>Français ‎(fr)‎</option>
        </select>
        <noscript>
            <input type="submit" class="btn btn-secondary ml-1" value="Valider">
        </noscript>
    </form>
</div>    </div>
</div>
<div id="goto-top-link">
        <a class="btn btn-light" role="button" href="javascript:void(0)">
            <i class="icon fa fa-arrow-up fa-fw" title="Vers le haut de page" aria-label="Vers le haut de page"></i>
        </a>
    </div><div id="page-footer">
<br/>
<div class="policiesfooter"><a href="https://ecampus.paris-saclay.fr/admin/tool/policy/viewall.php?returnurl=https%3A%2F%2Fecampus.paris-saclay.fr%2Flogin%2Findex.php">Politiques</a></div></div>
</footer>

<script>
    $(document).ready(function() {
        $("a[title='Home - Mahara']").text("ePortfolio");
        $("<a id='snap-pm-eportfolio' href='/auth/mnet/jump.php?hostid=6'>ePortfolio</a>").insertAfter("a#snap-pm-grades");
    });
</script>

<script>
var form= document.getElementsByClassName("snap-custom-form")[0];
var altlogin= document.getElementById("snap-alt-login");
var help = document.getElementById("snap-login-help");
var baselogin=document.getElementById("base-login");


help.after(baselogin);
altlogin.after(form);
</script><script>
//<![CDATA[
var require = {
    baseUrl : 'https://ecampus.paris-saclay.fr/lib/requirejs.php/1668730816/',
    // We only support AMD modules with an explicit define() statement.
    enforceDefine: true,
    skipDataMain: true,
    waitSeconds : 0,

    paths: {
        jquery: 'https://ecampus.paris-saclay.fr/lib/javascript.php/1668730816/lib/jquery/jquery-3.5.1.min',
        jqueryui: 'https://ecampus.paris-saclay.fr/lib/javascript.php/1668730816/lib/jquery/ui-1.12.1/jquery-ui.min',
        jqueryprivate: 'https://ecampus.paris-saclay.fr/lib/javascript.php/1668730816/lib/requirejs/jquery-private'
    },

    // Custom jquery config map.
    map: {
      // '*' means all modules will get 'jqueryprivate'
      // for their 'jquery' dependency.
      '*': { jquery: 'jqueryprivate' },
      // Stub module for 'process'. This is a workaround for a bug in MathJax (see MDL-60458).
      '*': { process: 'core/first' },

      // 'jquery-private' wants the real jQuery module
      // though. If this line was not here, there would
      // be an unresolvable cyclic dependency.
      jqueryprivate: { jquery: 'jquery' }
    }
};

//]]>
</script>
<script src="https://ecampus.paris-saclay.fr/lib/javascript.php/1668730816/lib/requirejs/require.min.js"></script>
<script>
//<![CDATA[
M.util.js_pending("core/first");
require(['core/first'], function() {
require(['core/prefetch'])
;
require(["media_videojs/loader"], function(loader) {
    loader.setUp('fr');
});;
require(['theme_boost/loader']);;
M.util.js_pending('theme_snap/snap'); require(['theme_snap/snap'], function(amd) {amd.snapInit({"id":"1","shortname":"eCampus","contextid":1,"categoryid":false,"ajaxurl":"\/course\/rest.php","unavailablesections":[],"unavailablemods":[],"enablecompletion":false,"format":"site","partialrender":true,"toctype":"list","loadPageInCourse":false}, false, 524288000, false, false, 0, false, false, {"primary":"#82009e !default;","success":"#3d5c1f;","warning":"#b55600;","danger":"#990f3d;","info":"#02567e;"}, {"gradepercentage":2,"gradepercentagereal":21,"gradepercentageletter":23,"gradereal":1,"graderealpercentage":12,"graderealletter":13}); M.util.js_complete('theme_snap/snap');});;
M.util.js_pending('theme_snap/accessibility'); require(['theme_snap/accessibility'], function(amd) {amd.snapAxInit(true, true, true, false); M.util.js_complete('theme_snap/accessibility');});;
M.util.js_pending('theme_snap/login_render-lazy'); require(['theme_snap/login_render-lazy'], function(amd) {amd.loginRender("0", "1"); M.util.js_complete('theme_snap/login_render-lazy');});;
M.util.js_pending('report_allylti/main'); require(['report_allylti/main'], function(amd) {amd.init(); M.util.js_complete('report_allylti/main');});;


require(['jquery', 'tool_policy/jquery-eu-cookie-law-popup', 'tool_policy/policyactions'], function($, Popup, ActionsMod) {
        // Initialise the guest popup.
        $(document).ready(function() {
            // Only show message if there is some policy related to guests.
                // Get localised messages.
                var textmessage = "Si vous continuez à consulter ce site web, vous acceptez nos politiques :" +
                   "<ul>" +
                   "<li>" +
                   "<a href=\"https://ecampus.paris-saclay.fr/admin/tool/policy/view.php?versionid=1&amp;returnurl=https%3A%2F%2Fecampus.paris-saclay.fr%2Flogin%2Findex.php\" " +
                   "   data-action=\"view-guest\" data-versionid=\"1\" data-behalfid=\"1\" >" +
                   "Politique de confidentialité" +
                   "</a>" +
                   "</li>" +
                   "" +
                   "</ul>";
                var continuemessage = "Continuer";

                // Initialize popup.
                $(document.body).addClass('eupopup');
                if ($(".eupopup").length > 0) {
                    $(document).euCookieLawPopup().init({
                        popupPosition: 'bottom',
                        popupTitle: '',
                        popupText: textmessage,
                        buttonContinueTitle: continuemessage,
                        buttonLearnmoreTitle: '',
                        compactStyle: true,
                    });
                }

            // Initialise the JS for the modal window which displays the policy versions.
            ActionsMod.init('[data-action="view-guest"]');
        });
});

;

require(['jquery', 'core/custom_interaction_events'], function($, CustomEvents) {
    CustomEvents.define('#single_select637c900a66a8c3', [CustomEvents.events.accessibleChange]);
    $('#single_select637c900a66a8c3').on(CustomEvents.events.accessibleChange, function() {
        var ignore = $(this).find(':selected').attr('data-ignore');
        if (typeof ignore === typeof undefined) {
            $('#single_select_f637c900a66a8c2').submit();
        }
    });
});
;

require(['theme_boost/loader']);
;

    require(['jquery', 'core/yui'], function($, Y) {
        $(function() {
            M.util.focus_login_error(Y);
        });
    });



;
M.util.js_pending('theme_snap/wcloader'); require(['theme_snap/wcloader'], function(amd) {amd.init("{\"theme_snap\\\/snapce\":[\"https:\\\/\\\/ecampus.paris-saclay.fr\\\/pluginfile.php\\\/1\\\/theme_snap\\\/vendorjs\\\/snap-custom-elements\\\/snap-ce\"]}"); M.util.js_complete('theme_snap/wcloader');});;
M.util.js_pending('core/notification'); require(['core/notification'], function(amd) {amd.init(1, []); M.util.js_complete('core/notification');});;
M.util.js_pending('core/log'); require(['core/log'], function(amd) {amd.setConfig({"level":"warn"}); M.util.js_complete('core/log');});;
M.util.js_pending('core/page_global'); require(['core/page_global'], function(amd) {amd.init(); M.util.js_complete('core/page_global');});
    M.util.js_complete("core/first");
});
//]]>
</script>
<script>
//<![CDATA[
M.str = {"moodle":{"lastmodified":"Modifi\u00e9 le","name":"Nom","error":"Erreur","info":"Information","yes":"Oui","no":"Non","ok":"OK","cancel":"Annuler","unknownerror":"Erreur inconnue","closebuttontitle":"Fermer","modhide":"Cacher","modshow":"Afficher","hiddenoncoursepage":"Disponible, mais pas affich\u00e9 sur la page de cours","showoncoursepage":"Afficher sur la page de cours","switchrolereturn":"Retour \u00e0 mon r\u00f4le normal","confirm":"Confirmer","areyousure":"Voulez-vous vraiment continuer\u00a0?","file":"Fichier","url":"URL","collapseall":"Tout replier","expandall":"Tout d\u00e9plier"},"repository":{"type":"Type","size":"Taille","invalidjson":"Cha\u00eene JSON non valide","nofilesattached":"Aucun fichier joint","filepicker":"S\u00e9lecteur de fichiers","logout":"D\u00e9connexion","nofilesavailable":"Aucun fichier disponible","norepositoriesavailable":"D\u00e9sol\u00e9, aucun de vos d\u00e9p\u00f4ts actuels ne peut retourner de fichiers dans le format requis.","fileexistsdialogheader":"Le fichier existe","fileexistsdialog_editor":"Un fichier de ce nom a d\u00e9j\u00e0 \u00e9t\u00e9 joint au texte que vous modifiez.","fileexistsdialog_filemanager":"Un fichier de ce nom a d\u00e9j\u00e0 \u00e9t\u00e9 joint","renameto":"Renommer \u00e0 \u00ab\u00a0{$a}\u00a0\u00bb","referencesexist":"Il y a {$a} liens qui pointent vers ce fichier","select":"S\u00e9lectionnez"},"admin":{"confirmdeletecomments":"Voulez-vous vraiment supprimer des commentaires\u00a0?","confirmation":"Confirmation"},"theme_snap":{"coursecontacts":"Contacts de cours","debugerrors":"Erreurs de d\u00e9bogage","problemsfound":"Probl\u00e8mes d\u00e9tect\u00e9s","error:coverimageexceedsmaxbytes":"L'image de couverture d\u00e9passe la taille maximale de fichier autoris\u00e9e au niveau du site ({$a})","error:coverimageresolutionlow":"Pour une qualit\u00e9 optimale, nous recommandons de choisir une image plus grande d'une largeur d'au moins 1024\u00a0px.","forumtopic":"Rubrique","forumauthor":"Auteur","forumpicturegroup":"Groupe","forumreplies":"R\u00e9ponses","forumlastpost":"Dernier message","hiddencoursestoggle":"Cours masqu\u00e9s","loading":"Chargement en cours...","more":"Plus","moving":"D\u00e9placement de \"{$a}\"","movingcount":"D\u00e9placement de {$a} objets","movehere":"D\u00e9placer ici","movefailed":"\u00c9chec du d\u00e9placement pour \"{$a}\"","movingdropsectionhelp":"Ins\u00e9rer la section \"{$a->moving}\" avant la section \"{$a->before}\"","movingstartedhelp":"Acc\u00e9der \u00e0 l'emplacement o\u00f9 vous souhaitez ins\u00e9rer la section \"{$a}\"","notpublished":"Non publi\u00e9 pour les \u00e9tudiants","visibility":"Visibilit\u00e9"},"booktool_print":{"printbook":"Imprimer tout le livre"},"completion":{"progresstotal":"Progression\u00a0: {$a->complete} \/ {$a->total}"},"debug":{"debuginfo":"Info de d\u00e9bogage","line":"Ligne","stacktrace":"Trace de la pile"},"langconfig":{"labelsep":"&nbsp;"}};
//]]>
</script>
<script>
//<![CDATA[
(function() {Y.use("moodle-filter_mathjaxloader-loader",function() {M.filter_mathjaxloader.configure({"mathjaxconfig":"MathJax.Hub.Config({\r\n    config: [\"Accessible.js\", \"Safe.js\"],\r\n    errorSettings: { message: [\"!\"] },\r\n    skipStartupTypeset: true,\r\n    messageStyle: \"none\"\r\n});\r\n","lang":"fr"});
});
Y.use("moodle-filter_glossary-autolinker",function() {M.filter_glossary.init_filter_autolinking({"courseid":0});
});
M.util.help_popups.setup(Y);
 M.util.js_pending('random637c900a66a8c4'); Y.on('domready', function() { M.util.js_complete("init");  M.util.js_complete('random637c900a66a8c4'); });
})();
//]]>
</script>
<!-- bye! -->
</body>
</html>
