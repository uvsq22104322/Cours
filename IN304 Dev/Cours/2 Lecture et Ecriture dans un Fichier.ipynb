{
 "cells": [
  {
   "cell_type": "markdown",
   "id": "a203b264",
   "metadata": {
    "slideshow": {
     "slide_type": "slide"
    }
   },
   "source": [
    "# Fichiers: lecture et écriture dans un fichier"
   ]
  },
  {
   "cell_type": "markdown",
   "id": "a228e8cd",
   "metadata": {
    "slideshow": {
     "slide_type": "slide"
    }
   },
   "source": [
    "## Lecture dans un fichier"
   ]
  },
  {
   "cell_type": "markdown",
   "id": "744a219e",
   "metadata": {
    "slideshow": {
     "slide_type": "slide"
    }
   },
   "source": [
    "* Une grande partie de l’information en générale est stockée sous forme de texte dans des fichiers. \n",
    "* Pour traiter cette information, vous devez le plus souvent lire ou écrire dans un ou plusieurs fichiers. \n",
    "* Python possède pour cela de nombreux outils qui vous simplifient la vie."
   ]
  },
  {
   "cell_type": "markdown",
   "id": "958a4d5d",
   "metadata": {
    "slideshow": {
     "slide_type": "slide"
    }
   },
   "source": [
    "### Méthode .readlines()"
   ]
  },
  {
   "cell_type": "markdown",
   "id": "9ecb5382",
   "metadata": {
    "slideshow": {
     "slide_type": "slide"
    }
   },
   "source": [
    "Avant de passer à un exemple concret, créez un fichier dans un éditeur de texte que vous enregistrerez dans votre répertoire courant avec le nom zoo.txt et le contenu suivant :\n",
    "* girafe\n",
    "* tigre\n",
    "* singe\n",
    "* souris\n",
    "\n",
    "Ensuite, testez le code suivant dans l’interpréteur Python :"
   ]
  },
  {
   "cell_type": "code",
   "execution_count": 1,
   "id": "995a2e3c",
   "metadata": {
    "slideshow": {
     "slide_type": "slide"
    }
   },
   "outputs": [],
   "source": [
    "filin = open(\"zoo.txt\", \"r\")"
   ]
  },
  {
   "cell_type": "markdown",
   "id": "2b7d8292",
   "metadata": {
    "slideshow": {
     "slide_type": "slide"
    }
   },
   "source": [
    "* L’instruction open() ouvre le fichier zoo.txt. \n",
    "* Ce fichier est ouvert en lecture seule, comme l’indique le second argument r (pour read) de la fonction open(). \n",
    "* Le curseur de lecture est prêt à lire le premier caractère du fichier. \n",
    "* L’instruction open(\"zoo.txt\", \"r\") suppose que le fichier zoo.txt est dans le répertoire depuis lequel l’interpréteur Python a été lancé. \n",
    "* Si ce n’est pas le cas, il faut préciser le chemin d’accès au fichier. Par exemple, /home/pierre/zoo.txt pour Linux ou Mac OS X ou C:\\Users\\pierre\\zoo.txt pour Windows."
   ]
  },
  {
   "cell_type": "code",
   "execution_count": 2,
   "id": "41a675de",
   "metadata": {
    "slideshow": {
     "slide_type": "slide"
    }
   },
   "outputs": [
    {
     "data": {
      "text/plain": [
       "<_io.TextIOWrapper name='zoo.txt' mode='r' encoding='UTF-8'>"
      ]
     },
     "execution_count": 2,
     "metadata": {},
     "output_type": "execute_result"
    }
   ],
   "source": [
    "filin"
   ]
  },
  {
   "cell_type": "markdown",
   "id": "dae20f1d",
   "metadata": {
    "slideshow": {
     "slide_type": "slide"
    }
   },
   "source": [
    "* Lorsqu’on affiche le contenu de la variable filin, on se rend compte que Python la considère comme un objet de type fichier ouvert (ligne 3)."
   ]
  },
  {
   "cell_type": "code",
   "execution_count": 3,
   "id": "6c731a25",
   "metadata": {
    "slideshow": {
     "slide_type": "slide"
    }
   },
   "outputs": [
    {
     "data": {
      "text/plain": [
       "['girafe\\n', 'tigre\\n', 'singe\\n', 'souris']"
      ]
     },
     "execution_count": 3,
     "metadata": {},
     "output_type": "execute_result"
    }
   ],
   "source": [
    "filin.readlines()"
   ]
  },
  {
   "cell_type": "markdown",
   "id": "a7ea0bac",
   "metadata": {
    "slideshow": {
     "slide_type": "slide"
    }
   },
   "source": [
    "* La méthode .readlines() agit sur l’objet filin en déplaçant le curseur de lecture du début à la fin du fichier, puis elle renvoie une liste contenant toutes les lignes du fichier"
   ]
  },
  {
   "cell_type": "code",
   "execution_count": 4,
   "id": "87c6c880",
   "metadata": {
    "slideshow": {
     "slide_type": "slide"
    }
   },
   "outputs": [],
   "source": [
    "filin.close()"
   ]
  },
  {
   "cell_type": "markdown",
   "id": "76e5368f",
   "metadata": {
    "slideshow": {
     "slide_type": "slide"
    }
   },
   "source": [
    "* Enfin, on applique la méthode .close() sur l’objet filin, ce qui ferme le fichier\n",
    "* Vous remarquerez que la méthode .close() ne renvoie rien mais modifie l’état de l’objet filin en fichier fermé. \n",
    "* Ainsi, si on essaie de lire à nouveau les lignes du fichier, Python renvoie une erreur car il ne peut pas lire un fichier fermé"
   ]
  },
  {
   "cell_type": "code",
   "execution_count": 5,
   "id": "15f9c622",
   "metadata": {
    "slideshow": {
     "slide_type": "slide"
    }
   },
   "outputs": [
    {
     "ename": "ValueError",
     "evalue": "I/O operation on closed file.",
     "output_type": "error",
     "traceback": [
      "\u001b[0;31m---------------------------------------------------------------------------\u001b[0m",
      "\u001b[0;31mValueError\u001b[0m                                Traceback (most recent call last)",
      "\u001b[0;32m/tmp/ipykernel_228474/184608046.py\u001b[0m in \u001b[0;36m<module>\u001b[0;34m\u001b[0m\n\u001b[0;32m----> 1\u001b[0;31m \u001b[0mfilin\u001b[0m\u001b[0;34m.\u001b[0m\u001b[0mreadlines\u001b[0m\u001b[0;34m(\u001b[0m\u001b[0;34m)\u001b[0m\u001b[0;34m\u001b[0m\u001b[0;34m\u001b[0m\u001b[0m\n\u001b[0m",
      "\u001b[0;31mValueError\u001b[0m: I/O operation on closed file."
     ]
    }
   ],
   "source": [
    "filin.readlines()"
   ]
  },
  {
   "cell_type": "markdown",
   "id": "675a72bf",
   "metadata": {
    "slideshow": {
     "slide_type": "slide"
    }
   },
   "source": [
    "Voici maintenant un exemple complet de lecture d’un fichier avec Python: "
   ]
  },
  {
   "cell_type": "code",
   "execution_count": 7,
   "id": "d187a49d",
   "metadata": {
    "slideshow": {
     "slide_type": "slide"
    }
   },
   "outputs": [
    {
     "data": {
      "text/plain": [
       "['girafe\\n', 'tigre\\n', 'singe\\n', 'souris']"
      ]
     },
     "execution_count": 7,
     "metadata": {},
     "output_type": "execute_result"
    }
   ],
   "source": [
    "filin = open(\"zoo.txt\", \"r\")\n",
    "lignes = filin.readlines()\n",
    "lignes"
   ]
  },
  {
   "cell_type": "code",
   "execution_count": 8,
   "id": "104b6c96",
   "metadata": {
    "slideshow": {
     "slide_type": "slide"
    }
   },
   "outputs": [
    {
     "name": "stdout",
     "output_type": "stream",
     "text": [
      "girafe\n",
      "\n",
      "tigre\n",
      "\n",
      "singe\n",
      "\n",
      "souris\n"
     ]
    }
   ],
   "source": [
    "for ligne in lignes:\n",
    "    print(ligne)"
   ]
  },
  {
   "cell_type": "code",
   "execution_count": 9,
   "id": "f48fc3f2",
   "metadata": {
    "slideshow": {
     "slide_type": "slide"
    }
   },
   "outputs": [],
   "source": [
    "filin.close()"
   ]
  },
  {
   "cell_type": "markdown",
   "id": "a29b41a6",
   "metadata": {
    "slideshow": {
     "slide_type": "slide"
    }
   },
   "source": [
    "* Vous voyez qu’en cinq lignes de code, vous avez lu, parcouru le fichier et affiché son contenu."
   ]
  },
  {
   "cell_type": "markdown",
   "id": "04240a30",
   "metadata": {
    "slideshow": {
     "slide_type": "slide"
    }
   },
   "source": [
    "**Remarque:**\n",
    "* Chaque élément de la liste lignes est une chaîne de caractères. C’est en effet sous forme de chaînes de caractères que Python lit le contenu d’un fichier.\n",
    "* Chaque élément de la liste lignes se termine par le caractère \\n. Ce caractère un peu particulier correspond au « saut de ligne » qui permet de passer d’une ligne à la suivante. Ceci est codé par un caractère spécial que l’on représente par \\n. \n",
    "* Par défaut, l’instruction print() affiche quelque chose puis revient à la ligne. Ce retour à la ligne dû à print() se cumule alors avec celui de la fin de ligne (\\n) de chaque ligne du fichier et donne l’impression qu’une ligne est sautée à chaque fois.\n"
   ]
  },
  {
   "cell_type": "markdown",
   "id": "8930b2bf",
   "metadata": {
    "slideshow": {
     "slide_type": "slide"
    }
   },
   "source": [
    "* Il existe en Python le mot-clé **with** qui permet d’ouvrir et de fermer un fichier de manière efficace. Si pour une raison ou une autre l’ouverture ou la lecture du fichier conduit à une erreur, l’utilisation de with garantit la bonne fermeture du fichier, ce qui n’est pas le cas dans le code précédent. Voici donc le même exemple avec with :"
   ]
  },
  {
   "cell_type": "code",
   "execution_count": 10,
   "id": "18b018ab",
   "metadata": {
    "slideshow": {
     "slide_type": "slide"
    }
   },
   "outputs": [
    {
     "name": "stdout",
     "output_type": "stream",
     "text": [
      "girafe\n",
      "\n",
      "tigre\n",
      "\n",
      "singe\n",
      "\n",
      "souris\n"
     ]
    }
   ],
   "source": [
    "with open(\"zoo.txt\", 'r') as filin: \n",
    "    lignes = filin.readlines()\n",
    "    for ligne in lignes:\n",
    "        print(ligne)"
   ]
  },
  {
   "cell_type": "markdown",
   "id": "4385d504",
   "metadata": {
    "slideshow": {
     "slide_type": "slide"
    }
   },
   "source": [
    "**Remarque:**\n",
    "* L’instruction with introduit un bloc d’indentation. C’est à l’intérieur de ce bloc que nous effectuons toutes les opérations sur le fichier.\n",
    "* Une fois sorti du bloc d’indentation, Python fermera automatiquement le fichier. Vous n’avez donc plus besoin d’utiliser la méthode .close()."
   ]
  },
  {
   "cell_type": "markdown",
   "id": "d3cef9aa",
   "metadata": {
    "slideshow": {
     "slide_type": "slide"
    }
   },
   "source": [
    "### Méthode .read()"
   ]
  },
  {
   "cell_type": "markdown",
   "id": "6511a2ae",
   "metadata": {
    "slideshow": {
     "slide_type": "slide"
    }
   },
   "source": [
    "* Il existe d’autres méthodes que .readlines() pour lire (et manipuler) un fichier. Par exemple, la méthode .read() lit tout le contenu d’un fichier et renvoie une chaîne de caractères unique.\n"
   ]
  },
  {
   "cell_type": "code",
   "execution_count": 11,
   "id": "fe8136a8",
   "metadata": {
    "slideshow": {
     "slide_type": "slide"
    }
   },
   "outputs": [],
   "source": [
    "with open(\"zoo.txt\", \"r\") as filin:\n",
    "    filin.read()"
   ]
  },
  {
   "cell_type": "code",
   "execution_count": 12,
   "id": "c11d73cf",
   "metadata": {
    "slideshow": {
     "slide_type": "slide"
    }
   },
   "outputs": [
    {
     "data": {
      "text/plain": [
       "'girafe\\ntigre\\nsinge\\nsouris\\n'"
      ]
     },
     "execution_count": 12,
     "metadata": {},
     "output_type": "execute_result"
    }
   ],
   "source": [
    "'girafe\\ntigre\\nsinge\\nsouris\\n'"
   ]
  },
  {
   "cell_type": "markdown",
   "id": "ee474ab8",
   "metadata": {
    "slideshow": {
     "slide_type": "slide"
    }
   },
   "source": [
    "### Méthode .readline()"
   ]
  },
  {
   "cell_type": "markdown",
   "id": "1e238a74",
   "metadata": {
    "slideshow": {
     "slide_type": "slide"
    }
   },
   "source": [
    "* La méthode .readline() (sans s à la fin) lit une ligne d’un fichier et la renvoie sous forme de chaîne de caractères. \n",
    "* À chaque nouvel appel de .readline(), la ligne suivante est renvoyée. Associée à la boucle while, cette méthode permet de lire un fichier ligne par ligne."
   ]
  },
  {
   "cell_type": "code",
   "execution_count": 13,
   "id": "e9d9664d",
   "metadata": {
    "slideshow": {
     "slide_type": "slide"
    }
   },
   "outputs": [
    {
     "name": "stdout",
     "output_type": "stream",
     "text": [
      "girafe\n",
      "\n",
      "tigre\n",
      "\n",
      "singe\n",
      "\n",
      "souris\n"
     ]
    }
   ],
   "source": [
    "with open(\"zoo.txt\", \"r\") as filin:\n",
    "    ligne = filin.readline()\n",
    "    while ligne != \"\":\n",
    "        print(ligne)\n",
    "        ligne = filin.readline()"
   ]
  },
  {
   "cell_type": "markdown",
   "id": "aa2d2452",
   "metadata": {
    "slideshow": {
     "slide_type": "slide"
    }
   },
   "source": [
    "### Itérations directe sur le fichier"
   ]
  },
  {
   "cell_type": "markdown",
   "id": "8858480d",
   "metadata": {
    "slideshow": {
     "slide_type": "slide"
    }
   },
   "source": [
    "* Python essaie de vous faciliter la vie au maximum. Voici un moyen à la fois simple et élégant de parcourir un fichier."
   ]
  },
  {
   "cell_type": "code",
   "execution_count": null,
   "id": "62c3d976",
   "metadata": {
    "slideshow": {
     "slide_type": "slide"
    }
   },
   "outputs": [],
   "source": [
    "with open(\"zoo.txt\", \"r\") as filin:\n",
    "    for ligne in filin:\n",
    "        print(ligne)"
   ]
  },
  {
   "cell_type": "markdown",
   "id": "90812232",
   "metadata": {
    "slideshow": {
     "slide_type": "slide"
    }
   },
   "source": [
    "* L’objet filin est « itérable », ainsi la boucle for va demander à Python d’aller lire le fichier ligne par ligne."
   ]
  },
  {
   "cell_type": "markdown",
   "id": "c54a9dd7",
   "metadata": {
    "slideshow": {
     "slide_type": "slide"
    }
   },
   "source": [
    "**Conseil**:\n",
    "* Privilégiez cette méthode par la suite."
   ]
  },
  {
   "cell_type": "markdown",
   "id": "063ad034",
   "metadata": {
    "slideshow": {
     "slide_type": "slide"
    }
   },
   "source": [
    "**Remarque:**\n",
    "* Les méthodes abordées précédemment permettent d’accéder au contenu d’un fichier, soit ligne par ligne (méthode .readline()), soit globalement en une seule chaîne de caractères (méthode .read()), soit globalement avec les lignes différenciées sous forme d’une liste de chaînes de caractères (méthode .readlines()). \n",
    "* Il est également possible en Python de se rendre à un endroit particulier d’un fichier avec la méthode .seek() \n"
   ]
  },
  {
   "cell_type": "markdown",
   "id": "11b2345b",
   "metadata": {
    "slideshow": {
     "slide_type": "slide"
    }
   },
   "source": [
    "##  Écriture dans un fichier"
   ]
  },
  {
   "cell_type": "markdown",
   "id": "cda729aa",
   "metadata": {
    "slideshow": {
     "slide_type": "slide"
    }
   },
   "source": [
    "* Écrire dans un fichier est aussi simple que de le lire. Voyez l’exemple suivant :"
   ]
  },
  {
   "cell_type": "code",
   "execution_count": null,
   "id": "131349af",
   "metadata": {
    "slideshow": {
     "slide_type": "slide"
    }
   },
   "outputs": [],
   "source": [
    "animaux2 = [\"poisson\", \"abeille\", \"chat\"]\n",
    "with open(\"zoo2.txt\", \"w\") as filout:\n",
    "    for animal in animaux2:\n",
    "        filout.write(animal)"
   ]
  },
  {
   "cell_type": "markdown",
   "id": "9b10f95f",
   "metadata": {
    "slideshow": {
     "slide_type": "slide"
    }
   },
   "source": [
    "* Ligne 1. Création d’une liste de chaînes de caractères animaux2.\n",
    "* Ligne 2. Ouverture du fichier zoo2.txt en mode écriture, avec le caractère w pour write. L’instruction with crée un bloc d’instructions qui doit être indenté.\n",
    "* Ligne 3. Parcours de la liste animaux2 avec une boucle for.\n",
    "* Ligne 4. À chaque itération de la boucle, nous avons écrit chaque élément de la liste dans le fichier. \n",
    "* La méthode .write() s’applique sur l’objet filout."
   ]
  },
  {
   "cell_type": "markdown",
   "id": "1251f5e4",
   "metadata": {
    "slideshow": {
     "slide_type": "slide"
    }
   },
   "source": [
    "* Si nous ouvrons le fichier zoo2.txt avec un éditeur de texte, voici ce que nous obtenons : poissonabeillechat\n",
    "* Ce n’est pas exactement le résultat attendu car implicitement nous voulions le nom de chaque animal sur une ligne. Nous avons oublié d’ajouter le caractère fin de ligne après chaque nom d’animal. \n",
    "\n",
    "Pour ce faire, nous pouvons utiliser l’écriture formatée :"
   ]
  },
  {
   "cell_type": "code",
   "execution_count": null,
   "id": "8ad5635c",
   "metadata": {
    "slideshow": {
     "slide_type": "slide"
    }
   },
   "outputs": [],
   "source": [
    "animaux2 = [\"poisson\", \"abeille\", \"chat\"]\n",
    "with open(\"zoo2.txt\", \"w\") as filout:\n",
    "    for animal in animaux2:\n",
    "        filout.write(f\"{animal}\\n\")"
   ]
  },
  {
   "cell_type": "markdown",
   "id": "ffa3f2ea",
   "metadata": {
    "slideshow": {
     "slide_type": "slide"
    }
   },
   "source": [
    "* Ligne 4. L’écriture formatée Affichage permet d’ajouter un retour à la ligne (\\n) après le nom de chaque animal.\n",
    "* Le contenu du fichier zoo2.txt est alors :\n",
    "    * poisson\n",
    "    * abeille\n",
    "    * chat"
   ]
  },
  {
   "cell_type": "markdown",
   "id": "d27a08f7",
   "metadata": {
    "slideshow": {
     "slide_type": "slide"
    }
   },
   "source": [
    "## Ouvrir deux fichiers avec l'instruction with "
   ]
  },
  {
   "cell_type": "markdown",
   "id": "58dda255",
   "metadata": {
    "slideshow": {
     "slide_type": "slide"
    }
   },
   "source": [
    "* On peut avec l’instruction with ouvrir deux fichiers (ou plus) en même temps: "
   ]
  },
  {
   "cell_type": "code",
   "execution_count": null,
   "id": "1de911ad",
   "metadata": {
    "slideshow": {
     "slide_type": "slide"
    }
   },
   "outputs": [],
   "source": [
    "with open(\"zoo.txt\", \"r\") as fichier1, open(\"zoo2.txt\", \"w\") as fichier2:\n",
    "    for ligne in fichier1:\n",
    "        fichier2.write(\"* \" + ligne)\n"
   ]
  },
  {
   "cell_type": "markdown",
   "id": "53e0587d",
   "metadata": {
    "slideshow": {
     "slide_type": "slide"
    }
   },
   "source": [
    "* Si le fichier zoo.txt contient le texte suivant :\n",
    "    \n",
    "    souris\n",
    "    \n",
    "    girafe\n",
    "    \n",
    "    lion\n",
    "    \n",
    "    singe\n",
    "    \n",
    "alors le contenu de zoo2.txt sera :\n",
    "    \n",
    "    * souris\n",
    "    \n",
    "    * girafe\n",
    "    \n",
    "    * lion\n",
    "    \n",
    "    * singe\n",
    "    \n",
    "\n",
    "* Dans cet exemple, with permet une notation très compacte en s’affranchissant de deux méthodes .close()."
   ]
  },
  {
   "cell_type": "markdown",
   "id": "98adc404",
   "metadata": {
    "slideshow": {
     "slide_type": "slide"
    }
   },
   "source": [
    "## Notes sur les retours à la ligne sous Unix et Windows"
   ]
  },
  {
   "cell_type": "markdown",
   "id": "bf790dfa",
   "metadata": {
    "slideshow": {
     "slide_type": "slide"
    }
   },
   "source": [
    "* On a vu plus haut que le caractère spécial \\n correspondait à un retour à la ligne. C’est le standard sous Unix (Mac OS X et Linux).\n",
    "* Toutefois, Windows utilise deux caractères spéciaux pour le retour à la ligne : \\r correspondant à un retour chariot (hérité des machines à écrire) et \\n comme sous Unix.\n",
    "* Si vous avez commencé à programmer en Python 2, vous aurez peut-être remarqué que selon les versions, la lecture de fichier supprimait parfois les \\r et d’autres fois les laissait.\n",
    "* Heureusement, la fonction open() dans Python 3 gère tout ça automatiquement et renvoie uniquement des sauts de ligne sous forme d’un seul \\n (même si le fichier a été conçu sous Windows et qu’il contient initialement des \\r)."
   ]
  },
  {
   "cell_type": "markdown",
   "id": "5138ac91",
   "metadata": {
    "slideshow": {
     "slide_type": "slide"
    }
   },
   "source": [
    "## Importance des conversions de types avec les fichiers"
   ]
  },
  {
   "cell_type": "markdown",
   "id": "bcd24457",
   "metadata": {
    "slideshow": {
     "slide_type": "slide"
    }
   },
   "source": [
    "* Vous avez sans doute remarqué que les méthodes qui lisent un fichier (par exemple .readlines()) vous renvoient systématiquement des chaînes de caractères. \n",
    "* De même, pour écrire dans un fichier il faut fournir une chaîne de caractères à la méthode .write().\n",
    "* Pour tenir compte de ces contraintes, il faudra utiliser les fonctions de conversions de types : int(), float() et str(). \n",
    "* Ces fonctions de conversion sont essentielles lorsqu’on lit ou écrit des nombres dans un fichier.\n",
    "* En effet, les nombres dans un fichier sont considérés comme du texte, donc comme des chaînes de caractères, par la méthode .readlines(). \n",
    "* Par conséquent, il faut les convertir (en entier ou en float) si on veut effectuer des opérations numériques avec."
   ]
  },
  {
   "cell_type": "markdown",
   "id": "9b6c632b",
   "metadata": {
    "slideshow": {
     "slide_type": "slide"
    }
   },
   "source": [
    "**Exercices:**\n",
    "* Le fichier *notes.txt* contient les notes obtenues par des étudiants pour le cours de Python. Chaque ligne du fichier ne contient qu’une note.\n",
    "* Téléchargez le fichier notes.txt et enregistrez-le dans votre répertoire de travail. N’hésitez pas à l’ouvrir avec un éditeur de texte pour voir à quoi il ressemble.\n",
    "* Créez un script Python qui lit chaque ligne de ce fichier, extrait les notes sous forme de float et les stocke dans une liste. Terminez le script en calculant et affichant la moyenne des notes avec deux décimales.\n"
   ]
  },
  {
   "cell_type": "code",
   "execution_count": null,
   "id": "63895cd8",
   "metadata": {},
   "outputs": [],
   "source": []
  }
 ],
 "metadata": {
  "celltoolbar": "Diaporama",
  "kernelspec": {
   "display_name": "Python 3 (ipykernel)",
   "language": "python",
   "name": "python3"
  },
  "language_info": {
   "codemirror_mode": {
    "name": "ipython",
    "version": 3
   },
   "file_extension": ".py",
   "mimetype": "text/x-python",
   "name": "python",
   "nbconvert_exporter": "python",
   "pygments_lexer": "ipython3",
   "version": "3.9.2"
  }
 },
 "nbformat": 4,
 "nbformat_minor": 5
}
