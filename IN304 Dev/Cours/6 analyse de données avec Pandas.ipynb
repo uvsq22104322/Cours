{
 "cells": [
  {
   "cell_type": "markdown",
   "id": "89c70f35",
   "metadata": {},
   "source": [
    "# Analyse de Données avec Pandas"
   ]
  },
  {
   "cell_type": "markdown",
   "id": "b3a91cf5",
   "metadata": {},
   "source": [
    "# Table of Contents\n",
    "- [Pandas pour la manipulation de données](#-Pandas-pour-la-manipulation-de-données)\n",
    "    - [Series](#Series)\n",
    "    - [Dataframes](#Dataframes)\n",
    "    - [Quelques propriétés](#Quelques-propriétés)\n",
    "    - [Sélection](#Sélection)\n",
    "    - [Combinaison de dataframes](#Combinaison-de-dataframes)\n",
    "- [Illustration de possibilités de pandas](#Illustration-de-possibilités-de-pandas)\n",
    "    - [Prise de contact avec le jeu de données](#Prise-de-contact-avec-le-jeu-de-données)\n",
    "    - [Conversion en date](#Conversion-en-date)\n",
    "    - [Statistiques descriptives et table de comptage](#Statistiques-descriptives-et-table-de-comptage)\n",
    "    - [Statistiques par groupe](#Statistiques-par-groupe)\n",
    "    - [Analyse de données numériques](#Analyse-de-données-numériques)\n",
    "    - [Analyse de données temporelles](#Analyse-de-données-temporelles)\n",
    "\n",
    "   "
   ]
  },
  {
   "cell_type": "markdown",
   "id": "33cce307",
   "metadata": {},
   "source": [
    "## Pandas pour la manipulation de données"
   ]
  },
  {
   "cell_type": "markdown",
   "id": "b2b4e952",
   "metadata": {},
   "source": [
    "Le module pandas a été conçu pour *l’analyse de données*. Il est particulièrement puissant pour manipuler des *données structurées sous forme de tableau*.\n",
    "\n",
    "Pour charger pandas dans la mémoire de Python, on utilise la commande *import* habituelle : ```import pandas```\n",
    "\n",
    "Pandas est souvent chargé avec un nom raccourci, comme pour NumPy et matplotlib : ```import pandas as pd```\n"
   ]
  },
  {
   "cell_type": "markdown",
   "id": "ba0d6fc5",
   "metadata": {},
   "source": [
    "### Series"
   ]
  },
  {
   "cell_type": "markdown",
   "id": "1284399e",
   "metadata": {},
   "source": [
    "Le premier type de données apporté par pandas est la **series**, qui correspond à un *vecteur à une dimension*."
   ]
  },
  {
   "cell_type": "code",
   "execution_count": null,
   "id": "2349a93c",
   "metadata": {},
   "outputs": [],
   "source": [
    "#pip install pandas"
   ]
  },
  {
   "cell_type": "code",
   "execution_count": 1,
   "id": "08e90649",
   "metadata": {},
   "outputs": [
    {
     "data": {
      "text/plain": [
       "a    10\n",
       "b    20\n",
       "c    30\n",
       "d    40\n",
       "dtype: int64"
      ]
     },
     "execution_count": 1,
     "metadata": {},
     "output_type": "execute_result"
    }
   ],
   "source": [
    "import pandas as pd\n",
    "\n",
    "s = pd.Series([10, 20, 30, 40], index = ['a', 'b', 'c', 'd'])\n",
    "s"
   ]
  },
  {
   "cell_type": "markdown",
   "id": "8d0b56bd",
   "metadata": {},
   "source": [
    "Avec pandas, chaque élément de la série de données possède une étiquette qui permet d’appeler les éléments. Ainsi, pour appeler le premier élément de la série, on peut utiliser son index, comme pour une liste (0 pour le premier élément) ou son étiquette (ici, \"a\") :"
   ]
  },
  {
   "cell_type": "code",
   "execution_count": 2,
   "id": "f394e43b",
   "metadata": {},
   "outputs": [
    {
     "data": {
      "text/plain": [
       "10"
      ]
     },
     "execution_count": 2,
     "metadata": {},
     "output_type": "execute_result"
    }
   ],
   "source": [
    "s[0]"
   ]
  },
  {
   "cell_type": "code",
   "execution_count": 3,
   "id": "3f6aa646",
   "metadata": {},
   "outputs": [
    {
     "data": {
      "text/plain": [
       "10"
      ]
     },
     "execution_count": 3,
     "metadata": {},
     "output_type": "execute_result"
    }
   ],
   "source": [
    "s[\"a\"]"
   ]
  },
  {
   "cell_type": "markdown",
   "id": "3ca585ae",
   "metadata": {},
   "source": [
    "Bien sûr, on peut extraire plusieurs éléments, par leurs indices ou leurs étiquettes :"
   ]
  },
  {
   "cell_type": "code",
   "execution_count": 4,
   "id": "bfee00e8",
   "metadata": {},
   "outputs": [
    {
     "data": {
      "text/plain": [
       "b    20\n",
       "d    40\n",
       "dtype: int64"
      ]
     },
     "execution_count": 4,
     "metadata": {},
     "output_type": "execute_result"
    }
   ],
   "source": [
    "s[[1, 3]]"
   ]
  },
  {
   "cell_type": "markdown",
   "id": "c8483e5c",
   "metadata": {},
   "source": [
    "Les étiquettes permettent de modifier et d’ajouter des éléments :"
   ]
  },
  {
   "cell_type": "code",
   "execution_count": 5,
   "id": "bfc97fae",
   "metadata": {},
   "outputs": [
    {
     "data": {
      "text/plain": [
       "a     10\n",
       "b     20\n",
       "c    300\n",
       "d     40\n",
       "z     50\n",
       "dtype: int64"
      ]
     },
     "execution_count": 5,
     "metadata": {},
     "output_type": "execute_result"
    }
   ],
   "source": [
    "s[\"c\"] = 300\n",
    "s[\"z\"] = 50\n",
    "s"
   ]
  },
  {
   "cell_type": "markdown",
   "id": "536bcf3b",
   "metadata": {},
   "source": [
    "Enfin, on peut filtrer une partie de la series :"
   ]
  },
  {
   "cell_type": "code",
   "execution_count": 6,
   "id": "1ca533f3",
   "metadata": {},
   "outputs": [
    {
     "data": {
      "text/plain": [
       "c    300\n",
       "d     40\n",
       "z     50\n",
       "dtype: int64"
      ]
     },
     "execution_count": 6,
     "metadata": {},
     "output_type": "execute_result"
    }
   ],
   "source": [
    "s[s>30]"
   ]
  },
  {
   "cell_type": "markdown",
   "id": "80a96b15",
   "metadata": {},
   "source": [
    "on peut combiner plusieurs critères de sélection :"
   ]
  },
  {
   "cell_type": "code",
   "execution_count": 8,
   "id": "652dcedb",
   "metadata": {},
   "outputs": [
    {
     "data": {
      "text/plain": [
       "d    40\n",
       "z    50\n",
       "dtype: int64"
      ]
     },
     "execution_count": 8,
     "metadata": {},
     "output_type": "execute_result"
    }
   ],
   "source": [
    "s[(s>20) & (s<100)]"
   ]
  },
  {
   "cell_type": "markdown",
   "id": "d59cd395",
   "metadata": {},
   "source": [
    "### Dataframes"
   ]
  },
  {
   "cell_type": "markdown",
   "id": "d563db88",
   "metadata": {},
   "source": [
    "Un autre type d’objet particulièrement intéressant introduit par pandas sont les **dataframes**. \n",
    "\n",
    "Ceux-ci correspondent à des *tableaux à deux dimensions* avec des étiquettes pour nommer les lignes et les colonnes.\n",
    "\n",
    "\n",
    "Voici comment créer un dataframe avec pandas à partir de données fournies comme liste de lignes :"
   ]
  },
  {
   "cell_type": "code",
   "execution_count": 11,
   "id": "0293cceb",
   "metadata": {},
   "outputs": [
    {
     "data": {
      "text/html": [
       "<div>\n",
       "<style scoped>\n",
       "    .dataframe tbody tr th:only-of-type {\n",
       "        vertical-align: middle;\n",
       "    }\n",
       "\n",
       "    .dataframe tbody tr th {\n",
       "        vertical-align: top;\n",
       "    }\n",
       "\n",
       "    .dataframe thead th {\n",
       "        text-align: right;\n",
       "    }\n",
       "</style>\n",
       "<table border=\"1\" class=\"dataframe\">\n",
       "  <thead>\n",
       "    <tr style=\"text-align: right;\">\n",
       "      <th></th>\n",
       "      <th>a</th>\n",
       "      <th>b</th>\n",
       "      <th>c</th>\n",
       "      <th>d</th>\n",
       "    </tr>\n",
       "  </thead>\n",
       "  <tbody>\n",
       "    <tr>\n",
       "      <th>chat</th>\n",
       "      <td>10</td>\n",
       "      <td>11</td>\n",
       "      <td>12</td>\n",
       "      <td>13</td>\n",
       "    </tr>\n",
       "    <tr>\n",
       "      <th>singe</th>\n",
       "      <td>20</td>\n",
       "      <td>21</td>\n",
       "      <td>22</td>\n",
       "      <td>23</td>\n",
       "    </tr>\n",
       "    <tr>\n",
       "      <th>souris</th>\n",
       "      <td>30</td>\n",
       "      <td>31</td>\n",
       "      <td>32</td>\n",
       "      <td>33</td>\n",
       "    </tr>\n",
       "  </tbody>\n",
       "</table>\n",
       "</div>"
      ],
      "text/plain": [
       "         a   b   c   d\n",
       "chat    10  11  12  13\n",
       "singe   20  21  22  23\n",
       "souris  30  31  32  33"
      ]
     },
     "execution_count": 11,
     "metadata": {},
     "output_type": "execute_result"
    }
   ],
   "source": [
    "import numpy as np \n",
    "df = pd.DataFrame(columns=[\"a\", \"b\", \"c\", \"d\"],\n",
    "                  index=[\"chat\", \"singe\", \"souris\"],\n",
    "                  data=[np.arange(10, 14),\n",
    "                        np.arange(20, 24),\n",
    "                        np.arange(30, 34)])\n",
    "df"
   ]
  },
  {
   "cell_type": "markdown",
   "id": "deb6b27e",
   "metadata": {},
   "source": [
    "* Ligne 1. Le dataframe est créé avec la fonction ```DataFrame(``` à laquelle on fournit plusieurs arguments. L’argument columns indique le nom des colonnes, sous forme d’une liste.\n",
    "* Ligne 2. L’argument index définit le nom des lignes, sous forme de liste.\n",
    "* Lignes 3-5. L’argument data fournit le contenu du dataframe, sous la forme d’une liste de valeurs correspondantes à des lignes. Ainsi```np.arange(10, 14)``` qui est équivalent à ```[10, 11, 12, 13]``` correspond à la première ligne du dataframe.\n",
    "\n",
    "Le même dataframe peut aussi être créé à partir des valeurs fournies en colonnes sous la forme d’un dictionnaire: "
   ]
  },
  {
   "cell_type": "code",
   "execution_count": 12,
   "id": "147d5f5f",
   "metadata": {},
   "outputs": [
    {
     "data": {
      "text/html": [
       "<div>\n",
       "<style scoped>\n",
       "    .dataframe tbody tr th:only-of-type {\n",
       "        vertical-align: middle;\n",
       "    }\n",
       "\n",
       "    .dataframe tbody tr th {\n",
       "        vertical-align: top;\n",
       "    }\n",
       "\n",
       "    .dataframe thead th {\n",
       "        text-align: right;\n",
       "    }\n",
       "</style>\n",
       "<table border=\"1\" class=\"dataframe\">\n",
       "  <thead>\n",
       "    <tr style=\"text-align: right;\">\n",
       "      <th></th>\n",
       "      <th>a</th>\n",
       "      <th>b</th>\n",
       "      <th>c</th>\n",
       "      <th>d</th>\n",
       "    </tr>\n",
       "  </thead>\n",
       "  <tbody>\n",
       "    <tr>\n",
       "      <th>chat</th>\n",
       "      <td>10</td>\n",
       "      <td>11</td>\n",
       "      <td>12</td>\n",
       "      <td>13</td>\n",
       "    </tr>\n",
       "    <tr>\n",
       "      <th>singe</th>\n",
       "      <td>20</td>\n",
       "      <td>21</td>\n",
       "      <td>22</td>\n",
       "      <td>23</td>\n",
       "    </tr>\n",
       "    <tr>\n",
       "      <th>souris</th>\n",
       "      <td>30</td>\n",
       "      <td>31</td>\n",
       "      <td>32</td>\n",
       "      <td>33</td>\n",
       "    </tr>\n",
       "  </tbody>\n",
       "</table>\n",
       "</div>"
      ],
      "text/plain": [
       "         a   b   c   d\n",
       "chat    10  11  12  13\n",
       "singe   20  21  22  23\n",
       "souris  30  31  32  33"
      ]
     },
     "execution_count": 12,
     "metadata": {},
     "output_type": "execute_result"
    }
   ],
   "source": [
    "data = {\"a\": np.arange(10, 40, 10),\n",
    "        \"b\": np.arange(11, 40, 10),\n",
    "        \"c\": np.arange(12, 40, 10),\n",
    "        \"d\": np.arange(13, 40, 10)}\n",
    "df = pd.DataFrame(data)\n",
    "df.index = [\"chat\", \"singe\", \"souris\"]\n",
    "df\n",
    "        "
   ]
  },
  {
   "cell_type": "markdown",
   "id": "8c729c2a",
   "metadata": {},
   "source": [
    "* Lignes 1-4. Le dictionnaire data contient les données en colonnes. La clé associée à chaque colonne est le nom de la colonne.\n",
    "* Ligne 5. Le dataframe est créé avec la fonction pd.DataFrame() à laquelle on passe data en argument. \n",
    "* Ligne 6. On peut définir les étiquettes des lignes de n’importe quel dataframe avec l’attribut df.index."
   ]
  },
  {
   "cell_type": "markdown",
   "id": "61b18ce8",
   "metadata": {},
   "source": [
    "### Quelques propriétés"
   ]
  },
  {
   "cell_type": "markdown",
   "id": "af52edb7",
   "metadata": {},
   "source": [
    "Les dimensions d’un dataframe sont données par l’attribut **.shape** :"
   ]
  },
  {
   "cell_type": "code",
   "execution_count": 13,
   "id": "ac7b7277",
   "metadata": {},
   "outputs": [
    {
     "data": {
      "text/plain": [
       "(3, 4)"
      ]
     },
     "execution_count": 13,
     "metadata": {},
     "output_type": "execute_result"
    }
   ],
   "source": [
    "df.shape"
   ]
  },
  {
   "cell_type": "markdown",
   "id": "8d45233b",
   "metadata": {},
   "source": [
    "Ici, le dataframe df a 3 lignes et 4 colonnes.\n",
    "L’attribut **.columns** renvoie le nom des colonnes et permet aussi de renommer les colonnes d’un dataframe :"
   ]
  },
  {
   "cell_type": "code",
   "execution_count": 14,
   "id": "e79e5580",
   "metadata": {},
   "outputs": [
    {
     "data": {
      "text/plain": [
       "Index(['a', 'b', 'c', 'd'], dtype='object')"
      ]
     },
     "execution_count": 14,
     "metadata": {},
     "output_type": "execute_result"
    }
   ],
   "source": [
    "df.columns"
   ]
  },
  {
   "cell_type": "code",
   "execution_count": 15,
   "id": "4496942b",
   "metadata": {},
   "outputs": [
    {
     "data": {
      "text/html": [
       "<div>\n",
       "<style scoped>\n",
       "    .dataframe tbody tr th:only-of-type {\n",
       "        vertical-align: middle;\n",
       "    }\n",
       "\n",
       "    .dataframe tbody tr th {\n",
       "        vertical-align: top;\n",
       "    }\n",
       "\n",
       "    .dataframe thead th {\n",
       "        text-align: right;\n",
       "    }\n",
       "</style>\n",
       "<table border=\"1\" class=\"dataframe\">\n",
       "  <thead>\n",
       "    <tr style=\"text-align: right;\">\n",
       "      <th></th>\n",
       "      <th>Paris</th>\n",
       "      <th>Lyon</th>\n",
       "      <th>Nantes</th>\n",
       "      <th>Pau</th>\n",
       "    </tr>\n",
       "  </thead>\n",
       "  <tbody>\n",
       "    <tr>\n",
       "      <th>chat</th>\n",
       "      <td>10</td>\n",
       "      <td>11</td>\n",
       "      <td>12</td>\n",
       "      <td>13</td>\n",
       "    </tr>\n",
       "    <tr>\n",
       "      <th>singe</th>\n",
       "      <td>20</td>\n",
       "      <td>21</td>\n",
       "      <td>22</td>\n",
       "      <td>23</td>\n",
       "    </tr>\n",
       "    <tr>\n",
       "      <th>souris</th>\n",
       "      <td>30</td>\n",
       "      <td>31</td>\n",
       "      <td>32</td>\n",
       "      <td>33</td>\n",
       "    </tr>\n",
       "  </tbody>\n",
       "</table>\n",
       "</div>"
      ],
      "text/plain": [
       "        Paris  Lyon  Nantes  Pau\n",
       "chat       10    11      12   13\n",
       "singe      20    21      22   23\n",
       "souris     30    31      32   33"
      ]
     },
     "execution_count": 15,
     "metadata": {},
     "output_type": "execute_result"
    }
   ],
   "source": [
    "df.columns = [\"Paris\", \"Lyon\", \"Nantes\", \"Pau\"]\n",
    "df"
   ]
  },
  {
   "cell_type": "markdown",
   "id": "87cc98fb",
   "metadata": {},
   "source": [
    "La méthode **.head(n)** renvoie les ```n``` premières lignes du dataframe (par défaut, ```n vaut 5```) :"
   ]
  },
  {
   "cell_type": "code",
   "execution_count": 16,
   "id": "57eda891",
   "metadata": {},
   "outputs": [
    {
     "data": {
      "text/html": [
       "<div>\n",
       "<style scoped>\n",
       "    .dataframe tbody tr th:only-of-type {\n",
       "        vertical-align: middle;\n",
       "    }\n",
       "\n",
       "    .dataframe tbody tr th {\n",
       "        vertical-align: top;\n",
       "    }\n",
       "\n",
       "    .dataframe thead th {\n",
       "        text-align: right;\n",
       "    }\n",
       "</style>\n",
       "<table border=\"1\" class=\"dataframe\">\n",
       "  <thead>\n",
       "    <tr style=\"text-align: right;\">\n",
       "      <th></th>\n",
       "      <th>Paris</th>\n",
       "      <th>Lyon</th>\n",
       "      <th>Nantes</th>\n",
       "      <th>Pau</th>\n",
       "    </tr>\n",
       "  </thead>\n",
       "  <tbody>\n",
       "    <tr>\n",
       "      <th>chat</th>\n",
       "      <td>10</td>\n",
       "      <td>11</td>\n",
       "      <td>12</td>\n",
       "      <td>13</td>\n",
       "    </tr>\n",
       "    <tr>\n",
       "      <th>singe</th>\n",
       "      <td>20</td>\n",
       "      <td>21</td>\n",
       "      <td>22</td>\n",
       "      <td>23</td>\n",
       "    </tr>\n",
       "  </tbody>\n",
       "</table>\n",
       "</div>"
      ],
      "text/plain": [
       "       Paris  Lyon  Nantes  Pau\n",
       "chat      10    11      12   13\n",
       "singe     20    21      22   23"
      ]
     },
     "execution_count": 16,
     "metadata": {},
     "output_type": "execute_result"
    }
   ],
   "source": [
    "df.head(2)"
   ]
  },
  {
   "cell_type": "markdown",
   "id": "48b740ed",
   "metadata": {},
   "source": [
    "### Sélection"
   ]
  },
  {
   "cell_type": "markdown",
   "id": "6e7b330d",
   "metadata": {},
   "source": [
    "Les mécanismes de sélection fournis avec pandas sont très puissants. En voici un rapide aperçu "
   ]
  },
  {
   "cell_type": "markdown",
   "id": "e3d127d2",
   "metadata": {},
   "source": [
    "**Sélection de colonnes**: On peut sélectionner une colonne par son étiquette :"
   ]
  },
  {
   "cell_type": "code",
   "execution_count": 17,
   "id": "0b551e03",
   "metadata": {},
   "outputs": [
    {
     "data": {
      "text/plain": [
       "chat      11\n",
       "singe     21\n",
       "souris    31\n",
       "Name: Lyon, dtype: int64"
      ]
     },
     "execution_count": 17,
     "metadata": {},
     "output_type": "execute_result"
    }
   ],
   "source": [
    "df[\"Lyon\"]"
   ]
  },
  {
   "cell_type": "markdown",
   "id": "d5361e84",
   "metadata": {},
   "source": [
    "ou plusieurs colonnes en même temps. Pour la sélection de plusieurs colonnes, les étiquettes d’intérêt sont rassemblées dans une liste: "
   ]
  },
  {
   "cell_type": "code",
   "execution_count": 18,
   "id": "2b5bdf33",
   "metadata": {},
   "outputs": [
    {
     "data": {
      "text/html": [
       "<div>\n",
       "<style scoped>\n",
       "    .dataframe tbody tr th:only-of-type {\n",
       "        vertical-align: middle;\n",
       "    }\n",
       "\n",
       "    .dataframe tbody tr th {\n",
       "        vertical-align: top;\n",
       "    }\n",
       "\n",
       "    .dataframe thead th {\n",
       "        text-align: right;\n",
       "    }\n",
       "</style>\n",
       "<table border=\"1\" class=\"dataframe\">\n",
       "  <thead>\n",
       "    <tr style=\"text-align: right;\">\n",
       "      <th></th>\n",
       "      <th>Lyon</th>\n",
       "      <th>Pau</th>\n",
       "    </tr>\n",
       "  </thead>\n",
       "  <tbody>\n",
       "    <tr>\n",
       "      <th>chat</th>\n",
       "      <td>11</td>\n",
       "      <td>13</td>\n",
       "    </tr>\n",
       "    <tr>\n",
       "      <th>singe</th>\n",
       "      <td>21</td>\n",
       "      <td>23</td>\n",
       "    </tr>\n",
       "    <tr>\n",
       "      <th>souris</th>\n",
       "      <td>31</td>\n",
       "      <td>33</td>\n",
       "    </tr>\n",
       "  </tbody>\n",
       "</table>\n",
       "</div>"
      ],
      "text/plain": [
       "        Lyon  Pau\n",
       "chat      11   13\n",
       "singe     21   23\n",
       "souris    31   33"
      ]
     },
     "execution_count": 18,
     "metadata": {},
     "output_type": "execute_result"
    }
   ],
   "source": [
    "df[[\"Lyon\", \"Pau\"]]"
   ]
  },
  {
   "cell_type": "markdown",
   "id": "84f4a840",
   "metadata": {},
   "source": [
    "**Sélection de lignes**: Pour sélectionner une ligne, il faut utiliser l’instruction ```.loc()``` et l’étiquette de la ligne :"
   ]
  },
  {
   "cell_type": "code",
   "execution_count": 19,
   "id": "32f6f131",
   "metadata": {},
   "outputs": [
    {
     "data": {
      "text/plain": [
       "Paris     20\n",
       "Lyon      21\n",
       "Nantes    22\n",
       "Pau       23\n",
       "Name: singe, dtype: int64"
      ]
     },
     "execution_count": 19,
     "metadata": {},
     "output_type": "execute_result"
    }
   ],
   "source": [
    "df.loc[\"singe\"]"
   ]
  },
  {
   "cell_type": "markdown",
   "id": "83689966",
   "metadata": {},
   "source": [
    "Ici aussi, on peut sélectionner plusieurs lignes :"
   ]
  },
  {
   "cell_type": "code",
   "execution_count": 20,
   "id": "5d6db802",
   "metadata": {},
   "outputs": [
    {
     "data": {
      "text/html": [
       "<div>\n",
       "<style scoped>\n",
       "    .dataframe tbody tr th:only-of-type {\n",
       "        vertical-align: middle;\n",
       "    }\n",
       "\n",
       "    .dataframe tbody tr th {\n",
       "        vertical-align: top;\n",
       "    }\n",
       "\n",
       "    .dataframe thead th {\n",
       "        text-align: right;\n",
       "    }\n",
       "</style>\n",
       "<table border=\"1\" class=\"dataframe\">\n",
       "  <thead>\n",
       "    <tr style=\"text-align: right;\">\n",
       "      <th></th>\n",
       "      <th>Paris</th>\n",
       "      <th>Lyon</th>\n",
       "      <th>Nantes</th>\n",
       "      <th>Pau</th>\n",
       "    </tr>\n",
       "  </thead>\n",
       "  <tbody>\n",
       "    <tr>\n",
       "      <th>singe</th>\n",
       "      <td>20</td>\n",
       "      <td>21</td>\n",
       "      <td>22</td>\n",
       "      <td>23</td>\n",
       "    </tr>\n",
       "    <tr>\n",
       "      <th>chat</th>\n",
       "      <td>10</td>\n",
       "      <td>11</td>\n",
       "      <td>12</td>\n",
       "      <td>13</td>\n",
       "    </tr>\n",
       "  </tbody>\n",
       "</table>\n",
       "</div>"
      ],
      "text/plain": [
       "       Paris  Lyon  Nantes  Pau\n",
       "singe     20    21      22   23\n",
       "chat      10    11      12   13"
      ]
     },
     "execution_count": 20,
     "metadata": {},
     "output_type": "execute_result"
    }
   ],
   "source": [
    "df.loc[[\"singe\", \"chat\"]]"
   ]
  },
  {
   "cell_type": "markdown",
   "id": "5df5ac14",
   "metadata": {},
   "source": [
    "Enfin, on peut aussi sélectionner des lignes avec l’instruction ```.iloc``` et l’indice de la ligne (la première ligne ayant l’indice\n",
    "0) :"
   ]
  },
  {
   "cell_type": "code",
   "execution_count": 21,
   "id": "ed234828",
   "metadata": {},
   "outputs": [
    {
     "data": {
      "text/plain": [
       "Paris     20\n",
       "Lyon      21\n",
       "Nantes    22\n",
       "Pau       23\n",
       "Name: singe, dtype: int64"
      ]
     },
     "execution_count": 21,
     "metadata": {},
     "output_type": "execute_result"
    }
   ],
   "source": [
    "df.iloc[1]"
   ]
  },
  {
   "cell_type": "code",
   "execution_count": 22,
   "id": "1f11f18e",
   "metadata": {},
   "outputs": [
    {
     "data": {
      "text/html": [
       "<div>\n",
       "<style scoped>\n",
       "    .dataframe tbody tr th:only-of-type {\n",
       "        vertical-align: middle;\n",
       "    }\n",
       "\n",
       "    .dataframe tbody tr th {\n",
       "        vertical-align: top;\n",
       "    }\n",
       "\n",
       "    .dataframe thead th {\n",
       "        text-align: right;\n",
       "    }\n",
       "</style>\n",
       "<table border=\"1\" class=\"dataframe\">\n",
       "  <thead>\n",
       "    <tr style=\"text-align: right;\">\n",
       "      <th></th>\n",
       "      <th>Paris</th>\n",
       "      <th>Lyon</th>\n",
       "      <th>Nantes</th>\n",
       "      <th>Pau</th>\n",
       "    </tr>\n",
       "  </thead>\n",
       "  <tbody>\n",
       "    <tr>\n",
       "      <th>singe</th>\n",
       "      <td>20</td>\n",
       "      <td>21</td>\n",
       "      <td>22</td>\n",
       "      <td>23</td>\n",
       "    </tr>\n",
       "    <tr>\n",
       "      <th>chat</th>\n",
       "      <td>10</td>\n",
       "      <td>11</td>\n",
       "      <td>12</td>\n",
       "      <td>13</td>\n",
       "    </tr>\n",
       "  </tbody>\n",
       "</table>\n",
       "</div>"
      ],
      "text/plain": [
       "       Paris  Lyon  Nantes  Pau\n",
       "singe     20    21      22   23\n",
       "chat      10    11      12   13"
      ]
     },
     "execution_count": 22,
     "metadata": {},
     "output_type": "execute_result"
    }
   ],
   "source": [
    "df.iloc[[1,0]]"
   ]
  },
  {
   "cell_type": "markdown",
   "id": "9e0e4348",
   "metadata": {},
   "source": [
    "On peut également utiliser les tranches (comme pour les listes) :"
   ]
  },
  {
   "cell_type": "code",
   "execution_count": 23,
   "id": "a183e68e",
   "metadata": {},
   "outputs": [
    {
     "data": {
      "text/html": [
       "<div>\n",
       "<style scoped>\n",
       "    .dataframe tbody tr th:only-of-type {\n",
       "        vertical-align: middle;\n",
       "    }\n",
       "\n",
       "    .dataframe tbody tr th {\n",
       "        vertical-align: top;\n",
       "    }\n",
       "\n",
       "    .dataframe thead th {\n",
       "        text-align: right;\n",
       "    }\n",
       "</style>\n",
       "<table border=\"1\" class=\"dataframe\">\n",
       "  <thead>\n",
       "    <tr style=\"text-align: right;\">\n",
       "      <th></th>\n",
       "      <th>Paris</th>\n",
       "      <th>Lyon</th>\n",
       "      <th>Nantes</th>\n",
       "      <th>Pau</th>\n",
       "    </tr>\n",
       "  </thead>\n",
       "  <tbody>\n",
       "    <tr>\n",
       "      <th>chat</th>\n",
       "      <td>10</td>\n",
       "      <td>11</td>\n",
       "      <td>12</td>\n",
       "      <td>13</td>\n",
       "    </tr>\n",
       "    <tr>\n",
       "      <th>singe</th>\n",
       "      <td>20</td>\n",
       "      <td>21</td>\n",
       "      <td>22</td>\n",
       "      <td>23</td>\n",
       "    </tr>\n",
       "  </tbody>\n",
       "</table>\n",
       "</div>"
      ],
      "text/plain": [
       "       Paris  Lyon  Nantes  Pau\n",
       "chat      10    11      12   13\n",
       "singe     20    21      22   23"
      ]
     },
     "execution_count": 23,
     "metadata": {},
     "output_type": "execute_result"
    }
   ],
   "source": [
    "df.iloc[0:2]"
   ]
  },
  {
   "cell_type": "markdown",
   "id": "fa40dd15",
   "metadata": {},
   "source": [
    "**Sélection sur les lignes et les colonnes**: On peut bien sûr combiner les deux types de sélection (en ligne et en colonne) :"
   ]
  },
  {
   "cell_type": "code",
   "execution_count": 24,
   "id": "4091d948",
   "metadata": {},
   "outputs": [
    {
     "data": {
      "text/plain": [
       "33"
      ]
     },
     "execution_count": 24,
     "metadata": {},
     "output_type": "execute_result"
    }
   ],
   "source": [
    "df.loc[\"souris\", \"Pau\"]"
   ]
  },
  {
   "cell_type": "markdown",
   "id": "ff69e3a4",
   "metadata": {},
   "source": [
    "Notez qu’à partir du moment où on souhaite effectuer une sélection sur des lignes, il faut utiliser loc (ou iloc si on utilise les indices).\n"
   ]
  },
  {
   "cell_type": "markdown",
   "id": "ec2e32cb",
   "metadata": {},
   "source": [
    "**Sélection par condition**: Rappelez-nous d’abord le contenu du dataframe df : "
   ]
  },
  {
   "cell_type": "code",
   "execution_count": 25,
   "id": "2a77f367",
   "metadata": {},
   "outputs": [
    {
     "data": {
      "text/html": [
       "<div>\n",
       "<style scoped>\n",
       "    .dataframe tbody tr th:only-of-type {\n",
       "        vertical-align: middle;\n",
       "    }\n",
       "\n",
       "    .dataframe tbody tr th {\n",
       "        vertical-align: top;\n",
       "    }\n",
       "\n",
       "    .dataframe thead th {\n",
       "        text-align: right;\n",
       "    }\n",
       "</style>\n",
       "<table border=\"1\" class=\"dataframe\">\n",
       "  <thead>\n",
       "    <tr style=\"text-align: right;\">\n",
       "      <th></th>\n",
       "      <th>Paris</th>\n",
       "      <th>Lyon</th>\n",
       "      <th>Nantes</th>\n",
       "      <th>Pau</th>\n",
       "    </tr>\n",
       "  </thead>\n",
       "  <tbody>\n",
       "    <tr>\n",
       "      <th>chat</th>\n",
       "      <td>10</td>\n",
       "      <td>11</td>\n",
       "      <td>12</td>\n",
       "      <td>13</td>\n",
       "    </tr>\n",
       "    <tr>\n",
       "      <th>singe</th>\n",
       "      <td>20</td>\n",
       "      <td>21</td>\n",
       "      <td>22</td>\n",
       "      <td>23</td>\n",
       "    </tr>\n",
       "    <tr>\n",
       "      <th>souris</th>\n",
       "      <td>30</td>\n",
       "      <td>31</td>\n",
       "      <td>32</td>\n",
       "      <td>33</td>\n",
       "    </tr>\n",
       "  </tbody>\n",
       "</table>\n",
       "</div>"
      ],
      "text/plain": [
       "        Paris  Lyon  Nantes  Pau\n",
       "chat       10    11      12   13\n",
       "singe      20    21      22   23\n",
       "souris     30    31      32   33"
      ]
     },
     "execution_count": 25,
     "metadata": {},
     "output_type": "execute_result"
    }
   ],
   "source": [
    "df"
   ]
  },
  {
   "cell_type": "markdown",
   "id": "99b15aba",
   "metadata": {},
   "source": [
    "Sélectionnons maintenant toutes les lignes pour lesquelles les effectifs à Pau sont supérieurs à 15 :"
   ]
  },
  {
   "cell_type": "code",
   "execution_count": 26,
   "id": "c8dee0e7",
   "metadata": {},
   "outputs": [
    {
     "data": {
      "text/html": [
       "<div>\n",
       "<style scoped>\n",
       "    .dataframe tbody tr th:only-of-type {\n",
       "        vertical-align: middle;\n",
       "    }\n",
       "\n",
       "    .dataframe tbody tr th {\n",
       "        vertical-align: top;\n",
       "    }\n",
       "\n",
       "    .dataframe thead th {\n",
       "        text-align: right;\n",
       "    }\n",
       "</style>\n",
       "<table border=\"1\" class=\"dataframe\">\n",
       "  <thead>\n",
       "    <tr style=\"text-align: right;\">\n",
       "      <th></th>\n",
       "      <th>Paris</th>\n",
       "      <th>Lyon</th>\n",
       "      <th>Nantes</th>\n",
       "      <th>Pau</th>\n",
       "    </tr>\n",
       "  </thead>\n",
       "  <tbody>\n",
       "    <tr>\n",
       "      <th>singe</th>\n",
       "      <td>20</td>\n",
       "      <td>21</td>\n",
       "      <td>22</td>\n",
       "      <td>23</td>\n",
       "    </tr>\n",
       "    <tr>\n",
       "      <th>souris</th>\n",
       "      <td>30</td>\n",
       "      <td>31</td>\n",
       "      <td>32</td>\n",
       "      <td>33</td>\n",
       "    </tr>\n",
       "  </tbody>\n",
       "</table>\n",
       "</div>"
      ],
      "text/plain": [
       "        Paris  Lyon  Nantes  Pau\n",
       "singe      20    21      22   23\n",
       "souris     30    31      32   33"
      ]
     },
     "execution_count": 26,
     "metadata": {},
     "output_type": "execute_result"
    }
   ],
   "source": [
    "df[df[\"Pau\"]>15]"
   ]
  },
  {
   "cell_type": "markdown",
   "id": "43b54bbf",
   "metadata": {},
   "source": [
    "De cette sélection, on ne souhaite garder que les valeurs pour Lyon :"
   ]
  },
  {
   "cell_type": "code",
   "execution_count": 27,
   "id": "018b58da",
   "metadata": {},
   "outputs": [
    {
     "data": {
      "text/plain": [
       "singe     21\n",
       "souris    31\n",
       "Name: Lyon, dtype: int64"
      ]
     },
     "execution_count": 27,
     "metadata": {},
     "output_type": "execute_result"
    }
   ],
   "source": [
    "df[ df[\"Pau\"]>15 ][\"Lyon\"]"
   ]
  },
  {
   "cell_type": "markdown",
   "id": "dea2a643",
   "metadata": {},
   "source": [
    "On peut aussi combiner plusieurs conditions avec ```&``` pour l’opérateur ```et``` :"
   ]
  },
  {
   "cell_type": "code",
   "execution_count": 28,
   "id": "c01f66cb",
   "metadata": {},
   "outputs": [
    {
     "data": {
      "text/html": [
       "<div>\n",
       "<style scoped>\n",
       "    .dataframe tbody tr th:only-of-type {\n",
       "        vertical-align: middle;\n",
       "    }\n",
       "\n",
       "    .dataframe tbody tr th {\n",
       "        vertical-align: top;\n",
       "    }\n",
       "\n",
       "    .dataframe thead th {\n",
       "        text-align: right;\n",
       "    }\n",
       "</style>\n",
       "<table border=\"1\" class=\"dataframe\">\n",
       "  <thead>\n",
       "    <tr style=\"text-align: right;\">\n",
       "      <th></th>\n",
       "      <th>Paris</th>\n",
       "      <th>Lyon</th>\n",
       "      <th>Nantes</th>\n",
       "      <th>Pau</th>\n",
       "    </tr>\n",
       "  </thead>\n",
       "  <tbody>\n",
       "    <tr>\n",
       "      <th>souris</th>\n",
       "      <td>30</td>\n",
       "      <td>31</td>\n",
       "      <td>32</td>\n",
       "      <td>33</td>\n",
       "    </tr>\n",
       "  </tbody>\n",
       "</table>\n",
       "</div>"
      ],
      "text/plain": [
       "        Paris  Lyon  Nantes  Pau\n",
       "souris     30    31      32   33"
      ]
     },
     "execution_count": 28,
     "metadata": {},
     "output_type": "execute_result"
    }
   ],
   "source": [
    "df[ (df[\"Pau\"]>15) & (df[\"Lyon\"]>25) ]"
   ]
  },
  {
   "cell_type": "markdown",
   "id": "8ccf5e20",
   "metadata": {},
   "source": [
    "et ```|``` pour l’opérateur ```ou``` :"
   ]
  },
  {
   "cell_type": "code",
   "execution_count": 29,
   "id": "eb8b3d8e",
   "metadata": {},
   "outputs": [
    {
     "data": {
      "text/html": [
       "<div>\n",
       "<style scoped>\n",
       "    .dataframe tbody tr th:only-of-type {\n",
       "        vertical-align: middle;\n",
       "    }\n",
       "\n",
       "    .dataframe tbody tr th {\n",
       "        vertical-align: top;\n",
       "    }\n",
       "\n",
       "    .dataframe thead th {\n",
       "        text-align: right;\n",
       "    }\n",
       "</style>\n",
       "<table border=\"1\" class=\"dataframe\">\n",
       "  <thead>\n",
       "    <tr style=\"text-align: right;\">\n",
       "      <th></th>\n",
       "      <th>Paris</th>\n",
       "      <th>Lyon</th>\n",
       "      <th>Nantes</th>\n",
       "      <th>Pau</th>\n",
       "    </tr>\n",
       "  </thead>\n",
       "  <tbody>\n",
       "    <tr>\n",
       "      <th>singe</th>\n",
       "      <td>20</td>\n",
       "      <td>21</td>\n",
       "      <td>22</td>\n",
       "      <td>23</td>\n",
       "    </tr>\n",
       "    <tr>\n",
       "      <th>souris</th>\n",
       "      <td>30</td>\n",
       "      <td>31</td>\n",
       "      <td>32</td>\n",
       "      <td>33</td>\n",
       "    </tr>\n",
       "  </tbody>\n",
       "</table>\n",
       "</div>"
      ],
      "text/plain": [
       "        Paris  Lyon  Nantes  Pau\n",
       "singe      20    21      22   23\n",
       "souris     30    31      32   33"
      ]
     },
     "execution_count": 29,
     "metadata": {},
     "output_type": "execute_result"
    }
   ],
   "source": [
    "df[ (df[\"Pau\"]>15) | (df[\"Lyon\"]>25) ]"
   ]
  },
  {
   "cell_type": "markdown",
   "id": "185910b2",
   "metadata": {},
   "source": [
    "### Combinaison de dataframes"
   ]
  },
  {
   "cell_type": "markdown",
   "id": "dbd95f3a",
   "metadata": {},
   "source": [
    "En biologie, on a souvent besoin de combiner deux tableaux de chiffres à partir d’une colonne commune.\n",
    "Par exemple, si on considère les deux dataframes suivants :"
   ]
  },
  {
   "cell_type": "code",
   "execution_count": 30,
   "id": "7178d8a0",
   "metadata": {},
   "outputs": [
    {
     "data": {
      "text/html": [
       "<div>\n",
       "<style scoped>\n",
       "    .dataframe tbody tr th:only-of-type {\n",
       "        vertical-align: middle;\n",
       "    }\n",
       "\n",
       "    .dataframe tbody tr th {\n",
       "        vertical-align: top;\n",
       "    }\n",
       "\n",
       "    .dataframe thead th {\n",
       "        text-align: right;\n",
       "    }\n",
       "</style>\n",
       "<table border=\"1\" class=\"dataframe\">\n",
       "  <thead>\n",
       "    <tr style=\"text-align: right;\">\n",
       "      <th></th>\n",
       "      <th>Lyon</th>\n",
       "      <th>Paris</th>\n",
       "    </tr>\n",
       "  </thead>\n",
       "  <tbody>\n",
       "    <tr>\n",
       "      <th>chat</th>\n",
       "      <td>10</td>\n",
       "      <td>3</td>\n",
       "    </tr>\n",
       "    <tr>\n",
       "      <th>singe</th>\n",
       "      <td>23</td>\n",
       "      <td>15</td>\n",
       "    </tr>\n",
       "    <tr>\n",
       "      <th>souris</th>\n",
       "      <td>17</td>\n",
       "      <td>20</td>\n",
       "    </tr>\n",
       "  </tbody>\n",
       "</table>\n",
       "</div>"
      ],
      "text/plain": [
       "        Lyon  Paris\n",
       "chat      10      3\n",
       "singe     23     15\n",
       "souris    17     20"
      ]
     },
     "execution_count": 30,
     "metadata": {},
     "output_type": "execute_result"
    }
   ],
   "source": [
    "data1 = {\"Lyon\": [10, 23, 17], \"Paris\": [3, 15, 20]}\n",
    "df1 = pd.DataFrame.from_dict(data1)\n",
    "df1.index = [\"chat\", \"singe\", \"souris\"]\n",
    "df1"
   ]
  },
  {
   "cell_type": "code",
   "execution_count": 31,
   "id": "c83663c6",
   "metadata": {},
   "outputs": [
    {
     "data": {
      "text/html": [
       "<div>\n",
       "<style scoped>\n",
       "    .dataframe tbody tr th:only-of-type {\n",
       "        vertical-align: middle;\n",
       "    }\n",
       "\n",
       "    .dataframe tbody tr th {\n",
       "        vertical-align: top;\n",
       "    }\n",
       "\n",
       "    .dataframe thead th {\n",
       "        text-align: right;\n",
       "    }\n",
       "</style>\n",
       "<table border=\"1\" class=\"dataframe\">\n",
       "  <thead>\n",
       "    <tr style=\"text-align: right;\">\n",
       "      <th></th>\n",
       "      <th>Nantes</th>\n",
       "      <th>Strasbourg</th>\n",
       "    </tr>\n",
       "  </thead>\n",
       "  <tbody>\n",
       "    <tr>\n",
       "      <th>chat</th>\n",
       "      <td>3</td>\n",
       "      <td>5</td>\n",
       "    </tr>\n",
       "    <tr>\n",
       "      <th>souris</th>\n",
       "      <td>9</td>\n",
       "      <td>10</td>\n",
       "    </tr>\n",
       "    <tr>\n",
       "      <th>lapin</th>\n",
       "      <td>14</td>\n",
       "      <td>8</td>\n",
       "    </tr>\n",
       "  </tbody>\n",
       "</table>\n",
       "</div>"
      ],
      "text/plain": [
       "        Nantes  Strasbourg\n",
       "chat         3           5\n",
       "souris       9          10\n",
       "lapin       14           8"
      ]
     },
     "execution_count": 31,
     "metadata": {},
     "output_type": "execute_result"
    }
   ],
   "source": [
    "data2 = {\"Nantes\": [3, 9, 14], \"Strasbourg\": [5, 10, 8]}\n",
    "df2 = pd.DataFrame.from_dict(data2)\n",
    "df2.index = [\"chat\", \"souris\", \"lapin\"]\n",
    "df2"
   ]
  },
  {
   "cell_type": "markdown",
   "id": "02a38af7",
   "metadata": {},
   "source": [
    "On souhaite combiner ces deux dataframes, c’est-à-dire connaître pour les 4 villes (Lyon, Paris, Nantes et Strasbourg) le nombre d’animaux. On remarque d’ores et déjà qu’il y a des singes à Lyon et Paris mais pas de lapin et qu’il y a des lapins à Nantes et Strasbourg mais pas de singe. \n",
    "\n",
    "Nous allons voir comment gérer cette situation.\n",
    "\n",
    "**pandas** propose pour cela la fonction ```concat()``` qui prend comme argument une liste de dataframes: "
   ]
  },
  {
   "cell_type": "code",
   "execution_count": 32,
   "id": "03627e85",
   "metadata": {},
   "outputs": [
    {
     "data": {
      "text/html": [
       "<div>\n",
       "<style scoped>\n",
       "    .dataframe tbody tr th:only-of-type {\n",
       "        vertical-align: middle;\n",
       "    }\n",
       "\n",
       "    .dataframe tbody tr th {\n",
       "        vertical-align: top;\n",
       "    }\n",
       "\n",
       "    .dataframe thead th {\n",
       "        text-align: right;\n",
       "    }\n",
       "</style>\n",
       "<table border=\"1\" class=\"dataframe\">\n",
       "  <thead>\n",
       "    <tr style=\"text-align: right;\">\n",
       "      <th></th>\n",
       "      <th>Lyon</th>\n",
       "      <th>Paris</th>\n",
       "      <th>Nantes</th>\n",
       "      <th>Strasbourg</th>\n",
       "    </tr>\n",
       "  </thead>\n",
       "  <tbody>\n",
       "    <tr>\n",
       "      <th>chat</th>\n",
       "      <td>10.0</td>\n",
       "      <td>3.0</td>\n",
       "      <td>NaN</td>\n",
       "      <td>NaN</td>\n",
       "    </tr>\n",
       "    <tr>\n",
       "      <th>singe</th>\n",
       "      <td>23.0</td>\n",
       "      <td>15.0</td>\n",
       "      <td>NaN</td>\n",
       "      <td>NaN</td>\n",
       "    </tr>\n",
       "    <tr>\n",
       "      <th>souris</th>\n",
       "      <td>17.0</td>\n",
       "      <td>20.0</td>\n",
       "      <td>NaN</td>\n",
       "      <td>NaN</td>\n",
       "    </tr>\n",
       "    <tr>\n",
       "      <th>chat</th>\n",
       "      <td>NaN</td>\n",
       "      <td>NaN</td>\n",
       "      <td>3.0</td>\n",
       "      <td>5.0</td>\n",
       "    </tr>\n",
       "    <tr>\n",
       "      <th>souris</th>\n",
       "      <td>NaN</td>\n",
       "      <td>NaN</td>\n",
       "      <td>9.0</td>\n",
       "      <td>10.0</td>\n",
       "    </tr>\n",
       "    <tr>\n",
       "      <th>lapin</th>\n",
       "      <td>NaN</td>\n",
       "      <td>NaN</td>\n",
       "      <td>14.0</td>\n",
       "      <td>8.0</td>\n",
       "    </tr>\n",
       "  </tbody>\n",
       "</table>\n",
       "</div>"
      ],
      "text/plain": [
       "        Lyon  Paris  Nantes  Strasbourg\n",
       "chat    10.0    3.0     NaN         NaN\n",
       "singe   23.0   15.0     NaN         NaN\n",
       "souris  17.0   20.0     NaN         NaN\n",
       "chat     NaN    NaN     3.0         5.0\n",
       "souris   NaN    NaN     9.0        10.0\n",
       "lapin    NaN    NaN    14.0         8.0"
      ]
     },
     "execution_count": 32,
     "metadata": {},
     "output_type": "execute_result"
    }
   ],
   "source": [
    "pd.concat([df1, df2])"
   ]
  },
  {
   "cell_type": "markdown",
   "id": "35376009",
   "metadata": {},
   "source": [
    "Ici, NaN indique des valeurs manquantes. Mais le résultat obtenu n’est pas celui que nous attendions puisque les lignes de deux dataframes ont été recopiées.\n",
    "L’argument supplémentaire axis=1 produit le résultat attendu :"
   ]
  },
  {
   "cell_type": "code",
   "execution_count": 33,
   "id": "2894173a",
   "metadata": {},
   "outputs": [
    {
     "data": {
      "text/html": [
       "<div>\n",
       "<style scoped>\n",
       "    .dataframe tbody tr th:only-of-type {\n",
       "        vertical-align: middle;\n",
       "    }\n",
       "\n",
       "    .dataframe tbody tr th {\n",
       "        vertical-align: top;\n",
       "    }\n",
       "\n",
       "    .dataframe thead th {\n",
       "        text-align: right;\n",
       "    }\n",
       "</style>\n",
       "<table border=\"1\" class=\"dataframe\">\n",
       "  <thead>\n",
       "    <tr style=\"text-align: right;\">\n",
       "      <th></th>\n",
       "      <th>Lyon</th>\n",
       "      <th>Paris</th>\n",
       "      <th>Nantes</th>\n",
       "      <th>Strasbourg</th>\n",
       "    </tr>\n",
       "  </thead>\n",
       "  <tbody>\n",
       "    <tr>\n",
       "      <th>chat</th>\n",
       "      <td>10.0</td>\n",
       "      <td>3.0</td>\n",
       "      <td>3.0</td>\n",
       "      <td>5.0</td>\n",
       "    </tr>\n",
       "    <tr>\n",
       "      <th>singe</th>\n",
       "      <td>23.0</td>\n",
       "      <td>15.0</td>\n",
       "      <td>NaN</td>\n",
       "      <td>NaN</td>\n",
       "    </tr>\n",
       "    <tr>\n",
       "      <th>souris</th>\n",
       "      <td>17.0</td>\n",
       "      <td>20.0</td>\n",
       "      <td>9.0</td>\n",
       "      <td>10.0</td>\n",
       "    </tr>\n",
       "    <tr>\n",
       "      <th>lapin</th>\n",
       "      <td>NaN</td>\n",
       "      <td>NaN</td>\n",
       "      <td>14.0</td>\n",
       "      <td>8.0</td>\n",
       "    </tr>\n",
       "  </tbody>\n",
       "</table>\n",
       "</div>"
      ],
      "text/plain": [
       "        Lyon  Paris  Nantes  Strasbourg\n",
       "chat    10.0    3.0     3.0         5.0\n",
       "singe   23.0   15.0     NaN         NaN\n",
       "souris  17.0   20.0     9.0        10.0\n",
       "lapin    NaN    NaN    14.0         8.0"
      ]
     },
     "execution_count": 33,
     "metadata": {},
     "output_type": "execute_result"
    }
   ],
   "source": [
    "pd.concat([df1, df2], axis=1)"
   ]
  },
  {
   "cell_type": "markdown",
   "id": "9ec9460d",
   "metadata": {},
   "source": [
    "Par défaut, pandas va conserver le plus de lignes possible. Si on ne souhaite conserver que les lignes communes aux deux dataframes, il faut ajouter l’argument join=\"inner\" :"
   ]
  },
  {
   "cell_type": "code",
   "execution_count": 34,
   "id": "d558c59a",
   "metadata": {},
   "outputs": [
    {
     "data": {
      "text/html": [
       "<div>\n",
       "<style scoped>\n",
       "    .dataframe tbody tr th:only-of-type {\n",
       "        vertical-align: middle;\n",
       "    }\n",
       "\n",
       "    .dataframe tbody tr th {\n",
       "        vertical-align: top;\n",
       "    }\n",
       "\n",
       "    .dataframe thead th {\n",
       "        text-align: right;\n",
       "    }\n",
       "</style>\n",
       "<table border=\"1\" class=\"dataframe\">\n",
       "  <thead>\n",
       "    <tr style=\"text-align: right;\">\n",
       "      <th></th>\n",
       "      <th>Lyon</th>\n",
       "      <th>Paris</th>\n",
       "      <th>Nantes</th>\n",
       "      <th>Strasbourg</th>\n",
       "    </tr>\n",
       "  </thead>\n",
       "  <tbody>\n",
       "    <tr>\n",
       "      <th>chat</th>\n",
       "      <td>10</td>\n",
       "      <td>3</td>\n",
       "      <td>3</td>\n",
       "      <td>5</td>\n",
       "    </tr>\n",
       "    <tr>\n",
       "      <th>souris</th>\n",
       "      <td>17</td>\n",
       "      <td>20</td>\n",
       "      <td>9</td>\n",
       "      <td>10</td>\n",
       "    </tr>\n",
       "  </tbody>\n",
       "</table>\n",
       "</div>"
      ],
      "text/plain": [
       "        Lyon  Paris  Nantes  Strasbourg\n",
       "chat      10      3       3           5\n",
       "souris    17     20       9          10"
      ]
     },
     "execution_count": 34,
     "metadata": {},
     "output_type": "execute_result"
    }
   ],
   "source": [
    "pd.concat([df1, df2], axis=1, join=\"inner\")"
   ]
  },
  {
   "cell_type": "markdown",
   "id": "a8b5754e",
   "metadata": {},
   "source": [
    "Un autre comportement par défaut de ```concat()``` est que cette fonction va combiner les dataframes en se basant sur leurs index. Il est néanmoins possible de préciser, pour chaque dataframe, le nom de la colonne qui sera utilisée comme référence avec l’argument join_axes."
   ]
  },
  {
   "cell_type": "markdown",
   "id": "5971332c",
   "metadata": {},
   "source": [
    "## Illustration de possibilités de pandas"
   ]
  },
  {
   "cell_type": "markdown",
   "id": "80d415c1",
   "metadata": {},
   "source": [
    "Le fichier ```transferrin_report.cs``` contient une liste de structures de la *transferrine 32*. Cette protéine est responsable du transport du fer dans l’organisme.\n",
    "\n",
    "Voyons maintenant comment explorer les données contenues dans ce fichier avec pandas."
   ]
  },
  {
   "cell_type": "markdown",
   "id": "28b3273f",
   "metadata": {},
   "source": [
    "### Prise de contact avec le jeu de données"
   ]
  },
  {
   "cell_type": "markdown",
   "id": "c49563b4",
   "metadata": {},
   "source": [
    "Une fonctionnalité très intéressante de pandas est d’ouvrir très facilement un fichier au format .csv :"
   ]
  },
  {
   "cell_type": "code",
   "execution_count": 35,
   "id": "cb1bf7ad",
   "metadata": {},
   "outputs": [],
   "source": [
    "import pandas as pd\n",
    "df = pd.read_csv(\"transferrin_report.csv\")"
   ]
  },
  {
   "cell_type": "markdown",
   "id": "9219ab95",
   "metadata": {},
   "source": [
    "Le contenu est chargé sous la forme d’un dataframe dans la variable df.\n",
    "Le fichier contient 41 lignes de données plus une ligne d’en-tête. Cette dernière est automatiquement utilisée par pandas pour nommer les différentes colonnes. Voici un aperçu des premières lignes :"
   ]
  },
  {
   "cell_type": "code",
   "execution_count": null,
   "id": "3533b3a1",
   "metadata": {},
   "outputs": [],
   "source": [
    "df"
   ]
  },
  {
   "cell_type": "markdown",
   "id": "51857fc5",
   "metadata": {},
   "source": [
    "Nous avons 5 colonnes de données :\n",
    "* l’identifiantdelastructure(PDB ID);\n",
    "* l’organisme d’où provient cette protéine (Source) ;\n",
    "* la date à laquelle cette structure a été déposée dans la Protein Data Bank (Deposit Date) ;\n",
    "* le nombre d’acides aminés qui constituent la protéine (Length) ;\n",
    "* et la masse molaire de la protéine (MW).\n",
    "La colonne d’entiers tout à gauche est un index automatiquement créé par pandas. Nous pouvons demander à pandas d’utiliser une colonne particulière comme index.\n",
    "La colonne PDB IDs’y prête très bien car cette colonne ne contient que des identifiants uniques :"
   ]
  },
  {
   "cell_type": "code",
   "execution_count": 37,
   "id": "d3dd03ed",
   "metadata": {},
   "outputs": [
    {
     "data": {
      "text/html": [
       "<div>\n",
       "<style scoped>\n",
       "    .dataframe tbody tr th:only-of-type {\n",
       "        vertical-align: middle;\n",
       "    }\n",
       "\n",
       "    .dataframe tbody tr th {\n",
       "        vertical-align: top;\n",
       "    }\n",
       "\n",
       "    .dataframe thead th {\n",
       "        text-align: right;\n",
       "    }\n",
       "</style>\n",
       "<table border=\"1\" class=\"dataframe\">\n",
       "  <thead>\n",
       "    <tr style=\"text-align: right;\">\n",
       "      <th></th>\n",
       "      <th>Source</th>\n",
       "      <th>Deposit Date</th>\n",
       "      <th>Length</th>\n",
       "      <th>MW</th>\n",
       "    </tr>\n",
       "    <tr>\n",
       "      <th>PDB ID</th>\n",
       "      <th></th>\n",
       "      <th></th>\n",
       "      <th></th>\n",
       "      <th></th>\n",
       "    </tr>\n",
       "  </thead>\n",
       "  <tbody>\n",
       "    <tr>\n",
       "      <th>1A8E</th>\n",
       "      <td>Homo sapiens</td>\n",
       "      <td>1998-03-24</td>\n",
       "      <td>329</td>\n",
       "      <td>36408.4</td>\n",
       "    </tr>\n",
       "    <tr>\n",
       "      <th>1A8F</th>\n",
       "      <td>Homo sapiens</td>\n",
       "      <td>1998-03-25</td>\n",
       "      <td>329</td>\n",
       "      <td>36408.4</td>\n",
       "    </tr>\n",
       "    <tr>\n",
       "      <th>1AIV</th>\n",
       "      <td>Gallus gallus</td>\n",
       "      <td>1997-04-28</td>\n",
       "      <td>686</td>\n",
       "      <td>75929.0</td>\n",
       "    </tr>\n",
       "    <tr>\n",
       "      <th>1AOV</th>\n",
       "      <td>Anas platyrhynchos</td>\n",
       "      <td>1996-12-11</td>\n",
       "      <td>686</td>\n",
       "      <td>75731.8</td>\n",
       "    </tr>\n",
       "    <tr>\n",
       "      <th>1B3E</th>\n",
       "      <td>Homo sapiens</td>\n",
       "      <td>1998-12-09</td>\n",
       "      <td>330</td>\n",
       "      <td>36505.5</td>\n",
       "    </tr>\n",
       "  </tbody>\n",
       "</table>\n",
       "</div>"
      ],
      "text/plain": [
       "                    Source Deposit Date  Length       MW\n",
       "PDB ID                                                  \n",
       "1A8E          Homo sapiens   1998-03-24     329  36408.4\n",
       "1A8F          Homo sapiens   1998-03-25     329  36408.4\n",
       "1AIV         Gallus gallus   1997-04-28     686  75929.0\n",
       "1AOV    Anas platyrhynchos   1996-12-11     686  75731.8\n",
       "1B3E          Homo sapiens   1998-12-09     330  36505.5"
      ]
     },
     "execution_count": 37,
     "metadata": {},
     "output_type": "execute_result"
    }
   ],
   "source": [
    "df = pd.read_csv(\"transferrin_report.csv\", index_col=\"PDB ID\")\n",
    "df.head()"
   ]
  },
  {
   "cell_type": "markdown",
   "id": "ec2f0e7c",
   "metadata": {},
   "source": [
    "Avant d’analyser un jeu de données, il est intéressant de l’explorer un peu. Par exemple, connaître ses dimensions :"
   ]
  },
  {
   "cell_type": "code",
   "execution_count": 38,
   "id": "3642227a",
   "metadata": {},
   "outputs": [
    {
     "data": {
      "text/plain": [
       "(41, 4)"
      ]
     },
     "execution_count": 38,
     "metadata": {},
     "output_type": "execute_result"
    }
   ],
   "source": [
    "df.shape"
   ]
  },
  {
   "cell_type": "markdown",
   "id": "bde204fd",
   "metadata": {},
   "source": [
    "Notre jeu de données contient donc 41 lignes et 4 colonnes. En effet, la colonne PDB ID est maintenant utilisée comme index et n’est donc plus prise en compte.\n",
    "\n",
    "Il est aussi intéressant de savoir de quel type de données est constituée chaque colonne :"
   ]
  },
  {
   "cell_type": "code",
   "execution_count": 39,
   "id": "0451a566",
   "metadata": {},
   "outputs": [
    {
     "data": {
      "text/plain": [
       "Source           object\n",
       "Deposit Date     object\n",
       "Length            int64\n",
       "MW              float64\n",
       "dtype: object"
      ]
     },
     "execution_count": 39,
     "metadata": {},
     "output_type": "execute_result"
    }
   ],
   "source": [
    "df.dtypes"
   ]
  },
  {
   "cell_type": "markdown",
   "id": "6b8fea05",
   "metadata": {},
   "source": [
    "Les colonnes ```Length``` et ```MW``` contiennent des valeurs numériques, respectivement des entiers (int64) et des floats (float64). Le type object est un type par défaut.\n",
    "La méthode ```.info()``` permet d’aller un peu plus loin dans l’exploration du jeu de données en combinant les informations produites par les propriétés ```.shape``` et ```.dtypes``` :"
   ]
  },
  {
   "cell_type": "code",
   "execution_count": 40,
   "id": "adf075f6",
   "metadata": {},
   "outputs": [
    {
     "name": "stdout",
     "output_type": "stream",
     "text": [
      "<class 'pandas.core.frame.DataFrame'>\n",
      "Index: 41 entries, 1A8E to 6CTC\n",
      "Data columns (total 4 columns):\n",
      " #   Column        Non-Null Count  Dtype  \n",
      "---  ------        --------------  -----  \n",
      " 0   Source        41 non-null     object \n",
      " 1   Deposit Date  41 non-null     object \n",
      " 2   Length        41 non-null     int64  \n",
      " 3   MW            41 non-null     float64\n",
      "dtypes: float64(1), int64(1), object(2)\n",
      "memory usage: 1.6+ KB\n"
     ]
    }
   ],
   "source": [
    "df.info()"
   ]
  },
  {
   "cell_type": "markdown",
   "id": "4c628dd7",
   "metadata": {},
   "source": [
    "Avec l’argument ```memory_usage=\"deep\"```, cette méthode permet surtout de connaitre avec précision la taille de l’espace mémoire occupé par le dataframe :"
   ]
  },
  {
   "cell_type": "code",
   "execution_count": 41,
   "id": "ffe1dd82",
   "metadata": {},
   "outputs": [
    {
     "name": "stdout",
     "output_type": "stream",
     "text": [
      "<class 'pandas.core.frame.DataFrame'>\n",
      "Index: 41 entries, 1A8E to 6CTC\n",
      "Data columns (total 4 columns):\n",
      " #   Column        Non-Null Count  Dtype  \n",
      "---  ------        --------------  -----  \n",
      " 0   Source        41 non-null     object \n",
      " 1   Deposit Date  41 non-null     object \n",
      " 2   Length        41 non-null     int64  \n",
      " 3   MW            41 non-null     float64\n",
      "dtypes: float64(1), int64(1), object(2)\n",
      "memory usage: 8.6 KB\n"
     ]
    }
   ],
   "source": [
    "df.info(memory_usage=\"deep\")"
   ]
  },
  {
   "cell_type": "markdown",
   "id": "78f7f2d3",
   "metadata": {},
   "source": [
    "Ici, le dataframe occupe ```8,6 ko``` en mémoire."
   ]
  },
  {
   "cell_type": "markdown",
   "id": "3879af65",
   "metadata": {},
   "source": [
    "### Conversion en date"
   ]
  },
  {
   "cell_type": "markdown",
   "id": "fc473a55",
   "metadata": {},
   "source": [
    "Le type object correspond la plupart du temps à des chaînes de caractères. C’est tout à fait légitime pour la colonne Source. Mais on sait par contre que la colonne ```Deposit Date``` est une date sous la forme```année-mois-jour```.\n",
    "Si le format de date utilisé est homogène sur tout le jeu de données et non ambigu, *pandas* va se débrouiller pour trouver automatiquement le format de date utilisé. On peut alors explicitement demander à *pandas* de considérer la colonne ```Deposit Date``` comme une date :"
   ]
  },
  {
   "cell_type": "code",
   "execution_count": 42,
   "id": "c9122ffd",
   "metadata": {},
   "outputs": [],
   "source": [
    "df[\"Deposit Date\"] = pd.to_datetime(df[\"Deposit Date\"])"
   ]
  },
  {
   "cell_type": "markdown",
   "id": "a6a9e822",
   "metadata": {},
   "source": [
    "L’affichage des données n’est pas modifié :"
   ]
  },
  {
   "cell_type": "code",
   "execution_count": 43,
   "id": "9e9e204c",
   "metadata": {},
   "outputs": [
    {
     "data": {
      "text/html": [
       "<div>\n",
       "<style scoped>\n",
       "    .dataframe tbody tr th:only-of-type {\n",
       "        vertical-align: middle;\n",
       "    }\n",
       "\n",
       "    .dataframe tbody tr th {\n",
       "        vertical-align: top;\n",
       "    }\n",
       "\n",
       "    .dataframe thead th {\n",
       "        text-align: right;\n",
       "    }\n",
       "</style>\n",
       "<table border=\"1\" class=\"dataframe\">\n",
       "  <thead>\n",
       "    <tr style=\"text-align: right;\">\n",
       "      <th></th>\n",
       "      <th>Source</th>\n",
       "      <th>Deposit Date</th>\n",
       "      <th>Length</th>\n",
       "      <th>MW</th>\n",
       "    </tr>\n",
       "    <tr>\n",
       "      <th>PDB ID</th>\n",
       "      <th></th>\n",
       "      <th></th>\n",
       "      <th></th>\n",
       "      <th></th>\n",
       "    </tr>\n",
       "  </thead>\n",
       "  <tbody>\n",
       "    <tr>\n",
       "      <th>1A8E</th>\n",
       "      <td>Homo sapiens</td>\n",
       "      <td>1998-03-24</td>\n",
       "      <td>329</td>\n",
       "      <td>36408.4</td>\n",
       "    </tr>\n",
       "    <tr>\n",
       "      <th>1A8F</th>\n",
       "      <td>Homo sapiens</td>\n",
       "      <td>1998-03-25</td>\n",
       "      <td>329</td>\n",
       "      <td>36408.4</td>\n",
       "    </tr>\n",
       "    <tr>\n",
       "      <th>1AIV</th>\n",
       "      <td>Gallus gallus</td>\n",
       "      <td>1997-04-28</td>\n",
       "      <td>686</td>\n",
       "      <td>75929.0</td>\n",
       "    </tr>\n",
       "    <tr>\n",
       "      <th>1AOV</th>\n",
       "      <td>Anas platyrhynchos</td>\n",
       "      <td>1996-12-11</td>\n",
       "      <td>686</td>\n",
       "      <td>75731.8</td>\n",
       "    </tr>\n",
       "    <tr>\n",
       "      <th>1B3E</th>\n",
       "      <td>Homo sapiens</td>\n",
       "      <td>1998-12-09</td>\n",
       "      <td>330</td>\n",
       "      <td>36505.5</td>\n",
       "    </tr>\n",
       "  </tbody>\n",
       "</table>\n",
       "</div>"
      ],
      "text/plain": [
       "                    Source Deposit Date  Length       MW\n",
       "PDB ID                                                  \n",
       "1A8E          Homo sapiens   1998-03-24     329  36408.4\n",
       "1A8F          Homo sapiens   1998-03-25     329  36408.4\n",
       "1AIV         Gallus gallus   1997-04-28     686  75929.0\n",
       "1AOV    Anas platyrhynchos   1996-12-11     686  75731.8\n",
       "1B3E          Homo sapiens   1998-12-09     330  36505.5"
      ]
     },
     "execution_count": 43,
     "metadata": {},
     "output_type": "execute_result"
    }
   ],
   "source": [
    "df.head()"
   ]
  },
  {
   "cell_type": "markdown",
   "id": "51a4bc6b",
   "metadata": {},
   "source": [
    "Mais le type de données de la colonne ```Deposit Date``` est maintenant une date (datetime64[ns]) :"
   ]
  },
  {
   "cell_type": "code",
   "execution_count": 44,
   "id": "e24ba5bc",
   "metadata": {},
   "outputs": [
    {
     "data": {
      "text/plain": [
       "Source                  object\n",
       "Deposit Date    datetime64[ns]\n",
       "Length                   int64\n",
       "MW                     float64\n",
       "dtype: object"
      ]
     },
     "execution_count": 44,
     "metadata": {},
     "output_type": "execute_result"
    }
   ],
   "source": [
    "df.dtypes"
   ]
  },
  {
   "cell_type": "markdown",
   "id": "6b6c47a1",
   "metadata": {},
   "source": [
    "### Statistiques descriptives et table de comptage"
   ]
  },
  {
   "cell_type": "markdown",
   "id": "18161231",
   "metadata": {},
   "source": [
    "Pour les colonnes qui contiennent des données numériques, on peut obtenir rapidement quelques statistiques descriptives avec la méthode ```.describe()``` :"
   ]
  },
  {
   "cell_type": "code",
   "execution_count": 45,
   "id": "9fd62998",
   "metadata": {},
   "outputs": [
    {
     "data": {
      "text/html": [
       "<div>\n",
       "<style scoped>\n",
       "    .dataframe tbody tr th:only-of-type {\n",
       "        vertical-align: middle;\n",
       "    }\n",
       "\n",
       "    .dataframe tbody tr th {\n",
       "        vertical-align: top;\n",
       "    }\n",
       "\n",
       "    .dataframe thead th {\n",
       "        text-align: right;\n",
       "    }\n",
       "</style>\n",
       "<table border=\"1\" class=\"dataframe\">\n",
       "  <thead>\n",
       "    <tr style=\"text-align: right;\">\n",
       "      <th></th>\n",
       "      <th>Length</th>\n",
       "      <th>MW</th>\n",
       "    </tr>\n",
       "  </thead>\n",
       "  <tbody>\n",
       "    <tr>\n",
       "      <th>count</th>\n",
       "      <td>41.000000</td>\n",
       "      <td>41.000000</td>\n",
       "    </tr>\n",
       "    <tr>\n",
       "      <th>mean</th>\n",
       "      <td>477.341463</td>\n",
       "      <td>52816.090244</td>\n",
       "    </tr>\n",
       "    <tr>\n",
       "      <th>std</th>\n",
       "      <td>175.710217</td>\n",
       "      <td>19486.594012</td>\n",
       "    </tr>\n",
       "    <tr>\n",
       "      <th>min</th>\n",
       "      <td>304.000000</td>\n",
       "      <td>33548.100000</td>\n",
       "    </tr>\n",
       "    <tr>\n",
       "      <th>25%</th>\n",
       "      <td>331.000000</td>\n",
       "      <td>36542.300000</td>\n",
       "    </tr>\n",
       "    <tr>\n",
       "      <th>50%</th>\n",
       "      <td>337.000000</td>\n",
       "      <td>37229.300000</td>\n",
       "    </tr>\n",
       "    <tr>\n",
       "      <th>75%</th>\n",
       "      <td>679.000000</td>\n",
       "      <td>75298.500000</td>\n",
       "    </tr>\n",
       "    <tr>\n",
       "      <th>max</th>\n",
       "      <td>696.000000</td>\n",
       "      <td>77067.900000</td>\n",
       "    </tr>\n",
       "  </tbody>\n",
       "</table>\n",
       "</div>"
      ],
      "text/plain": [
       "           Length            MW\n",
       "count   41.000000     41.000000\n",
       "mean   477.341463  52816.090244\n",
       "std    175.710217  19486.594012\n",
       "min    304.000000  33548.100000\n",
       "25%    331.000000  36542.300000\n",
       "50%    337.000000  37229.300000\n",
       "75%    679.000000  75298.500000\n",
       "max    696.000000  77067.900000"
      ]
     },
     "execution_count": 45,
     "metadata": {},
     "output_type": "execute_result"
    }
   ],
   "source": [
    "df.describe()"
   ]
  },
  {
   "cell_type": "markdown",
   "id": "a80af66e",
   "metadata": {},
   "source": [
    "On apprend ainsi que la masse moléculaire (colonne MW) a une valeur moyenne de 52816.090244 avec un écart-type de 19486.594012 et que la plus petite valeur est 33548.100000 et la plus grande 77067.900000. \n",
    "\n",
    "La colonne Source contient des chaînes de caractères, on peut rapidement déterminer le nombre de protéines pour chaque organisme :"
   ]
  },
  {
   "cell_type": "code",
   "execution_count": 46,
   "id": "6d81a0f6",
   "metadata": {},
   "outputs": [
    {
     "data": {
      "text/plain": [
       "Homo sapiens             26\n",
       "Gallus gallus            10\n",
       "Anas platyrhynchos        2\n",
       "Oryctolagus cuniculus     2\n",
       "Sus scrofa                1\n",
       "Name: Source, dtype: int64"
      ]
     },
     "execution_count": 46,
     "metadata": {},
     "output_type": "execute_result"
    }
   ],
   "source": [
    "df[\"Source\"].value_counts()"
   ]
  },
  {
   "cell_type": "markdown",
   "id": "dc6ff7db",
   "metadata": {},
   "source": [
    "Ainsi, 26 protéines sont d’origine humaine (Homo sapiens) et 10 proviennent de la poule (Gallus gallus)."
   ]
  },
  {
   "cell_type": "markdown",
   "id": "44750263",
   "metadata": {},
   "source": [
    "### Statistiques par groupe"
   ]
  },
  {
   "cell_type": "markdown",
   "id": "f769046c",
   "metadata": {},
   "source": [
    "On peut aussi déterminer, pour chaque organisme, la taille et la masse moléculaire moyennes des transferrines :"
   ]
  },
  {
   "cell_type": "code",
   "execution_count": 47,
   "id": "b07ce062",
   "metadata": {},
   "outputs": [
    {
     "name": "stderr",
     "output_type": "stream",
     "text": [
      "/tmp/ipykernel_1501616/1228568340.py:1: FutureWarning: The default value of numeric_only in DataFrameGroupBy.mean is deprecated. In a future version, numeric_only will default to False. Either specify numeric_only or select only columns which should be valid for the function.\n",
      "  df.groupby([\"Source\"]).mean()\n"
     ]
    },
    {
     "data": {
      "text/html": [
       "<div>\n",
       "<style scoped>\n",
       "    .dataframe tbody tr th:only-of-type {\n",
       "        vertical-align: middle;\n",
       "    }\n",
       "\n",
       "    .dataframe tbody tr th {\n",
       "        vertical-align: top;\n",
       "    }\n",
       "\n",
       "    .dataframe thead th {\n",
       "        text-align: right;\n",
       "    }\n",
       "</style>\n",
       "<table border=\"1\" class=\"dataframe\">\n",
       "  <thead>\n",
       "    <tr style=\"text-align: right;\">\n",
       "      <th></th>\n",
       "      <th>Length</th>\n",
       "      <th>MW</th>\n",
       "    </tr>\n",
       "    <tr>\n",
       "      <th>Source</th>\n",
       "      <th></th>\n",
       "      <th></th>\n",
       "    </tr>\n",
       "  </thead>\n",
       "  <tbody>\n",
       "    <tr>\n",
       "      <th>Anas platyrhynchos</th>\n",
       "      <td>686.000000</td>\n",
       "      <td>75731.800000</td>\n",
       "    </tr>\n",
       "    <tr>\n",
       "      <th>Gallus gallus</th>\n",
       "      <td>509.300000</td>\n",
       "      <td>56324.080000</td>\n",
       "    </tr>\n",
       "    <tr>\n",
       "      <th>Homo sapiens</th>\n",
       "      <td>439.615385</td>\n",
       "      <td>48663.392308</td>\n",
       "    </tr>\n",
       "    <tr>\n",
       "      <th>Oryctolagus cuniculus</th>\n",
       "      <td>490.000000</td>\n",
       "      <td>54219.600000</td>\n",
       "    </tr>\n",
       "    <tr>\n",
       "      <th>Sus scrofa</th>\n",
       "      <td>696.000000</td>\n",
       "      <td>77067.900000</td>\n",
       "    </tr>\n",
       "  </tbody>\n",
       "</table>\n",
       "</div>"
      ],
      "text/plain": [
       "                           Length            MW\n",
       "Source                                         \n",
       "Anas platyrhynchos     686.000000  75731.800000\n",
       "Gallus gallus          509.300000  56324.080000\n",
       "Homo sapiens           439.615385  48663.392308\n",
       "Oryctolagus cuniculus  490.000000  54219.600000\n",
       "Sus scrofa             696.000000  77067.900000"
      ]
     },
     "execution_count": 47,
     "metadata": {},
     "output_type": "execute_result"
    }
   ],
   "source": [
    "df.groupby([\"Source\"]).mean()"
   ]
  },
  {
   "cell_type": "markdown",
   "id": "69794c8e",
   "metadata": {},
   "source": [
    "La méthode ```.groupby()``` rassemble d’abord les données suivant la colonne Source puis la méthode```.mean()``` calcule la moyenne pour chaque groupe.\n",
    "\n",
    "Si on souhaite obtenir deux statistiques (par exemple la valeur minimale et maximale) en une seule fois, il convient alors d’utiliser la méthode ```.pivot_table()``` plus complexe mais aussi beaucoup plus puissante :"
   ]
  },
  {
   "cell_type": "code",
   "execution_count": null,
   "id": "86d8f05c",
   "metadata": {},
   "outputs": [],
   "source": [
    "df.pivot_table(index=\"Source\", values=[\"Length\", \"MW\"], aggfunc=[min, max])"
   ]
  },
  {
   "cell_type": "markdown",
   "id": "e774ab59",
   "metadata": {},
   "source": [
    "L’argument index précise la colonne dont on agrège les données.\n",
    "L’argument values indique sur quelles colonnes les statistiques sont calculées.\n",
    "Enfin, aggfunc liste les statistiques calculées, ici la valeur minimale et maximale.\n",
    "Notez que les valeurs renvoyées sont d’abord les valeurs minimales pour Length et MW puis les valeurs maximales pour Length et MW."
   ]
  },
  {
   "cell_type": "markdown",
   "id": "97126693",
   "metadata": {},
   "source": [
    "### Analyse de données numériques"
   ]
  },
  {
   "cell_type": "markdown",
   "id": "6a5036ae",
   "metadata": {},
   "source": [
    "On peut, sans trop de risque, émettre l’hypothèse que plus il y a d’acides aminés dans la protéine, plus sa masse moléculaire va être élevée.\n",
    "Pour vérifier cela graphiquement, on représente la masse moléculaire de la protéine en fonction de sa taille (c’est-à-dire du nombre d’acides aminés)."
   ]
  },
  {
   "cell_type": "code",
   "execution_count": null,
   "id": "2ceaff2d",
   "metadata": {},
   "outputs": [],
   "source": [
    "import matplotlib.pyplot as plt\n",
    "plt.scatter(df[\"Length\"], df[\"MW\"])\n",
    "plt.xlabel(\"Taille (nombre d'acides aminés)\")\n",
    "plt.ylabel(\"Masse moléculaire (Dalton)\")\n",
    "plt.savefig(\"transferrine1.png\")"
   ]
  },
  {
   "cell_type": "markdown",
   "id": "303e5103",
   "metadata": {},
   "source": [
    "\n",
    "On obtient un graphique similaire à celui de la figure avec deux groupes de points distincts (car certaines structures\n",
    "sont incomplètes).\n",
    "On peut zoomer sur le groupe de points le plus à gauche en ne sélectionnant que les protéines constituées de moins de 400 résidus :"
   ]
  },
  {
   "cell_type": "code",
   "execution_count": null,
   "id": "a284ca15",
   "metadata": {},
   "outputs": [],
   "source": [
    "dfz = df[df[\"Length\"]<400]"
   ]
  },
  {
   "cell_type": "markdown",
   "id": "4e3e3961",
   "metadata": {},
   "source": [
    "Puis en créant un deuxième graphique :"
   ]
  },
  {
   "cell_type": "code",
   "execution_count": null,
   "id": "6c52f2be",
   "metadata": {},
   "outputs": [],
   "source": [
    "plt.clf()\n",
    "plt.scatter(dfz[\"Length\"], dfz[\"MW\"])\n",
    "plt.xlabel(\"Taille (nombre d'acides aminés)\")\n",
    "plt.ylabel(\"Masse moléculaire (Dalton)\")\n",
    "plt.savefig(\"transferrine2.png\")"
   ]
  },
  {
   "cell_type": "markdown",
   "id": "6bcb8d91",
   "metadata": {},
   "source": [
    "Ligne 1. L’instruction plt.clf() efface le graphe précédent mais conserve les noms des axes des abscisses et des ordon- nées.\n",
    "Le graphique 17.6 (B) obtenu met en évidence une relation linéaire entre le nombre de résidus d’une protéine et sa masse moléculaire.\n",
    "En réalisant une régression linéaire, on détermine les paramètres de la droite qui passent le plus proche possible des points du graphique."
   ]
  },
  {
   "cell_type": "code",
   "execution_count": null,
   "id": "7645ad08",
   "metadata": {},
   "outputs": [],
   "source": [
    "from scipy.stats import linregress\n",
    "lr = linregress(dfz[\"Length\"], dfz[\"MW\"])\n",
    "lr"
   ]
  },
  {
   "cell_type": "markdown",
   "id": "f444d33f",
   "metadata": {},
   "source": [
    "Ce modèle linaire nous indique qu’un résidu a une masse d’environ 116 Dalton, ce qui est cohérent. On peut également comparer ce modèle aux différentes protéines :"
   ]
  },
  {
   "cell_type": "code",
   "execution_count": null,
   "id": "20c44717",
   "metadata": {},
   "outputs": [],
   "source": [
    "plt.clf()\n",
    "plt.scatter(dfz[\"Length\"], dfz[\"MW\"])\n",
    "plt.plot(dfz[\"Length\"], dfz[\"Length\"]*lr.slope+lr.intercept , ls=\":\")\n",
    "plt.xlabel(\"Taille (nombre d'acides aminés)\")\n",
    "plt.ylabel(\"Masse moléculaire (Dalton)\")\n",
    "plt.savefig(\"transferrine3.png\")"
   ]
  },
  {
   "cell_type": "markdown",
   "id": "e80c6d44",
   "metadata": {},
   "source": [
    "### Analyse de données temporelles"
   ]
  },
  {
   "cell_type": "markdown",
   "id": "d0f25b32",
   "metadata": {},
   "source": [
    "Il peut être intéressant de savoir, pour chaque organisme, quand les premières et les dernières structures de transferrines ont été déposées dans la PDB.\n",
    "La méthode ```.pivot_table()``` apporte un élément de réponse :"
   ]
  },
  {
   "cell_type": "code",
   "execution_count": null,
   "id": "23541e55",
   "metadata": {},
   "outputs": [],
   "source": [
    "df.pivot_table(index=\"Source\",\n",
    "values=[\"Deposit Date\"], aggfunc=[min, max])"
   ]
  },
  {
   "cell_type": "markdown",
   "id": "6411d0f3",
   "metadata": {},
   "source": [
    "Chez l’Homme (Homo sapiens), la première structure de transferrine a été déposée dans la PDB le 10 février 1992 et la dernière le 22 mars 2018.\n",
    "\n",
    "Une autre question est de savoir combien de structures de transferrines ont été déposées en fonction du temps.\n",
    "La méthode .value_counts() peut être utilisée mais elle ne renvoie que le nombre de structures déposées dans la PDB pour un jour donné. Par exemple, deux structures ont été déposées le 4 septembre 2000."
   ]
  },
  {
   "cell_type": "code",
   "execution_count": null,
   "id": "7c5e2e19",
   "metadata": {},
   "outputs": [],
   "source": [
    "df[\"Deposit Date\"].value_counts().head()"
   ]
  },
  {
   "cell_type": "markdown",
   "id": "9eb37a02",
   "metadata": {},
   "source": [
    "Si on souhaite une réponse plus globale, par exemple, à l’échelle de l’année, la méthode .resample() calcule le nombre de structures déposées par année (en fournissant l’argument A) :"
   ]
  },
  {
   "cell_type": "code",
   "execution_count": null,
   "id": "1af7357d",
   "metadata": {},
   "outputs": [],
   "source": [
    "df[\"Deposit Date\"].value_counts().resample(\"A\").count()"
   ]
  },
  {
   "cell_type": "markdown",
   "id": "aa6ec935",
   "metadata": {},
   "source": [
    "Les dates apparaissent maintenant comme le dernier jour de l’année mais désignent bien l’année complète. Dans cet\n",
    "exemple, une seule structure de transferrine a été déposée dans la PDB entre le 1er janvier 1990 et le 31 décembre 1990.\n",
    "Pour connaître en quelle année le plus de structures ont été déposées dans la PDB, il faut trier les valeurs obtenus du plus grand au plus petit avec la méthode .sort_values(). Comme on ne veut connaître que les premières dates (celles où il y a eu le plus de dépôts), on utilisera également la méthode .head() :"
   ]
  },
  {
   "cell_type": "code",
   "execution_count": null,
   "id": "6643f450",
   "metadata": {},
   "outputs": [],
   "source": [
    "(df[\"Deposit Date\"].value_counts()\n",
    "                   .resample(\"A\")\n",
    "                   .count()\n",
    "                   .sort_values(ascending=False) \n",
    "                   .head())"
   ]
  },
  {
   "cell_type": "markdown",
   "id": "6cf3330a",
   "metadata": {},
   "source": [
    "En 2001, cinq structures de transferrine ont été déposées dans la PDB. La deuxième « meilleure » année est 2003 avec quatre structures.\n",
    "Toutes ces méthodes, enchaînées les unes à la suite des autres, peuvent vous sembler complexes mais chacune d’elles correspond à une étape particulière du traitement des données. L’utilisation des parenthèses (ligne 1, juste avant df[\"Deposit Date\"] et ligne 5, juste après head()) permet de répartir élégamment cette longue instruction sur plusieurs lignes.\n",
    "Bien sûr, on aurait pu créer des variables intermédiaires pour chaque étape mais cela aurait été plus lourd :\n"
   ]
  },
  {
   "cell_type": "code",
   "execution_count": null,
   "id": "76193ada",
   "metadata": {},
   "outputs": [],
   "source": [
    "date1 = df[\"Deposit Date\"].value_counts()\n",
    "date2 = date1.resample(\"A\")\n",
    "date3 = date2.count()\n",
    "date4 = date3.sort_values(ascending=False)\n",
    "date4.head()"
   ]
  }
 ],
 "metadata": {
  "celltoolbar": "Slideshow",
  "kernelspec": {
   "display_name": "Python 3",
   "language": "python",
   "name": "python3"
  },
  "language_info": {
   "codemirror_mode": {
    "name": "ipython",
    "version": 3
   },
   "file_extension": ".py",
   "mimetype": "text/x-python",
   "name": "python",
   "nbconvert_exporter": "python",
   "pygments_lexer": "ipython3",
   "version": "3.10.9 (tags/v3.10.9:1dd9be6, Dec  6 2022, 20:01:21) [MSC v.1934 64 bit (AMD64)]"
  },
  "vscode": {
   "interpreter": {
    "hash": "4c2e59c9858e480365d7bbe6ec18083a8db6f1aebf751422637bf9ae599e61da"
   }
  }
 },
 "nbformat": 4,
 "nbformat_minor": 5
}
