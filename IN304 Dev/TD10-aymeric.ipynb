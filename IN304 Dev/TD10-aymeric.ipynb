{
 "cells": [
  {
   "cell_type": "markdown",
   "id": "36a74af3-e7dd-4cd2-bd45-25ba625be9a3",
   "metadata": {},
   "source": [
    "# TD10: Expressions régulières et parsing - Correction"
   ]
  },
  {
   "cell_type": "markdown",
   "id": "2485fe98-886c-4b8c-98ca-97933e649876",
   "metadata": {},
   "source": [
    "## Rappel de cours: \n",
    "\n",
    "Chercher un mot dans un texte est une tâche facile, c’est l’objectif de la méthode `find()` attachée aux chaînes de caractères. Elle suffit également lorsque l’on cherche un mot au pluriel ou au singulier, mais il faut dans ce cas l’appeler au moins deux fois.\n",
    "\n",
    "Pour des expressions plus compliquées, il est conseillé d’utiliser les expressions régulières, ou “regex”. C’est une fonctionnalité qu’on retrouve dans beaucoup de langages. C’est une forme de grammaire qui permet de rechercher des expressions.\n",
    "\n",
    "Par exemple, lorsqu’on remplit un formulaire, on voit souvent le format `\"MM/JJ/AAAA\"` qui précise sous quelle forme on s’attend à ce qu’une date soit écrite. Les expressions régulières permettent de définir également ce format et de chercher dans un texte toutes les chaînes de caractères qui sont conformes à ce format.\n",
    "\n",
    "La liste qui suit contient des dates de naissance. On cherche à obtenir toutes les dates de cet exemple sachant que les jours ou les mois contiennent un ou deux chiffres, et les années deux ou quatre."
   ]
  },
  {
   "cell_type": "code",
   "execution_count": 379,
   "id": "682b422b-faa7-43e5-91de-a21ac7968c8e",
   "metadata": {},
   "outputs": [
    {
     "name": "stdout",
     "output_type": "stream",
     "text": [
      "date 0 : 14/9/2000\n",
      "date 1 : 20/04/1971     date 2 : 14/09/1913     date 3 : 2/3/1978\n",
      "date 4 : 1/7/1986     date 5 : 7/3/47     date 6 : 15/10/1914\n",
      "date 7 : 08/03/1941     date 8 : 8/1/1980     date 9 : 30/6/1976\n"
     ]
    }
   ],
   "source": [
    "s = \"\"\"date 0 : 14/9/2000\n",
    "date 1 : 20/04/1971     date 2 : 14/09/1913     date 3 : 2/3/1978\n",
    "date 4 : 1/7/1986     date 5 : 7/3/47     date 6 : 15/10/1914\n",
    "date 7 : 08/03/1941     date 8 : 8/1/1980     date 9 : 30/6/1976\"\"\"\n",
    "print(s)"
   ]
  },
  {
   "cell_type": "markdown",
   "id": "106005ca-0f9a-41a1-b00e-7793b57431e0",
   "metadata": {},
   "source": [
    "#### Exemple introductif : Format de date\n",
    "\n",
    "Le premier chiffre du `jour` est soit 0, 1, 2, ou 3 ; ceci se traduit par `[0-3]`.\n",
    "\n",
    "Le second chiffre est compris entre 0 et 9, soit `[0-9]`. Le format des jours est traduit par `[0-3][0-9]`. Mais le premier chiffre du jour est facultatif, ce qu’on précise avec le symbole ? : `[0-3]?[0-9]`.\n",
    "\n",
    "Les `mois` suivent le même principe : `[0-1]?[0-9]`.\n",
    "\n",
    "Pour les `années`, ce sont les deux premiers chiffres qui sont facultatifs, le symbole ? s’appliquent alors sur les deux premiers chiffres : `[0-2]?[0-9]?[0-9][0-9]`. Le format final d’une date devient alors :\n",
    "\n",
    "`[0-3]?[0-9]/[0-1]?[0-9]/[0-2]?[0-9]?[0-9][0-9]`\n",
    "\n",
    "Le module `re` gère les expressions régulières, celui-ci traite différemment les parties de l’expression régulière qui sont entre parenthèses de celles qui ne le sont pas : c’est un moyen de dire au module `re` que nous nous intéressons à telle partie de l’expression qui est signalée entre parenthèses. Comme la partie qui nous intéresse - une date - concerne l’intégralité de l’expression régulière, il faut insérer celle-ci intégralement entre parenthèses.\n",
    "\n",
    "La première étape consiste à construire l’expression régulière, la seconde à rechercher toutes les fois qu’un morceau de la chaîne `s` définie plus haut correspond à l’expression régulière."
   ]
  },
  {
   "cell_type": "code",
   "execution_count": 380,
   "id": "aa90b772-9bd2-4cee-a4a2-9b50b805d1f3",
   "metadata": {},
   "outputs": [
    {
     "name": "stdout",
     "output_type": "stream",
     "text": [
      "['14/9/2000', '20/04/1971', '14/09/1913', '2/3/1978', '1/7/1986', '7/3/47', '15/10/1914', '08/03/1941', '8/1/1980', '30/6/1976']\n"
     ]
    }
   ],
   "source": [
    "import re\n",
    "# première étape : construction\n",
    "expression = re.compile(\"([0-3]?[0-9]/[0-1]?[0-9]/[0-2]?[0-9]?[0-9][0-9])\")\n",
    "# seconde étape : recherche\n",
    "res = expression.findall(s)\n",
    "print(res)"
   ]
  },
  {
   "cell_type": "markdown",
   "id": "58fec6b7-da97-4f78-958b-38f97b8f8e14",
   "metadata": {},
   "source": [
    "Le résultat est une liste dont chaque élément correspond aux parties comprises entre parenthèses qu’on appelle des groupes.\n",
    "\n",
    "Lorsque les expressions régulières sont utilisées, on doit d’abord se demander comment définir ce qu’on cherche puis quelles fonctions utiliser pour obtenir les résultats de cette recherche. Les deux paragraphes qui suivent y répondent.\n",
    "\n",
    "## Syntaxe\n",
    "\n",
    "La syntaxe des expressions régulières est décrite sur le site officiel de python. La page [Regular Expression Syntax](https://docs.python.org/3/library/re.html) décrit comment se servir des expressions régulières, les deux pages sont en anglais. Comme toute grammaire, celle des expressions régulières est susceptible d’évoluer au fur et à mesure des versions du langage python.\n",
    "\n",
    "## Les ensembles de caractères\n",
    "\n",
    "Lors d’une recherche, on s’intéresse aux caractères et souvent aux classes de caractères : on cherche un chiffre, une lettre, un caractère dans un ensemble précis ou un caractère qui n’appartient pas à un ensemble précis. Certains ensembles sont prédéfinis, d’autres doivent être définis à l’aide de crochets.\n",
    "\n",
    "Pour définir un ensemble de caractères, il faut écrire cet ensemble entre crochets. Par exemple, `[0123456789]` désigne un chiffre. Comme c’est une séquence de caractères consécutifs, on peut résumer cette écriture en `[0-9]`. Pour inclure les symboles `+` et `-`, il suffit d’écrire : `[-0-9+]`. La subtilité est qu’il faut penser à mettre le symbole `-` au début pour éviter qu’il ne désigne une séquence.\n",
    "\n",
    "Le caractère `^` inséré au début du groupe signifie que le caractère cherché ne doit pas être un de ceux qui suivent. Le tableau suivant décrit les ensembles prédéfinis et leur équivalent en terme d’ensemble de caractères :\n",
    "\n",
    "-   `.` désigne tout caractère non spécial quel qu’il soit.\n",
    "-   `\\d` désigne tout chiffre, est équivalent à `[0-9]`.\n",
    "-   `\\D` désigne tout caractère différent d’un chiffre, est équivalent à `[^0-9]`.\n",
    "-   `\\s` désigne tout espace ou caractère approché, est équivalent à `[\\; \\t\\n\\r\\f\\v]`. Ces caractères sont spéciaux, les plus utilisés sont `\\t` qui est une tabulation, `\\n` qui est une fin de ligne et qui `\\r` qui est un retour à la ligne.\n",
    "-   `\\S` désigne tout caractère différent d’un espace, est équivalent à `[^ \\t\\n\\r\\f\\v]`.\n",
    "-   `\\w` désigne toute lettre ou tout chiffre, est équivalent à `[a-zA-Z0-9_]`.\n",
    "-   `\\W` désigne tout caractère différent d’une lettre ou d’un chiffre, est équivalent à `[^a-zA-Z0-9_]`.\n",
    "-   `^` désigne le début d’un mot sauf s’il est placé entre crochets.\n",
    "-   `$` désigne la fin d’un mot sauf s’il est placé entre crochets.\n",
    "\n",
    "A l’instar des chaînes de caractères, comme le caractère `\\` est un caractère spécial, il faut le doubler : `[\\\\]`.\n",
    "\n",
    "## Les multiplicateurs\n",
    "\n",
    "Les multiplicateurs permettent de définir des expressions régulières comme : un mot entre six et huit lettres qu’on écrira `[\\w]{6,8}`. Le tableau suivant donne la liste des multiplicateurs principaux :\n",
    "\n",
    "-   `*` présence de l’ensemble de caractères qui précède entre 0 fois et l’infini\n",
    "-   `+` présence de l’ensemble de caractères qui précède entre 1 fois et l’infini\n",
    "-   `?` présence de l’ensemble de caractères qui précède entre 0 et 1 fois\n",
    "-   `{m,n}` présence de l’ensemble de caractères qui précède entre *m* et *n* fois, si *m=n*, cette expression peut être résumée par `{n}`.\n",
    "-   `(?!(...))` absence du groupe désigné par les points de suspensions.\n",
    "\n",
    "L’algorithme des expressions régulières essaye toujours de faire correspondre le plus grand morceau à l’expression régulière.\n",
    "\n",
    "Par exemple, pour la chaîne de charactère `<h1>mot</h1>`, l’expression régulière `<.*>` correspond à trois morceaux :\n",
    "\\* `<h1>`\n",
    "\\* `</h1>`\n",
    "\\* `<h1>mot</h1>` =\\> le plus grand qui sera choisi.\n",
    "\n",
    "Pour choisir les plus petits, il faudra écrire les multiplicateurs comme ceci : `*?`, `+?`"
   ]
  },
  {
   "cell_type": "code",
   "execution_count": 381,
   "id": "c147d839-742e-4a5c-9f2c-4c84f240072e",
   "metadata": {},
   "outputs": [
    {
     "name": "stdout",
     "output_type": "stream",
     "text": [
      "['<h1>mot</h1>']\n",
      "['<h1>', '</h1>']\n",
      "('<h1>mot</h1>',)\n"
     ]
    }
   ],
   "source": [
    "import re\n",
    "s = \"<h1>mot</h1>\"\n",
    "print(re.compile(\"<.*>\").findall(s))\n",
    "print(re.compile(\"<.*?>\").findall(s))\n",
    "\n",
    "\n",
    "\n",
    "print(re.compile(\"(<.*>)\").match(s).groups())"
   ]
  },
  {
   "cell_type": "code",
   "execution_count": 382,
   "id": "7725189a-526e-4491-b81e-8bef1b0244de",
   "metadata": {},
   "outputs": [
    {
     "name": "stdout",
     "output_type": "stream",
     "text": [
      "<re.Match object; span=(0, 12), match='<h1>mot</h1>'>\n"
     ]
    }
   ],
   "source": [
    "print(re.compile(\"(.*</h1>)\").match(s))"
   ]
  },
  {
   "cell_type": "code",
   "execution_count": 383,
   "id": "8794db81-da05-406d-8e4b-5ef14042c69c",
   "metadata": {},
   "outputs": [
    {
     "name": "stdout",
     "output_type": "stream",
     "text": [
      "('</h1>',)\n",
      "['<h1>', '</h1>']\n"
     ]
    }
   ],
   "source": [
    "print(re.compile(\".*(<.h1>)\").match(s).groups()) \n",
    "print(re.compile(\"(<.?h1>)\").findall(s))"
   ]
  },
  {
   "cell_type": "markdown",
   "id": "60c72f5a-8806-45bc-b72d-ede14ef969b8",
   "metadata": {},
   "source": [
    "Un exemple pour trouver des adresses emails :"
   ]
  },
  {
   "cell_type": "code",
   "execution_count": 384,
   "id": "d2562e9a-4335-4530-87b6-11df1e3ec754",
   "metadata": {},
   "outputs": [],
   "source": [
    "text_emails = 'Hello from shubhamg199630@gmail.com to priya@yahoo.com about the meeting @2PM'"
   ]
  },
  {
   "cell_type": "code",
   "execution_count": 385,
   "id": "6b4cab82-2515-4474-8f9c-d8384709ef14",
   "metadata": {},
   "outputs": [],
   "source": [
    "# \\S` désigne tout caractère différent d'un espace \n",
    "# `+` présence de l'ensemble de caractères qui précède entre 1 fois et l'infini\n",
    "liste_emails = re.findall('\\S+@\\S+', text_emails)     "
   ]
  },
  {
   "cell_type": "code",
   "execution_count": 386,
   "id": "a848dfa2-fd5f-4002-a1d7-8e60c80837ee",
   "metadata": {},
   "outputs": [
    {
     "name": "stdout",
     "output_type": "stream",
     "text": [
      "['shubhamg199630@gmail.com', 'priya@yahoo.com']\n"
     ]
    }
   ],
   "source": [
    "print(liste_emails)"
   ]
  },
  {
   "cell_type": "markdown",
   "id": "e9e9605c-c45f-4966-8a76-80f82e52a6e7",
   "metadata": {},
   "source": [
    "## Exercices"
   ]
  },
  {
   "cell_type": "markdown",
   "id": "e6d90721-4f30-4117-b333-7081323f1b8a",
   "metadata": {},
   "source": [
    "<div class=\"alert alert-success\" role=\"alert\">\n",
    "\n",
    "**Exercice 1: Application directe**\n",
    "\n",
    "Recherchez les dates présentes dans la phrase suivante.\n",
    "\n",
    "``` python\n",
    "texte1 = \"\"\"Je suis né le 28/12/1903 et je suis mort le 08/02/1957. Ma seconde femme est morte le 10/11/1963. \n",
    "J'ai écrit un livre intitulé 'Comprendre les fractions : les exemples en page 12/46/83' \"\"\"\n",
    "```\n",
    "\n",
    "Puis dans celle-ci :\n",
    "\n",
    "``` python\n",
    "texte2 = \"\"\"Je suis né le 28/12/1903 et je suis mort le 08/02/1957. Je me suis marié le 8/5/45. \n",
    "J'ai écrit un livre intitulé 'Comprendre les fractions : les exemples en page 12/46/83' \"\"\"\n",
    "```\n",
    "le résultat devrait être comme ci-dessous: \n",
    "    \n",
    "    ['28/12/1903', '08/02/1957', '10/11/1963']\n",
    "    ['28/12/1903', '08/02/1957', '8/5/45']\n",
    "\n",
    "</div>"
   ]
  },
  {
   "cell_type": "code",
   "execution_count": 387,
   "id": "32f01364",
   "metadata": {},
   "outputs": [
    {
     "name": "stdout",
     "output_type": "stream",
     "text": [
      "['28/12/1903', '08/02/1957', '10/11/1963']\n",
      "['28/12/1903', '08/02/1957', '8/5/45']\n"
     ]
    }
   ],
   "source": [
    "import re\n",
    "\n",
    "texte1 = \"\"\"Je suis né le 28/12/1903 et je suis mort le 08/02/1957. Ma seconde femme est morte le 10/11/1963. \n",
    "J'ai écrit un livre intitulé 'Comprendre les fractions : les exemples en page 12/46/83' \"\"\"\n",
    "texte2 = \"\"\"Je suis né le 28/12/1903 et je suis mort le 08/02/1957. Je me suis marié le 8/5/45. \n",
    "J'ai écrit un livre intitulé 'Comprendre les fractions : les exemples en page 12/46/83' \"\"\"\n",
    "\n",
    "# completer le code... \n",
    "expression = re.compile(\"([0-3]?[0-9]/[0-1]?[0-9]/[0-2]?[0-9]?[0-9][0-9])\")\n",
    "print(expression.findall(texte1))\n",
    "print(expression.findall(texte2))"
   ]
  },
  {
   "attachments": {
    "index_files/figure-ipynb/cell-21-output-2.png": {
     "image/png": "[encoded data removed]"
    }
   },
   "cell_type": "markdown",
   "id": "494a6293-1631-49cf-95b3-a35b9dc53faf",
   "metadata": {},
   "source": [
    "<div class=\"alert alert-success\" role=\"alert\">\n",
    "\n",
    "**Exercice 2: Nettoyer une colonne de date de publication**\n",
    "\n",
    "L’objectif général de l’exercice est de nettoyer des colonnes d’un DataFrame en utilisant des expressions régulières. \n",
    "\n",
    "La base en question contient des livres de la British Library et quelques informations les concernant.\n",
    "\n",
    "La colonne “Date de Publication” n’est pas toujours une année, il y a parfois d’autres informations. Le but de l’exercice est d’avoir **une date de publication du livre propre** et de regarder la **distribution des années de publications**.\n",
    "\n",
    "En regardant la base, on réalise que cette colonne ne correspond pas toujours à une année, par exemple en lignes 13 et 16.\n",
    "\n",
    "``` python\n",
    "data_books[['Date of Publication',\"Title\"]].iloc[13:20]\n",
    "```\n",
    "\n",
    "<div>\n",
    "<style scoped>\n",
    "    .dataframe tbody tr th:only-of-type {\n",
    "        vertical-align: middle;\n",
    "    }\n",
    "\n",
    "    .dataframe tbody tr th {\n",
    "        vertical-align: top;\n",
    "    }\n",
    "\n",
    "    .dataframe thead th {\n",
    "        text-align: right;\n",
    "    }\n",
    "</style>\n",
    "<table border=\"1\" class=\"dataframe\">\n",
    "  <thead>\n",
    "    <tr style=\"text-align: right;\">\n",
    "      <th></th>\n",
    "      <th>Date of Publication</th>\n",
    "      <th>Title</th>\n",
    "    </tr>\n",
    "  </thead>\n",
    "  <tbody>\n",
    "    <tr>\n",
    "      <th>13</th>\n",
    "      <td>1839, 38-54</td>\n",
    "      <td>De Aardbol. Magazijn van hedendaagsche land- e...</td>\n",
    "    </tr>\n",
    "    <tr>\n",
    "      <th>14</th>\n",
    "      <td>1897</td>\n",
    "      <td>Cronache Savonesi dal 1500 al 1570 ... Accresc...</td>\n",
    "    </tr>\n",
    "    <tr>\n",
    "      <th>15</th>\n",
    "      <td>1865</td>\n",
    "      <td>See-Saw; a novel ... Edited [or rather, writte...</td>\n",
    "    </tr>\n",
    "    <tr>\n",
    "      <th>16</th>\n",
    "      <td>1860-63</td>\n",
    "      <td>Géodésie d'une partie de la Haute Éthiopie,...</td>\n",
    "    </tr>\n",
    "    <tr>\n",
    "      <th>17</th>\n",
    "      <td>1873</td>\n",
    "      <td>[With eleven maps.]</td>\n",
    "    </tr>\n",
    "    <tr>\n",
    "      <th>18</th>\n",
    "      <td>1866</td>\n",
    "      <td>[Historia geográfica, civil y politica de la ...</td>\n",
    "    </tr>\n",
    "    <tr>\n",
    "      <th>19</th>\n",
    "      <td>1899</td>\n",
    "      <td>The Crisis of the Revolution, being the story ...</td>\n",
    "    </tr>\n",
    "  </tbody>\n",
    "</table>\n",
    "</div>\n",
    "\n",
    "1. Commencez par regarder le nombre d’informations manquantes. On ne pourra pas avoir mieux après la regex, et normalement on ne devrait pas avoir moins…\n",
    "\n",
    "2. Déterminer la forme de la regex pour une date de publication. A priori, il y a 4 chiffres qui forment une année.\n",
    "\n",
    "3. Quelles lignes sont changées quand on applique notre regex à la colonne qui nous intéresse avec la fonction `str.extract()` ?\n",
    "\n",
    "<div>\n",
    "<style scoped>\n",
    "    .dataframe tbody tr th:only-of-type {\n",
    "        vertical-align: middle;\n",
    "    }\n",
    "\n",
    "    .dataframe tbody tr th {\n",
    "        vertical-align: top;\n",
    "    }\n",
    "\n",
    "    .dataframe thead th {\n",
    "        text-align: right;\n",
    "    }\n",
    "</style>\n",
    "<table border=\"1\" class=\"dataframe\">\n",
    "  <thead>\n",
    "    <tr style=\"text-align: right;\">\n",
    "      <th></th>\n",
    "      <th>Date of Publication</th>\n",
    "      <th>Date of Publication 2</th>\n",
    "    </tr>\n",
    "  </thead>\n",
    "  <tbody>\n",
    "    <tr>\n",
    "      <th>0</th>\n",
    "      <td>1879 [1878]</td>\n",
    "      <td>1879</td>\n",
    "    </tr>\n",
    "    <tr>\n",
    "      <th>7</th>\n",
    "      <td>NaN</td>\n",
    "      <td>NaN</td>\n",
    "    </tr>\n",
    "    <tr>\n",
    "      <th>13</th>\n",
    "      <td>1839, 38-54</td>\n",
    "      <td>1839</td>\n",
    "    </tr>\n",
    "    <tr>\n",
    "      <th>16</th>\n",
    "      <td>1860-63</td>\n",
    "      <td>1860</td>\n",
    "    </tr>\n",
    "    <tr>\n",
    "      <th>23</th>\n",
    "      <td>1847, 48 [1846-48]</td>\n",
    "      <td>1847</td>\n",
    "    </tr>\n",
    "    <tr>\n",
    "      <th>...</th>\n",
    "      <td>...</td>\n",
    "      <td>...</td>\n",
    "    </tr>\n",
    "    <tr>\n",
    "      <th>8278</th>\n",
    "      <td>1883, [1884]</td>\n",
    "      <td>1883</td>\n",
    "    </tr>\n",
    "    <tr>\n",
    "      <th>8279</th>\n",
    "      <td>1898-1912</td>\n",
    "      <td>1898</td>\n",
    "    </tr>\n",
    "    <tr>\n",
    "      <th>8283</th>\n",
    "      <td>1831, 32</td>\n",
    "      <td>1831</td>\n",
    "    </tr>\n",
    "    <tr>\n",
    "      <th>8284</th>\n",
    "      <td>[1806]-22</td>\n",
    "      <td>1806</td>\n",
    "    </tr>\n",
    "    <tr>\n",
    "      <th>8286</th>\n",
    "      <td>1834-43</td>\n",
    "      <td>1834</td>\n",
    "    </tr>\n",
    "  </tbody>\n",
    "</table>\n",
    "<p>1759 rows × 2 columns</p>\n",
    "</div>\n",
    "\n",
    "4.  On a 2 `NaN` qui n’étaient pas présents au début de l’exercice. Quels sont-ils et pourquoi ?\n",
    "\n",
    "<div>\n",
    "<style scoped>\n",
    "    .dataframe tbody tr th:only-of-type {\n",
    "        vertical-align: middle;\n",
    "    }\n",
    "\n",
    "    .dataframe tbody tr th {\n",
    "        vertical-align: top;\n",
    "    }\n",
    "\n",
    "    .dataframe thead th {\n",
    "        text-align: right;\n",
    "    }\n",
    "</style>\n",
    "<table border=\"1\" class=\"dataframe\">\n",
    "  <thead>\n",
    "    <tr style=\"text-align: right;\">\n",
    "      <th></th>\n",
    "      <th>Date of Publication</th>\n",
    "      <th>Date of Publication 2</th>\n",
    "    </tr>\n",
    "  </thead>\n",
    "  <tbody>\n",
    "    <tr>\n",
    "      <th>1081</th>\n",
    "      <td>112. G. &amp; W. B. Whittaker</td>\n",
    "      <td>NaN</td>\n",
    "    </tr>\n",
    "    <tr>\n",
    "      <th>7391</th>\n",
    "      <td>17 vols. University Press</td>\n",
    "      <td>NaN</td>\n",
    "    </tr>\n",
    "  </tbody>\n",
    "</table>\n",
    "</div>\n",
    "\n",
    "5.  Quelle est la répartition des dates de publications dans le jeu de données ? Vous pouvez par exemple afficher un histogramme.\n",
    "\n",
    "    <AxesSubplot:ylabel='Frequency'>\n",
    "\n",
    "![](attachment:index_files/figure-ipynb/cell-21-output-2.png)\n",
    "\n",
    "</div>"
   ]
  },
  {
   "cell_type": "markdown",
   "id": "4ebf624d",
   "metadata": {},
   "source": [
    "### Lecture et analyse préliminaire du fichier `BL-Flickr-Images-Book.csv`"
   ]
  },
  {
   "cell_type": "code",
   "execution_count": 388,
   "id": "5384e03e",
   "metadata": {},
   "outputs": [],
   "source": [
    "# Useful\n",
    "\n",
    "#dataframe[[\"Date of Publication\",\"Title\"]].iloc[13:20]"
   ]
  },
  {
   "cell_type": "code",
   "execution_count": 389,
   "id": "dfe65b98",
   "metadata": {},
   "outputs": [],
   "source": [
    "import pandas as pd\n",
    "import re\n",
    "import numpy as np\n",
    "dataframe = pd.read_csv('BL-Flickr-Images-Book.csv')"
   ]
  },
  {
   "cell_type": "code",
   "execution_count": 390,
   "id": "02c20a77",
   "metadata": {},
   "outputs": [
    {
     "name": "stdout",
     "output_type": "stream",
     "text": [
      "8287\n",
      "181\n"
     ]
    }
   ],
   "source": [
    "# Q1\n",
    "print(dataframe.shape[0]) # rows number\n",
    "print(dataframe.shape[0]-int(dataframe[[\"Date of Publication\"]].count())) # rows with NaN in DoP number"
   ]
  },
  {
   "cell_type": "code",
   "execution_count": 391,
   "id": "5217c9e9",
   "metadata": {},
   "outputs": [
    {
     "data": {
      "text/plain": [
       "183"
      ]
     },
     "execution_count": 391,
     "metadata": {},
     "output_type": "execute_result"
    }
   ],
   "source": [
    "\n",
    "expression = \"([0-2][0-9][0-9][0-9])\" #Q2\n",
    "dataframe[\"Date of Publication2\"] = dataframe[\"Date of Publication\"].str.extract(expression,expand=False) #Q3\n",
    "dataframe[[\"Date of Publication2\",\"Date of Publication\"]][dataframe[\"Date of Publication2\"].isna()].shape[0] #Q4\n",
    "#les deux NaN obtenus dans dans Date of Publication2 en plus de ceux que l'on avait precedemment sont dû\n",
    "#au regex que l'on a appliqué au dataframe."
   ]
  },
  {
   "cell_type": "code",
   "execution_count": 392,
   "id": "dd5bd3f1",
   "metadata": {},
   "outputs": [],
   "source": [
    "f_dates = dataframe[\"Date of Publication2\"].value_counts()\n",
    "nb = f_dates.to_numpy()\n",
    "dates = np.array(f_dates.keys())"
   ]
  },
  {
   "cell_type": "code",
   "execution_count": 393,
   "id": "4278f7c2",
   "metadata": {},
   "outputs": [
    {
     "data": {
      "image/png": "[encoded data removed]",
      "text/plain": [
       "<Figure size 200x200 with 1 Axes>"
      ]
     },
     "metadata": {},
     "output_type": "display_data"
    }
   ],
   "source": [
    "import matplotlib.pyplot as plt\n",
    "import numpy as np\n",
    "\n",
    "plt.style.use('_mpl-gallery')\n",
    "\n",
    "# make data:\n",
    "\n",
    "# plot\n",
    "fig, ax = plt.subplots()\n",
    "\n",
    "ax.bar(dates, nb, width=1, edgecolor=\"blue\", linewidth=0.7)\n",
    "\n",
    "ax.set(xlim=(0, dates.max()), xticks=np.arange(1, len(dates),50),\n",
    "       ylim=(0, nb.max()), yticks=np.arange(1, len(nb),50))\n",
    "\n",
    "plt.show()"
   ]
  },
  {
   "cell_type": "markdown",
   "id": "f89ffc31",
   "metadata": {},
   "source": [
    "En regardant la base, on réalise que colonne **Date of Publication** ne correspond pas toujours à une année, par exemple en lignes **0, 13, 16, 23, 24, 25, etc.**"
   ]
  },
  {
   "cell_type": "markdown",
   "id": "7790d33f",
   "metadata": {},
   "source": [
    "<div class=\"alert alert-success\" role=\"alert\">\n",
    "\n",
    "**Exercice 3: Filtrage, extraction, et remplacement des valeurs**\n",
    "    \n",
    "Dans cette exercice, nous aborderons six tâches d'expressions régulières pour effectuer les actions suivantes: \n",
    "* Filtrer les données pour renvoyer les lignes qui correspondent à certains critères.\n",
    "* Extraire des sous-chaînes et d'autres détails d'une colonne.\n",
    "* Remplacer les valeurs dans une colonne.\n",
    "\n",
    "Pour illustrer cela, nous allons utiliser le jeu de données titanic de Kaggle disponible. Sur un nouveau notebook Jupyter, importez des pandas et chargez les données. Puis, répondez aux quesiton suivantes: \n",
    "    \n",
    "1. Filtrer le Dataframe pour renvoyer les lignes où les numéros de `ticket` contenaient `C` et `A`.\n",
    "2. Extraire tous les titres tels que `Mr`, `Miss`, et `Mrs` des noms de passagers.\n",
    "3. Extraire à partir de la colonne **Name**, les `Titles`, `first names`, et `last names` et renvoyez-les sous forme de colonnes dans un nouveau dataframe.\n",
    "4. Présentez le dataframe ci-dessus avec des colonnes nommées et ordonnées.\n",
    "5. Remplacez tous les `titles` par des majuscules.\n",
    "6. Ne mettez en majuscule que les titres de  `Mr.` et `Mrs.` Dans ce cas, nous utilisons ```|``` entre parenthèses.\n",
    "\n",
    "</div>"
   ]
  },
  {
   "cell_type": "markdown",
   "id": "5b93dec6",
   "metadata": {},
   "source": [
    "### Lecture et analyse préliminaire du fichier `titanic.csv`"
   ]
  },
  {
   "cell_type": "code",
   "execution_count": 394,
   "id": "549776c5",
   "metadata": {},
   "outputs": [
    {
     "data": {
      "text/plain": [
       "891"
      ]
     },
     "execution_count": 394,
     "metadata": {},
     "output_type": "execute_result"
    }
   ],
   "source": [
    "import pandas as pd\n",
    "datatitanic = pd.read_csv(\"titanic.csv\")\n",
    "datatitanic.shape[0]"
   ]
  },
  {
   "cell_type": "code",
   "execution_count": 395,
   "id": "cce3a312",
   "metadata": {},
   "outputs": [
    {
     "data": {
      "text/html": [
       "<div>\n",
       "<style scoped>\n",
       "    .dataframe tbody tr th:only-of-type {\n",
       "        vertical-align: middle;\n",
       "    }\n",
       "\n",
       "    .dataframe tbody tr th {\n",
       "        vertical-align: top;\n",
       "    }\n",
       "\n",
       "    .dataframe thead th {\n",
       "        text-align: right;\n",
       "    }\n",
       "</style>\n",
       "<table border=\"1\" class=\"dataframe\">\n",
       "  <thead>\n",
       "    <tr style=\"text-align: right;\">\n",
       "      <th></th>\n",
       "      <th>PassengerId</th>\n",
       "      <th>Survived</th>\n",
       "      <th>Pclass</th>\n",
       "      <th>Name</th>\n",
       "      <th>Sex</th>\n",
       "      <th>Age</th>\n",
       "      <th>SibSp</th>\n",
       "      <th>Parch</th>\n",
       "      <th>Ticket</th>\n",
       "      <th>Fare</th>\n",
       "      <th>Cabin</th>\n",
       "      <th>Embarked</th>\n",
       "    </tr>\n",
       "  </thead>\n",
       "  <tbody>\n",
       "    <tr>\n",
       "      <th>0</th>\n",
       "      <td>1</td>\n",
       "      <td>0</td>\n",
       "      <td>3</td>\n",
       "      <td>Braund, Mr. Owen Harris</td>\n",
       "      <td>male</td>\n",
       "      <td>22.0</td>\n",
       "      <td>1</td>\n",
       "      <td>0</td>\n",
       "      <td>A/5 21171</td>\n",
       "      <td>7.2500</td>\n",
       "      <td>NaN</td>\n",
       "      <td>S</td>\n",
       "    </tr>\n",
       "    <tr>\n",
       "      <th>1</th>\n",
       "      <td>2</td>\n",
       "      <td>1</td>\n",
       "      <td>1</td>\n",
       "      <td>Cumings, Mrs. John Bradley (Florence Briggs Th...</td>\n",
       "      <td>female</td>\n",
       "      <td>38.0</td>\n",
       "      <td>1</td>\n",
       "      <td>0</td>\n",
       "      <td>PC 17599</td>\n",
       "      <td>71.2833</td>\n",
       "      <td>C85</td>\n",
       "      <td>C</td>\n",
       "    </tr>\n",
       "    <tr>\n",
       "      <th>2</th>\n",
       "      <td>3</td>\n",
       "      <td>1</td>\n",
       "      <td>3</td>\n",
       "      <td>Heikkinen, Miss. Laina</td>\n",
       "      <td>female</td>\n",
       "      <td>26.0</td>\n",
       "      <td>0</td>\n",
       "      <td>0</td>\n",
       "      <td>STON/O2. 3101282</td>\n",
       "      <td>7.9250</td>\n",
       "      <td>NaN</td>\n",
       "      <td>S</td>\n",
       "    </tr>\n",
       "    <tr>\n",
       "      <th>3</th>\n",
       "      <td>4</td>\n",
       "      <td>1</td>\n",
       "      <td>1</td>\n",
       "      <td>Futrelle, Mrs. Jacques Heath (Lily May Peel)</td>\n",
       "      <td>female</td>\n",
       "      <td>35.0</td>\n",
       "      <td>1</td>\n",
       "      <td>0</td>\n",
       "      <td>113803</td>\n",
       "      <td>53.1000</td>\n",
       "      <td>C123</td>\n",
       "      <td>S</td>\n",
       "    </tr>\n",
       "    <tr>\n",
       "      <th>4</th>\n",
       "      <td>5</td>\n",
       "      <td>0</td>\n",
       "      <td>3</td>\n",
       "      <td>Allen, Mr. William Henry</td>\n",
       "      <td>male</td>\n",
       "      <td>35.0</td>\n",
       "      <td>0</td>\n",
       "      <td>0</td>\n",
       "      <td>373450</td>\n",
       "      <td>8.0500</td>\n",
       "      <td>NaN</td>\n",
       "      <td>S</td>\n",
       "    </tr>\n",
       "    <tr>\n",
       "      <th>...</th>\n",
       "      <td>...</td>\n",
       "      <td>...</td>\n",
       "      <td>...</td>\n",
       "      <td>...</td>\n",
       "      <td>...</td>\n",
       "      <td>...</td>\n",
       "      <td>...</td>\n",
       "      <td>...</td>\n",
       "      <td>...</td>\n",
       "      <td>...</td>\n",
       "      <td>...</td>\n",
       "      <td>...</td>\n",
       "    </tr>\n",
       "    <tr>\n",
       "      <th>886</th>\n",
       "      <td>887</td>\n",
       "      <td>0</td>\n",
       "      <td>2</td>\n",
       "      <td>Montvila, Rev. Juozas</td>\n",
       "      <td>male</td>\n",
       "      <td>27.0</td>\n",
       "      <td>0</td>\n",
       "      <td>0</td>\n",
       "      <td>211536</td>\n",
       "      <td>13.0000</td>\n",
       "      <td>NaN</td>\n",
       "      <td>S</td>\n",
       "    </tr>\n",
       "    <tr>\n",
       "      <th>887</th>\n",
       "      <td>888</td>\n",
       "      <td>1</td>\n",
       "      <td>1</td>\n",
       "      <td>Graham, Miss. Margaret Edith</td>\n",
       "      <td>female</td>\n",
       "      <td>19.0</td>\n",
       "      <td>0</td>\n",
       "      <td>0</td>\n",
       "      <td>112053</td>\n",
       "      <td>30.0000</td>\n",
       "      <td>B42</td>\n",
       "      <td>S</td>\n",
       "    </tr>\n",
       "    <tr>\n",
       "      <th>888</th>\n",
       "      <td>889</td>\n",
       "      <td>0</td>\n",
       "      <td>3</td>\n",
       "      <td>Johnston, Miss. Catherine Helen \"Carrie\"</td>\n",
       "      <td>female</td>\n",
       "      <td>NaN</td>\n",
       "      <td>1</td>\n",
       "      <td>2</td>\n",
       "      <td>W./C. 6607</td>\n",
       "      <td>23.4500</td>\n",
       "      <td>NaN</td>\n",
       "      <td>S</td>\n",
       "    </tr>\n",
       "    <tr>\n",
       "      <th>889</th>\n",
       "      <td>890</td>\n",
       "      <td>1</td>\n",
       "      <td>1</td>\n",
       "      <td>Behr, Mr. Karl Howell</td>\n",
       "      <td>male</td>\n",
       "      <td>26.0</td>\n",
       "      <td>0</td>\n",
       "      <td>0</td>\n",
       "      <td>111369</td>\n",
       "      <td>30.0000</td>\n",
       "      <td>C148</td>\n",
       "      <td>C</td>\n",
       "    </tr>\n",
       "    <tr>\n",
       "      <th>890</th>\n",
       "      <td>891</td>\n",
       "      <td>0</td>\n",
       "      <td>3</td>\n",
       "      <td>Dooley, Mr. Patrick</td>\n",
       "      <td>male</td>\n",
       "      <td>32.0</td>\n",
       "      <td>0</td>\n",
       "      <td>0</td>\n",
       "      <td>370376</td>\n",
       "      <td>7.7500</td>\n",
       "      <td>NaN</td>\n",
       "      <td>Q</td>\n",
       "    </tr>\n",
       "  </tbody>\n",
       "</table>\n",
       "<p>891 rows × 12 columns</p>\n",
       "</div>"
      ],
      "text/plain": [
       "     PassengerId  Survived  Pclass  \\\n",
       "0              1         0       3   \n",
       "1              2         1       1   \n",
       "2              3         1       3   \n",
       "3              4         1       1   \n",
       "4              5         0       3   \n",
       "..           ...       ...     ...   \n",
       "886          887         0       2   \n",
       "887          888         1       1   \n",
       "888          889         0       3   \n",
       "889          890         1       1   \n",
       "890          891         0       3   \n",
       "\n",
       "                                                  Name     Sex   Age  SibSp  \\\n",
       "0                              Braund, Mr. Owen Harris    male  22.0      1   \n",
       "1    Cumings, Mrs. John Bradley (Florence Briggs Th...  female  38.0      1   \n",
       "2                               Heikkinen, Miss. Laina  female  26.0      0   \n",
       "3         Futrelle, Mrs. Jacques Heath (Lily May Peel)  female  35.0      1   \n",
       "4                             Allen, Mr. William Henry    male  35.0      0   \n",
       "..                                                 ...     ...   ...    ...   \n",
       "886                              Montvila, Rev. Juozas    male  27.0      0   \n",
       "887                       Graham, Miss. Margaret Edith  female  19.0      0   \n",
       "888           Johnston, Miss. Catherine Helen \"Carrie\"  female   NaN      1   \n",
       "889                              Behr, Mr. Karl Howell    male  26.0      0   \n",
       "890                                Dooley, Mr. Patrick    male  32.0      0   \n",
       "\n",
       "     Parch            Ticket     Fare Cabin Embarked  \n",
       "0        0         A/5 21171   7.2500   NaN        S  \n",
       "1        0          PC 17599  71.2833   C85        C  \n",
       "2        0  STON/O2. 3101282   7.9250   NaN        S  \n",
       "3        0            113803  53.1000  C123        S  \n",
       "4        0            373450   8.0500   NaN        S  \n",
       "..     ...               ...      ...   ...      ...  \n",
       "886      0            211536  13.0000   NaN        S  \n",
       "887      0            112053  30.0000   B42        S  \n",
       "888      2        W./C. 6607  23.4500   NaN        S  \n",
       "889      0            111369  30.0000  C148        C  \n",
       "890      0            370376   7.7500   NaN        Q  \n",
       "\n",
       "[891 rows x 12 columns]"
      ]
     },
     "execution_count": 395,
     "metadata": {},
     "output_type": "execute_result"
    }
   ],
   "source": [
    "datatitanic"
   ]
  },
  {
   "cell_type": "markdown",
   "id": "5dcaf79b",
   "metadata": {},
   "source": [
    "### Question 1"
   ]
  },
  {
   "cell_type": "code",
   "execution_count": 396,
   "id": "a300de89",
   "metadata": {},
   "outputs": [],
   "source": [
    "regex_ticket = \"(?:[A|C])\"\n",
    "exo1 = datatitanic[datatitanic[\"Ticket\"].str.contains(regex_ticket)]"
   ]
  },
  {
   "cell_type": "markdown",
   "id": "83178bce",
   "metadata": {},
   "source": [
    "### Question 2"
   ]
  },
  {
   "cell_type": "code",
   "execution_count": 397,
   "id": "1ad2bb14",
   "metadata": {},
   "outputs": [
    {
     "name": "stdout",
     "output_type": "stream",
     "text": [
      "647\n",
      "182\n",
      "129\n"
     ]
    }
   ],
   "source": [
    "regex_mr = \"(?:Mr)\"\n",
    "regex_miss = \"(?:Miss)\"\n",
    "regex_mrs = \"(?:Mrs)\"\n",
    "print(datatitanic[datatitanic[\"Name\"].str.contains(regex_mr)].shape[0])\n",
    "print(datatitanic[datatitanic[\"Name\"].str.contains(regex_miss)].shape[0])\n",
    "print(datatitanic[datatitanic[\"Name\"].str.contains(regex_mrs)].shape[0])"
   ]
  },
  {
   "cell_type": "markdown",
   "id": "5a9bd1e0",
   "metadata": {},
   "source": [
    "### Question 3"
   ]
  },
  {
   "cell_type": "code",
   "execution_count": 398,
   "id": "91abe3ac",
   "metadata": {},
   "outputs": [],
   "source": [
    "newdf = datatitanic[\"Name\"].str.extract(r'(?P<Last_name>.*)\\,\\s(?P<Title>.*)\\.\\s(?P<First_name>.*)', expand=True)"
   ]
  },
  {
   "cell_type": "markdown",
   "id": "fce42819",
   "metadata": {},
   "source": [
    "### Question 4"
   ]
  },
  {
   "cell_type": "code",
   "execution_count": 399,
   "id": "4c4181dc",
   "metadata": {},
   "outputs": [],
   "source": [
    "newdf = newdf[[\"Title\",\"Last_name\",\"First_name\"]]"
   ]
  },
  {
   "cell_type": "code",
   "execution_count": 400,
   "id": "0cda871b",
   "metadata": {},
   "outputs": [
    {
     "data": {
      "text/html": [
       "<div>\n",
       "<style scoped>\n",
       "    .dataframe tbody tr th:only-of-type {\n",
       "        vertical-align: middle;\n",
       "    }\n",
       "\n",
       "    .dataframe tbody tr th {\n",
       "        vertical-align: top;\n",
       "    }\n",
       "\n",
       "    .dataframe thead th {\n",
       "        text-align: right;\n",
       "    }\n",
       "</style>\n",
       "<table border=\"1\" class=\"dataframe\">\n",
       "  <thead>\n",
       "    <tr style=\"text-align: right;\">\n",
       "      <th></th>\n",
       "      <th>Title</th>\n",
       "      <th>Last_name</th>\n",
       "      <th>First_name</th>\n",
       "    </tr>\n",
       "  </thead>\n",
       "  <tbody>\n",
       "    <tr>\n",
       "      <th>0</th>\n",
       "      <td>Mr</td>\n",
       "      <td>Braund</td>\n",
       "      <td>Owen Harris</td>\n",
       "    </tr>\n",
       "    <tr>\n",
       "      <th>1</th>\n",
       "      <td>Mrs</td>\n",
       "      <td>Cumings</td>\n",
       "      <td>John Bradley (Florence Briggs Thayer)</td>\n",
       "    </tr>\n",
       "    <tr>\n",
       "      <th>2</th>\n",
       "      <td>Miss</td>\n",
       "      <td>Heikkinen</td>\n",
       "      <td>Laina</td>\n",
       "    </tr>\n",
       "    <tr>\n",
       "      <th>3</th>\n",
       "      <td>Mrs</td>\n",
       "      <td>Futrelle</td>\n",
       "      <td>Jacques Heath (Lily May Peel)</td>\n",
       "    </tr>\n",
       "    <tr>\n",
       "      <th>4</th>\n",
       "      <td>Mr</td>\n",
       "      <td>Allen</td>\n",
       "      <td>William Henry</td>\n",
       "    </tr>\n",
       "    <tr>\n",
       "      <th>...</th>\n",
       "      <td>...</td>\n",
       "      <td>...</td>\n",
       "      <td>...</td>\n",
       "    </tr>\n",
       "    <tr>\n",
       "      <th>886</th>\n",
       "      <td>Rev</td>\n",
       "      <td>Montvila</td>\n",
       "      <td>Juozas</td>\n",
       "    </tr>\n",
       "    <tr>\n",
       "      <th>887</th>\n",
       "      <td>Miss</td>\n",
       "      <td>Graham</td>\n",
       "      <td>Margaret Edith</td>\n",
       "    </tr>\n",
       "    <tr>\n",
       "      <th>888</th>\n",
       "      <td>Miss</td>\n",
       "      <td>Johnston</td>\n",
       "      <td>Catherine Helen \"Carrie\"</td>\n",
       "    </tr>\n",
       "    <tr>\n",
       "      <th>889</th>\n",
       "      <td>Mr</td>\n",
       "      <td>Behr</td>\n",
       "      <td>Karl Howell</td>\n",
       "    </tr>\n",
       "    <tr>\n",
       "      <th>890</th>\n",
       "      <td>Mr</td>\n",
       "      <td>Dooley</td>\n",
       "      <td>Patrick</td>\n",
       "    </tr>\n",
       "  </tbody>\n",
       "</table>\n",
       "<p>891 rows × 3 columns</p>\n",
       "</div>"
      ],
      "text/plain": [
       "    Title  Last_name                             First_name\n",
       "0      Mr     Braund                            Owen Harris\n",
       "1     Mrs    Cumings  John Bradley (Florence Briggs Thayer)\n",
       "2    Miss  Heikkinen                                  Laina\n",
       "3     Mrs   Futrelle          Jacques Heath (Lily May Peel)\n",
       "4      Mr      Allen                          William Henry\n",
       "..    ...        ...                                    ...\n",
       "886   Rev   Montvila                                 Juozas\n",
       "887  Miss     Graham                         Margaret Edith\n",
       "888  Miss   Johnston               Catherine Helen \"Carrie\"\n",
       "889    Mr       Behr                            Karl Howell\n",
       "890    Mr     Dooley                                Patrick\n",
       "\n",
       "[891 rows x 3 columns]"
      ]
     },
     "execution_count": 400,
     "metadata": {},
     "output_type": "execute_result"
    }
   ],
   "source": [
    "newdf"
   ]
  },
  {
   "cell_type": "markdown",
   "id": "648ec4ab",
   "metadata": {},
   "source": [
    "### Question 5"
   ]
  },
  {
   "cell_type": "code",
   "execution_count": 401,
   "id": "af7347fa",
   "metadata": {},
   "outputs": [
    {
     "data": {
      "text/html": [
       "<div>\n",
       "<style scoped>\n",
       "    .dataframe tbody tr th:only-of-type {\n",
       "        vertical-align: middle;\n",
       "    }\n",
       "\n",
       "    .dataframe tbody tr th {\n",
       "        vertical-align: top;\n",
       "    }\n",
       "\n",
       "    .dataframe thead th {\n",
       "        text-align: right;\n",
       "    }\n",
       "</style>\n",
       "<table border=\"1\" class=\"dataframe\">\n",
       "  <thead>\n",
       "    <tr style=\"text-align: right;\">\n",
       "      <th></th>\n",
       "      <th>Title</th>\n",
       "      <th>Last_name</th>\n",
       "      <th>First_name</th>\n",
       "    </tr>\n",
       "  </thead>\n",
       "  <tbody>\n",
       "    <tr>\n",
       "      <th>0</th>\n",
       "      <td>MR</td>\n",
       "      <td>Braund</td>\n",
       "      <td>Owen Harris</td>\n",
       "    </tr>\n",
       "    <tr>\n",
       "      <th>1</th>\n",
       "      <td>MRS</td>\n",
       "      <td>Cumings</td>\n",
       "      <td>John Bradley (Florence Briggs Thayer)</td>\n",
       "    </tr>\n",
       "    <tr>\n",
       "      <th>2</th>\n",
       "      <td>MISS</td>\n",
       "      <td>Heikkinen</td>\n",
       "      <td>Laina</td>\n",
       "    </tr>\n",
       "    <tr>\n",
       "      <th>3</th>\n",
       "      <td>MRS</td>\n",
       "      <td>Futrelle</td>\n",
       "      <td>Jacques Heath (Lily May Peel)</td>\n",
       "    </tr>\n",
       "    <tr>\n",
       "      <th>4</th>\n",
       "      <td>MR</td>\n",
       "      <td>Allen</td>\n",
       "      <td>William Henry</td>\n",
       "    </tr>\n",
       "    <tr>\n",
       "      <th>...</th>\n",
       "      <td>...</td>\n",
       "      <td>...</td>\n",
       "      <td>...</td>\n",
       "    </tr>\n",
       "    <tr>\n",
       "      <th>886</th>\n",
       "      <td>REV</td>\n",
       "      <td>Montvila</td>\n",
       "      <td>Juozas</td>\n",
       "    </tr>\n",
       "    <tr>\n",
       "      <th>887</th>\n",
       "      <td>MISS</td>\n",
       "      <td>Graham</td>\n",
       "      <td>Margaret Edith</td>\n",
       "    </tr>\n",
       "    <tr>\n",
       "      <th>888</th>\n",
       "      <td>MISS</td>\n",
       "      <td>Johnston</td>\n",
       "      <td>Catherine Helen \"Carrie\"</td>\n",
       "    </tr>\n",
       "    <tr>\n",
       "      <th>889</th>\n",
       "      <td>MR</td>\n",
       "      <td>Behr</td>\n",
       "      <td>Karl Howell</td>\n",
       "    </tr>\n",
       "    <tr>\n",
       "      <th>890</th>\n",
       "      <td>MR</td>\n",
       "      <td>Dooley</td>\n",
       "      <td>Patrick</td>\n",
       "    </tr>\n",
       "  </tbody>\n",
       "</table>\n",
       "<p>891 rows × 3 columns</p>\n",
       "</div>"
      ],
      "text/plain": [
       "    Title  Last_name                             First_name\n",
       "0      MR     Braund                            Owen Harris\n",
       "1     MRS    Cumings  John Bradley (Florence Briggs Thayer)\n",
       "2    MISS  Heikkinen                                  Laina\n",
       "3     MRS   Futrelle          Jacques Heath (Lily May Peel)\n",
       "4      MR      Allen                          William Henry\n",
       "..    ...        ...                                    ...\n",
       "886   REV   Montvila                                 Juozas\n",
       "887  MISS     Graham                         Margaret Edith\n",
       "888  MISS   Johnston               Catherine Helen \"Carrie\"\n",
       "889    MR       Behr                            Karl Howell\n",
       "890    MR     Dooley                                Patrick\n",
       "\n",
       "[891 rows x 3 columns]"
      ]
     },
     "execution_count": 401,
     "metadata": {},
     "output_type": "execute_result"
    }
   ],
   "source": [
    "newdf_upper = newdf.copy()\n",
    "newdf_upper[\"Title\"] = newdf_upper[\"Title\"].str.upper()\n",
    "newdf_upper"
   ]
  },
  {
   "cell_type": "markdown",
   "id": "b1297804",
   "metadata": {},
   "source": [
    "### Question 6"
   ]
  },
  {
   "cell_type": "code",
   "execution_count": 412,
   "id": "4cf59c71",
   "metadata": {},
   "outputs": [
    {
     "data": {
      "text/html": [
       "<div>\n",
       "<style scoped>\n",
       "    .dataframe tbody tr th:only-of-type {\n",
       "        vertical-align: middle;\n",
       "    }\n",
       "\n",
       "    .dataframe tbody tr th {\n",
       "        vertical-align: top;\n",
       "    }\n",
       "\n",
       "    .dataframe thead th {\n",
       "        text-align: right;\n",
       "    }\n",
       "</style>\n",
       "<table border=\"1\" class=\"dataframe\">\n",
       "  <thead>\n",
       "    <tr style=\"text-align: right;\">\n",
       "      <th></th>\n",
       "      <th>Title</th>\n",
       "      <th>Last_name</th>\n",
       "      <th>First_name</th>\n",
       "    </tr>\n",
       "  </thead>\n",
       "  <tbody>\n",
       "    <tr>\n",
       "      <th>0</th>\n",
       "      <td>NaN</td>\n",
       "      <td>Braund</td>\n",
       "      <td>Owen Harris</td>\n",
       "    </tr>\n",
       "    <tr>\n",
       "      <th>1</th>\n",
       "      <td>NaN</td>\n",
       "      <td>Cumings</td>\n",
       "      <td>John Bradley (Florence Briggs Thayer)</td>\n",
       "    </tr>\n",
       "    <tr>\n",
       "      <th>2</th>\n",
       "      <td>MISS</td>\n",
       "      <td>Heikkinen</td>\n",
       "      <td>Laina</td>\n",
       "    </tr>\n",
       "    <tr>\n",
       "      <th>3</th>\n",
       "      <td>NaN</td>\n",
       "      <td>Futrelle</td>\n",
       "      <td>Jacques Heath (Lily May Peel)</td>\n",
       "    </tr>\n",
       "    <tr>\n",
       "      <th>4</th>\n",
       "      <td>NaN</td>\n",
       "      <td>Allen</td>\n",
       "      <td>William Henry</td>\n",
       "    </tr>\n",
       "    <tr>\n",
       "      <th>...</th>\n",
       "      <td>...</td>\n",
       "      <td>...</td>\n",
       "      <td>...</td>\n",
       "    </tr>\n",
       "    <tr>\n",
       "      <th>886</th>\n",
       "      <td>NaN</td>\n",
       "      <td>Montvila</td>\n",
       "      <td>Juozas</td>\n",
       "    </tr>\n",
       "    <tr>\n",
       "      <th>887</th>\n",
       "      <td>MISS</td>\n",
       "      <td>Graham</td>\n",
       "      <td>Margaret Edith</td>\n",
       "    </tr>\n",
       "    <tr>\n",
       "      <th>888</th>\n",
       "      <td>MISS</td>\n",
       "      <td>Johnston</td>\n",
       "      <td>Catherine Helen \"Carrie\"</td>\n",
       "    </tr>\n",
       "    <tr>\n",
       "      <th>889</th>\n",
       "      <td>NaN</td>\n",
       "      <td>Behr</td>\n",
       "      <td>Karl Howell</td>\n",
       "    </tr>\n",
       "    <tr>\n",
       "      <th>890</th>\n",
       "      <td>NaN</td>\n",
       "      <td>Dooley</td>\n",
       "      <td>Patrick</td>\n",
       "    </tr>\n",
       "  </tbody>\n",
       "</table>\n",
       "<p>891 rows × 3 columns</p>\n",
       "</div>"
      ],
      "text/plain": [
       "    Title  Last_name                             First_name\n",
       "0     NaN     Braund                            Owen Harris\n",
       "1     NaN    Cumings  John Bradley (Florence Briggs Thayer)\n",
       "2    MISS  Heikkinen                                  Laina\n",
       "3     NaN   Futrelle          Jacques Heath (Lily May Peel)\n",
       "4     NaN      Allen                          William Henry\n",
       "..    ...        ...                                    ...\n",
       "886   NaN   Montvila                                 Juozas\n",
       "887  MISS     Graham                         Margaret Edith\n",
       "888  MISS   Johnston               Catherine Helen \"Carrie\"\n",
       "889   NaN       Behr                            Karl Howell\n",
       "890   NaN     Dooley                                Patrick\n",
       "\n",
       "[891 rows x 3 columns]"
      ]
     },
     "execution_count": 412,
     "metadata": {},
     "output_type": "execute_result"
    }
   ],
   "source": [
    "newdf_cdupper = newdf.copy()\n",
    "#.str.contains(r'(Mrs|Mr)', case=False)\n",
    "newdf_cdupper[\"Title\"] = newdf_cdupper.where(newdf_cdupper[\"Title\"] == r\"\")[\"Title\"].str.upper()\n",
    "newdf_cdupper[\"Title\"].is"
   ]
  }
 ],
 "metadata": {
  "celltoolbar": "Slideshow",
  "kernelspec": {
   "display_name": "Python 3.10.6 64-bit",
   "language": "python",
   "name": "python3"
  },
  "language_info": {
   "codemirror_mode": {
    "name": "ipython",
    "version": 3
   },
   "file_extension": ".py",
   "mimetype": "text/x-python",
   "name": "python",
   "nbconvert_exporter": "python",
   "pygments_lexer": "ipython3",
   "version": "3.10.6"
  },
  "vscode": {
   "interpreter": {
    "hash": "31f2aee4e71d21fbe5cf8b01ff0e069b9275f58929596ceb00d14d90e3e16cd6"
   }
  }
 },
 "nbformat": 4,
 "nbformat_minor": 5
}
