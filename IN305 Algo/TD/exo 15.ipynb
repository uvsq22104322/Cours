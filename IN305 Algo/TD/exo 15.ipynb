{
 "cells": [
  {
   "cell_type": "markdown",
   "metadata": {},
   "source": [
    "On a :\n",
    "tableau A\n",
    "longueur(A) : nbre d'emplacements total\n",
    "taille(A) : position du dernier terme dans le tableau\n",
    "racine -> A[1] (on commence l'indexation à 1 !!!)\n",
    "père = valeur inférieur i/2\n",
    "gauche(i) = 2*i\n",
    "droite(i) = 2*i + 1"
   ]
  },
  {
   "cell_type": "code",
   "execution_count": 21,
   "metadata": {},
   "outputs": [
    {
     "name": "stdout",
     "output_type": "stream",
     "text": [
      "[0, 12, 11, 9, 17, 0, 18, 5]\n"
     ]
    }
   ],
   "source": [
    "import random \n",
    "\n",
    "A = [random.randint(0,20) for i in range(8)] #tableau avec 7 valeurs pour simuler un arbre binaire \n",
    "A[0] = 0 #obligation d'avoir un terme = 0 à l'indice 0, on comence à l'indice 1\n",
    "\n",
    "print(A)\n",
    "def père(i):\n",
    "    return i//2\n",
    "def gauche(i):\n",
    "    return 2*i\n",
    "def droite(i):\n",
    "    return 2*i+1\n",
    "\n"
   ]
  },
  {
   "cell_type": "code",
   "execution_count": 22,
   "metadata": {},
   "outputs": [],
   "source": [
    "#fonction recursive ! :\n",
    "\n",
    "def est_tas(A,i):\n",
    "    if 2*i > len(A): # = cas de base à traiter en premier pour que la fonction arrete de s'appeler recursivement quand nécessaire \n",
    "        return True\n",
    "    elif 2*i +1 > len(A):\n",
    "        return A[i] > A[2*i] # = A[i] > gauche(i)\n",
    "        #on renvoie directement le résultat du booléen ! pas besoin de verif PUIS de renvoyer\n",
    "    return (A[i]>A[2*i] and \n",
    "            A[i]>A[2*i+1] and\n",
    "            est_tas(A,2*i) and\n",
    "            est_tas(A,2*i+1))\n",
    "\n",
    "#Explication : les deux premières conditions permettent 1) de s'arreter si il n'y a pas d'enfants et donc renvoie True (puisque une feuille n'ayant pas d'enfants ne peut pas être plus petit que des enfants non-existants = c'est donc un tas),\n",
    "# 2) de vérifier la présence d'au moins un fils, le gauche et vérifie après si le fils est plus petit que le père (si oui renvoie True, sinon False car ça ne correspond pas à un tas),\n",
    "#Le return final vérifie dans l'ordre lorsque'il y a deux fils : que gauche est plus petit que père, que droite est plus petit que père, en retournant la fonction va ensuite appeler la fonction pour les fils de gauche (jusqu'au bout de chaque chemins)\n",
    "#puis pour les fils de droite (jusqu'au bout de chaque chemins).\n",
    "#Il suffit d'un seul False pour que le tableau ne soit pas un tas !"
   ]
  },
  {
   "cell_type": "code",
   "execution_count": 23,
   "metadata": {},
   "outputs": [],
   "source": [
    "#En une ligne :\n",
    "\n",
    "def est_tas_une_ligne(A,i):\n",
    "    return 2*i > len(A) or (2*i+1 > len(A) and A[i]>A[2*i]) or (A[i]>A[2*i] and A[i]>A[2*i+1] and est_tas(A,2*i) and est_tas(A,2*i+1))\n",
    "    #      pas d'enfants ?       gauche existe                       "
   ]
  },
  {
   "cell_type": "code",
   "execution_count": 24,
   "metadata": {},
   "outputs": [
    {
     "name": "stdout",
     "output_type": "stream",
     "text": [
      "False False\n"
     ]
    }
   ],
   "source": [
    "print(est_tas(A,1), est_tas_une_ligne(A,1))"
   ]
  },
  {
   "cell_type": "code",
   "execution_count": 25,
   "metadata": {},
   "outputs": [],
   "source": [
    "#fonction récursive:\n",
    "\n",
    "def construir_tas(A,i):\n",
    "    if 2*i < len(A): #cas de base : au moins 1 fils (gauche)\n",
    "        construir_tas(A,2*i)\n",
    "        construir_tas(A,2*i+1)\n",
    "        pos = 1\n",
    "        while 2*pos <= len(A): \n",
    "            if A[2*pos] > A[2*pos+1]: #test entre deux fils\n",
    "                if A[2*pos] > A[pos]:\n",
    "                    A[2*pos],A[pos] = A[pos],A[2*pos]\n",
    "                    pos = 2*pos\n",
    "                else:\n",
    "                    break\n",
    "            else:\n",
    "                if A[2*pos+1] > A[pos]:\n",
    "                    A[2*pos+1],A[pos] = A[pos],A[2*pos+1]\n",
    "                    pos = 2*pos+1\n",
    "                else:\n",
    "                    break\n",
    "    print(A)\n",
    "#complexité : nlog(n) , voir explication sur feuille\n",
    "      "
   ]
  },
  {
   "cell_type": "code",
   "execution_count": 26,
   "metadata": {},
   "outputs": [
    {
     "name": "stdout",
     "output_type": "stream",
     "text": [
      "[0, 12, 11, 9, 17, 0, 18, 5]\n",
      "[0, 12, 11, 9, 17, 0, 18, 5]\n",
      "[0, 12, 11, 9, 17, 0, 18, 5]\n",
      "[0, 12, 11, 9, 17, 0, 18, 5]\n",
      "[0, 12, 11, 9, 17, 0, 18, 5]\n",
      "[0, 12, 11, 9, 17, 0, 18, 5]\n",
      "[0, 12, 11, 9, 17, 0, 18, 5]\n",
      "None\n"
     ]
    }
   ],
   "source": [
    "print(construir_tas(A,1))"
   ]
  },
  {
   "cell_type": "markdown",
   "metadata": {},
   "source": [
    "#ne fonctionne pas, erreur pseudo code -> code pyton ?????"
   ]
  }
 ],
 "metadata": {
  "kernelspec": {
   "display_name": "Python 3.10.8 64-bit (microsoft store)",
   "language": "python",
   "name": "python3"
  },
  "language_info": {
   "codemirror_mode": {
    "name": "ipython",
    "version": 3
   },
   "file_extension": ".py",
   "mimetype": "text/x-python",
   "name": "python",
   "nbconvert_exporter": "python",
   "pygments_lexer": "ipython3",
   "version": "3.10.8"
  },
  "orig_nbformat": 4,
  "vscode": {
   "interpreter": {
    "hash": "4c2e59c9858e480365d7bbe6ec18083a8db6f1aebf751422637bf9ae599e61da"
   }
  }
 },
 "nbformat": 4,
 "nbformat_minor": 2
}
