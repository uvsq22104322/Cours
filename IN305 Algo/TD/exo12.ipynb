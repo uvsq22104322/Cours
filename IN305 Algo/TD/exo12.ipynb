{
 "cells": [
  {
   "cell_type": "code",
   "execution_count": 1,
   "metadata": {},
   "outputs": [
    {
     "name": "stdout",
     "output_type": "stream",
     "text": [
      "[2, 12, 9, 18, 16, 10, 19, 8, 3, 18]\n",
      "[2, 3, 8, 9, 10, 12, 16, 18, 18, 19]\n"
     ]
    }
   ],
   "source": [
    "import random\n",
    "tab=[random.randint(0,20)for i in range(10)]\n",
    "print(tab)\n",
    "\n",
    "\n",
    "\n",
    "def min_pos(tab,g,d): #complexité = 2+3n\n",
    "    #renvoie la position de la valeur la plus petite du tableau donné\n",
    "    min = tab[g] #complexité = +2 (negligeable)\n",
    "    pos = g\n",
    "    for i in range(g,d): #complexité = on répète cette boucle n fois si n correspond au nbr d'élément dans le tableau, avec 3 opération donc : 3n\n",
    "        if min > tab[i]: \n",
    "            min = tab[i]\n",
    "            pos = i\n",
    "    return pos\n",
    "\n",
    "\n",
    "def tri_selection(tab): #complexité = O(n^2)\n",
    "    #ne pas créer de nv tableau et utiliser append, pas le but ici et ne fonctionne pas (min_pos renverra la meme valeur plusieurs fois)\n",
    "    i = 0\n",
    "    for i in range(i,len(tab)): #complexité = n x (2+3n+1) = n^2\n",
    "        p = min_pos(tab,i,len(tab)) #complexité = donc égale à 2+3n\n",
    "        tab[p] , tab[i] = tab[i] , tab[p] #complexité = +1\n",
    "        #permet d'interchanger deux valeurs sans les écraser !!\n",
    "    return tab\n",
    "#pour cette complexité on peut aussi utiliser la formule de la somme pour être plus précis : somme(n-1 ; i = 0) n-i+1 : somme(n-1 ; i = 0)n+1 - somme(n-1;i= 0)i = n(n+1) - n(n-1)/2 = O(n^2) et Ω(n^2) !!\n",
    "print(tri_selection(tab))\n",
    "\n"
   ]
  },
  {
   "cell_type": "code",
   "execution_count": 2,
   "metadata": {},
   "outputs": [
    {
     "name": "stdout",
     "output_type": "stream",
     "text": [
      "[8, 1, 20, 16, 8, 17, 4, 5, 6, 19]\n",
      "[1, 4, 5, 6, 8, 8, 16, 17, 19, 20]\n"
     ]
    }
   ],
   "source": [
    "import random\n",
    "tab=[random.randint(0,20)for i in range(10)]\n",
    "print(tab)\n",
    "\n",
    "def min_pos(tab,g,d): \n",
    "    #renvoie la position de la valeur la plus petite du tableau donné\n",
    "    min = tab[g]\n",
    "    pos = g\n",
    "    for i in range(g,d):\n",
    "        if min > tab[i]:\n",
    "            min = tab[i]\n",
    "            pos = i\n",
    "    return pos\n",
    "\n",
    "\n",
    "def tri_selection_R(tab,g): \n",
    "    #ajout d'un entier g indiquant le début de la zone que l'on veut trier\n",
    "    if g < len(tab)-1: \n",
    "    # -1 car le dernier élément est forcément trié\n",
    "        p = min_pos(tab,g,len(tab))\n",
    "        tab[g] , tab[p] = tab[p] , tab[g]\n",
    "        tri_selection_R(tab,g+1) \n",
    "        #c'est ici que la récursivité est visible, on rapelle la fonction\n",
    "    return tab\n",
    "\n",
    "\n",
    "print(tri_selection_R(tab,0))\n",
    "\n",
    "#pour la compléxité, elle dépend , pour un algo récursif, de n(taille du tableau) et g la valeur donnée \n",
    "#la cas de bas = C(n,n) = 1 (g < len(tab))\n",
    "#on la défini avec une équation : C(n,g) = n - g + 1 + C(n,g+1)\n",
    "#après l'avoir résolu on trouve la compléxité\n",
    "#avec un seul paramètre : C(n) = n(taille du tableau) + 1(déplacer les valeurs) + C(n-1) (revient au même)\n"
   ]
  },
  {
   "cell_type": "markdown",
   "metadata": {},
   "source": [
    "Question 5 : Même algo mais en calculant le min ET le max ! "
   ]
  },
  {
   "cell_type": "code",
   "execution_count": null,
   "metadata": {},
   "outputs": [],
   "source": []
  },
  {
   "cell_type": "code",
   "execution_count": 87,
   "metadata": {},
   "outputs": [
    {
     "name": "stdout",
     "output_type": "stream",
     "text": [
      "[18, 17, 2, 13, 4, 9, 6, 14, 3, 1]\n",
      "(9, 0)\n",
      "[1, 4, 3, 9, 13, 6, 14, 17, 18, 2]\n"
     ]
    }
   ],
   "source": [
    "import random\n",
    "\n",
    "tab=[random.randint(0,20)for i in range(10)]\n",
    "print(tab)\n",
    "\n",
    "def min_max_pos(tab,g,d):\n",
    "    min = tab[g]\n",
    "    max = tab[g]\n",
    "    min_pos = g\n",
    "    max_pos = g\n",
    "    for i in range(g,d):\n",
    "        if min > tab[i]: \n",
    "            min = tab[i]\n",
    "            min_pos = i\n",
    "        elif max < tab[i]:\n",
    "            max = tab[i]\n",
    "            max_pos = i\n",
    "    return min_pos,max_pos\n",
    "\n",
    "def tri_selection_opti(tab):\n",
    "    g = 0\n",
    "    d = len(tab) - 1\n",
    "    while g < d: #usage de while pour que ca s'arrete lorsque la valeur de gauche est inférieur à celle de droite\n",
    "        mi,ma = min_max_pos(tab,g,d)\n",
    "        tab[g] , tab[mi] = tab[mi] , tab[g] \n",
    "        tab[d] , tab[ma] = tab[ma] , tab[d] \n",
    "        g = g+1\n",
    "        d = d-1\n",
    "    return tab\n",
    "\n",
    "print(min_max_pos(tab,0,10))\n",
    "\n",
    "print(tri_selection_opti(tab))"
   ]
  }
 ],
 "metadata": {
  "kernelspec": {
   "display_name": "Python 3.9.5 ('base')",
   "language": "python",
   "name": "python3"
  },
  "language_info": {
   "codemirror_mode": {
    "name": "ipython",
    "version": 3
   },
   "file_extension": ".py",
   "mimetype": "text/x-python",
   "name": "python",
   "nbconvert_exporter": "python",
   "pygments_lexer": "ipython3",
   "version": "3.9.5"
  },
  "orig_nbformat": 4,
  "vscode": {
   "interpreter": {
    "hash": "bfa9366e46a819218d9f64c5d2440e7ddf245c88202eb30a5a7c4eb273cb94b8"
   }
  }
 },
 "nbformat": 4,
 "nbformat_minor": 2
}
