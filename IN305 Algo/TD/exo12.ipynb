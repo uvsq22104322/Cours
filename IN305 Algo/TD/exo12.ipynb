{
 "cells": [
  {
   "cell_type": "code",
   "execution_count": null,
   "metadata": {},
   "outputs": [
    {
     "name": "stdout",
     "output_type": "stream",
     "text": [
      "[13, 0, 17, 0, 15, 6, 10, 9, 12, 5]\n",
      "[0, 0, 5, 6, 9, 10, 12, 13, 15, 17]\n"
     ]
    }
   ],
   "source": [
    "import random\n",
    "tab=[random.randint(0,20)for i in range(10)]\n",
    "print(tab)\n",
    "\n",
    "\n",
    "\n",
    "def min_pos(tab,g,d): #complexité = 2+3n\n",
    "    #renvoie la position de la valeur la plus petite du tableau donné\n",
    "    min = tab[g] #complexité = +2 (negligeable)\n",
    "    pos = g\n",
    "    for i in range(g,d): #complexité = on répète cette boucle n fois si n correspond au nbr d'élément dans le tableau, avec 3 opération donc : 3n\n",
    "        if min > tab[i]: \n",
    "            min = tab[i]\n",
    "            pos = i\n",
    "    return pos\n",
    "\n",
    "\n",
    "def tri_selection(tab): #complexité = O(n^2)\n",
    "    #ne pas créer de nv tableau et utiliser append, pas le but ici et ne fonctionne pas (min_pos renverra la meme valeur plusieurs fois)\n",
    "    i = 0\n",
    "    for i in range(i,len(tab)): #complexité = n x (2+3n+1) = n^2\n",
    "        p = min_pos(tab,i,len(tab)) #complexité = donc égale à 2+3n\n",
    "        tab[p] , tab[i] = tab[i] , tab[p] #complexité = +1\n",
    "        #permet d'interchanger deux valeurs sans les écraser !!\n",
    "    return tab\n",
    "#pour cette complexité on peut aussi utiliser la formule de la somme pour être plus précis : somme(n-1 ; i = 0) n-i+1 : somme(n-1 ; i = 0)n+1 - somme(n-1;i= 0)i = n(n+1) - n(n-1)/2 = O(n^2) et Ω(n^2) !!\n",
    "print(tri_selection(tab))\n",
    "\n"
   ]
  },
  {
   "cell_type": "code",
   "execution_count": 51,
   "metadata": {},
   "outputs": [
    {
     "name": "stdout",
     "output_type": "stream",
     "text": [
      "[5, 4, 7, 11, 7, 3, 1, 8, 10, 16]\n",
      "[1, 3, 4, 5, 7, 7, 8, 10, 11, 16]\n"
     ]
    },
    {
     "ename": "",
     "evalue": "",
     "output_type": "error",
     "traceback": [
      "\u001b[1;31mLe Kernel s’est bloqué lors de l’exécution du code dans la cellule active ou une cellule précédente. Veuillez vérifier le code dans la ou les cellules pour identifier une cause possible de l’échec. Cliquez <a href='https://aka.ms/vscodeJupyterKernelCrash'>ici</a> pour plus d’informations. Pour plus d’informations, consultez Jupyter <a href='command:jupyter.viewOutput'>log</a>."
     ]
    }
   ],
   "source": [
    "import random\n",
    "tab=[random.randint(0,20)for i in range(10)]\n",
    "print(tab)\n",
    "\n",
    "def min_pos(tab,g,d): \n",
    "    #renvoie la position de la valeur la plus petite du tableau donné\n",
    "    min = tab[g]\n",
    "    pos = g\n",
    "    for i in range(g,d):\n",
    "        if min > tab[i]:\n",
    "            min = tab[i]\n",
    "            pos = i\n",
    "    return pos\n",
    "\n",
    "\n",
    "def tri_selection_R(tab,g): \n",
    "    #ajout d'un entier g indiquant le début de la zone que l'on veut trier\n",
    "    if g < len(tab)-1: \n",
    "    # -1 car le dernier élément est forcément trié\n",
    "        p = min_pos(tab,g,len(tab))\n",
    "        tab[g] , tab[p] = tab[p] , tab[g]\n",
    "        tri_selection_R(tab,g+1) \n",
    "        #c'est ici que la récursivité est visible, on rapelle la fonction\n",
    "    return tab\n",
    "\n",
    "\n",
    "print(tri_selection_R(tab,0))\n",
    "\n",
    "#pour la compléxité, elle dépend , pour un algo récursif, de n(taille du tableau) et g la valeur donnée \n",
    "#la cas de bas = C(n,n) = 1 (g < len(tab))\n",
    "#on la défini avec une équation : C(n,g) = n - g + 1 + C(n,g+1)\n",
    "#après l'avoir résolu on trouve la compléxité\n",
    "#avec un seul paramètre : C(n) = n(taille du tableau) + 1(déplacer les valeurs) + C(n-1) (revient au même)\n"
   ]
  },
  {
   "cell_type": "code",
   "execution_count": null,
   "metadata": {},
   "outputs": [],
   "source": [
    "algo tri selection avec un algo du début de td pour obtenir un complexité en 3n et pas 4n"
   ]
  }
 ],
 "metadata": {
  "kernelspec": {
   "display_name": "Python 3.10.7 64-bit (microsoft store)",
   "language": "python",
   "name": "python3"
  },
  "language_info": {
   "codemirror_mode": {
    "name": "ipython",
    "version": 3
   },
   "file_extension": ".py",
   "mimetype": "text/x-python",
   "name": "python",
   "nbconvert_exporter": "python",
   "pygments_lexer": "ipython3",
   "version": "3.10.7"
  },
  "orig_nbformat": 4,
  "vscode": {
   "interpreter": {
    "hash": "4c2e59c9858e480365d7bbe6ec18083a8db6f1aebf751422637bf9ae599e61da"
   }
  }
 },
 "nbformat": 4,
 "nbformat_minor": 2
}
