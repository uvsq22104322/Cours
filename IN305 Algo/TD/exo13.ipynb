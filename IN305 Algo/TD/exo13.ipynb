{
 "cells": [
  {
   "cell_type": "code",
   "execution_count": 32,
   "metadata": {},
   "outputs": [
    {
     "name": "stdout",
     "output_type": "stream",
     "text": [
      "[1, 4, 2]\n"
     ]
    }
   ],
   "source": [
    "#faire une fonction d'un tableau d'occurence, c-à-d une fonction avec comme entrée un tableau de valeurs de 0 à K et qui renvoie le tableau d'occurence \n",
    "#d'un autre tableau\n",
    "\n",
    "tab = [1,2,1,1,2,0,1]\n",
    "\n",
    "def tab_occurence(tab):\n",
    "    tab_occu = [0 for i in range(max(tab)+1)] #tableau générer avec autant d'élém qu'il y a de valeures différentes dans le tab de base\n",
    "    for i in tab:\n",
    "        tab_occu[i] += 1\n",
    "    return tab_occu\n",
    "\n",
    "print(tab_occurence(tab))\n"
   ]
  },
  {
   "cell_type": "code",
   "execution_count": 39,
   "metadata": {},
   "outputs": [
    {
     "name": "stdout",
     "output_type": "stream",
     "text": [
      "[1, 4, 2]\n"
     ]
    }
   ],
   "source": [
    "#Correction du prof:\n",
    "\n",
    "def n_occ(t,k):\n",
    "    occ = [0] * k\n",
    "    for el in t:\n",
    "        occ[el] +=1\n",
    "    return occ\n",
    "\n",
    "print(n_occ([1,2,1,1,2,0,1],3))"
   ]
  }
 ],
 "metadata": {
  "kernelspec": {
   "display_name": "Python 3.10.6 64-bit",
   "language": "python",
   "name": "python3"
  },
  "language_info": {
   "codemirror_mode": {
    "name": "ipython",
    "version": 3
   },
   "file_extension": ".py",
   "mimetype": "text/x-python",
   "name": "python",
   "nbconvert_exporter": "python",
   "pygments_lexer": "ipython3",
   "version": "3.10.6"
  },
  "orig_nbformat": 4,
  "vscode": {
   "interpreter": {
    "hash": "916dbcbb3f70747c44a77c7bcd40155683ae19c65e1c03b4aa3499c5328201f1"
   }
  }
 },
 "nbformat": 4,
 "nbformat_minor": 2
}
