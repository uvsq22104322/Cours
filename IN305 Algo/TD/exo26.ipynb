{
 "cells": [
  {
   "cell_type": "code",
   "execution_count": 2,
   "metadata": {},
   "outputs": [],
   "source": [
    "Pre = [1,2,3,4,5,6,7,8]\n",
    "Post = [4,3,5,2,7,8,6,1]\n",
    "\n",
    "def PrePost(t_pre,t_post):\n",
    "#Cas de base:\n",
    "    if len(t_pre) != len(t_post): #si la longueur des deux lists ne sont pas égales, impossible qu'elles puissent correspondre\n",
    "        return False\n",
    "    if len(t_pre) or len(t_post) == 0: #pas vraiment nécessaire de mettre les deux len puisqu'on vérifie si elles sont égales juste au dessus\n",
    "        return True\n",
    "    if t_pre[0] != t_post[-1]: #si la racine positionnée dans pre (donc au début) et dans post (donc à la fin) ne sont pas égales, impossible qu'elles puissent correspondre\n",
    "        return False\n",
    "    if len(t_pre) == 1: #si la longueur des deux listes est égale à un, on peut renvoyer True\n",
    "        return True\n",
    "#Fin cas de base:\n",
    "    if t_pre[1] == t_post[-2]: #Il n'y a qu'un seul sous-arbre et on renvoie les sous-tableau sans le premier élem pour pré et sans le dernier pour post\n",
    "        return PrePost(t_pre[1:],t_post[:-1])\n",
    "    else:\n",
    "        c1 = t_pre.index(t_post[-2]) #c1 et c2 correspondent aux racines des deux sous-tableau de la racine \n",
    "        c2 = t_post.index(t_pre[1])\n",
    "        return PrePost(t_pre[1:c1], t_post[0:c2+1]) and PrePost(t_pre[c1:],t_post[c2+1:-1]) #appel récursif avec les slices correspondant aux deux sous-tab\n",
    "    \n",
    "    "
   ]
  },
  {
   "cell_type": "code",
   "execution_count": 3,
   "metadata": {},
   "outputs": [
    {
     "data": {
      "text/plain": [
       "True"
      ]
     },
     "execution_count": 3,
     "metadata": {},
     "output_type": "execute_result"
    }
   ],
   "source": [
    "PrePost(Pre,Post)"
   ]
  }
 ],
 "metadata": {
  "kernelspec": {
   "display_name": "Python 3.10.6 64-bit",
   "language": "python",
   "name": "python3"
  },
  "language_info": {
   "codemirror_mode": {
    "name": "ipython",
    "version": 3
   },
   "file_extension": ".py",
   "mimetype": "text/x-python",
   "name": "python",
   "nbconvert_exporter": "python",
   "pygments_lexer": "ipython3",
   "version": "3.10.6"
  },
  "orig_nbformat": 4,
  "vscode": {
   "interpreter": {
    "hash": "916dbcbb3f70747c44a77c7bcd40155683ae19c65e1c03b4aa3499c5328201f1"
   }
  }
 },
 "nbformat": 4,
 "nbformat_minor": 2
}
