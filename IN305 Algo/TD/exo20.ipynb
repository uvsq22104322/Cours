{
 "cells": [
  {
   "cell_type": "code",
   "execution_count": 1,
   "metadata": {},
   "outputs": [],
   "source": [
    "#Algo recursif calcul carré d'un entier \n",
    "\n",
    "def carré(n):\n",
    "    if n == 1: #cas de base ! \n",
    "        return 1\n",
    "    if n > 1: \n",
    "        return carré(n-1) + 2*n - 1 #d'aprés l'énoncé : n² = (n-1)² + 2n - 1\n"
   ]
  },
  {
   "cell_type": "code",
   "execution_count": 2,
   "metadata": {},
   "outputs": [
    {
     "name": "stdout",
     "output_type": "stream",
     "text": [
      "36\n"
     ]
    }
   ],
   "source": [
    "print(carré(6))"
   ]
  },
  {
   "cell_type": "code",
   "execution_count": 3,
   "metadata": {},
   "outputs": [],
   "source": [
    "#Algo récursif de somme de 1 à n\n",
    "\n",
    "def somme(n):\n",
    "    if n == 1:\n",
    "        return 1\n",
    "    if n >= 1:\n",
    "        return somme(n-1) + n"
   ]
  },
  {
   "cell_type": "code",
   "execution_count": 4,
   "metadata": {},
   "outputs": [
    {
     "name": "stdout",
     "output_type": "stream",
     "text": [
      "1830\n"
     ]
    }
   ],
   "source": [
    "print(somme(60))"
   ]
  }
 ],
 "metadata": {
  "kernelspec": {
   "display_name": "Python 3.9.5 ('base')",
   "language": "python",
   "name": "python3"
  },
  "language_info": {
   "codemirror_mode": {
    "name": "ipython",
    "version": 3
   },
   "file_extension": ".py",
   "mimetype": "text/x-python",
   "name": "python",
   "nbconvert_exporter": "python",
   "pygments_lexer": "ipython3",
   "version": "3.9.5"
  },
  "orig_nbformat": 4,
  "vscode": {
   "interpreter": {
    "hash": "bfa9366e46a819218d9f64c5d2440e7ddf245c88202eb30a5a7c4eb273cb94b8"
   }
  }
 },
 "nbformat": 4,
 "nbformat_minor": 2
}
