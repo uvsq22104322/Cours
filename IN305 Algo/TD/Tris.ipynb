{
 "cells": [
  {
   "cell_type": "code",
   "execution_count": null,
   "metadata": {},
   "outputs": [],
   "source": [
    "import random\n",
    "import time\n",
    "# initialisation d’un tableau de taille 10 avec des valeurs aléatoires\n",
    "# pour vérifier la validité des algos de tris\n",
    "tab_test=[random.randint(0,20)for i in range(10)]\n",
    "print(tab_test)\n",
    "\n",
    "def est_trié(tab_test): \n",
    "#renvoie vrai si le tableau est trié\n",
    "    for i in range(0,len(tab_test)):\n",
    "        if tab_test[i+1] < tab_test[i]:\n",
    "            return False\n",
    "        else:\n",
    "            return True\n",
    "\n",
    "\n"
   ]
  },
  {
   "cell_type": "code",
   "execution_count": null,
   "metadata": {},
   "outputs": [],
   "source": [
    "def recherche_pos(tab_test,elem,fin):\n",
    "    for j in range(0,fin): \n",
    "    #cherche la position à laquelle on attribuera la valeur de tab[i], donc elem\n",
    "        if elem < tab_test[j]:\n",
    "            return j\n",
    "    return fin  \n",
    "\n",
    "\n",
    "def triinsertion(tab_test):\n",
    "    for i in range(1,len(tab_test)): \n",
    "    #processe chaque éléments du tableau\n",
    "        elem = tab_test[i] \n",
    "        #sauvegarde la valeur que l'on veut déplacer\n",
    "        pos = recherche_pos(tab_test,elem,i) \n",
    "        #cherche de position ou déplacer cette valeure\n",
    "        for j in range(i-1,pos-1,-1): \n",
    "        #boucle de décalage des termes\n",
    "                tab_test[j+1] = tab_test[j]\n",
    "                tab_test[pos] = elem\n",
    "    return tab_test\n",
    "\n",
    "print(\"Tri par insertion:\",triinsertion(tab_test.copy()))\n",
    "print(\"Le tableau est-il trié ?:\", est_trié(tab_test))"
   ]
  },
  {
   "cell_type": "code",
   "execution_count": null,
   "metadata": {},
   "outputs": [],
   "source": [
    "def recherche_pos_dicho(tab,elem,fin):\n",
    "    debut = 0\n",
    "    while debut != fin:\n",
    "        milieu = (debut + fin)//2\n",
    "        if tab[milieu] < elem:\n",
    "            debut = milieu + 1\n",
    "        else:\n",
    "            fin = milieu \n",
    "    return fin \n",
    "\n",
    "\n",
    "def triinsertion_dicho(tab_test):\n",
    "    #identique a triinsertion, avec une recherche de pose différente\n",
    "    for i in range(1,len(tab_test)):\n",
    "        pos = i\n",
    "        elem = tab_test[i]\n",
    "        pos = recherche_pos_dicho(tab_test,elem,i-1)\n",
    "        for j in range(i-1,pos-1,-1):\n",
    "                tab_test[j+1] = tab_test[j]\n",
    "                tab_test[pos] = elem\n",
    "    return tab_test\n",
    "\n",
    "print(\"Tri par insertion dichotomoque:\", triinsertion_dicho(tab_test.copy()))\n",
    "print(\"Le tableau est-il trié ?:\", est_trié(tab_test))"
   ]
  },
  {
   "cell_type": "code",
   "execution_count": null,
   "metadata": {},
   "outputs": [],
   "source": [
    "#debugage \n",
    "for i in range(1000):\n",
    "    if not est_trié(triinsertion_dicho([random.randint(0,20)for i in range(10)])):\n",
    "        print(\"Programme bugué\")"
   ]
  },
  {
   "cell_type": "code",
   "execution_count": null,
   "metadata": {},
   "outputs": [],
   "source": [
    "def tripermutation(tab_test):\n",
    "    for i in range (0,len(tab_test)):\n",
    "        for j in range(len(tab_test)-1):\n",
    "            if tab_test[j] > tab_test[j+1]:\n",
    "                tab_test[j], tab_test[j+1] = tab_test[j+1], tab_test[j]\n",
    "    return tab_test\n",
    "\n",
    "\n",
    "print(\"Tri par permutation:\", tripermutation(tab_test))\n",
    "print(\"Le tableau est-il trié ?:\", est_trié(tab_test))"
   ]
  },
  {
   "cell_type": "code",
   "execution_count": null,
   "metadata": {},
   "outputs": [],
   "source": [
    "#debugage \n",
    "for i in range(1000):\n",
    "    if not est_trié(tripermutation([random.randint(0,20)for i in range(100)])):\n",
    "        print(\"Programme bugué\")"
   ]
  },
  {
   "cell_type": "code",
   "execution_count": 6,
   "metadata": {},
   "outputs": [
    {
     "name": "stdout",
     "output_type": "stream",
     "text": [
      "[9, 6, 10, 2, 7, 8, 15, 1, 10, 8] [6, 15, 2, 9, 3, 11, 0, 15, 20, 2]\n",
      "test de la fusion: [6, 9, 6, 10, 2, 7, 8, 15, 2, 9, 3, 11, 0, 15, 15, 1, 10, 8, 20, 2]\n"
     ]
    }
   ],
   "source": [
    "import random\n",
    "tab1=[random.randint(0,20)for i in range(10)]\n",
    "tab2=[random.randint(0,20)for i in range(10)]\n",
    "print(tab1,tab2)\n",
    "\n",
    "def fusion(tab1,tab2):\n",
    "#les deux tableaux étant triés, on ajoute les plus petits des deux les uns après les autres pour n'obtenir qu'un tableau\n",
    "    res = []\n",
    "    i,j = 0,0\n",
    "    while i < len(tab1) and j < len(tab2): #condition d'arret\n",
    "        if tab1[i] < tab2[j]:\n",
    "            res.append(tab1[i])\n",
    "            i += 1\n",
    "        else:\n",
    "            res.append(tab2[j])\n",
    "            j += 1\n",
    "    res.extend(tab1[i:]) #on ajoute un tableau des bornes i à la fin\n",
    "    res.extend(tab2[j:])\n",
    "    return res\n",
    "\n",
    "def trifusion(tab):\n",
    "    pass \n",
    "\n",
    "\n",
    "print(\"test de la fusion:\", fusion(tab1,tab2))\n",
    "#print(\"Tri par fusion:\", trifusion(tab_test))\n"
   ]
  },
  {
   "cell_type": "code",
   "execution_count": null,
   "metadata": {},
   "outputs": [],
   "source": [
    "def trirapide(tab):\n",
    "    pass\n",
    "\n",
    "print(\"Tri dit rapide:\", trirapide(tab_test))"
   ]
  }
 ],
 "metadata": {
  "kernelspec": {
   "display_name": "Python 3.10.7 64-bit (microsoft store)",
   "language": "python",
   "name": "python3"
  },
  "language_info": {
   "codemirror_mode": {
    "name": "ipython",
    "version": 3
   },
   "file_extension": ".py",
   "mimetype": "text/x-python",
   "name": "python",
   "nbconvert_exporter": "python",
   "pygments_lexer": "ipython3",
   "version": "3.10.7"
  },
  "orig_nbformat": 4,
  "vscode": {
   "interpreter": {
    "hash": "4c2e59c9858e480365d7bbe6ec18083a8db6f1aebf751422637bf9ae599e61da"
   }
  }
 },
 "nbformat": 4,
 "nbformat_minor": 2
}
