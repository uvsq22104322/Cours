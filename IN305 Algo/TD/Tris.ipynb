{
 "cells": [
  {
   "cell_type": "code",
   "execution_count": 3,
   "metadata": {},
   "outputs": [
    {
     "name": "stdout",
     "output_type": "stream",
     "text": [
      "[10, 3, 16, 5, 8, 5, 19, 6, 7, 8]\n"
     ]
    }
   ],
   "source": [
    "import random\n",
    "import time\n",
    "# initialisation d’un tableau de taille 10 avec des valeurs aléatoires\n",
    "# pour vérifier la validité des algos de tris\n",
    "tab_test=[random.randint(0,20)for i in range(10)]\n",
    "print(tab_test)\n",
    "\n",
    "def est_trié(tab_test): \n",
    "#renvoie vrai si le tableau est trié\n",
    "    for i in range(0,len(tab_test)+1):\n",
    "        if tab_test[i] <= tab_test[i+1]:\n",
    "            return True\n",
    "        else:\n",
    "            return False\n",
    "\n",
    "\n"
   ]
  },
  {
   "cell_type": "code",
   "execution_count": 4,
   "metadata": {},
   "outputs": [
    {
     "name": "stdout",
     "output_type": "stream",
     "text": [
      "Tri par insertion: [3, 5, 5, 5, 5, 6, 6, 7, 8, 19]\n",
      "Le tableau est-il trié ?: False\n"
     ]
    }
   ],
   "source": [
    "def recherche_pos(tab_test,elem,fin):\n",
    "    for j in range(0,fin): \n",
    "    #cherche la position à laquelle on attribuera la valeur de tab[i], donc elem\n",
    "        if elem < tab_test[j]:\n",
    "            return j\n",
    "    return fin  \n",
    "\n",
    "\n",
    "def triinsertion(tab_test):\n",
    "    for i in range(1,len(tab_test)): \n",
    "    #processe chaque éléments du tableau\n",
    "        elem = tab_test[i] \n",
    "        #sauvegarde la valeur que l'on veut déplacer\n",
    "        pos = recherche_pos(tab_test,elem,i) \n",
    "        #cherche de position ou déplacer cette valeure\n",
    "        for j in range(i-1,pos-1,-1): \n",
    "        #boucle de décalage des termes\n",
    "                tab_test[j+1] = tab_test[j]\n",
    "                tab_test[pos] = elem\n",
    "    return tab_test\n",
    "\n",
    "print(\"Tri par insertion:\",triinsertion(tab_test.copy()))\n",
    "print(\"Le tableau est-il trié ?:\", est_trié(tab_test))"
   ]
  },
  {
   "cell_type": "code",
   "execution_count": 5,
   "metadata": {},
   "outputs": [
    {
     "name": "stdout",
     "output_type": "stream",
     "text": [
      "Tri par insertion dichotomoque: [3, 5, 5, 5, 6, 6, 7, 7, 8, 10]\n",
      "Le tableau est-il trié ?: False\n"
     ]
    }
   ],
   "source": [
    "def recherche_pos_dicho(tab,elem,fin):\n",
    "    debut = 0\n",
    "    while debut != fin:\n",
    "        milieu = (debut + fin)//2\n",
    "        if tab[milieu] < elem:\n",
    "            debut = milieu + 1\n",
    "        else:\n",
    "            fin = milieu \n",
    "    return fin \n",
    "\n",
    "\n",
    "def triinsertion_dicho(tab_test):\n",
    "    #identique a triinsertion, avec une recherche de pose différente\n",
    "    for i in range(1,len(tab_test)):\n",
    "        pos = i\n",
    "        elem = tab_test[i]\n",
    "        pos = recherche_pos_dicho(tab_test,elem,i-1)\n",
    "        for j in range(i-1,pos-1,-1):\n",
    "                tab_test[j+1] = tab_test[j]\n",
    "                tab_test[pos] = elem\n",
    "    return tab_test\n",
    "\n",
    "print(\"Tri par insertion dichotomoque:\", triinsertion_dicho(tab_test.copy()))\n",
    "print(\"Le tableau est-il trié ?:\", est_trié(tab_test))"
   ]
  },
  {
   "cell_type": "code",
   "execution_count": 6,
   "metadata": {},
   "outputs": [],
   "source": [
    "#debugage \n",
    "for i in range(1000):\n",
    "    if not est_trié(triinsertion_dicho([random.randint(0,20)for i in range(10)])):\n",
    "        print(\"Programme bugué\")"
   ]
  },
  {
   "cell_type": "code",
   "execution_count": 7,
   "metadata": {},
   "outputs": [
    {
     "name": "stdout",
     "output_type": "stream",
     "text": [
      "Tri par permutation: [3, 5, 5, 6, 7, 8, 8, 10, 16, 19]\n",
      "Le tableau est-il trié ?: False\n"
     ]
    }
   ],
   "source": [
    "def tripermutation(tab_test):\n",
    "    for i in range (0,len(tab_test)):\n",
    "        for j in range(len(tab_test)-1):\n",
    "            if tab_test[j] > tab_test[j+1]:\n",
    "                tab_test[j], tab_test[j+1] = tab_test[j+1], tab_test[j]\n",
    "    return tab_test\n",
    "\n",
    "\n",
    "print(\"Tri par permutation:\", tripermutation(tab_test.copy()))\n",
    "print(\"Le tableau est-il trié ?:\", est_trié(tab_test))"
   ]
  },
  {
   "cell_type": "code",
   "execution_count": 8,
   "metadata": {},
   "outputs": [],
   "source": [
    "#debugage \n",
    "for i in range(1000):\n",
    "    if not est_trié(tripermutation([random.randint(0,20)for i in range(100)])):\n",
    "        print(\"Programme bugué\")"
   ]
  },
  {
   "cell_type": "code",
   "execution_count": 9,
   "metadata": {},
   "outputs": [
    {
     "name": "stdout",
     "output_type": "stream",
     "text": [
      "[0, 17, 3, 17, 16, 4, 6, 15, 4, 10] [5, 2, 4, 0, 14, 17, 4, 18, 6, 14]\n",
      "test de la fusion: [0, 5, 2, 4, 0, 14, 17, 4, 17, 3, 17, 16, 4, 6, 15, 4, 10, 18, 6, 14]\n",
      "Tri par fusion: [3, 5, 5, 6, 7, 8, 8, 10, 16, 19]\n"
     ]
    }
   ],
   "source": [
    "import random\n",
    "tab1=[random.randint(0,20)for i in range(10)]\n",
    "tab2=[random.randint(0,20)for i in range(10)]\n",
    "print(tab1,tab2)\n",
    "\n",
    "def fusion(tab1,tab2):\n",
    "#les deux tableaux étant triés, on ajoute les plus petits des deux les uns après les autres pour n'obtenir qu'un tableau\n",
    "    res = []\n",
    "    i,j = 0,0\n",
    "    while i < len(tab1) and j < len(tab2): #condition d'arret\n",
    "        if tab1[i] < tab2[j]:\n",
    "            res.append(tab1[i])\n",
    "            i += 1\n",
    "        else:\n",
    "            res.append(tab2[j])\n",
    "            j += 1\n",
    "    res.extend(tab1[i:]) #on ajoute un tableau des bornes i à la fin\n",
    "    res.extend(tab2[j:])\n",
    "    return res\n",
    "\n",
    "def trifusion(tab): #recursif jusqu'au moment ou les tableau sont de tailles 1 \n",
    "    if len(tab) >= 2: #ou >1 (reviens au même)\n",
    "        milieu = len(tab)//2 #création d'une slice\n",
    "        tab1 = trifusion(tab[:milieu])\n",
    "        tab2 = trifusion(tab[milieu:])\n",
    "        tab = fusion(tab1,tab2)\n",
    "    return(tab)\n",
    "\n",
    "\n",
    "print(\"test de la fusion:\", fusion(tab1,tab2)) #inutile car au début les deux tableaux sont non triés (random)\n",
    "print(\"Tri par fusion:\", trifusion(tab_test.copy()))\n"
   ]
  },
  {
   "cell_type": "code",
   "execution_count": 10,
   "metadata": {},
   "outputs": [
    {
     "name": "stdout",
     "output_type": "stream",
     "text": [
      "[11, 20, 9, 18, 17, 9, 7, 10, 13, 12]\n",
      "Tri dit rapide: [7, 9, 9, 10, 11, 12, 13, 17, 18, 20]\n"
     ]
    }
   ],
   "source": [
    "import random\n",
    "tab_test=[random.randint(0,20) for i in range(10)]\n",
    "\n",
    "print(tab_test)\n",
    "\n",
    "def partition(pivot,tab): #sépare le tableau\n",
    "    tab1= []\n",
    "    tab2=[]\n",
    "    for elem in tab:\n",
    "        if elem < pivot:\n",
    "            tab1.append(elem)\n",
    "        else:\n",
    "            tab2.append(elem)\n",
    "    return tab1,tab2\n",
    "\n",
    "def trirapide(tab):\n",
    "    if len(tab) > 1:\n",
    "        pivot = tab[0] #on peut choisir n'importe quel pivot à partir qu'il soit compris dans len(tab)\n",
    "        (tab1,tab2) = partition(pivot,tab[1:]) #on veut faire partition sans inclure le pivot, donc on fait commencer le tab envoyé à la première valeure\n",
    "        tab = trirapide(tab1) + [pivot] + trirapide(tab2)\n",
    "    return tab\n",
    "\n",
    "print(\"Tri dit rapide:\", trirapide(tab_test.copy()))"
   ]
  },
  {
   "cell_type": "code",
   "execution_count": 11,
   "metadata": {},
   "outputs": [
    {
     "name": "stdout",
     "output_type": "stream",
     "text": [
      "\n",
      " Durée tri insertion 0.03302931785583496 \n",
      " Durée tri insertion dicho 0.02602529525756836 \n",
      " Durée tri permutation 0.12210965156555176 \n",
      " Durée tri fusion 0.0030028820037841797 \n",
      " Durée tri rapide 0.003002643585205078\n"
     ]
    }
   ],
   "source": [
    "import random\n",
    "import time\n",
    "\n",
    "tab_final = [random.randint(0,20) for i in range(1000)]\n",
    "\n",
    "\n",
    "def duree(tab,algo) :\n",
    "    debut = time.time()\n",
    "    tabnew = tab.copy()\n",
    "    if algo == 1:\n",
    "        triinsertion(tabnew)\n",
    "    elif algo == 2:\n",
    "        triinsertion_dicho(tabnew)\n",
    "    elif algo == 3 :\n",
    "        tripermutation(tabnew)\n",
    "    elif algo == 4 :\n",
    "        trifusion(tabnew)\n",
    "    elif algo == 5 :\n",
    "        trirapide(tabnew)\n",
    "    fin = time.time()\n",
    "    return fin - debut\n",
    "\n",
    "print(\"\\n\",\"Durée tri insertion\",duree(tab_final.copy(),1),\n",
    "        \"\\n\",\"Durée tri insertion dicho\",duree(tab_final.copy(),2),\n",
    "        \"\\n\",\"Durée tri permutation\",duree(tab_final.copy(),3),\n",
    "        \"\\n\",\"Durée tri fusion\",duree(tab_final.copy(),4),\n",
    "        \"\\n\",\"Durée tri rapide\",duree(tab_final.copy(),5))"
   ]
  },
  {
   "cell_type": "code",
   "execution_count": 12,
   "metadata": {},
   "outputs": [
    {
     "ename": "ModuleNotFoundError",
     "evalue": "No module named 'matplotlib'",
     "output_type": "error",
     "traceback": [
      "\u001b[1;31m---------------------------------------------------------------------------\u001b[0m",
      "\u001b[1;31mModuleNotFoundError\u001b[0m                       Traceback (most recent call last)",
      "\u001b[1;32m~\\AppData\\Local\\Temp/ipykernel_21648/4143073350.py\u001b[0m in \u001b[0;36m<module>\u001b[1;34m\u001b[0m\n\u001b[1;32m----> 1\u001b[1;33m \u001b[1;32mimport\u001b[0m \u001b[0mmatplotlib\u001b[0m\u001b[1;33m.\u001b[0m\u001b[0mpyplot\u001b[0m \u001b[1;32mas\u001b[0m \u001b[0mplt\u001b[0m\u001b[1;33m\u001b[0m\u001b[1;33m\u001b[0m\u001b[0m\n\u001b[0m\u001b[0;32m      2\u001b[0m \u001b[0mx\u001b[0m \u001b[1;33m=\u001b[0m \u001b[1;33m[\u001b[0m\u001b[1;33m]\u001b[0m\u001b[1;33m\u001b[0m\u001b[1;33m\u001b[0m\u001b[0m\n\u001b[0;32m      3\u001b[0m \u001b[0minsertion\u001b[0m \u001b[1;33m=\u001b[0m \u001b[1;33m[\u001b[0m\u001b[1;33m]\u001b[0m\u001b[1;33m\u001b[0m\u001b[1;33m\u001b[0m\u001b[0m\n\u001b[0;32m      4\u001b[0m \u001b[0minsertiondicho\u001b[0m \u001b[1;33m=\u001b[0m \u001b[1;33m[\u001b[0m\u001b[1;33m]\u001b[0m\u001b[1;33m\u001b[0m\u001b[1;33m\u001b[0m\u001b[0m\n\u001b[0;32m      5\u001b[0m \u001b[0mpermutation\u001b[0m \u001b[1;33m=\u001b[0m \u001b[1;33m[\u001b[0m\u001b[1;33m]\u001b[0m\u001b[1;33m\u001b[0m\u001b[1;33m\u001b[0m\u001b[0m\n",
      "\u001b[1;31mModuleNotFoundError\u001b[0m: No module named 'matplotlib'"
     ]
    }
   ],
   "source": [
    "import matplotlib.pyplot as plt\n",
    "x = []\n",
    "insertion = []\n",
    "insertiondicho = []\n",
    "permutation = []\n",
    "fusionres = []\n",
    "rapide = []\n",
    "\n",
    "for i in range(100,1000,10) :\n",
    "    tab = [random.randint(0,20) for j in range(i)]\n",
    "    x.append(i)\n",
    "    insertion.append(duree(tab,1))\n",
    "    insertiondicho.append(duree(tab,2))\n",
    "    permutation.append(duree(tab,3))\n",
    "    fusionres.append(duree(tab,4))\n",
    "    rapide.append(duree(tab,5))\n",
    "fig = plt.figure()\n",
    "ax = plt.axes()\n",
    "\n",
    "plt.plot(x,insertion,\"r-\",label=\"insertion\")\n",
    "plt.plot(x,insertiondicho,\"m-\",label=\"insertion_dichotomie\")\n",
    "plt.plot(x,permutation,\"k-\",label=\"permutation\")\n",
    "plt.plot(x,fusionres,\"b-\",label=\"fusion\")\n",
    "plt.plot(x,rapide,\"g-\",label=\"rapide\")\n",
    "\n",
    "plt.legend(loc=\"upper left\")\n",
    "plt.xlabel(\"taille tableau\")\n",
    "plt.ylabel(\"temps d'éxecution\")\n",
    "plt.show()"
   ]
  },
  {
   "cell_type": "code",
   "execution_count": 14,
   "metadata": {},
   "outputs": [
    {
     "ename": "ModuleNotFoundError",
     "evalue": "No module named 'matplotlib'",
     "output_type": "error",
     "traceback": [
      "\u001b[1;31m---------------------------------------------------------------------------\u001b[0m",
      "\u001b[1;31mModuleNotFoundError\u001b[0m                       Traceback (most recent call last)",
      "\u001b[1;32m~\\AppData\\Local\\Temp/ipykernel_21648/4143073350.py\u001b[0m in \u001b[0;36m<module>\u001b[1;34m\u001b[0m\n\u001b[1;32m----> 1\u001b[1;33m \u001b[1;32mimport\u001b[0m \u001b[0mmatplotlib\u001b[0m\u001b[1;33m.\u001b[0m\u001b[0mpyplot\u001b[0m \u001b[1;32mas\u001b[0m \u001b[0mplt\u001b[0m\u001b[1;33m\u001b[0m\u001b[1;33m\u001b[0m\u001b[0m\n\u001b[0m\u001b[0;32m      2\u001b[0m \u001b[0mx\u001b[0m \u001b[1;33m=\u001b[0m \u001b[1;33m[\u001b[0m\u001b[1;33m]\u001b[0m\u001b[1;33m\u001b[0m\u001b[1;33m\u001b[0m\u001b[0m\n\u001b[0;32m      3\u001b[0m \u001b[0minsertion\u001b[0m \u001b[1;33m=\u001b[0m \u001b[1;33m[\u001b[0m\u001b[1;33m]\u001b[0m\u001b[1;33m\u001b[0m\u001b[1;33m\u001b[0m\u001b[0m\n\u001b[0;32m      4\u001b[0m \u001b[0minsertiondicho\u001b[0m \u001b[1;33m=\u001b[0m \u001b[1;33m[\u001b[0m\u001b[1;33m]\u001b[0m\u001b[1;33m\u001b[0m\u001b[1;33m\u001b[0m\u001b[0m\n\u001b[0;32m      5\u001b[0m \u001b[0mpermutation\u001b[0m \u001b[1;33m=\u001b[0m \u001b[1;33m[\u001b[0m\u001b[1;33m]\u001b[0m\u001b[1;33m\u001b[0m\u001b[1;33m\u001b[0m\u001b[0m\n",
      "\u001b[1;31mModuleNotFoundError\u001b[0m: No module named 'matplotlib'"
     ]
    }
   ],
   "source": [
    "import matplotlib.pyplot as plt \n",
    "x = []\n",
    "insertion = []\n",
    "insertiondicho = []\n",
    "permutation = []\n",
    "fusionres = []\n",
    "rapide = []\n",
    "\n",
    "for i in range(100,1000,10) :\n",
    "    tab = [random.randint(0,20) for j in range(i)]\n",
    "    x.append(i)\n",
    "    insertion.append(duree(tab,1))\n",
    "    insertiondicho.append(duree(tab,2))\n",
    "    permutation.append(duree(tab,3))\n",
    "    fusionres.append(duree(tab,4))\n",
    "    rapide.append(duree(tab,5))\n",
    "fig = plt.figure()\n",
    "ax = plt.axes()\n",
    "\n",
    "plt.plot(x,insertion,\"r-\",label=\"insertion\")\n",
    "plt.plot(x,insertiondicho,\"m-\",label=\"insertion_dichotomie\")\n",
    "plt.plot(x,permutation,\"k-\",label=\"permutation\")\n",
    "plt.plot(x,fusionres,\"b-\",label=\"fusion\")\n",
    "plt.plot(x,rapide,\"g-\",label=\"rapide\")\n",
    "\n",
    "plt.legend(loc=\"upper left\")\n",
    "plt.xlabel(\"taille tableau\")\n",
    "plt.ylabel(\"temps d'éxecution\")\n",
    "plt.show()"
   ]
  }
 ],
 "metadata": {
  "kernelspec": {
   "display_name": "Python 3.9.5 ('base')",
   "language": "python",
   "name": "python3"
  },
  "language_info": {
   "codemirror_mode": {
    "name": "ipython",
    "version": 3
   },
   "file_extension": ".py",
   "mimetype": "text/x-python",
   "name": "python",
   "nbconvert_exporter": "python",
   "pygments_lexer": "ipython3",
   "version": "3.9.5"
  },
  "orig_nbformat": 4,
  "vscode": {
   "interpreter": {
    "hash": "bfa9366e46a819218d9f64c5d2440e7ddf245c88202eb30a5a7c4eb273cb94b8"
   }
  }
 },
 "nbformat": 4,
 "nbformat_minor": 2
}
